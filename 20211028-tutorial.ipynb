{
 "cells": [
  {
   "cell_type": "code",
   "execution_count": 12,
   "id": "c47ef4b9",
   "metadata": {},
   "outputs": [],
   "source": [
    "import requests \n",
    "url = \"https://www.nownews.com/cat/column/\"\n",
    "\n",
    "headers= {\n",
    "    \"user-agent\": \"Mozilla/5.0 (Macintosh; Intel Mac OS X 10_12_6) AppleWebKit/537.36 (KHTML, like Gecko) Chrome/90.0.4430.212 Safari/537.36\"\n",
    "}\n",
    "\n",
    "res = requests.get(url)\n",
    "# print(res.text)"
   ]
  },
  {
   "cell_type": "code",
   "execution_count": 11,
   "id": "d1533317",
   "metadata": {},
   "outputs": [],
   "source": [
    "from bs4 import BeautifulSoup as bs\n",
    "soup = bs(res.text,\"lxml\")\n",
    "# print(soup)"
   ]
  },
  {
   "cell_type": "code",
   "execution_count": 10,
   "id": "4852b648",
   "metadata": {
    "scrolled": true
   },
   "outputs": [
    {
     "name": "stdout",
     "output_type": "stream",
     "text": [
      "https://www.nownews.com/news/5424941\n",
      "https://www.nownews.com/news/5424915\n",
      "https://www.nownews.com/news/5424737\n",
      "https://www.nownews.com/news/5424908\n",
      "https://www.nownews.com/news/5424900\n",
      "https://www.nownews.com/news/5424663\n",
      "https://www.nownews.com/news/5424901\n",
      "https://www.nownews.com/news/5424615\n",
      "https://www.nownews.com/news/5424853\n",
      "https://www.nownews.com/news/5424811\n"
     ]
    }
   ],
   "source": [
    "### 抓取 1 ~ 10 篇文章連結\n",
    "links = []\n",
    "\n",
    "# 抓取 1~5\n",
    "for ele in soup.select(\"div.sliderBlk a\"):\n",
    "#     print(ele)\n",
    "    url = ele[\"href\"]\n",
    "#     print(url)\n",
    "    links.append(url)\n",
    "    \n",
    "# 抓取 6~10\n",
    "for ele in soup.select(\"div.leftCol div.listBlk a\"):\n",
    "#     print(ele)\n",
    "    links.append(ele[\"href\"])\n",
    "    \n",
    "for url in links:\n",
    "    print(url)"
   ]
  }
 ],
 "metadata": {
  "kernelspec": {
   "display_name": "Python 3",
   "language": "python",
   "name": "python3"
  },
  "language_info": {
   "codemirror_mode": {
    "name": "ipython",
    "version": 3
   },
   "file_extension": ".py",
   "mimetype": "text/x-python",
   "name": "python",
   "nbconvert_exporter": "python",
   "pygments_lexer": "ipython3",
   "version": "3.8.8"
  }
 },
 "nbformat": 4,
 "nbformat_minor": 5
}
