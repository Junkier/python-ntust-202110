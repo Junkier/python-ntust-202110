{
 "cells": [
  {
   "cell_type": "code",
   "execution_count": 13,
   "id": "6df88538",
   "metadata": {},
   "outputs": [],
   "source": [
    "import requests \n",
    "url = \"https://www.nownews.com/cat/column/\"\n",
    "\n",
    "headers= {\n",
    "    \"user-agent\": \"Mozilla/5.0 (Macintosh; Intel Mac OS X 10_12_6) AppleWebKit/537.36 (KHTML, like Gecko) Chrome/90.0.4430.212 Safari/537.36\"\n",
    "}\n",
    "\n",
    "res = requests.get(url)\n",
    "# print(res.text)"
   ]
  },
  {
   "cell_type": "code",
   "execution_count": 14,
   "id": "6ac76ab6",
   "metadata": {},
   "outputs": [
    {
     "data": {
      "text/plain": [
       "{'user-agent': 'Mozilla/5.0 (Macintosh; Intel Mac OS X 10_12_6) AppleWebKit/537.36 (KHTML, like Gecko) Chrome/90.0.4430.212 Safari/537.36'}"
      ]
     },
     "execution_count": 14,
     "metadata": {},
     "output_type": "execute_result"
    }
   ],
   "source": [
    "headers"
   ]
  },
  {
   "cell_type": "code",
   "execution_count": 11,
   "id": "c04271fb",
   "metadata": {},
   "outputs": [],
   "source": [
    "from bs4 import BeautifulSoup as bs\n",
    "soup = bs(res.text,\"lxml\")\n",
    "# print(soup)"
   ]
  },
  {
   "cell_type": "code",
   "execution_count": 10,
   "id": "aa1496c0",
   "metadata": {
    "scrolled": true
   },
   "outputs": [
    {
     "name": "stdout",
     "output_type": "stream",
     "text": [
      "https://www.nownews.com/news/5424941\n",
      "https://www.nownews.com/news/5424915\n",
      "https://www.nownews.com/news/5424737\n",
      "https://www.nownews.com/news/5424908\n",
      "https://www.nownews.com/news/5424900\n",
      "https://www.nownews.com/news/5424663\n",
      "https://www.nownews.com/news/5424901\n",
      "https://www.nownews.com/news/5424615\n",
      "https://www.nownews.com/news/5424853\n",
      "https://www.nownews.com/news/5424811\n"
     ]
    }
   ],
   "source": [
    "### 抓取 1 ~ 10 篇文章連結\n",
    "links = []\n",
    "\n",
    "# 抓取 1~5\n",
    "for ele in soup.select(\"div.sliderBlk a\"):\n",
    "#     print(ele)\n",
    "    url = ele[\"href\"]\n",
    "#     print(url)\n",
    "    links.append(url)\n",
    "    \n",
    "# 抓取 6~10\n",
    "for ele in soup.select(\"div.leftCol div.listBlk a\"):\n",
    "#     print(ele)\n",
    "    links.append(ele[\"href\"])\n",
    "    \n",
    "for url in links:\n",
    "    print(url)"
   ]
  },
  {
   "cell_type": "code",
   "execution_count": 38,
   "id": "76b433df",
   "metadata": {},
   "outputs": [],
   "source": [
    "### 抓取本文的 HTML 原始碼 (source code)\n",
    "url2 = links[2]\n",
    "res2 = requests.get(url2,headers=headers)\n",
    "soup2 = bs(res2.text,\"lxml\")\n",
    "\n",
    "# print(soup2)"
   ]
  },
  {
   "cell_type": "code",
   "execution_count": 37,
   "id": "b0609889",
   "metadata": {},
   "outputs": [
    {
     "name": "stdout",
     "output_type": "stream",
     "text": [
      "title: 巷仔內／蔡英文證實美軍協訓國軍　台美默契加溫\n",
      "--------------------------------------------------------------------------------\n",
      "category : NOWnews 今日新聞 > 要聞 > 政治巷仔內\n",
      "--------------------------------------------------------------------------------\n",
      "time : 2021-10-28 17:53:22\n"
     ]
    }
   ],
   "source": [
    "### 抓取本文的 標題 , 分類 , 時間 , 內容\n",
    "\n",
    "# 標題\n",
    "title = soup2.select(\"div.titleBlk h1\")[0].text\n",
    "print(\"title:\" , title)\n",
    "\n",
    "print(\"-\"*80)\n",
    "\n",
    "# 分類\n",
    "# \\n -> 換行符號\n",
    "category = soup2.select(\"div.breadCrumbBlk\")[0].text\n",
    "category = category.strip().replace(\"\\n\\n\",\" > \")\n",
    "print(\"category :\" , category)\n",
    "\n",
    "print(\"-\"*80)\n",
    "\n",
    "# 時間\n",
    "time = soup2.select(\"div.titleBlk p.time\")[0].text.strip()\n",
    "print(\"time :\" , time)"
   ]
  }
 ],
 "metadata": {
  "kernelspec": {
   "display_name": "Python 3",
   "language": "python",
   "name": "python3"
  },
  "language_info": {
   "codemirror_mode": {
    "name": "ipython",
    "version": 3
   },
   "file_extension": ".py",
   "mimetype": "text/x-python",
   "name": "python",
   "nbconvert_exporter": "python",
   "pygments_lexer": "ipython3",
   "version": "3.8.8"
  }
 },
 "nbformat": 4,
 "nbformat_minor": 5
}
