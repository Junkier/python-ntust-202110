{
 "cells": [
  {
   "cell_type": "code",
   "execution_count": 13,
   "id": "3b1b7987",
   "metadata": {},
   "outputs": [],
   "source": [
    "import requests \n",
    "url = \"https://www.nownews.com/cat/column/\"\n",
    "\n",
    "headers= {\n",
    "    \"user-agent\": \"Mozilla/5.0 (Macintosh; Intel Mac OS X 10_12_6) AppleWebKit/537.36 (KHTML, like Gecko) Chrome/90.0.4430.212 Safari/537.36\"\n",
    "}\n",
    "\n",
    "res = requests.get(url)\n",
    "# print(res.text)"
   ]
  },
  {
   "cell_type": "code",
   "execution_count": 14,
   "id": "77a35a32",
   "metadata": {},
   "outputs": [
    {
     "data": {
      "text/plain": [
       "{'user-agent': 'Mozilla/5.0 (Macintosh; Intel Mac OS X 10_12_6) AppleWebKit/537.36 (KHTML, like Gecko) Chrome/90.0.4430.212 Safari/537.36'}"
      ]
     },
     "execution_count": 14,
     "metadata": {},
     "output_type": "execute_result"
    }
   ],
   "source": [
    "headers"
   ]
  },
  {
   "cell_type": "code",
   "execution_count": 11,
   "id": "8ae04e26",
   "metadata": {},
   "outputs": [],
   "source": [
    "from bs4 import BeautifulSoup as bs\n",
    "soup = bs(res.text,\"lxml\")\n",
    "# print(soup)"
   ]
  },
  {
   "cell_type": "code",
   "execution_count": 10,
   "id": "6c6872e7",
   "metadata": {
    "scrolled": true
   },
   "outputs": [
    {
     "name": "stdout",
     "output_type": "stream",
     "text": [
      "https://www.nownews.com/news/5424941\n",
      "https://www.nownews.com/news/5424915\n",
      "https://www.nownews.com/news/5424737\n",
      "https://www.nownews.com/news/5424908\n",
      "https://www.nownews.com/news/5424900\n",
      "https://www.nownews.com/news/5424663\n",
      "https://www.nownews.com/news/5424901\n",
      "https://www.nownews.com/news/5424615\n",
      "https://www.nownews.com/news/5424853\n",
      "https://www.nownews.com/news/5424811\n"
     ]
    }
   ],
   "source": [
    "### 抓取 1 ~ 10 篇文章連結\n",
    "links = []\n",
    "\n",
    "# 抓取 1~5\n",
    "for ele in soup.select(\"div.sliderBlk a\"):\n",
    "#     print(ele)\n",
    "    url = ele[\"href\"]\n",
    "#     print(url)\n",
    "    links.append(url)\n",
    "    \n",
    "# 抓取 6~10\n",
    "for ele in soup.select(\"div.leftCol div.listBlk a\"):\n",
    "#     print(ele)\n",
    "    links.append(ele[\"href\"])\n",
    "    \n",
    "for url in links:\n",
    "    print(url)"
   ]
  },
  {
   "cell_type": "code",
   "execution_count": 38,
   "id": "46589c21",
   "metadata": {},
   "outputs": [],
   "source": [
    "### 抓取本文的 HTML 原始碼 (source code)\n",
    "url2 = links[2]\n",
    "res2 = requests.get(url2,headers=headers)\n",
    "soup2 = bs(res2.text,\"lxml\")\n",
    "\n",
    "# print(soup2)"
   ]
  },
  {
   "cell_type": "code",
   "execution_count": 47,
   "id": "550ab80e",
   "metadata": {},
   "outputs": [
    {
     "name": "stdout",
     "output_type": "stream",
     "text": [
      "title: 巷仔內／蔡英文證實美軍協訓國軍　台美默契加溫\n",
      "--------------------------------------------------------------------------------\n",
      "category : NOWnews 今日新聞 > 要聞 > 政治巷仔內\n",
      "--------------------------------------------------------------------------------\n",
      "time : 2021-10-28 17:53:22\n",
      "--------------------------------------------------------------------------------\n",
      "content : 蔡英文總統接受美國有線電視新聞網（CNN）獨家採訪，首度證實有美軍在台協助台灣軍隊訓練，並對美軍協防台灣有信心。這是我國政府高層首度證實美軍在台協訓部隊，也讓國際社會關心美國對台「戰略模糊」政策是否改變。蔡總統的專訪內容一出，立刻牽動美中台的大三角情勢，引發各界關注。蔡總統的說法明確而精準，勢必事先已和美方取得默契，由此可見，美國愈趨重視台灣這個盟友的角色，而未來美方是否會有進一步挺台的具體動作，值得持續觀察。\n",
      "\r\n",
      "\t\t\t\t            \t蔡英文證實美軍在台協訓，部分媒體下標「美軍駐台」，引發立委質詢關切。對此，國防部長邱國正澄清，美軍不是部隊「進駐」台灣，而是協訓人員在台灣協助訓練國軍。軍隊「駐台」與「助台」僅有一字之差，但政治意涵差別相當大，依據國際法與國際慣例，一國部隊正式進駐，必須簽署軍事互助協定，軍人犯罪豁免條款等；協訓部隊不一定要現役軍人，退役與現役軍人都可以用顧問團名義來台，或是化身文職人員派駐在美國在台協會（AIT），前往營區與國軍交流。所謂「戰略模糊」（Strategic Ambiguity）是美國在台海戰爭危機上的模糊立場，不表明會如何應對共軍犯台，「戰略模糊」目的是不明講中國犯台美軍的回應措施，讓北京因為摸不著美軍反應而不敢採取軍事冒進行為，這是美國長期以來的對台政策。而「戰略清晰」（Strategic Clarity），則是美國明確表示中國犯台時的回應政策。隨著中國對台軍事威脅加深，川普總統執政末期，要求美國拋棄「戰略模糊」的聲勢不斷升溫。美國總統拜登日前2度脫口而出美國有保衛台灣的承諾，但是稍後白宮低調澄清美國對台政策不變。美方之所以重申「戰略模糊」，一方面是不讓北京摸清楚美國防衛台灣的底線，讓中國有更進一步對台軍事威脅舉動；另一方面，避免過度鼓舞台獨勢力，讓台灣變得更傾向於獨立，反而助長中國犯台。從川普政府上台以來，美國友台法案、挺台言論不斷，售台武器再創一波高峰，美國如此挺台，除了兌現對民主盟邦的承諾外，更大因素是把台灣當成對抗中國崛起的棋子。面對中國威脅，有強大盟友支持當然好，但是自己國家還是要自己救，畢竟阿富汗淪陷的教訓殷鑒不遠。\n"
     ]
    }
   ],
   "source": [
    "### 抓取本文的 標題 , 分類 , 時間 , 內容\n",
    "\n",
    "# 標題\n",
    "title = soup2.select(\"div.titleBlk h1\")[0].text\n",
    "print(\"title:\" , title)\n",
    "\n",
    "print(\"-\"*80)\n",
    "\n",
    "# 分類\n",
    "# \\n -> 換行符號\n",
    "category = soup2.select(\"div.breadCrumbBlk\")[0].text\n",
    "category = category.strip().replace(\"\\n\\n\",\" > \")\n",
    "print(\"category :\" , category)\n",
    "\n",
    "print(\"-\"*80)\n",
    "\n",
    "# 時間\n",
    "time = soup2.select(\"div.titleBlk p.time\")[0].text.strip()\n",
    "print(\"time :\" , time)\n",
    "\n",
    "print(\"-\"*80)\n",
    "\n",
    "# 內容\n",
    "article = soup2.select(\"div.leftCol article\")[0]\n",
    "# print(article)\n",
    "\n",
    "# 拔除 div.ad-blk1 , ul.related 標籤\n",
    "if len(article.select(\"div.ad-blk1\"))>0:\n",
    "    article.select(\"div.ad-blk1\")[0].extract()\n",
    "# print(article.select(\"div.ad-blk1\"))\n",
    "# print(article.select(\"ul.related\"))\n",
    "if len(article.select(\"ul.related\")) >0:\n",
    "    article.select(\"ul.related\")[0].extract()\n",
    "    \n",
    "# print(article)\n",
    "\n",
    "content = article.text.strip()\n",
    "print(\"content :\",content)\n"
   ]
  },
  {
   "cell_type": "code",
   "execution_count": 49,
   "id": "33f0e4c5",
   "metadata": {},
   "outputs": [
    {
     "data": {
      "text/plain": [
       "{'title': '巷仔內／蔡英文證實美軍協訓國軍\\u3000台美默契加溫',\n",
       " 'category': 'NOWnews 今日新聞 > 要聞 > 政治巷仔內',\n",
       " 'time': '2021-10-28 17:53:22',\n",
       " 'content': '蔡英文總統接受美國有線電視新聞網（CNN）獨家採訪，首度證實有美軍在台協助台灣軍隊訓練，並對美軍協防台灣有信心。這是我國政府高層首度證實美軍在台協訓部隊，也讓國際社會關心美國對台「戰略模糊」政策是否改變。蔡總統的專訪內容一出，立刻牽動美中台的大三角情勢，引發各界關注。蔡總統的說法明確而精準，勢必事先已和美方取得默契，由此可見，美國愈趨重視台灣這個盟友的角色，而未來美方是否會有進一步挺台的具體動作，值得持續觀察。\\n\\r\\n\\t\\t\\t\\t            \\t蔡英文證實美軍在台協訓，部分媒體下標「美軍駐台」，引發立委質詢關切。對此，國防部長邱國正澄清，美軍不是部隊「進駐」台灣，而是協訓人員在台灣協助訓練國軍。軍隊「駐台」與「助台」僅有一字之差，但政治意涵差別相當大，依據國際法與國際慣例，一國部隊正式進駐，必須簽署軍事互助協定，軍人犯罪豁免條款等；協訓部隊不一定要現役軍人，退役與現役軍人都可以用顧問團名義來台，或是化身文職人員派駐在美國在台協會（AIT），前往營區與國軍交流。所謂「戰略模糊」（Strategic Ambiguity）是美國在台海戰爭危機上的模糊立場，不表明會如何應對共軍犯台，「戰略模糊」目的是不明講中國犯台美軍的回應措施，讓北京因為摸不著美軍反應而不敢採取軍事冒進行為，這是美國長期以來的對台政策。而「戰略清晰」（Strategic Clarity），則是美國明確表示中國犯台時的回應政策。隨著中國對台軍事威脅加深，川普總統執政末期，要求美國拋棄「戰略模糊」的聲勢不斷升溫。美國總統拜登日前2度脫口而出美國有保衛台灣的承諾，但是稍後白宮低調澄清美國對台政策不變。美方之所以重申「戰略模糊」，一方面是不讓北京摸清楚美國防衛台灣的底線，讓中國有更進一步對台軍事威脅舉動；另一方面，避免過度鼓舞台獨勢力，讓台灣變得更傾向於獨立，反而助長中國犯台。從川普政府上台以來，美國友台法案、挺台言論不斷，售台武器再創一波高峰，美國如此挺台，除了兌現對民主盟邦的承諾外，更大因素是把台灣當成對抗中國崛起的棋子。面對中國威脅，有強大盟友支持當然好，但是自己國家還是要自己救，畢竟阿富汗淪陷的教訓殷鑒不遠。'}"
      ]
     },
     "execution_count": 49,
     "metadata": {},
     "output_type": "execute_result"
    }
   ],
   "source": [
    "### 抓取本文資料 -> 收集成一個 function \n",
    "\n",
    "def parsing_content_data(content_soup):\n",
    "    \n",
    "    # 標題\n",
    "    title = content_soup.select(\"div.titleBlk h1\")[0].text\n",
    "\n",
    "    # 分類\n",
    "    # \\n -> 換行符號\n",
    "    category = content_soup.select(\"div.breadCrumbBlk\")[0].text\n",
    "    category = category.strip().replace(\"\\n\\n\",\" > \")\n",
    "\n",
    "    # 時間\n",
    "    time = content_soup.select(\"div.titleBlk p.time\")[0].text.strip()\n",
    "\n",
    "    # 內容\n",
    "    article = content_soup.select(\"div.leftCol article\")[0]\n",
    "\n",
    "    # 拔除 div.ad-blk1 , ul.related 標籤\n",
    "    if len(article.select(\"div.ad-blk1\"))>0:\n",
    "        article.select(\"div.ad-blk1\")[0].extract()\n",
    "    if len(article.select(\"ul.related\")) >0:\n",
    "        article.select(\"ul.related\")[0].extract()\n",
    "\n",
    "    content = article.text.strip()\n",
    "    \n",
    "    return {\n",
    "        \"title\" : title,\n",
    "        \"category\" : category,\n",
    "        \"time\"  : time,\n",
    "        \"content\" : content\n",
    "    }\n",
    "\n",
    "\n",
    "parsing_content_data(soup2)"
   ]
  }
 ],
 "metadata": {
  "kernelspec": {
   "display_name": "Python 3",
   "language": "python",
   "name": "python3"
  },
  "language_info": {
   "codemirror_mode": {
    "name": "ipython",
    "version": 3
   },
   "file_extension": ".py",
   "mimetype": "text/x-python",
   "name": "python",
   "nbconvert_exporter": "python",
   "pygments_lexer": "ipython3",
   "version": "3.8.8"
  }
 },
 "nbformat": 4,
 "nbformat_minor": 5
}
