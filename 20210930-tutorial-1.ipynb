{
 "cells": [
  {
   "cell_type": "code",
   "execution_count": 3,
   "id": "df982243",
   "metadata": {},
   "outputs": [
    {
     "name": "stdout",
     "output_type": "stream",
     "text": [
      "Hello World !!!\n",
      "ABCD\n",
      "嗨嗨 , 我是Jeff ~\n"
     ]
    }
   ],
   "source": [
    "# 執行 -> Ctrl + enter \n",
    "print(\"Hello World !!!\")\n",
    "print(\"ABCD\")\n",
    "print(\"嗨嗨 , 我是Jeff ~\")\n",
    "\n",
    "# 點擊空白處 + B --> 長出新節點"
   ]
  },
  {
   "cell_type": "code",
   "execution_count": 41,
   "id": "d66ab72a",
   "metadata": {},
   "outputs": [],
   "source": [
    "# 試。爬蟲\n",
    "\n",
    "# 引用套件 \n",
    "import requests \n",
    "from bs4 import BeautifulSoup as bs\n",
    "\n",
    "# 設定爬蟲連結\n",
    "url = \"https://www.ptt.cc/bbs/Stock/M.1632985210.A.7DB.html\"\n",
    "\n",
    "# 抓取文章\n",
    "res = requests.get(url)\n",
    "\n",
    "# 顯示結果\n",
    "# print(res.text)"
   ]
  },
  {
   "cell_type": "code",
   "execution_count": 42,
   "id": "040bd09a",
   "metadata": {},
   "outputs": [
    {
     "name": "stdout",
     "output_type": "stream",
     "text": [
      "[情報] 110年09月30日 三大法人買賣金額統計表\n",
      "coconing (證 ㄓㄥˋ 券 ㄑㄩㄢˋ)\n",
      "Stock\n"
     ]
    },
    {
     "data": {
      "text/plain": [
       "{'author': 'coconing (證 ㄓㄥˋ 券 ㄑㄩㄢˋ)',\n",
       " 'title': '[情報] 110年09月30日 三大法人買賣金額統計表',\n",
       " 'category': 'Stock'}"
      ]
     },
     "execution_count": 42,
     "metadata": {},
     "output_type": "execute_result"
    }
   ],
   "source": [
    "# 解析網頁\n",
    "soup = bs(res.text,\"lxml\")\n",
    "# print(soup)\n",
    "\n",
    "\n",
    "## 定位 class=article-meta-value\n",
    "raw_data = soup.select(\"span.article-meta-value\") \n",
    "# print(raw_data)\n",
    "# soup.select(\"span.f3.push-content\")\n",
    "\n",
    "\n",
    "## 清理資料\n",
    "title = raw_data[2].text\n",
    "print(title)\n",
    "\n",
    "author = raw_data[0].text\n",
    "print(author)\n",
    "\n",
    "category = raw_data[1].text\n",
    "print(category)\n",
    "\n",
    "\n",
    "## 整理資料\n",
    "data = {\n",
    "    \"author\" : author,\n",
    "    \"title\"  : title,\n",
    "    \"category\" : category\n",
    "}\n",
    "\n",
    "data\n"
   ]
  },
  {
   "cell_type": "code",
   "execution_count": 35,
   "id": "1b970804",
   "metadata": {},
   "outputs": [
    {
     "name": "stdout",
     "output_type": "stream",
     "text": [
      "1234\n"
     ]
    }
   ],
   "source": [
    "print(1234)"
   ]
  },
  {
   "cell_type": "code",
   "execution_count": 45,
   "id": "5c86707d",
   "metadata": {},
   "outputs": [
    {
     "data": {
      "text/plain": [
       "{'author': 'sean33132000 (阿炫)',\n",
       " 'title': '[情報] 0930三大法人期權未平倉統計表',\n",
       " 'category': 'Stock',\n",
       " 'time': 'Thu Sep 30 15:42:34 2021',\n",
       " 'content': 'https://www.taifex.com.tw/cht/3/futContractsDate\\n\\n110年09月30日 三大法人臺指期貨未平倉口數統計表\\n\\n身份別           自營商         投信           外資\\n\\n多空淨額       13,752       -4,992       -16,731\\n\\n--'}"
      ]
     },
     "execution_count": 45,
     "metadata": {},
     "output_type": "execute_result"
    }
   ],
   "source": [
    "### 引入套件\n",
    "import requests \n",
    "from bs4 import BeautifulSoup as bs\n",
    "\n",
    "\n",
    "### 自訂 fucntion\n",
    "def remove_tags(soup):\n",
    "    dirty_tags = [\n",
    "        \"span.f2\",\n",
    "        \"div.article-metaline\",\n",
    "        \"div.article-metaline-right\",\n",
    "        \"div.push\",\n",
    "        \"div.richcontent\"\n",
    "    ]\n",
    "    for t in dirty_tags:\n",
    "        for ele in soup.select(t):\n",
    "            ele.extract()\n",
    "    return soup\n",
    "\n",
    "\n",
    "### 填入文章網址\n",
    "url = \"https://www.ptt.cc/bbs/Stock/M.1632987756.A.372.html\"\n",
    "\n",
    "\n",
    "result = requests.get(url)\n",
    "soup = bs(result.text,\"lxml\")\n",
    "\n",
    "raw_data= soup.select(\"span.article-meta-value\")\n",
    "\n",
    "\n",
    "### 抓取 作者 / 分類 / 標題 / 時間\n",
    "author = raw_data[0].text\n",
    "category = raw_data[1].text\n",
    "title = raw_data[2].text\n",
    "time = raw_data[3].text\n",
    "\n",
    "\n",
    "### 抓取 本文內容\n",
    "raw_soup   = soup.select(\"div#main-content\")[0]\n",
    "clear_soup = remove_tags(raw_soup)\n",
    "content = clear_soup.text.strip()\n",
    "\n",
    "### 包成 data 資料\n",
    "data = {}\n",
    "data[\"author\"] = author\n",
    "data[\"title\"] = title\n",
    "data[\"category\"] = category\n",
    "data[\"time\"] = time\n",
    "data[\"content\"] = content\n",
    "\n",
    "data"
   ]
  },
  {
   "cell_type": "code",
   "execution_count": 48,
   "id": "b23c7acd",
   "metadata": {},
   "outputs": [
    {
     "name": "stdout",
     "output_type": "stream",
     "text": [
      "39\n",
      "-15\n",
      "-417\n"
     ]
    }
   ],
   "source": [
    "# 變數\n",
    "# 值\n",
    "a = 12 \n",
    "b = 27 \n",
    "c = 456\n",
    "\n",
    "print(a+b)\n",
    "print(a-b)\n",
    "print(a+b-c)"
   ]
  },
  {
   "cell_type": "code",
   "execution_count": 51,
   "id": "7847cb14",
   "metadata": {},
   "outputs": [
    {
     "ename": "NameError",
     "evalue": "name 'true' is not defined",
     "output_type": "error",
     "traceback": [
      "\u001b[0;31m---------------------------------------------------------------------------\u001b[0m",
      "\u001b[0;31mNameError\u001b[0m                                 Traceback (most recent call last)",
      "\u001b[0;32m<ipython-input-51-b979fe13db48>\u001b[0m in \u001b[0;36m<module>\u001b[0;34m\u001b[0m\n\u001b[1;32m      3\u001b[0m \u001b[0;34m\u001b[0m\u001b[0m\n\u001b[1;32m      4\u001b[0m \u001b[0mf\u001b[0m \u001b[0;34m=\u001b[0m \u001b[0;32mTrue\u001b[0m     \u001b[0;31m# 布林\u001b[0m\u001b[0;34m\u001b[0m\u001b[0;34m\u001b[0m\u001b[0m\n\u001b[0;32m----> 5\u001b[0;31m \u001b[0mf\u001b[0m \u001b[0;34m=\u001b[0m \u001b[0mtrue\u001b[0m     \u001b[0;31m# 錯誤布林\u001b[0m\u001b[0;34m\u001b[0m\u001b[0;34m\u001b[0m\u001b[0m\n\u001b[0m\u001b[1;32m      6\u001b[0m \u001b[0;34m\u001b[0m\u001b[0m\n\u001b[1;32m      7\u001b[0m \u001b[0mg\u001b[0m \u001b[0;34m=\u001b[0m \u001b[0;34m[\u001b[0m\u001b[0;36m1\u001b[0m\u001b[0;34m,\u001b[0m\u001b[0;36m2\u001b[0m\u001b[0;34m,\u001b[0m\u001b[0;36m3\u001b[0m\u001b[0;34m]\u001b[0m  \u001b[0;31m# 串列\u001b[0m\u001b[0;34m\u001b[0m\u001b[0;34m\u001b[0m\u001b[0m\n",
      "\u001b[0;31mNameError\u001b[0m: name 'true' is not defined"
     ]
    }
   ],
   "source": [
    "d = \"Jeff\"   # 字串\n",
    "e = 999      # 數值\n",
    "\n",
    "f = True     # 布林\n",
    "# f = true     # 錯誤布林\n",
    "\n",
    "g = [1,2,3]  # 串列\n",
    "\n",
    "h1 = 123     # --> 數值 \n",
    "h2 = \"123\"   # --> 字串\n",
    "\n",
    "print(d)\n",
    "print(e)\n",
    "print(f)\n",
    "print(g)"
   ]
  },
  {
   "cell_type": "code",
   "execution_count": 52,
   "id": "fbe01d6c",
   "metadata": {},
   "outputs": [
    {
     "name": "stdout",
     "output_type": "stream",
     "text": [
      "[85, 90, 88]\n",
      "[90, 99, 100]\n",
      "False\n"
     ]
    }
   ],
   "source": [
    "# n = \"Jeff\"  # 不佳\n",
    "\n",
    "\n",
    "# 底線式\n",
    "teacher_name = \"Jeff\"  # 佳\n",
    "student_scores = [85,90,88]\n",
    "is_coffee_cold = False\n",
    "\n",
    "\n",
    "# 駝峰式\n",
    "teacherName2 = \"Leo\"\n",
    "studentScores2 = [90,99,100]\n",
    "isCoffeeCold2 = True\n",
    "\n",
    "print(student_scores)\n",
    "print(studentScores2)\n",
    "print(is_coffee_cold)"
   ]
  },
  {
   "cell_type": "code",
   "execution_count": null,
   "id": "3d9049af",
   "metadata": {},
   "outputs": [],
   "source": []
  },
  {
   "cell_type": "code",
   "execution_count": null,
   "id": "d46c35c9",
   "metadata": {},
   "outputs": [],
   "source": []
  },
  {
   "cell_type": "code",
   "execution_count": null,
   "id": "45ac2cea",
   "metadata": {},
   "outputs": [],
   "source": []
  },
  {
   "cell_type": "code",
   "execution_count": null,
   "id": "9209d4fe",
   "metadata": {},
   "outputs": [],
   "source": []
  }
 ],
 "metadata": {
  "kernelspec": {
   "display_name": "Python 3",
   "language": "python",
   "name": "python3"
  },
  "language_info": {
   "codemirror_mode": {
    "name": "ipython",
    "version": 3
   },
   "file_extension": ".py",
   "mimetype": "text/x-python",
   "name": "python",
   "nbconvert_exporter": "python",
   "pygments_lexer": "ipython3",
   "version": "3.8.8"
  }
 },
 "nbformat": 4,
 "nbformat_minor": 5
}
