{
 "cells": [
  {
   "cell_type": "code",
   "execution_count": 3,
   "id": "3595aa31",
   "metadata": {},
   "outputs": [
    {
     "name": "stdout",
     "output_type": "stream",
     "text": [
      "Hello World !!!\n",
      "ABCD\n",
      "嗨嗨 , 我是Jeff ~\n"
     ]
    }
   ],
   "source": [
    "# 執行 -> Ctrl + enter \n",
    "print(\"Hello World !!!\")\n",
    "print(\"ABCD\")\n",
    "print(\"嗨嗨 , 我是Jeff ~\")\n",
    "\n",
    "# 點擊空白處 + B --> 長出新節點"
   ]
  },
  {
   "cell_type": "code",
   "execution_count": 12,
   "id": "d0f9fb59",
   "metadata": {},
   "outputs": [],
   "source": [
    "# 試。爬蟲\n",
    "\n",
    "# 引用套件 \n",
    "import requests \n",
    "from bs4 import BeautifulSoup as bs\n",
    "\n",
    "# 設定爬蟲連結\n",
    "url = \"https://www.ptt.cc/bbs/Stock/M.1632985838.A.0CE.html\"\n",
    "\n",
    "# 抓取文章\n",
    "res = requests.get(url)\n",
    "\n",
    "# 顯示結果\n",
    "print(res.text)"
   ]
  },
  {
   "cell_type": "code",
   "execution_count": 15,
   "id": "d0da2056",
   "metadata": {},
   "outputs": [
    {
     "data": {
      "text/plain": [
       "[<span class=\"article-meta-value\">yahc (需要好運氣)</span>,\n",
       " <span class=\"article-meta-value\">Stock</span>,\n",
       " <span class=\"article-meta-value\">Re: [新聞] 興富發總裁稱年輕夫妻3口「月收8萬」可買</span>,\n",
       " <span class=\"article-meta-value\">Thu Sep 30 15:10:35 2021</span>]"
      ]
     },
     "execution_count": 15,
     "metadata": {},
     "output_type": "execute_result"
    }
   ],
   "source": [
    "# 解析網頁\n",
    "soup = bs(res.text,\"lxml\")\n",
    "\n",
    "## 定位 class=article-meta-value\n",
    "soup.select(\"span.article-meta-value\")\n",
    "\n"
   ]
  },
  {
   "cell_type": "code",
   "execution_count": null,
   "id": "cf86c1b2",
   "metadata": {},
   "outputs": [],
   "source": []
  },
  {
   "cell_type": "code",
   "execution_count": null,
   "id": "af3a10ef",
   "metadata": {},
   "outputs": [],
   "source": []
  },
  {
   "cell_type": "code",
   "execution_count": null,
   "id": "fa8258c6",
   "metadata": {},
   "outputs": [],
   "source": []
  },
  {
   "cell_type": "code",
   "execution_count": null,
   "id": "4442de5e",
   "metadata": {},
   "outputs": [],
   "source": []
  },
  {
   "cell_type": "code",
   "execution_count": null,
   "id": "97f1b846",
   "metadata": {},
   "outputs": [],
   "source": []
  }
 ],
 "metadata": {
  "kernelspec": {
   "display_name": "Python 3",
   "language": "python",
   "name": "python3"
  },
  "language_info": {
   "codemirror_mode": {
    "name": "ipython",
    "version": 3
   },
   "file_extension": ".py",
   "mimetype": "text/x-python",
   "name": "python",
   "nbconvert_exporter": "python",
   "pygments_lexer": "ipython3",
   "version": "3.8.8"
  }
 },
 "nbformat": 4,
 "nbformat_minor": 5
}
