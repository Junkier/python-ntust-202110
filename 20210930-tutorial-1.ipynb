{
 "cells": [
  {
   "cell_type": "code",
   "execution_count": 3,
   "id": "554d44e1",
   "metadata": {},
   "outputs": [
    {
     "name": "stdout",
     "output_type": "stream",
     "text": [
      "Hello World !!!\n",
      "ABCD\n",
      "嗨嗨 , 我是Jeff ~\n"
     ]
    }
   ],
   "source": [
    "# 執行 -> Ctrl + enter \n",
    "print(\"Hello World !!!\")\n",
    "print(\"ABCD\")\n",
    "print(\"嗨嗨 , 我是Jeff ~\")"
   ]
  }
 ],
 "metadata": {
  "kernelspec": {
   "display_name": "Python 3",
   "language": "python",
   "name": "python3"
  },
  "language_info": {
   "codemirror_mode": {
    "name": "ipython",
    "version": 3
   },
   "file_extension": ".py",
   "mimetype": "text/x-python",
   "name": "python",
   "nbconvert_exporter": "python",
   "pygments_lexer": "ipython3",
   "version": "3.8.8"
  }
 },
 "nbformat": 4,
 "nbformat_minor": 5
}
