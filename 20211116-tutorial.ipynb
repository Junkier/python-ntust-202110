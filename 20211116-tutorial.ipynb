{
 "cells": [
  {
   "cell_type": "code",
   "execution_count": 132,
   "id": "d61499c9",
   "metadata": {
    "scrolled": true
   },
   "outputs": [],
   "source": [
    "### 591 租屋網\n",
    "import requests \n",
    "api = \"https://rent.591.com.tw/home/search/rsList?is_format_data=1&is_new_list=1&type=1&section=3&searchtype=1&showMore=1&multiArea=10_20&firstRow=60&totalRows=989\"\n",
    "headers = {\n",
    "#     \"Accept\": \"application/json, text/javascript, */*; q=0.01\",\n",
    "#     \"Accept-Encoding\": \"gzip, deflate, br\",\n",
    "#     \"Accept-Language\": \"zh-TW,zh;q=0.9,en-US;q=0.8,en;q=0.7\",\n",
    "#     \"Connection\": \"keep-alive\",\n",
    "#     \"sec-ch-ua\": '\"Google Chrome\";v=\"95\", \"Chromium\";v=\"95\", \";Not A Brand\";v=\"99\"',\n",
    "#     \"sec-ch-ua-mobile\": \"?0\",\n",
    "#     \"sec-ch-ua-platform\": \"macOS\",\n",
    "#     \"Sec-Fetch-Dest\": \"empty\",\n",
    "#     \"Sec-Fetch-Mode\": \"cors\",\n",
    "#     \"Sec-Fetch-Site\": \"same-origin\",\n",
    "#     \"X-Requested-With\": \"XMLHttpRequest\"\n",
    "    \n",
    "    \"User-Agent\": \"Mozilla/5.0 (Macintosh; Intel Mac OS X 10_12_6) AppleWebKit/537.36 (KHTML, like Gecko) Chrome/95.0.4638.69 Safari/537.36\",\n",
    "    \n",
    "    #####\n",
    "    # 主機名稱 (網站名稱)\n",
    "    \"Host\": \"rent.591.com.tw\",\n",
    "    \n",
    "    # 指引來源 (相當於 requests 從何處來)\n",
    "    \"Referer\": \"https://rent.591.com.tw/?section=3&searchtype=1&showMore=1&multiArea=10_20&firstRow=60&totalRows=989\",\n",
    "    #####\n",
    "    \n",
    "    ### 這次的 cookes & token\n",
    "    # \"Cookie\": \"urlJumpIp=1; urlJumpIpByTxt=%E5%8F%B0%E5%8C%97%E5%B8%82; T591_TOKEN=g3u3tnc81fjrk7ighgv2mkr3m4; _ga=GA1.3.1649913125.1636598035; _ga=GA1.4.1649913125.1636598035; _fbp=fb.2.1636598035774.332302313; user_index_role=1; __auc=2f8d3e4717d0ce987014f765288; __utma=82835026.1649913125.1636598035.1636599171.1636599171.1; __utmz=82835026.1636599171.1.1.utmcsr=(direct)|utmccn=(direct)|utmcmd=(none); new_rent_list_kind_test=0; tw591__privacy_agree=1; user_browse_recent=a%3A5%3A%7Bi%3A0%3Ba%3A2%3A%7Bs%3A4%3A%22type%22%3Bi%3A1%3Bs%3A7%3A%22post_id%22%3Bi%3A11569362%3B%7Di%3A1%3Ba%3A2%3A%7Bs%3A4%3A%22type%22%3Bi%3A1%3Bs%3A7%3A%22post_id%22%3Bi%3A11641548%3B%7Di%3A2%3Ba%3A2%3A%7Bs%3A4%3A%22type%22%3Bi%3A1%3Bs%3A7%3A%22post_id%22%3Bi%3A11638883%3B%7Di%3A3%3Ba%3A2%3A%7Bs%3A4%3A%22type%22%3Bi%3A1%3Bs%3A7%3A%22post_id%22%3Bi%3A11640883%3B%7Di%3A4%3Ba%3A2%3A%7Bs%3A4%3A%22type%22%3Bi%3A1%3Bs%3A7%3A%22post_id%22%3Bi%3A11619032%3B%7D%7D; webp=1; PHPSESSID=avb3sbo4bnoknmqpegg3982ad6; bid[pc][101.12.88.183]=3228; newUI=1; _gid=GA1.3.1157309984.1637058774; _gid=GA1.4.1157309984.1637058774; XSRF-TOKEN=eyJpdiI6Im5sbDdocWZRQmtHK2JkSlVKRTVHUWc9PSIsInZhbHVlIjoiays4alV3VXo1bWFESzEzVzdpQnpJMlZuK084WkJLZWI4UDRIWjJ2VmkxMFA0THpVeVJtVk5GYmVXYmpmdU9kUldLbXZhYkpqRElLSk9Pa2Q0NVNzSXc9PSIsIm1hYyI6ImMxNGUzYjE2MmMxY2VkMWEyNDYyYTgxNzM4YmJmZjE5YWE5MzQyZjhmZTExMTJkZWQxMjVmYjA0MTg0MDgxZjQifQ%3D%3D; 591_new_session=eyJpdiI6IjNHSkk5Q1VBZ2dlclJWcnRNd21qbGc9PSIsInZhbHVlIjoiUHgyK2tpWjkxeFIyUGhGQ1FwS2xkRmRJMERna2VPOWhHeG9NeGRzOGRQcTZ0V3VVejNZMFNHS204Y2dHNzRlWHd3ZmMxdFVodEUzSjdtZmRJcHlSMnc9PSIsIm1hYyI6IjhhZDI4ZGI3MWM2ZGM3YjU5MGY0ZDIzZWEwMmRmMjA4NDNhM2IxMTBhMzkzYTMyN2M3NTU5NTliYzMxMDI1NDEifQ%3D%3D\",\n",
    "    # \"X-CSRF-TOKEN\": \"WYW2Jowkh7i1tuAuTbYRK1QEZXQdBPTwlFsj4oxI\",\n",
    "    \n",
    "    ### 上禮拜的 cookes & token\n",
    "    # \"Cookie\": \"webp=1; PHPSESSID=g3u3tnc81fjrk7ighgv2mkr3m4; urlJumpIp=1; urlJumpIpByTxt=%E5%8F%B0%E5%8C%97%E5%B8%82; newUI=1; T591_TOKEN=g3u3tnc81fjrk7ighgv2mkr3m4; _ga=GA1.3.1649913125.1636598035; _gid=GA1.3.822631898.1636598035; _ga=GA1.4.1649913125.1636598035; _gid=GA1.4.822631898.1636598035; _fbp=fb.2.1636598035774.332302313; user_index_role=1; __auc=2f8d3e4717d0ce987014f765288; __utma=82835026.1649913125.1636598035.1636599171.1636599171.1; __utmc=82835026; __utmz=82835026.1636599171.1.1.utmcsr=(direct)|utmccn=(direct)|utmcmd=(none); new_rent_list_kind_test=0; tw591__privacy_agree=1; user_browse_recent=a%3A5%3A%7Bi%3A0%3Ba%3A2%3A%7Bs%3A4%3A%22type%22%3Bi%3A1%3Bs%3A7%3A%22post_id%22%3Bi%3A11593829%3B%7Di%3A1%3Ba%3A2%3A%7Bs%3A4%3A%22type%22%3Bi%3A1%3Bs%3A7%3A%22post_id%22%3Bi%3A11569362%3B%7Di%3A2%3Ba%3A2%3A%7Bs%3A4%3A%22type%22%3Bi%3A1%3Bs%3A7%3A%22post_id%22%3Bi%3A11569222%3B%7Di%3A3%3Ba%3A2%3A%7Bs%3A4%3A%22type%22%3Bi%3A1%3Bs%3A7%3A%22post_id%22%3Bi%3A11569231%3B%7Di%3A4%3Ba%3A2%3A%7Bs%3A4%3A%22type%22%3Bi%3A1%3Bs%3A7%3A%22post_id%22%3Bi%3A11668431%3B%7D%7D; XSRF-TOKEN=eyJpdiI6ImtqQ1VTcjBwNGpEUnZ5UlVYd3VxV3c9PSIsInZhbHVlIjoiaDlndnZVbHV1RmNyRkZ1MDFXYmV2VDlpUk1JbzNSa2syajRobTJDYXJqbjlkS1FSNjJDZjhRWTk4TjRoc2JwdUFKYU9ON2lMcSswaUxUT0h1V3NyaFE9PSIsIm1hYyI6IjM2OGQ0NjJmNDc2N2NiNGMzMDVjN2RlMGM3NzRkYjY4MmEyYTQ5YTFmMjRmMDE1OWI3OWI0NzVhYjMzMjRmY2MifQ%3D%3D; 591_new_session=eyJpdiI6IkRlRDgxU1BQcW1PdmQ3YWV4ODB3SkE9PSIsInZhbHVlIjoiZElmNUlPdlErZXhBbEdxZWhiOHNReThDRDI4dHRTRk5oUkx2aTdHbkJRVGVWdEkzY1VDWWloSzU4bmJNWHgxSVNcL0w2ZHpGUXJab0lJU1pZVGVnUlNRPT0iLCJtYWMiOiI0NmMxYTU4NzRlMDQ2NTdmN2VjYTZjMjllOWNiZDM4YTg4YWFhZjJjNDYwYzE1YWRjM2U5N2NjNDE4MGJkMDc2In0%3D; _gat_UA-97423186-1=1\",\n",
    "    # \"X-CSRF-TOKEN\": \"XHjHwC4QhRaouTQzmpbbgNsLL032x3ooqaoMcKkp\",\n",
    "\n",
    "}\n",
    "# print(headers)\n",
    "\n",
    "res = requests.get(api,headers=headers)\n",
    "# print(res.text)\n",
    "# print(res.json())\n"
   ]
  },
  {
   "cell_type": "code",
   "execution_count": 141,
   "id": "665f432d",
   "metadata": {},
   "outputs": [
    {
     "name": "stdout",
     "output_type": "stream",
     "text": [
      "QmRj0JUV0YB0qqTWJP9rB0oSeo3USSxpnOlf5nnw\n"
     ]
    }
   ],
   "source": [
    "##### 591 租屋網 , 自動更新 cookie & X-CSRF-TOKEN\n",
    "import requests\n",
    "from bs4 import BeautifulSoup as bs\n",
    "\n",
    "# 1. 建立 session \n",
    "sess = requests.session()\n",
    "\n",
    "# 2. sess 向首頁發 requests , server 端會設定 cookies 值\n",
    "base_url = \"https://rent.591.com.tw/\"\n",
    "headers = {\n",
    "    \"User-Agent\": \"Mozilla/5.0 (Macintosh; Intel Mac OS X 10_12_6) AppleWebKit/537.36 (KHTML, like Gecko) Chrome/95.0.4638.69 Safari/537.36\",\n",
    "}\n",
    "res2 = sess.get(base_url,headers=headers)\n",
    "soup2 = bs(res2.text,\"lxml\")\n",
    "# print(soup2)\n",
    "\n",
    "# 3. 解析首頁 source code 取得 csrf-token \n",
    "token = soup2.select(\"meta[name='csrf-token']\")[0][\"content\"]\n",
    "print(token)\n",
    "\n",
    "# 4. 向 API 發 requests 取得資料\n",
    "\n",
    "\n"
   ]
  },
  {
   "cell_type": "code",
   "execution_count": null,
   "id": "393325ab",
   "metadata": {},
   "outputs": [],
   "source": []
  },
  {
   "cell_type": "code",
   "execution_count": null,
   "id": "fae1eb91",
   "metadata": {},
   "outputs": [],
   "source": []
  },
  {
   "cell_type": "code",
   "execution_count": null,
   "id": "2685ba01",
   "metadata": {},
   "outputs": [],
   "source": []
  },
  {
   "cell_type": "code",
   "execution_count": null,
   "id": "deab2310",
   "metadata": {},
   "outputs": [],
   "source": [
    "import json\n",
    "# res.text\n",
    "# res.json()\n",
    "# json.loads(res.text)\n",
    "\n",
    "# res.json   # response 轉成 dict 呈現\n",
    "# json.loads # json 字串 轉成 dict 呈現\n"
   ]
  }
 ],
 "metadata": {
  "kernelspec": {
   "display_name": "Python 3",
   "language": "python",
   "name": "python3"
  },
  "language_info": {
   "codemirror_mode": {
    "name": "ipython",
    "version": 3
   },
   "file_extension": ".py",
   "mimetype": "text/x-python",
   "name": "python",
   "nbconvert_exporter": "python",
   "pygments_lexer": "ipython3",
   "version": "3.8.8"
  }
 },
 "nbformat": 4,
 "nbformat_minor": 5
}
