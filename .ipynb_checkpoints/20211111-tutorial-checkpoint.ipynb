{
 "cells": [
  {
   "cell_type": "code",
   "execution_count": 164,
   "id": "6e8a2166",
   "metadata": {},
   "outputs": [],
   "source": [
    "##### 591 租屋網\n",
    "import requests\n",
    "\n",
    "url = \"https://rent.591.com.tw/home/search/rsList?is_format_data=1&is_new_list=1&type=1&section=3&searchtype=1&multiArea=10_20&showMore=1\"\n",
    "headers = {\n",
    "    \"Accept\": \"application/json, text/javascript, */*; q=0.01\",\n",
    "    \"Accept-Encoding\": \"gzip, deflate, br\",\n",
    "    \"Accept-Language\": \"zh-TW,zh;q=0.9,en-US;q=0.8,en;q=0.7\",\n",
    "    \"Connection\": \"keep-alive\",\n",
    "    \"Cookie\": \"webp=1; PHPSESSID=g3u3tnc81fjrk7ighgv2mkr3m4; urlJumpIp=1; urlJumpIpByTxt=%E5%8F%B0%E5%8C%97%E5%B8%82; newUI=1; T591_TOKEN=g3u3tnc81fjrk7ighgv2mkr3m4; _ga=GA1.3.1649913125.1636598035; _gid=GA1.3.822631898.1636598035; _ga=GA1.4.1649913125.1636598035; _gid=GA1.4.822631898.1636598035; _fbp=fb.2.1636598035774.332302313; user_index_role=1; __auc=2f8d3e4717d0ce987014f765288; __utma=82835026.1649913125.1636598035.1636599171.1636599171.1; __utmc=82835026; __utmz=82835026.1636599171.1.1.utmcsr=(direct)|utmccn=(direct)|utmcmd=(none); new_rent_list_kind_test=0; tw591__privacy_agree=1; user_browse_recent=a%3A5%3A%7Bi%3A0%3Ba%3A2%3A%7Bs%3A4%3A%22type%22%3Bi%3A1%3Bs%3A7%3A%22post_id%22%3Bi%3A11593829%3B%7Di%3A1%3Ba%3A2%3A%7Bs%3A4%3A%22type%22%3Bi%3A1%3Bs%3A7%3A%22post_id%22%3Bi%3A11569362%3B%7Di%3A2%3Ba%3A2%3A%7Bs%3A4%3A%22type%22%3Bi%3A1%3Bs%3A7%3A%22post_id%22%3Bi%3A11569222%3B%7Di%3A3%3Ba%3A2%3A%7Bs%3A4%3A%22type%22%3Bi%3A1%3Bs%3A7%3A%22post_id%22%3Bi%3A11569231%3B%7Di%3A4%3Ba%3A2%3A%7Bs%3A4%3A%22type%22%3Bi%3A1%3Bs%3A7%3A%22post_id%22%3Bi%3A11668431%3B%7D%7D; XSRF-TOKEN=eyJpdiI6ImtqQ1VTcjBwNGpEUnZ5UlVYd3VxV3c9PSIsInZhbHVlIjoiaDlndnZVbHV1RmNyRkZ1MDFXYmV2VDlpUk1JbzNSa2syajRobTJDYXJqbjlkS1FSNjJDZjhRWTk4TjRoc2JwdUFKYU9ON2lMcSswaUxUT0h1V3NyaFE9PSIsIm1hYyI6IjM2OGQ0NjJmNDc2N2NiNGMzMDVjN2RlMGM3NzRkYjY4MmEyYTQ5YTFmMjRmMDE1OWI3OWI0NzVhYjMzMjRmY2MifQ%3D%3D; 591_new_session=eyJpdiI6IkRlRDgxU1BQcW1PdmQ3YWV4ODB3SkE9PSIsInZhbHVlIjoiZElmNUlPdlErZXhBbEdxZWhiOHNReThDRDI4dHRTRk5oUkx2aTdHbkJRVGVWdEkzY1VDWWloSzU4bmJNWHgxSVNcL0w2ZHpGUXJab0lJU1pZVGVnUlNRPT0iLCJtYWMiOiI0NmMxYTU4NzRlMDQ2NTdmN2VjYTZjMjllOWNiZDM4YTg4YWFhZjJjNDYwYzE1YWRjM2U5N2NjNDE4MGJkMDc2In0%3D; _gat_UA-97423186-1=1\",\n",
    "    \"Host\": \"rent.591.com.tw\",\n",
    "    \"Referer\": \"https://rent.591.com.tw/?section=3&searchtype=1\",\n",
    "    \"sec-ch-ua\": 'Not A;Brand\";v=\"99\", \"Chromium\";v=\"90\", \"Google Chrome\";v=\"90',\n",
    "    \"sec-ch-ua-mobile\": \"?0\",\n",
    "    \"Sec-Fetch-Dest\": \"empty\",\n",
    "    \"Sec-Fetch-Mode\": \"cors\",\n",
    "    \"Sec-Fetch-Site\": \"same-origin\",\n",
    "    \"User-Agent\": \"Mozilla/5.0 (Macintosh; Intel Mac OS X 10_12_6) AppleWebKit/537.36 (KHTML, like Gecko) Chrome/90.0.4430.212 Safari/537.36\",\n",
    "    \"X-CSRF-TOKEN\": \"XHjHwC4QhRaouTQzmpbbgNsLL032x3ooqaoMcKkp\",\n",
    "    \"X-Requested-With\": \"XMLHttpRequest\"\n",
    "    # \"User-Agent\": \"Mozilla/5.0 (Macintosh; Intel Mac OS X 10_12_6) AppleWebKit/537.36 (KHTML, like Gecko) Chrome/90.0.4430.212 Safari/537.36\"\n",
    "}\n",
    "res = requests.get(url,headers = headers)\n",
    "# print(res.text)\n",
    "# print(res)\n",
    "# print(res.json())\n",
    "raw_data = res.json()"
   ]
  },
  {
   "cell_type": "code",
   "execution_count": 174,
   "id": "22a333c4",
   "metadata": {},
   "outputs": [],
   "source": [
    "# raw_data[\"data\"][\"data\"]"
   ]
  },
  {
   "cell_type": "code",
   "execution_count": 169,
   "id": "e16a30c7",
   "metadata": {},
   "outputs": [
    {
     "name": "stdout",
     "output_type": "stream",
     "text": [
      "https://rent.591.com.tw/home/search/rsList?is_format_data=1&is_new_list=1&type=1&section=3&searchtype=1&multiArea=10_20&showMore=1&firstRow=0&totalRows=983 is ok.\n",
      "https://rent.591.com.tw/home/search/rsList?is_format_data=1&is_new_list=1&type=1&section=3&searchtype=1&multiArea=10_20&showMore=1&firstRow=30&totalRows=983 is ok.\n",
      "https://rent.591.com.tw/home/search/rsList?is_format_data=1&is_new_list=1&type=1&section=3&searchtype=1&multiArea=10_20&showMore=1&firstRow=60&totalRows=983 is ok.\n",
      "https://rent.591.com.tw/home/search/rsList?is_format_data=1&is_new_list=1&type=1&section=3&searchtype=1&multiArea=10_20&showMore=1&firstRow=90&totalRows=983 is ok.\n",
      "https://rent.591.com.tw/home/search/rsList?is_format_data=1&is_new_list=1&type=1&section=3&searchtype=1&multiArea=10_20&showMore=1&firstRow=120&totalRows=983 is ok.\n",
      "Done.\n"
     ]
    }
   ],
   "source": [
    "### 抓取分頁 #1\n",
    "\n",
    "api = \"https://rent.591.com.tw/home/search/rsList?is_format_data=1&is_new_list=1&type=1&section=3&searchtype=1&multiArea=10_20&showMore=1&firstRow={}&totalRows=983\"\n",
    "       \n",
    "headers = {\n",
    "    \"Accept\": \"application/json, text/javascript, */*; q=0.01\",\n",
    "    \"Accept-Encoding\": \"gzip, deflate, br\",\n",
    "    \"Accept-Language\": \"zh-TW,zh;q=0.9,en-US;q=0.8,en;q=0.7\",\n",
    "    \"Connection\": \"keep-alive\",\n",
    "    \"Cookie\": \"webp=1; PHPSESSID=g3u3tnc81fjrk7ighgv2mkr3m4; urlJumpIp=1; urlJumpIpByTxt=%E5%8F%B0%E5%8C%97%E5%B8%82; newUI=1; T591_TOKEN=g3u3tnc81fjrk7ighgv2mkr3m4; _ga=GA1.3.1649913125.1636598035; _gid=GA1.3.822631898.1636598035; _ga=GA1.4.1649913125.1636598035; _gid=GA1.4.822631898.1636598035; _fbp=fb.2.1636598035774.332302313; user_index_role=1; __auc=2f8d3e4717d0ce987014f765288; __utma=82835026.1649913125.1636598035.1636599171.1636599171.1; __utmc=82835026; __utmz=82835026.1636599171.1.1.utmcsr=(direct)|utmccn=(direct)|utmcmd=(none); new_rent_list_kind_test=0; tw591__privacy_agree=1; user_browse_recent=a%3A5%3A%7Bi%3A0%3Ba%3A2%3A%7Bs%3A4%3A%22type%22%3Bi%3A1%3Bs%3A7%3A%22post_id%22%3Bi%3A11593829%3B%7Di%3A1%3Ba%3A2%3A%7Bs%3A4%3A%22type%22%3Bi%3A1%3Bs%3A7%3A%22post_id%22%3Bi%3A11569362%3B%7Di%3A2%3Ba%3A2%3A%7Bs%3A4%3A%22type%22%3Bi%3A1%3Bs%3A7%3A%22post_id%22%3Bi%3A11569222%3B%7Di%3A3%3Ba%3A2%3A%7Bs%3A4%3A%22type%22%3Bi%3A1%3Bs%3A7%3A%22post_id%22%3Bi%3A11569231%3B%7Di%3A4%3Ba%3A2%3A%7Bs%3A4%3A%22type%22%3Bi%3A1%3Bs%3A7%3A%22post_id%22%3Bi%3A11668431%3B%7D%7D; XSRF-TOKEN=eyJpdiI6ImtqQ1VTcjBwNGpEUnZ5UlVYd3VxV3c9PSIsInZhbHVlIjoiaDlndnZVbHV1RmNyRkZ1MDFXYmV2VDlpUk1JbzNSa2syajRobTJDYXJqbjlkS1FSNjJDZjhRWTk4TjRoc2JwdUFKYU9ON2lMcSswaUxUT0h1V3NyaFE9PSIsIm1hYyI6IjM2OGQ0NjJmNDc2N2NiNGMzMDVjN2RlMGM3NzRkYjY4MmEyYTQ5YTFmMjRmMDE1OWI3OWI0NzVhYjMzMjRmY2MifQ%3D%3D; 591_new_session=eyJpdiI6IkRlRDgxU1BQcW1PdmQ3YWV4ODB3SkE9PSIsInZhbHVlIjoiZElmNUlPdlErZXhBbEdxZWhiOHNReThDRDI4dHRTRk5oUkx2aTdHbkJRVGVWdEkzY1VDWWloSzU4bmJNWHgxSVNcL0w2ZHpGUXJab0lJU1pZVGVnUlNRPT0iLCJtYWMiOiI0NmMxYTU4NzRlMDQ2NTdmN2VjYTZjMjllOWNiZDM4YTg4YWFhZjJjNDYwYzE1YWRjM2U5N2NjNDE4MGJkMDc2In0%3D; _gat_UA-97423186-1=1\",\n",
    "    \"Host\": \"rent.591.com.tw\",\n",
    "    \"Referer\": \"https://rent.591.com.tw/?section=3&searchtype=1\",\n",
    "    \"sec-ch-ua\": 'Not A;Brand\";v=\"99\", \"Chromium\";v=\"90\", \"Google Chrome\";v=\"90',\n",
    "    \"sec-ch-ua-mobile\": \"?0\",\n",
    "    \"Sec-Fetch-Dest\": \"empty\",\n",
    "    \"Sec-Fetch-Mode\": \"cors\",\n",
    "    \"Sec-Fetch-Site\": \"same-origin\",\n",
    "    \"User-Agent\": \"Mozilla/5.0 (Macintosh; Intel Mac OS X 10_12_6) AppleWebKit/537.36 (KHTML, like Gecko) Chrome/90.0.4430.212 Safari/537.36\",\n",
    "    \"X-CSRF-TOKEN\": \"XHjHwC4QhRaouTQzmpbbgNsLL032x3ooqaoMcKkp\",\n",
    "    \"X-Requested-With\": \"XMLHttpRequest\"\n",
    "    # \"User-Agent\": \"Mozilla/5.0 (Macintosh; Intel Mac OS X 10_12_6) AppleWebKit/537.36 (KHTML, like Gecko) Chrome/90.0.4430.212 Safari/537.36\"\n",
    "}\n",
    "\n",
    "result = []\n",
    "\n",
    "for i in range(5):\n",
    "    # print(i*30)\n",
    "    \n",
    "    firstRow = i*30\n",
    "    url = api.format(firstRow)\n",
    "    \n",
    "    \n",
    "    res = requests.get(url,headers = headers)\n",
    "    raw_data = res.json()\n",
    "    \n",
    "    result += raw_data[\"data\"][\"data\"]\n",
    "    \n",
    "    print(\"{} is ok.\".format(url))\n",
    "    \n",
    "print(\"Done.\")"
   ]
  },
  {
   "cell_type": "code",
   "execution_count": 175,
   "id": "9717d774",
   "metadata": {},
   "outputs": [],
   "source": [
    "# len(result)\n",
    "# print(result[123])\n",
    "# result"
   ]
  }
 ],
 "metadata": {
  "kernelspec": {
   "display_name": "Python 3",
   "language": "python",
   "name": "python3"
  },
  "language_info": {
   "codemirror_mode": {
    "name": "ipython",
    "version": 3
   },
   "file_extension": ".py",
   "mimetype": "text/x-python",
   "name": "python",
   "nbconvert_exporter": "python",
   "pygments_lexer": "ipython3",
   "version": "3.8.8"
  }
 },
 "nbformat": 4,
 "nbformat_minor": 5
}
