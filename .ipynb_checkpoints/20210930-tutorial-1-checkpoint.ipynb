{
 "cells": [
  {
   "cell_type": "code",
   "execution_count": 3,
   "id": "0a4881d8",
   "metadata": {},
   "outputs": [
    {
     "name": "stdout",
     "output_type": "stream",
     "text": [
      "Hello World !!!\n",
      "ABCD\n",
      "嗨嗨 , 我是Jeff ~\n"
     ]
    }
   ],
   "source": [
    "# 執行 -> Ctrl + enter \n",
    "print(\"Hello World !!!\")\n",
    "print(\"ABCD\")\n",
    "print(\"嗨嗨 , 我是Jeff ~\")\n",
    "\n",
    "# 點擊空白處 + B --> 長出新節點"
   ]
  },
  {
   "cell_type": "code",
   "execution_count": 25,
   "id": "ac36e8c2",
   "metadata": {},
   "outputs": [],
   "source": [
    "# 試。爬蟲\n",
    "\n",
    "# 引用套件 \n",
    "import requests \n",
    "from bs4 import BeautifulSoup as bs\n",
    "\n",
    "# 設定爬蟲連結\n",
    "url = \"https://www.ptt.cc/bbs/Stock/M.1632985838.A.0CE.html\"\n",
    "\n",
    "# 抓取文章\n",
    "res = requests.get(url)\n",
    "\n",
    "# 顯示結果\n",
    "# print(res.text)"
   ]
  },
  {
   "cell_type": "code",
   "execution_count": 24,
   "id": "1be9b324",
   "metadata": {},
   "outputs": [
    {
     "name": "stdout",
     "output_type": "stream",
     "text": [
      "Re: [新聞] 興富發總裁稱年輕夫妻3口「月收8萬」可買\n",
      "yahc (需要好運氣)\n",
      "Stock\n"
     ]
    },
    {
     "data": {
      "text/plain": [
       "{'author': 'yahc (需要好運氣)',\n",
       " 'title': 'Re: [新聞] 興富發總裁稱年輕夫妻3口「月收8萬」可買',\n",
       " 'category': 'Stock'}"
      ]
     },
     "execution_count": 24,
     "metadata": {},
     "output_type": "execute_result"
    }
   ],
   "source": [
    "# 解析網頁\n",
    "soup = bs(res.text,\"lxml\")\n",
    "# print(soup)\n",
    "\n",
    "\n",
    "## 定位 class=article-meta-value\n",
    "raw_data = soup.select(\"span.article-meta-value\") \n",
    "# print(raw_data)\n",
    "# soup.select(\"span.f3.push-content\")\n",
    "\n",
    "## 清理資料\n",
    "title = raw_data[2].text\n",
    "print(title)\n",
    "\n",
    "author = raw_data[0].text\n",
    "print(author)\n",
    "\n",
    "category = raw_data[1].text\n",
    "print(category)\n",
    "\n",
    "## 整理資料\n",
    "\n",
    "data = {\n",
    "    \"author\" : author,\n",
    "    \"title\"  : title,\n",
    "    \"category\" : category\n",
    "}\n",
    "\n",
    "data\n"
   ]
  },
  {
   "cell_type": "code",
   "execution_count": null,
   "id": "c11ec5f6",
   "metadata": {},
   "outputs": [],
   "source": []
  },
  {
   "cell_type": "code",
   "execution_count": null,
   "id": "6d201f21",
   "metadata": {},
   "outputs": [],
   "source": []
  },
  {
   "cell_type": "code",
   "execution_count": null,
   "id": "660e149c",
   "metadata": {},
   "outputs": [],
   "source": []
  },
  {
   "cell_type": "code",
   "execution_count": null,
   "id": "c2c3a0c6",
   "metadata": {},
   "outputs": [],
   "source": []
  },
  {
   "cell_type": "code",
   "execution_count": null,
   "id": "36f899ff",
   "metadata": {},
   "outputs": [],
   "source": []
  }
 ],
 "metadata": {
  "kernelspec": {
   "display_name": "Python 3",
   "language": "python",
   "name": "python3"
  },
  "language_info": {
   "codemirror_mode": {
    "name": "ipython",
    "version": 3
   },
   "file_extension": ".py",
   "mimetype": "text/x-python",
   "name": "python",
   "nbconvert_exporter": "python",
   "pygments_lexer": "ipython3",
   "version": "3.8.8"
  }
 },
 "nbformat": 4,
 "nbformat_minor": 5
}
