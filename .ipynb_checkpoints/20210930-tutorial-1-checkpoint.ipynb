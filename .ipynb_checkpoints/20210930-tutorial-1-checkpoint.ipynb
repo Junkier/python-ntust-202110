{
 "cells": [
  {
   "cell_type": "code",
   "execution_count": 3,
   "id": "bff22c9a",
   "metadata": {},
   "outputs": [
    {
     "name": "stdout",
     "output_type": "stream",
     "text": [
      "Hello World !!!\n",
      "ABCD\n",
      "嗨嗨 , 我是Jeff ~\n"
     ]
    }
   ],
   "source": [
    "# 執行 -> Ctrl + enter \n",
    "print(\"Hello World !!!\")\n",
    "print(\"ABCD\")\n",
    "print(\"嗨嗨 , 我是Jeff ~\")\n",
    "\n",
    "# 點擊空白處 + B --> 長出新節點"
   ]
  },
  {
   "cell_type": "code",
   "execution_count": 5,
   "id": "94b875ba",
   "metadata": {},
   "outputs": [],
   "source": [
    "# 試。爬蟲\n",
    "\n",
    "# 引用套件 \n",
    "import requests \n",
    "from bs4 import BeautifulSoup as bs\n",
    "\n",
    "# 設定爬蟲連結\n",
    "url = \"https://www.ptt.cc/bbs/Stock/M.1632985838.A.0CE.html\"\n",
    "\n",
    "# 抓取文章\n",
    "res = requests.get(url)\n",
    "\n",
    "# 顯示結果\n",
    "print(res.text)"
   ]
  },
  {
   "cell_type": "code",
   "execution_count": null,
   "id": "fd77c1b0",
   "metadata": {},
   "outputs": [],
   "source": []
  },
  {
   "cell_type": "code",
   "execution_count": null,
   "id": "21bc0595",
   "metadata": {},
   "outputs": [],
   "source": []
  },
  {
   "cell_type": "code",
   "execution_count": null,
   "id": "112ce930",
   "metadata": {},
   "outputs": [],
   "source": []
  },
  {
   "cell_type": "code",
   "execution_count": null,
   "id": "1fd970bd",
   "metadata": {},
   "outputs": [],
   "source": []
  },
  {
   "cell_type": "code",
   "execution_count": null,
   "id": "c339fba2",
   "metadata": {},
   "outputs": [],
   "source": []
  },
  {
   "cell_type": "code",
   "execution_count": null,
   "id": "e9bbd424",
   "metadata": {},
   "outputs": [],
   "source": []
  }
 ],
 "metadata": {
  "kernelspec": {
   "display_name": "Python 3",
   "language": "python",
   "name": "python3"
  },
  "language_info": {
   "codemirror_mode": {
    "name": "ipython",
    "version": 3
   },
   "file_extension": ".py",
   "mimetype": "text/x-python",
   "name": "python",
   "nbconvert_exporter": "python",
   "pygments_lexer": "ipython3",
   "version": "3.8.8"
  }
 },
 "nbformat": 4,
 "nbformat_minor": 5
}
