{
 "cells": [
  {
   "cell_type": "code",
   "execution_count": 3,
   "id": "3c3148cb",
   "metadata": {},
   "outputs": [
    {
     "name": "stdout",
     "output_type": "stream",
     "text": [
      "請輸入長度 :12.14\n",
      "請輸入寬度 :33.5\n",
      "面積 : 406.69\n",
      "周長 : 91.28\n"
     ]
    }
   ],
   "source": [
    "#!/usr/bin/python\n",
    "# -*- coding: utf-8 -*-\n",
    "\n",
    "# 1.  試寫一程式 , 提示使用者輸入長&寬 ,   \n",
    "#     計算此矩形的面積及周長\n",
    "width  = float(input(\"請輸入長度 :\"))\n",
    "height = float(input(\"請輸入寬度 :\"))\n",
    "\n",
    "print(\"面積 :\" , width * height)\n",
    "print(\"周長 :\" , (width + height) *2)"
   ]
  },
  {
   "cell_type": "code",
   "execution_count": 7,
   "id": "615c2e52",
   "metadata": {},
   "outputs": [
    {
     "name": "stdout",
     "output_type": "stream",
     "text": [
      "this is a lion.\n",
      "**** !! a book.\n",
      "this is an apple.\n",
      "this is an anpple.\n"
     ]
    }
   ],
   "source": [
    "# 2.  試寫一程式 ,  將此字串取代成不同的新字串 \n",
    "#       1)  “this is a book.”  -->  “this is a lion.”\n",
    "#       2)  “this is a book.”  -->  “**** !! a book.”\n",
    "#       3)  “this is a book.”   -->  “this is an apple.”\n",
    "\n",
    "message = \"this is a book.\"\n",
    "print( message.replace(\"book\",\"lion\") )\n",
    "print( message.replace(\"this\",\"****\").replace(\"is\",\"!!\") )\n",
    "print( message.replace(\"a\",\"an\").replace(\"book\",\"apple\") )\n",
    "print( message.replace(\"book\",\"apple\").replace(\"a\",\"an\") )"
   ]
  },
  {
   "cell_type": "code",
   "execution_count": 11,
   "id": "18353bb7",
   "metadata": {},
   "outputs": [
    {
     "name": "stdout",
     "output_type": "stream",
     "text": [
      "Steve is good , Leo is young , and Dave is single...\n",
      "Steve is good , Dave is young , and Leo is single...\n"
     ]
    }
   ],
   "source": [
    "# 3.  令 a=“Jeff” , b=“Leo” , c=“Jonny” , 並打印出\n",
    "#       “Jeff is good , Leo is young , and Jonny is single…”\n",
    "#       當 a 換成 “Steve” , c = “Dave” 時, 需打印出\n",
    "#       “Steve is good , Leo is young , and Dave is single…”\n",
    "\n",
    "# a = \"Jeff\"\n",
    "a = \"Steve\"\n",
    "b = \"Leo\"\n",
    "# c = \"Jonny\"\n",
    "c = \"Dave\"\n",
    "message2 = \"{} is good , {} is young , and {} is single...\"\n",
    "\n",
    "print( message2.format(a,b,c) )\n",
    "\n",
    "\n",
    "message3 = \"{name1} is good , {name2} is young , and {name3} is single...\"\n",
    "\n",
    "print( message3.format(name1 = a,name2 = c, name3 = b) )"
   ]
  },
  {
   "cell_type": "code",
   "execution_count": 14,
   "id": "9bfc4155",
   "metadata": {},
   "outputs": [
    {
     "name": "stdout",
     "output_type": "stream",
     "text": [
      "請輸入數字:12\n",
      "young\n"
     ]
    }
   ],
   "source": [
    "# 4. 試寫一程式 , 請使用者輸入一數字 , 並按規則顯示下列訊息 :\n",
    "#        0 <= n < 30  :  young\n",
    "#        30<= n < 60 :  strong \n",
    "#        n >= 60        :  old\n",
    "#        n < 0            :  ‘n’ must be larger than 0 \n",
    "\n",
    "n = int(input(\"請輸入數字:\"))\n",
    "\n",
    "if 0 <= n < 30:\n",
    "    print(\"young\")\n",
    "elif 30 <= n < 60 :\n",
    "    print(\"strong\")\n",
    "elif n >=60:\n",
    "    print(\"old\")\n",
    "else:\n",
    "    print(\"'n' must be larger than 0\")\n"
   ]
  },
  {
   "cell_type": "code",
   "execution_count": null,
   "id": "34a6b228",
   "metadata": {},
   "outputs": [],
   "source": [
    "# int / float / bool\n",
    "# str & 常見用法\n",
    "# print / input / type\n",
    "# if-else\n",
    "# 運算子\n",
    "# list / dict"
   ]
  },
  {
   "cell_type": "code",
   "execution_count": 16,
   "id": "2f54f028",
   "metadata": {},
   "outputs": [
    {
     "name": "stdout",
     "output_type": "stream",
     "text": [
      "Sum1 : 500\n",
      "Avg1 : 83.33333333333333\n"
     ]
    }
   ],
   "source": [
    "data1 = [87,99,100,75,60,79]\n",
    "\n",
    "print(\"Sum1 :\" , sum(data1) )\n",
    "print(\"Avg1 :\" , sum(data1)/ len(data1))"
   ]
  },
  {
   "cell_type": "code",
   "execution_count": 22,
   "id": "e4891b2c",
   "metadata": {},
   "outputs": [
    {
     "name": "stdout",
     "output_type": "stream",
     "text": [
      "Sum2 : 500\n",
      "Avg2 : 83.33333333333333\n",
      "dict_values([87, 99, 100, 75, 60, 79])\n",
      "[87, 99, 100, 75, 60, 79]\n",
      "<class 'dict_values'>\n"
     ]
    }
   ],
   "source": [
    "data2 = {\n",
    "    \"Jeff\"  : 87,\n",
    "    \"Leo\"   : 99,\n",
    "    \"Keven\" : 100,\n",
    "    \"Holy\"  : 75,\n",
    "    \"Elli\"  : 60,\n",
    "    \"Jenny\" : 79,\n",
    "}\n",
    "\n",
    "print(\"Sum2 :\" , sum(data2.values()))\n",
    "print(\"Avg2 :\" , sum(data2.values()) / len(data2))\n",
    "print(data2.values())\n",
    "print(list(data2.values()))\n",
    "print(type(data2.values()))"
   ]
  },
  {
   "cell_type": "code",
   "execution_count": 29,
   "id": "a2b48bed",
   "metadata": {},
   "outputs": [
    {
     "name": "stdout",
     "output_type": "stream",
     "text": [
      "False\n",
      "True\n",
      "--------------------------------------------------------------------------------\n",
      "True\n",
      "False\n",
      "False\n",
      "--------------------------------------------------------------------------------\n",
      "True\n",
      "False\n",
      "True\n"
     ]
    }
   ],
   "source": [
    "### in\n",
    "# list\n",
    "students = [\"Jeff\",\"Alex\",\"Gina\"]\n",
    "print( \"Leo\" in students)\n",
    "print( \"Jeff\" in students)\n",
    "\n",
    "print(\"-\"*80)\n",
    "\n",
    "# dict\n",
    "students2 = {\n",
    "    \"Jeff\"  : 87,\n",
    "    \"Leo\"   : 99,\n",
    "    \"Keven\" : 100,\n",
    "}\n",
    "print(\"Leo\" in students2)\n",
    "print(\"David\" in students2)\n",
    "print(100 in students2)\n",
    "\n",
    "print(\"-\"*80)\n",
    "\n",
    "# str\n",
    "message3 = \"This is a book.\"\n",
    "print(\"is\" in message3)\n",
    "print(\"abc\" in message3)\n",
    "print(\"oo\" in message3)"
   ]
  },
  {
   "cell_type": "code",
   "execution_count": 35,
   "id": "be189ccd",
   "metadata": {},
   "outputs": [
    {
     "name": "stdout",
     "output_type": "stream",
     "text": [
      "嗨嗨 , 我是 Keven , 成績為 68\n",
      "該梯次平均為 88.6\n",
      "修改 4 號同學 成績為 72\n",
      "該梯次 新平均為 86.0\n"
     ]
    }
   ],
   "source": [
    "### 小試身手 2-1\n",
    "# a)\n",
    "names = [\"Jeff\", \"Leo\" , \"Keven\", \"Lisa\" , \"Matty\"]\n",
    "\n",
    "# b)\n",
    "scores = [97,93,68,85,100]\n",
    "\n",
    "# c)\n",
    "print(\"嗨嗨 , 我是 {} , 成績為 {}\".format(names[2] , scores[2]) )\n",
    "\n",
    "# d)\n",
    "# print(\"該梯次平均為 {}\".format( sum(scores) / len(scores) ))\n",
    "\n",
    "avg = sum(scores) / len(scores)\n",
    "print(\"該梯次平均為 {}\".format(avg))\n",
    "\n",
    "# e)\n",
    "scores[3] = 72\n",
    "print(\"修改 {} 號同學 成績為 {}\".format(4,scores[3]) )\n",
    "\n",
    "# f)\n",
    "print(\"該梯次 新平均為 {}\".format( sum(scores) / len(scores) ))"
   ]
  },
  {
   "cell_type": "code",
   "execution_count": 43,
   "id": "2295e331",
   "metadata": {},
   "outputs": [
    {
     "name": "stdout",
     "output_type": "stream",
     "text": [
      "{'name': 'Jeff', 'height': 170, 'weight': 65, 'age': 26, 'class': 'A-', 'interest': ['喝酒', '爬山', '寫程式']}\n",
      "嗨嗨 , 我是 Jeff , 階級為 A-\n",
      "修改 Jeff 的身高為 180\n",
      "['喝酒', '爬山', '寫程式']\n",
      "['喝酒', '爬山', '寫程式', '彈吉他']\n"
     ]
    }
   ],
   "source": [
    "### 小試身手 2-2\n",
    "## 強烈建議 key 不要中文！！！\n",
    "# data2 = {\n",
    "#     \"姓名\" : \"傑夫\",\n",
    "#     \"年紀\" : 18\n",
    "# }\n",
    "# print(data2)\n",
    "# print(data2[\"姓名\"])\n",
    "\n",
    "# a)\n",
    "data2 = {\n",
    "    \"name\"   : \"Jeff\",\n",
    "    \"height\" : 170,\n",
    "    \"weight\" : 65,\n",
    "    \"age\"    : 26,\n",
    "    \"class\"  : \"A-\",\n",
    "    \"interest\" : [\"喝酒\" , \"爬山\" , \"寫程式\" ]\n",
    "}\n",
    "print(data2)\n",
    "\n",
    "# b)\n",
    "print( \"嗨嗨 , 我是 {name} , 階級為 {class_type}\".format(name= data2[\"name\"] , class_type=data2[\"class\"]) )\n",
    "\n",
    "# c)\n",
    "data2[\"height\"] = 180\n",
    "print(\"修改 {name} 的身高為 {new_height}\".format(name=data2[\"name\"] , new_height = data2[\"height\"]) )\n",
    "\n",
    "# d)\n",
    "print(data2[\"interest\"])\n",
    "data2[\"interest\"].append(\"彈吉他\")\n",
    "print(data2[\"interest\"])"
   ]
  },
  {
   "cell_type": "code",
   "execution_count": 51,
   "id": "273c6374",
   "metadata": {},
   "outputs": [
    {
     "name": "stdout",
     "output_type": "stream",
     "text": [
      "No : 1 , Name : Jeff , Math : 100 , Eng : 87\n",
      "--------------------------------------------------------------------------------\n",
      "No : 2 , Name : Leo , Math : 67 , Eng : 99\n",
      "--------------------------------------------------------------------------------\n",
      "No : 3 , Name : Keven , Math : 72 , Eng : 92\n"
     ]
    }
   ],
   "source": [
    "# data1 = [85,97,100]\n",
    "# data2 = { \"Jeff\" : 85 , \"Leo\" :97 , \"Keven\": 100 }\n",
    "\n",
    "### dict in list\n",
    "data3 = [\n",
    "    { \"name\" : \"Jeff\"   , \"no\" : 1 , \"math\": 100 , \"eng\": 87 },\n",
    "    { \"name\" : \"Leo\"    , \"no\" : 2 , \"math\": 67  , \"eng\": 99 },\n",
    "    { \"name\" : \"Keven\"  , \"no\" : 3 , \"math\": 72  , \"eng\": 92 },\n",
    "    { \"name\" : \"Jenny\"  , \"no\" : 4 , \"math\": 89  , \"eng\": 33 },\n",
    "    { \"name\" : \"Holy\"   , \"no\" : 5 , \"math\": 97  , \"eng\": 61 },\n",
    "]\n",
    "\n",
    "# data3 為 一個 list \n",
    "# data3[0] -> { \"name\" : \"Jeff\"   , \"no\" : 1 , \"math\": 100 , \"eng\": 87 } , 為一個 dict\n",
    "# data3[0][\"no\"] -> 1 \n",
    "no1 = data3[0][\"no\"] \n",
    "name1 = data3[0][\"name\"]\n",
    "math1 = data3[0][\"math\"]\n",
    "eng1  = data3[0][\"eng\"]\n",
    "\n",
    "## 新手常犯的錯\n",
    "# eng1 = data3(0)[\"eng\"] -> X\n",
    "# eng1  = data3[0][eng]  -> X\n",
    "# eng1 = data3[\"eng\"][0] -> X\n",
    "\n",
    "print(\"No : {} , Name : {} , Math : {} , Eng : {}\".format(no1,name1,math1,eng1))\n",
    "\n",
    "print(\"-\"*80)\n",
    "\n",
    "no2 = data3[1][\"no\"] \n",
    "name2 = data3[1][\"name\"]\n",
    "math2 = data3[1][\"math\"]\n",
    "eng2  = data3[1][\"eng\"]\n",
    "\n",
    "\n",
    "print(\"No : {} , Name : {} , Math : {} , Eng : {}\".format(no2,name2,math2,eng2))\n",
    "\n",
    "print(\"-\"*80)\n",
    "\n",
    "no3 = data3[2][\"no\"] \n",
    "name3 = data3[2][\"name\"]\n",
    "math3 = data3[2][\"math\"]\n",
    "eng3  = data3[2][\"eng\"]\n",
    "\n",
    "\n",
    "print(\"No : {} , Name : {} , Math : {} , Eng : {}\".format(no3,name3,math3,eng3))"
   ]
  },
  {
   "cell_type": "code",
   "execution_count": 53,
   "id": "c800dd22",
   "metadata": {},
   "outputs": [
    {
     "name": "stdout",
     "output_type": "stream",
     "text": [
      "Start !!!\n",
      "No : 1 , Name : Jeff , Math : 100 , Eng : 87\n",
      "No : 2 , Name : Leo , Math : 67 , Eng : 99\n",
      "No : 3 , Name : Keven , Math : 72 , Eng : 92\n",
      "No : 4 , Name : Jenny , Math : 89 , Eng : 33\n",
      "No : 5 , Name : Holy , Math : 97 , Eng : 61\n",
      "Done !!!\n"
     ]
    }
   ],
   "source": [
    "### 迴圈 (Loop)\n",
    "data3 = [\n",
    "    { \"name\" : \"Jeff\"   , \"no\" : 1 , \"math\": 100 , \"eng\": 87 },\n",
    "    { \"name\" : \"Leo\"    , \"no\" : 2 , \"math\": 67  , \"eng\": 99 },\n",
    "    { \"name\" : \"Keven\"  , \"no\" : 3 , \"math\": 72  , \"eng\": 92 },\n",
    "    { \"name\" : \"Jenny\"  , \"no\" : 4 , \"math\": 89  , \"eng\": 33 },\n",
    "    { \"name\" : \"Holy\"   , \"no\" : 5 , \"math\": 97  , \"eng\": 61 },\n",
    "]\n",
    "\n",
    "print(\"Start !!!\")\n",
    "\n",
    "for element in data3:\n",
    "    no = element[\"no\"]\n",
    "    name = element[\"name\"]\n",
    "    math = element[\"math\"]\n",
    "    eng  = element[\"eng\"]\n",
    "    \n",
    "    print(\"No : {} , Name : {} , Math : {} , Eng : {}\".format(no,name,math,eng))\n",
    "    \n",
    "    \n",
    "print(\"Done !!!\")"
   ]
  },
  {
   "cell_type": "code",
   "execution_count": 55,
   "id": "7b0de348",
   "metadata": {},
   "outputs": [
    {
     "name": "stdout",
     "output_type": "stream",
     "text": [
      "1\n",
      "Number : 1\n",
      "2\n",
      "Number : 4\n",
      "3\n",
      "Number : 9\n",
      "4\n",
      "Number : 16\n",
      "5\n",
      "Number : 25\n",
      "6\n",
      "Number : 36\n",
      "7\n",
      "Number : 49\n",
      "8\n",
      "Number : 64\n",
      "9\n",
      "Number : 81\n"
     ]
    }
   ],
   "source": [
    "# range(1,10) -> 產生 1 ~ 9 的數字 , 為 [1,2,3,4,5,6,7,8,9]\n",
    "for i in range(1,10):\n",
    "    print(i)\n",
    "    a = i*i\n",
    "    print(\"Number : {}\".format(a))\n",
    "    \n",
    "    # i=1:\n",
    "    # print(1)\n",
    "    # a = 1*1 -> 1\n",
    "    # print(\"Number : {}\".format(1))\n",
    "    \n",
    "    # i=2:\n",
    "    # print(2)\n",
    "    # a = 2*2 -> 4\n",
    "    # print(\"Number : {}\".format(4))\n",
    "    \n",
    "    # ...\n",
    "    \n",
    "    # i=9:\n",
    "    # print(9)\n",
    "    # a = 9*9 -> 81\n",
    "    # print(\"Number : {}\".format(81))"
   ]
  },
  {
   "cell_type": "code",
   "execution_count": 59,
   "id": "9a10541e",
   "metadata": {
    "scrolled": true
   },
   "outputs": [
    {
     "name": "stdout",
     "output_type": "stream",
     "text": [
      "Start!!!\n",
      "1\n",
      "Number : 1\n",
      "2\n",
      "Number : 4\n",
      "3\n",
      "Number : 9\n",
      "4\n",
      "Number : 16\n",
      "5\n",
      "Number : 25\n",
      "6\n",
      "Number : 36\n",
      "7\n",
      "Number : 49\n",
      "8\n",
      "Number : 64\n",
      "9\n",
      "Number : 81\n",
      "Done!!!\n"
     ]
    }
   ],
   "source": [
    "print(\"Start!!!\")\n",
    "for i in range(1,10):\n",
    "    print(i)\n",
    "    a = i*i\n",
    "    print(\"Number : {}\".format(a))\n",
    "print(\"Done!!!\")\n",
    "\n",
    "# if a>0:\n",
    "#     print(\"a 是正數\")"
   ]
  },
  {
   "cell_type": "code",
   "execution_count": 65,
   "id": "73909e0b",
   "metadata": {},
   "outputs": [
    {
     "name": "stdout",
     "output_type": "stream",
     "text": [
      "嗨嗨嗨～～～\n",
      "嗨嗨嗨～～～\n",
      "嗨嗨嗨～～～\n",
      "嗨嗨嗨～～～\n",
      "--------------------------------------------------------------------------------\n",
      "您好 , 我是 Jeff\n",
      "您好 , 我是 Leo\n",
      "您好 , 我是 Keven\n",
      "您好 , 我是 Tommy\n",
      "--------------------------------------------------------------------------------\n",
      "name\n",
      "Jeff\n",
      "age\n",
      "18\n",
      "message\n",
      "您好～～～\n"
     ]
    }
   ],
   "source": [
    "### range\n",
    "for i in range(3,7):\n",
    "    print(\"嗨嗨嗨～～～\")\n",
    "\n",
    "# 類似於\n",
    "# for i in [3,4,5,6]:\n",
    "#     print(\"嗨嗨嗨～～～\")\n",
    "    \n",
    "print(\"-\"*80)\n",
    "\n",
    "### list\n",
    "for name in [b,\"Leo\",\"Keven\",\"Tommy\"]:\n",
    "    print(\"您好 , 我是 {}\".format(name))\n",
    "\n",
    "# 迭代 : (一個接一個 , 依序操作)\n",
    "   # \"Jeff\" 放入 name 變數裡 -> \"Leo\" 放入 name 變數裡  \n",
    "   # -> \"Keven\" 放入 name 變數裡 -> \"Tommy\" 放入 name 變數裡\n",
    "\n",
    "print(\"-\"*80)\n",
    "\n",
    "\n",
    "### dict\n",
    "dict5 = {\"name\" : \"Jeff\" , \"age\" : 18 , \"message\" : \"您好～～～\"}\n",
    "\n",
    "for key in dict5:\n",
    "    print(key)\n",
    "    print(dict5[key])"
   ]
  },
  {
   "cell_type": "code",
   "execution_count": 69,
   "id": "660d1137",
   "metadata": {},
   "outputs": [
    {
     "name": "stdout",
     "output_type": "stream",
     "text": [
      "嗨\n",
      "嗨\n",
      ",\n",
      " \n",
      "今\n",
      "天\n",
      "好\n",
      "累\n",
      "～\n",
      "--------------------------------------------------------------------------------\n",
      "Jeff 18\n",
      "Leo 22\n",
      "Keven 30\n"
     ]
    }
   ],
   "source": [
    "### str\n",
    "message5 = \"嗨嗨, 今天好累～\"\n",
    "\n",
    "for w in message5:\n",
    "    print(w)\n",
    "    \n",
    "print(\"-\"*80)\n",
    "\n",
    "### dict in list:\n",
    "data6 = [\n",
    "    { \"name\" : \"Jeff\" , \"age\" : 18 },\n",
    "    { \"name\" : \"Leo\"  , \"age\" : 22 },\n",
    "    { \"name\" : \"Keven\" , \"age\" : 30 },\n",
    "]\n",
    "\n",
    "for element in data6:\n",
    "    print(element[\"name\"] , element[\"age\"])"
   ]
  },
  {
   "cell_type": "code",
   "execution_count": 76,
   "id": "7320d400",
   "metadata": {
    "scrolled": true
   },
   "outputs": [
    {
     "name": "stdout",
     "output_type": "stream",
     "text": [
      "i = 1 目前總和 : 1\n",
      "i = 2 目前總和 : 3\n",
      "i = 3 目前總和 : 6\n",
      "i = 4 目前總和 : 10\n",
      "i = 5 目前總和 : 15\n",
      "i = 6 目前總和 : 21\n",
      "i = 7 目前總和 : 28\n",
      "i = 8 目前總和 : 36\n",
      "i = 9 目前總和 : 45\n",
      "i = 10 目前總和 : 55\n",
      "i = 11 目前總和 : 66\n",
      "i = 12 目前總和 : 78\n",
      "i = 13 目前總和 : 91\n",
      "i = 14 目前總和 : 105\n",
      "i = 15 目前總和 : 120\n",
      "i = 16 目前總和 : 136\n",
      "i = 17 目前總和 : 153\n",
      "i = 18 目前總和 : 171\n",
      "i = 19 目前總和 : 190\n",
      "i = 20 目前總和 : 210\n",
      "i = 21 目前總和 : 231\n",
      "i = 22 目前總和 : 253\n",
      "i = 23 目前總和 : 276\n",
      "i = 24 目前總和 : 300\n",
      "i = 25 目前總和 : 325\n",
      "i = 26 目前總和 : 351\n",
      "i = 27 目前總和 : 378\n",
      "i = 28 目前總和 : 406\n",
      "i = 29 目前總和 : 435\n",
      "i = 30 目前總和 : 465\n",
      "i = 31 目前總和 : 496\n",
      "i = 32 目前總和 : 528\n",
      "i = 33 目前總和 : 561\n",
      "i = 34 目前總和 : 595\n",
      "i = 35 目前總和 : 630\n",
      "i = 36 目前總和 : 666\n",
      "i = 37 目前總和 : 703\n",
      "i = 38 目前總和 : 741\n",
      "i = 39 目前總和 : 780\n",
      "i = 40 目前總和 : 820\n",
      "i = 41 目前總和 : 861\n",
      "i = 42 目前總和 : 903\n",
      "i = 43 目前總和 : 946\n",
      "i = 44 目前總和 : 990\n",
      "i = 45 目前總和 : 1035\n",
      "i = 46 目前總和 : 1081\n",
      "i = 47 目前總和 : 1128\n",
      "i = 48 目前總和 : 1176\n",
      "i = 49 目前總和 : 1225\n",
      "i = 50 目前總和 : 1275\n",
      "i = 51 目前總和 : 1326\n",
      "i = 52 目前總和 : 1378\n",
      "i = 53 目前總和 : 1431\n",
      "i = 54 目前總和 : 1485\n",
      "i = 55 目前總和 : 1540\n",
      "i = 56 目前總和 : 1596\n",
      "i = 57 目前總和 : 1653\n",
      "i = 58 目前總和 : 1711\n",
      "i = 59 目前總和 : 1770\n",
      "i = 60 目前總和 : 1830\n",
      "i = 61 目前總和 : 1891\n",
      "i = 62 目前總和 : 1953\n",
      "i = 63 目前總和 : 2016\n",
      "i = 64 目前總和 : 2080\n",
      "i = 65 目前總和 : 2145\n",
      "i = 66 目前總和 : 2211\n",
      "i = 67 目前總和 : 2278\n",
      "i = 68 目前總和 : 2346\n",
      "i = 69 目前總和 : 2415\n",
      "i = 70 目前總和 : 2485\n",
      "i = 71 目前總和 : 2556\n",
      "i = 72 目前總和 : 2628\n",
      "i = 73 目前總和 : 2701\n",
      "i = 74 目前總和 : 2775\n",
      "i = 75 目前總和 : 2850\n",
      "i = 76 目前總和 : 2926\n",
      "i = 77 目前總和 : 3003\n",
      "i = 78 目前總和 : 3081\n",
      "i = 79 目前總和 : 3160\n",
      "i = 80 目前總和 : 3240\n",
      "i = 81 目前總和 : 3321\n",
      "i = 82 目前總和 : 3403\n",
      "i = 83 目前總和 : 3486\n",
      "i = 84 目前總和 : 3570\n",
      "i = 85 目前總和 : 3655\n",
      "i = 86 目前總和 : 3741\n",
      "i = 87 目前總和 : 3828\n",
      "i = 88 目前總和 : 3916\n",
      "i = 89 目前總和 : 4005\n",
      "i = 90 目前總和 : 4095\n",
      "i = 91 目前總和 : 4186\n",
      "i = 92 目前總和 : 4278\n",
      "i = 93 目前總和 : 4371\n",
      "i = 94 目前總和 : 4465\n",
      "i = 95 目前總和 : 4560\n",
      "i = 96 目前總和 : 4656\n",
      "i = 97 目前總和 : 4753\n",
      "i = 98 目前總和 : 4851\n",
      "i = 99 目前總和 : 4950\n",
      "i = 100 目前總和 : 5050\n"
     ]
    }
   ],
   "source": [
    "### 小試身手 3-1 \n",
    "# 1) 1+2+3+...+100 總和\n",
    "# 產生 [1,2,3, ... , 10] -> 使用 range function\n",
    "total = 0\n",
    "for i in range(1,101):\n",
    "    total = total + i\n",
    "    print(\"i =\",i,\"目前總和 :\" , total)\n"
   ]
  },
  {
   "cell_type": "code",
   "execution_count": 89,
   "id": "aa1c4f0b",
   "metadata": {},
   "outputs": [
    {
     "name": "stdout",
     "output_type": "stream",
     "text": [
      "1 ******\n",
      "2 *****\n",
      "3 ****\n",
      "4 ***\n",
      "5 **\n",
      "6 *\n",
      "------------------------------------------------------------\n"
     ]
    }
   ],
   "source": [
    "# 2) 產生圖形\n",
    "### ******\n",
    "### *****\n",
    "### ****\n",
    "### ***\n",
    "### **\n",
    "### *\n",
    "for i in range(1,7):\n",
    "    print(i,\"*\"*(7-i))\n",
    "    # print(i)\n",
    "\n",
    "print(\"-\"*60)\n",
    "    \n",
    "# 使用 range(start,end,step)\n",
    "# start -> 起點\n",
    "# end   -> 終點\n",
    "# step  -> 步伐\n",
    "# for i in range(6,0,-1):\n",
    "#     print(i,\"*\"*i)"
   ]
  }
 ],
 "metadata": {
  "kernelspec": {
   "display_name": "Python 3 (ipykernel)",
   "language": "python",
   "name": "python3"
  },
  "language_info": {
   "codemirror_mode": {
    "name": "ipython",
    "version": 3
   },
   "file_extension": ".py",
   "mimetype": "text/x-python",
   "name": "python",
   "nbconvert_exporter": "python",
   "pygments_lexer": "ipython3",
   "version": "3.9.5"
  }
 },
 "nbformat": 4,
 "nbformat_minor": 5
}
