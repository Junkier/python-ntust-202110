{
 "cells": [
  {
   "cell_type": "code",
   "execution_count": 3,
   "id": "8fb9f90d",
   "metadata": {},
   "outputs": [
    {
     "name": "stdout",
     "output_type": "stream",
     "text": [
      "請輸入長度 :12.14\n",
      "請輸入寬度 :33.5\n",
      "面積 : 406.69\n",
      "周長 : 91.28\n"
     ]
    }
   ],
   "source": [
    "# 1.  試寫一程式 , 提示使用者輸入長&寬 ,   \n",
    "#     計算此矩形的面積及周長\n",
    "width  = float(input(\"請輸入長度 :\"))\n",
    "height = float(input(\"請輸入寬度 :\"))\n",
    "\n",
    "print(\"面積 :\" , width * height)\n",
    "print(\"周長 :\" , (width + height) *2)"
   ]
  },
  {
   "cell_type": "code",
   "execution_count": 7,
   "id": "ba6ea3d2",
   "metadata": {},
   "outputs": [
    {
     "name": "stdout",
     "output_type": "stream",
     "text": [
      "this is a lion.\n",
      "**** !! a book.\n",
      "this is an apple.\n",
      "this is an anpple.\n"
     ]
    }
   ],
   "source": [
    "# 2.  試寫一程式 ,  將此字串取代成不同的新字串 \n",
    "#       1)  “this is a book.”  -->  “this is a lion.”\n",
    "#       2)  “this is a book.”  -->  “**** !! a book.”\n",
    "#       3)  “this is a book.”   -->  “this is an apple.”\n",
    "\n",
    "message = \"this is a book.\"\n",
    "print( message.replace(\"book\",\"lion\") )\n",
    "print( message.replace(\"this\",\"****\").replace(\"is\",\"!!\") )\n",
    "print( message.replace(\"a\",\"an\").replace(\"book\",\"apple\") )\n",
    "print( message.replace(\"book\",\"apple\").replace(\"a\",\"an\") )"
   ]
  },
  {
   "cell_type": "code",
   "execution_count": 11,
   "id": "b0683dcc",
   "metadata": {},
   "outputs": [
    {
     "name": "stdout",
     "output_type": "stream",
     "text": [
      "Steve is good , Leo is young , and Dave is single...\n",
      "Steve is good , Dave is young , and Leo is single...\n"
     ]
    }
   ],
   "source": [
    "# 3.  令 a=“Jeff” , b=“Leo” , c=“Jonny” , 並打印出\n",
    "#       “Jeff is good , Leo is young , and Jonny is single…”\n",
    "#       當 a 換成 “Steve” , c = “Dave” 時, 需打印出\n",
    "#       “Steve is good , Leo is young , and Dave is single…”\n",
    "\n",
    "# a = \"Jeff\"\n",
    "a = \"Steve\"\n",
    "b = \"Leo\"\n",
    "# c = \"Jonny\"\n",
    "c = \"Dave\"\n",
    "message2 = \"{} is good , {} is young , and {} is single...\"\n",
    "\n",
    "print( message2.format(a,b,c) )\n",
    "\n",
    "\n",
    "message3 = \"{name1} is good , {name2} is young , and {name3} is single...\"\n",
    "\n",
    "print( message3.format(name1 = a,name2 = c, name3 = b) )"
   ]
  },
  {
   "cell_type": "code",
   "execution_count": 14,
   "id": "bcce36be",
   "metadata": {},
   "outputs": [
    {
     "name": "stdout",
     "output_type": "stream",
     "text": [
      "請輸入數字:12\n",
      "young\n"
     ]
    }
   ],
   "source": [
    "# 4. 試寫一程式 , 請使用者輸入一數字 , 並按規則顯示下列訊息 :\n",
    "#        0 <= n < 30  :  young\n",
    "#        30<= n < 60 :  strong \n",
    "#        n >= 60        :  old\n",
    "#        n < 0            :  ‘n’ must be larger than 0 \n",
    "\n",
    "n = int(input(\"請輸入數字:\"))\n",
    "\n",
    "if 0 <= n < 30:\n",
    "    print(\"young\")\n",
    "elif 30 <= n < 60 :\n",
    "    print(\"strong\")\n",
    "elif n >=60:\n",
    "    print(\"old\")\n",
    "else:\n",
    "    print(\"'n' must be larger than 0\")\n"
   ]
  },
  {
   "cell_type": "code",
   "execution_count": null,
   "id": "2e70b154",
   "metadata": {},
   "outputs": [],
   "source": [
    "# int / float / bool\n",
    "# str & 常見用法\n",
    "# print / input / type\n",
    "# if-else\n",
    "# 運算子\n",
    "# list / dict"
   ]
  },
  {
   "cell_type": "code",
   "execution_count": 16,
   "id": "1356d518",
   "metadata": {},
   "outputs": [
    {
     "name": "stdout",
     "output_type": "stream",
     "text": [
      "Sum1 : 500\n",
      "Avg1 : 83.33333333333333\n"
     ]
    }
   ],
   "source": [
    "data1 = [87,99,100,75,60,79]\n",
    "\n",
    "print(\"Sum1 :\" , sum(data1) )\n",
    "print(\"Avg1 :\" , sum(data1)/ len(data1))"
   ]
  },
  {
   "cell_type": "code",
   "execution_count": 22,
   "id": "1201522c",
   "metadata": {},
   "outputs": [
    {
     "name": "stdout",
     "output_type": "stream",
     "text": [
      "Sum2 : 500\n",
      "Avg2 : 83.33333333333333\n",
      "dict_values([87, 99, 100, 75, 60, 79])\n",
      "[87, 99, 100, 75, 60, 79]\n",
      "<class 'dict_values'>\n"
     ]
    }
   ],
   "source": [
    "data2 = {\n",
    "    \"Jeff\"  : 87,\n",
    "    \"Leo\"   : 99,\n",
    "    \"Keven\" : 100,\n",
    "    \"Holy\"  : 75,\n",
    "    \"Elli\"  : 60,\n",
    "    \"Jenny\" : 79,\n",
    "}\n",
    "\n",
    "print(\"Sum2 :\" , sum(data2.values()))\n",
    "print(\"Avg2 :\" , sum(data2.values()) / len(data2))\n",
    "print(data2.values())\n",
    "print(list(data2.values()))\n",
    "print(type(data2.values()))"
   ]
  },
  {
   "cell_type": "code",
   "execution_count": 29,
   "id": "3e3c6d5e",
   "metadata": {},
   "outputs": [
    {
     "name": "stdout",
     "output_type": "stream",
     "text": [
      "False\n",
      "True\n",
      "--------------------------------------------------------------------------------\n",
      "True\n",
      "False\n",
      "False\n",
      "--------------------------------------------------------------------------------\n",
      "True\n",
      "False\n",
      "True\n"
     ]
    }
   ],
   "source": [
    "### in\n",
    "# list\n",
    "students = [\"Jeff\",\"Alex\",\"Gina\"]\n",
    "print( \"Leo\" in students)\n",
    "print( \"Jeff\" in students)\n",
    "\n",
    "print(\"-\"*80)\n",
    "\n",
    "# dict\n",
    "students2 = {\n",
    "    \"Jeff\"  : 87,\n",
    "    \"Leo\"   : 99,\n",
    "    \"Keven\" : 100,\n",
    "}\n",
    "print(\"Leo\" in students2)\n",
    "print(\"David\" in students2)\n",
    "print(100 in students2)\n",
    "\n",
    "print(\"-\"*80)\n",
    "\n",
    "# str\n",
    "message3 = \"This is a book.\"\n",
    "print(\"is\" in message3)\n",
    "print(\"abc\" in message3)\n",
    "print(\"oo\" in message3)"
   ]
  },
  {
   "cell_type": "code",
   "execution_count": 35,
   "id": "4d7d636b",
   "metadata": {},
   "outputs": [
    {
     "name": "stdout",
     "output_type": "stream",
     "text": [
      "嗨嗨 , 我是 Keven , 成績為 68\n",
      "該梯次平均為 88.6\n",
      "修改 4 號同學 成績為 72\n",
      "該梯次 新平均為 86.0\n"
     ]
    }
   ],
   "source": [
    "### 小試身手 2-1\n",
    "# a)\n",
    "names = [\"Jeff\", \"Leo\" , \"Keven\", \"Lisa\" , \"Matty\"]\n",
    "\n",
    "# b)\n",
    "scores = [97,93,68,85,100]\n",
    "\n",
    "# c)\n",
    "print(\"嗨嗨 , 我是 {} , 成績為 {}\".format(names[2] , scores[2]) )\n",
    "\n",
    "# d)\n",
    "# print(\"該梯次平均為 {}\".format( sum(scores) / len(scores) ))\n",
    "\n",
    "avg = sum(scores) / len(scores)\n",
    "print(\"該梯次平均為 {}\".format(avg))\n",
    "\n",
    "# e)\n",
    "scores[3] = 72\n",
    "print(\"修改 {} 號同學 成績為 {}\".format(4,scores[3]) )\n",
    "\n",
    "# f)\n",
    "print(\"該梯次 新平均為 {}\".format( sum(scores) / len(scores) ))"
   ]
  },
  {
   "cell_type": "code",
   "execution_count": 43,
   "id": "ccc97fd9",
   "metadata": {},
   "outputs": [
    {
     "name": "stdout",
     "output_type": "stream",
     "text": [
      "{'name': 'Jeff', 'height': 170, 'weight': 65, 'age': 26, 'class': 'A-', 'interest': ['喝酒', '爬山', '寫程式']}\n",
      "嗨嗨 , 我是 Jeff , 階級為 A-\n",
      "修改 Jeff 的身高為 180\n",
      "['喝酒', '爬山', '寫程式']\n",
      "['喝酒', '爬山', '寫程式', '彈吉他']\n"
     ]
    }
   ],
   "source": [
    "### 小試身手 2-2\n",
    "## 強烈建議 key 不要中文！！！\n",
    "# data2 = {\n",
    "#     \"姓名\" : \"傑夫\",\n",
    "#     \"年紀\" : 18\n",
    "# }\n",
    "# print(data2)\n",
    "# print(data2[\"姓名\"])\n",
    "\n",
    "# a)\n",
    "data2 = {\n",
    "    \"name\"   : \"Jeff\",\n",
    "    \"height\" : 170,\n",
    "    \"weight\" : 65,\n",
    "    \"age\"    : 26,\n",
    "    \"class\"  : \"A-\",\n",
    "    \"interest\" : [\"喝酒\" , \"爬山\" , \"寫程式\" ]\n",
    "}\n",
    "print(data2)\n",
    "\n",
    "# b)\n",
    "print( \"嗨嗨 , 我是 {name} , 階級為 {class_type}\".format(name= data2[\"name\"] , class_type=data2[\"class\"]) )\n",
    "\n",
    "# c)\n",
    "data2[\"height\"] = 180\n",
    "print(\"修改 {name} 的身高為 {new_height}\".format(name=data2[\"name\"] , new_height = data2[\"height\"]) )\n",
    "\n",
    "# d)\n",
    "print(data2[\"interest\"])\n",
    "data2[\"interest\"].append(\"彈吉他\")\n",
    "print(data2[\"interest\"])"
   ]
  },
  {
   "cell_type": "code",
   "execution_count": 51,
   "id": "f6ae976e",
   "metadata": {},
   "outputs": [
    {
     "name": "stdout",
     "output_type": "stream",
     "text": [
      "No : 1 , Name : Jeff , Math : 100 , Eng : 87\n",
      "--------------------------------------------------------------------------------\n",
      "No : 2 , Name : Leo , Math : 67 , Eng : 99\n",
      "--------------------------------------------------------------------------------\n",
      "No : 3 , Name : Keven , Math : 72 , Eng : 92\n"
     ]
    }
   ],
   "source": [
    "# data1 = [85,97,100]\n",
    "# data2 = { \"Jeff\" : 85 , \"Leo\" :97 , \"Keven\": 100 }\n",
    "\n",
    "### dict in list\n",
    "data3 = [\n",
    "    { \"name\" : \"Jeff\"   , \"no\" : 1 , \"math\": 100 , \"eng\": 87 },\n",
    "    { \"name\" : \"Leo\"    , \"no\" : 2 , \"math\": 67  , \"eng\": 99 },\n",
    "    { \"name\" : \"Keven\"  , \"no\" : 3 , \"math\": 72  , \"eng\": 92 },\n",
    "    { \"name\" : \"Jenny\"  , \"no\" : 4 , \"math\": 89  , \"eng\": 33 },\n",
    "    { \"name\" : \"Holy\"   , \"no\" : 5 , \"math\": 97  , \"eng\": 61 },\n",
    "]\n",
    "\n",
    "\n",
    "# data3[0] -> { \"name\" : \"Jeff\"   , \"no\" : 1 , \"math\": 100 , \"eng\": 87 }\n",
    "no1 = data3[0][\"no\"] \n",
    "name1 = data3[0][\"name\"]\n",
    "math1 = data3[0][\"math\"]\n",
    "eng1  = data3[0][\"eng\"]\n",
    "\n",
    "## 新手常犯的錯\n",
    "# eng1 = data3(0)[\"eng\"] -> X\n",
    "# eng1  = data3[0][eng]  -> X\n",
    "# eng1 = data3[\"eng\"][0] -> X\n",
    "\n",
    "print(\"No : {} , Name : {} , Math : {} , Eng : {}\".format(no1,name1,math1,eng1))\n",
    "\n",
    "print(\"-\"*80)\n",
    "\n",
    "no2 = data3[1][\"no\"] \n",
    "name2 = data3[1][\"name\"]\n",
    "math2 = data3[1][\"math\"]\n",
    "eng2  = data3[1][\"eng\"]\n",
    "\n",
    "\n",
    "print(\"No : {} , Name : {} , Math : {} , Eng : {}\".format(no2,name2,math2,eng2))\n",
    "\n",
    "print(\"-\"*80)\n",
    "\n",
    "no3 = data3[2][\"no\"] \n",
    "name3 = data3[2][\"name\"]\n",
    "math3 = data3[2][\"math\"]\n",
    "eng3  = data3[2][\"eng\"]\n",
    "\n",
    "\n",
    "print(\"No : {} , Name : {} , Math : {} , Eng : {}\".format(no3,name3,math3,eng3))"
   ]
  },
  {
   "cell_type": "code",
   "execution_count": 52,
   "id": "1b9b15b6",
   "metadata": {},
   "outputs": [
    {
     "name": "stdout",
     "output_type": "stream",
     "text": [
      "No : 1 , Name : Jeff , Math : 100 , Eng : 87\n",
      "No : 2 , Name : Leo , Math : 67 , Eng : 99\n",
      "No : 3 , Name : Keven , Math : 72 , Eng : 92\n",
      "No : 4 , Name : Jenny , Math : 89 , Eng : 33\n",
      "No : 5 , Name : Holy , Math : 97 , Eng : 61\n"
     ]
    }
   ],
   "source": [
    "### 迴圈 (Loop)\n",
    "data3 = [\n",
    "    { \"name\" : \"Jeff\"   , \"no\" : 1 , \"math\": 100 , \"eng\": 87 },\n",
    "    { \"name\" : \"Leo\"    , \"no\" : 2 , \"math\": 67  , \"eng\": 99 },\n",
    "    { \"name\" : \"Keven\"  , \"no\" : 3 , \"math\": 72  , \"eng\": 92 },\n",
    "    { \"name\" : \"Jenny\"  , \"no\" : 4 , \"math\": 89  , \"eng\": 33 },\n",
    "    { \"name\" : \"Holy\"   , \"no\" : 5 , \"math\": 97  , \"eng\": 61 },\n",
    "]\n",
    "\n",
    "for element in data3:\n",
    "    no = element[\"no\"]\n",
    "    name = element[\"name\"]\n",
    "    math = element[\"math\"]\n",
    "    eng  = element[\"eng\"]\n",
    "    \n",
    "    print(\"No : {} , Name : {} , Math : {} , Eng : {}\".format(no,name,math,eng))"
   ]
  }
 ],
 "metadata": {
  "kernelspec": {
   "display_name": "Python 3",
   "language": "python",
   "name": "python3"
  },
  "language_info": {
   "codemirror_mode": {
    "name": "ipython",
    "version": 3
   },
   "file_extension": ".py",
   "mimetype": "text/x-python",
   "name": "python",
   "nbconvert_exporter": "python",
   "pygments_lexer": "ipython3",
   "version": "3.8.8"
  }
 },
 "nbformat": 4,
 "nbformat_minor": 5
}
