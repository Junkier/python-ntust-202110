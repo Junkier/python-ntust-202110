{
 "cells": [
  {
   "cell_type": "code",
   "execution_count": 30,
   "id": "f75477fe",
   "metadata": {},
   "outputs": [
    {
     "name": "stdout",
     "output_type": "stream",
     "text": [
      "5050\n"
     ]
    }
   ],
   "source": [
    "# 1. 計算 1+2+3+…+100 之總和\n",
    "total = 0\n",
    "message = \"\"\n",
    "for i in range(1,101):\n",
    "    # print(i)\n",
    "    # total = total + i\n",
    "    total += i\n",
    "    \n",
    "    # message = message + \"+{}\".format(i)\n",
    "    # print(\"第 {} 次執行 : {}\".format(i , message))\n",
    "    \n",
    "print(total)"
   ]
  },
  {
   "cell_type": "code",
   "execution_count": 24,
   "id": "c0b0c8c1",
   "metadata": {},
   "outputs": [
    {
     "name": "stdout",
     "output_type": "stream",
     "text": [
      "--------------------\n",
      "JJJJJ\n",
      "aaaa\n",
      "ccc\n",
      "kk\n",
      "!\n"
     ]
    }
   ],
   "source": [
    "# 3.  有一變數 name=“Jack!” , 試撰寫一程式 , 列印出下列訊息\n",
    "#         JJJJJ\n",
    "#         aaaa\n",
    "#         ccc\n",
    "#         kk\n",
    "#         !\n",
    "print(\"-\"*20)\n",
    "\n",
    "name = \"Jack!\"\n",
    "cnt = 5\n",
    "for w in name:\n",
    "    # 控制 cnt , 數量 -1\n",
    "    # cnt = cnt -1\n",
    "    \n",
    "    print(w*cnt)\n",
    "    \n",
    "    # 控制 cnt , 數量 -1\n",
    "    # cnt = cnt -1\n",
    "    \n",
    "    cnt -= 1\n"
   ]
  },
  {
   "cell_type": "code",
   "execution_count": 33,
   "id": "abb57f78",
   "metadata": {},
   "outputs": [
    {
     "name": "stdout",
     "output_type": "stream",
     "text": [
      "7\n",
      "嗨嗨 , 我是 Leo ~~\n"
     ]
    }
   ],
   "source": [
    "### 簡化寫法 += , -=\n",
    "a = 12\n",
    "# a = a +8\n",
    "\n",
    "# 疊加\n",
    "# a += 8\n",
    "\n",
    "a -= 5\n",
    "print(a)\n",
    "\n",
    "msg = \"嗨嗨 , \"\n",
    "\n",
    "#msg = msg + \"我是 Jeff ~~\"\n",
    "msg += \"我是 Leo ~~\"\n",
    "\n",
    "print(msg)"
   ]
  },
  {
   "cell_type": "code",
   "execution_count": 133,
   "id": "1595e4b4",
   "metadata": {},
   "outputs": [
    {
     "name": "stdout",
     "output_type": "stream",
     "text": [
      "0.9875391953640874\n",
      "10\n",
      "[10, 44, 14, 36, 45, 34]\n"
     ]
    }
   ],
   "source": [
    "# 大樂透 01~49 可重複地抽6號碼\n",
    "import random\n",
    "r = random.random()  # 產生 0~ 1 之間的隨機小數\n",
    "print(r)\n",
    "\n",
    "r2 = random.randint(1,49)  # 產生 a ~ b 之間 的隨機整數\n",
    "print(r2)\n",
    "\n",
    "data = []\n",
    "\n",
    "for i in range(10):\n",
    "    num = random.randint(1,49)\n",
    "    \n",
    "    if num not in data:\n",
    "        data.append(num)\n",
    "    \n",
    "    if len(data) == 6:\n",
    "        # 結束迴圈\n",
    "        break \n",
    "        \n",
    "#     if num not in data and len(data) <6 :\n",
    "#         data.append(num)\n",
    "     \n",
    "    # print(i)\n",
    "    \n",
    "print(data)"
   ]
  },
  {
   "cell_type": "code",
   "execution_count": 127,
   "id": "2379fd7c",
   "metadata": {
    "scrolled": true
   },
   "outputs": [
    {
     "name": "stdout",
     "output_type": "stream",
     "text": [
      "第 0 次執行\n",
      "第 1 次執行\n",
      "第 2 次執行\n",
      "第 3 次執行\n",
      "第 4 次執行\n",
      "第 5 次執行\n",
      "第 6 次執行\n",
      "第 7 次執行\n",
      "第 8 次執行\n",
      "第 9 次執行\n",
      "While-loop 結束！\n"
     ]
    }
   ],
   "source": [
    "### while-loop\n",
    "count = 0\n",
    "\n",
    "while count < 10:\n",
    "    print(\"第 {} 次執行\".format(count))\n",
    "    count += 1\n",
    "    \n",
    "print(\"While-loop 結束！\")"
   ]
  },
  {
   "cell_type": "code",
   "execution_count": 135,
   "id": "0e937461",
   "metadata": {},
   "outputs": [
    {
     "name": "stdout",
     "output_type": "stream",
     "text": [
      "55\n"
     ]
    }
   ],
   "source": [
    "# 1. 計算 1+2+3+…+100 之總和\n",
    "i = 1\n",
    "total2 = 0\n",
    "\n",
    "while i <=100:\n",
    "    total2 += i\n",
    "    i+=1\n",
    "    \n",
    "print(total2)"
   ]
  },
  {
   "cell_type": "code",
   "execution_count": 140,
   "id": "ad20f5cf",
   "metadata": {},
   "outputs": [
    {
     "name": "stdout",
     "output_type": "stream",
     "text": [
      "a\n",
      "c\n",
      "JJJJJ\n",
      "aaaa\n",
      "ccc\n",
      "kk\n",
      "!\n",
      "Done.\n"
     ]
    }
   ],
   "source": [
    "# 3.  有一變數 name=“Jack!” , 試撰寫一程式 , 列印出下列訊息\n",
    "#         JJJJJ\n",
    "#         aaaa\n",
    "#         ccc\n",
    "#         kk\n",
    "#         !\n",
    "i = 5\n",
    "name = \"Jack!\"\n",
    "print(name[1])\n",
    "print(name[2])\n",
    "\n",
    "while i >0 :\n",
    "    # i=5 --> 希望抓到 \"J\" , index=0\n",
    "    # i=4 --> 希望抓到 \"a\" , index=1\n",
    "    # i=3 --> 希望抓到 \"c\" , index=2\n",
    "    w = name[5-i]\n",
    "    print(w*i)\n",
    "    i -=1\n",
    "    \n",
    "print(\"Done.\")"
   ]
  },
  {
   "cell_type": "code",
   "execution_count": 171,
   "id": "3d4f0fa3",
   "metadata": {},
   "outputs": [
    {
     "name": "stdout",
     "output_type": "stream",
     "text": [
      "Done.\n",
      "總共執行 7 次\n",
      "[40, 18, 48, 35, 21, 38]\n"
     ]
    }
   ],
   "source": [
    "# 大樂透 01~49 不重複地抽 6 號碼\n",
    "import random\n",
    "\n",
    "cnt = 0\n",
    "data2 = []\n",
    "\n",
    "# while cnt<6:\n",
    "\n",
    "while len(data2)<6 :\n",
    "    cnt +=1\n",
    "    num2 = random.randint(1,49)\n",
    "    \n",
    "    if num2 not in data2:\n",
    "        data2.append(num2)\n",
    "        \n",
    "    # print(cnt)\n",
    "    \n",
    "print(\"Done.\")\n",
    "print(\"總共執行 {} 次\".format(cnt))\n",
    "print(data2)"
   ]
  }
 ],
 "metadata": {
  "kernelspec": {
   "display_name": "Python 3",
   "language": "python",
   "name": "python3"
  },
  "language_info": {
   "codemirror_mode": {
    "name": "ipython",
    "version": 3
   },
   "file_extension": ".py",
   "mimetype": "text/x-python",
   "name": "python",
   "nbconvert_exporter": "python",
   "pygments_lexer": "ipython3",
   "version": "3.8.8"
  }
 },
 "nbformat": 4,
 "nbformat_minor": 5
}
