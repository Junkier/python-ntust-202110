{
 "cells": [
  {
   "cell_type": "code",
   "execution_count": 30,
   "id": "93bcd45f",
   "metadata": {},
   "outputs": [
    {
     "name": "stdout",
     "output_type": "stream",
     "text": [
      "5050\n"
     ]
    }
   ],
   "source": [
    "# 1. 計算 1+2+3+…+100 之總和\n",
    "total = 0\n",
    "message = \"\"\n",
    "for i in range(1,101):\n",
    "    # print(i)\n",
    "    # total = total + i\n",
    "    total += i\n",
    "    \n",
    "    # message = message + \"+{}\".format(i)\n",
    "    # print(\"第 {} 次執行 : {}\".format(i , message))\n",
    "    \n",
    "print(total)"
   ]
  },
  {
   "cell_type": "code",
   "execution_count": 24,
   "id": "cc5ee133",
   "metadata": {},
   "outputs": [
    {
     "name": "stdout",
     "output_type": "stream",
     "text": [
      "--------------------\n",
      "JJJJJ\n",
      "aaaa\n",
      "ccc\n",
      "kk\n",
      "!\n"
     ]
    }
   ],
   "source": [
    "# 3.  有一變數 name=“Jack!” , 試撰寫一程式 , 列印出下列訊息\n",
    "#         JJJJJ\n",
    "#         aaaa\n",
    "#         ccc\n",
    "#         kk\n",
    "#         !\n",
    "print(\"-\"*20)\n",
    "\n",
    "name = \"Jack!\"\n",
    "cnt = 5\n",
    "for w in name:\n",
    "    # 控制 cnt , 數量 -1\n",
    "    # cnt = cnt -1\n",
    "    \n",
    "    print(w*cnt)\n",
    "    \n",
    "    # 控制 cnt , 數量 -1\n",
    "    # cnt = cnt -1\n",
    "    \n",
    "    cnt -= 1\n"
   ]
  },
  {
   "cell_type": "code",
   "execution_count": 33,
   "id": "9dc4ce49",
   "metadata": {},
   "outputs": [
    {
     "name": "stdout",
     "output_type": "stream",
     "text": [
      "7\n",
      "嗨嗨 , 我是 Leo ~~\n"
     ]
    }
   ],
   "source": [
    "### 簡化寫法 += , -=\n",
    "a = 12\n",
    "# a = a +8\n",
    "\n",
    "# 疊加\n",
    "# a += 8\n",
    "\n",
    "a -= 5\n",
    "print(a)\n",
    "\n",
    "msg = \"嗨嗨 , \"\n",
    "\n",
    "#msg = msg + \"我是 Jeff ~~\"\n",
    "msg += \"我是 Leo ~~\"\n",
    "\n",
    "print(msg)"
   ]
  },
  {
   "cell_type": "code",
   "execution_count": 133,
   "id": "b253630b",
   "metadata": {},
   "outputs": [
    {
     "name": "stdout",
     "output_type": "stream",
     "text": [
      "0.9875391953640874\n",
      "10\n",
      "[10, 44, 14, 36, 45, 34]\n"
     ]
    }
   ],
   "source": [
    "# 大樂透 01~49 可重複地抽6號碼\n",
    "import random\n",
    "r = random.random()  # 產生 0~ 1 之間的隨機小數\n",
    "print(r)\n",
    "\n",
    "r2 = random.randint(1,49)  # 產生 a ~ b 之間 的隨機整數\n",
    "print(r2)\n",
    "\n",
    "data = []\n",
    "\n",
    "for i in range(10):\n",
    "    num = random.randint(1,49)\n",
    "    \n",
    "    if num not in data:\n",
    "        data.append(num)\n",
    "    \n",
    "    if len(data) == 6:\n",
    "        # 結束迴圈\n",
    "        break \n",
    "        \n",
    "#     if num not in data and len(data) <6 :\n",
    "#         data.append(num)\n",
    "     \n",
    "    # print(i)\n",
    "    \n",
    "print(data)"
   ]
  },
  {
   "cell_type": "code",
   "execution_count": 127,
   "id": "71d03247",
   "metadata": {
    "scrolled": true
   },
   "outputs": [
    {
     "name": "stdout",
     "output_type": "stream",
     "text": [
      "第 0 次執行\n",
      "第 1 次執行\n",
      "第 2 次執行\n",
      "第 3 次執行\n",
      "第 4 次執行\n",
      "第 5 次執行\n",
      "第 6 次執行\n",
      "第 7 次執行\n",
      "第 8 次執行\n",
      "第 9 次執行\n",
      "While-loop 結束！\n"
     ]
    }
   ],
   "source": [
    "### while-loop\n",
    "count = 0\n",
    "\n",
    "while count < 10:\n",
    "    print(\"第 {} 次執行\".format(count))\n",
    "    count += 1\n",
    "    \n",
    "print(\"While-loop 結束！\")"
   ]
  },
  {
   "cell_type": "code",
   "execution_count": 135,
   "id": "e8c90b72",
   "metadata": {},
   "outputs": [
    {
     "name": "stdout",
     "output_type": "stream",
     "text": [
      "55\n"
     ]
    }
   ],
   "source": [
    "# 1. 計算 1+2+3+…+100 之總和\n",
    "i = 1\n",
    "total2 = 0\n",
    "\n",
    "while i <=100:\n",
    "    total2 += i\n",
    "    i+=1\n",
    "    \n",
    "print(total2)"
   ]
  },
  {
   "cell_type": "code",
   "execution_count": 140,
   "id": "937ca59f",
   "metadata": {},
   "outputs": [
    {
     "name": "stdout",
     "output_type": "stream",
     "text": [
      "a\n",
      "c\n",
      "JJJJJ\n",
      "aaaa\n",
      "ccc\n",
      "kk\n",
      "!\n",
      "Done.\n"
     ]
    }
   ],
   "source": [
    "# 3.  有一變數 name=“Jack!” , 試撰寫一程式 , 列印出下列訊息\n",
    "#         JJJJJ\n",
    "#         aaaa\n",
    "#         ccc\n",
    "#         kk\n",
    "#         !\n",
    "i = 5\n",
    "name = \"Jack!\"\n",
    "print(name[1])\n",
    "print(name[2])\n",
    "\n",
    "while i >0 :\n",
    "    # i=5 --> 希望抓到 \"J\" , index=0\n",
    "    # i=4 --> 希望抓到 \"a\" , index=1\n",
    "    # i=3 --> 希望抓到 \"c\" , index=2\n",
    "    w = name[5-i]\n",
    "    print(w*i)\n",
    "    i -=1\n",
    "    \n",
    "print(\"Done.\")"
   ]
  },
  {
   "cell_type": "code",
   "execution_count": 171,
   "id": "56037154",
   "metadata": {},
   "outputs": [
    {
     "name": "stdout",
     "output_type": "stream",
     "text": [
      "Done.\n",
      "總共執行 7 次\n",
      "[40, 18, 48, 35, 21, 38]\n"
     ]
    }
   ],
   "source": [
    "# 大樂透 01~49 不重複地抽 6 號碼\n",
    "import random\n",
    "\n",
    "cnt = 0\n",
    "data2 = []\n",
    "\n",
    "# while cnt<6:\n",
    "\n",
    "while len(data2)<6 :\n",
    "    cnt +=1\n",
    "    num2 = random.randint(1,49)\n",
    "    \n",
    "    if num2 not in data2:\n",
    "        data2.append(num2)\n",
    "        \n",
    "    # print(cnt)\n",
    "    \n",
    "print(\"Done.\")\n",
    "print(\"總共執行 {} 次\".format(cnt))\n",
    "print(data2)"
   ]
  },
  {
   "cell_type": "code",
   "execution_count": 175,
   "id": "a1ad907a",
   "metadata": {},
   "outputs": [
    {
     "name": "stdout",
     "output_type": "stream",
     "text": [
      "0 開始！！\n",
      "0 a\n",
      "0 b\n",
      "0 c\n",
      "0 結束！！\n",
      "------------------------------------------------------------\n",
      "1 開始！！\n",
      "1 a\n",
      "1 b\n",
      "1 c\n",
      "1 結束！！\n",
      "------------------------------------------------------------\n",
      "2 開始！！\n",
      "2 a\n",
      "2 b\n",
      "2 c\n",
      "2 結束！！\n",
      "------------------------------------------------------------\n",
      "3 開始！！\n",
      "3 a\n",
      "3 b\n",
      "3 c\n",
      "3 結束！！\n",
      "------------------------------------------------------------\n",
      "4 開始！！\n",
      "4 a\n",
      "4 b\n",
      "4 c\n",
      "4 結束！！\n",
      "------------------------------------------------------------\n"
     ]
    }
   ],
   "source": [
    "### 雙重迴圈 (巢狀迴圈)\n",
    "\n",
    "for i in range(5):\n",
    "    print(\"{} 開始！！\".format(i))\n",
    "    \n",
    "    for j in [\"a\",\"b\",\"c\"]:\n",
    "        print(i,j)\n",
    "        \n",
    "    print(\"{} 結束！！\".format(i))\n",
    "    print(\"-\"*60)"
   ]
  },
  {
   "cell_type": "code",
   "execution_count": 178,
   "id": "0a9e41c4",
   "metadata": {
    "scrolled": true
   },
   "outputs": [
    {
     "name": "stdout",
     "output_type": "stream",
     "text": [
      "1X1=1\n",
      "1X2=2\n",
      "1X3=3\n",
      "1X4=4\n",
      "1X5=5\n",
      "1X6=6\n",
      "1X7=7\n",
      "1X8=8\n",
      "1X9=9\n",
      "2X1=2\n",
      "2X2=4\n",
      "2X3=6\n",
      "2X4=8\n",
      "2X5=10\n",
      "2X6=12\n",
      "2X7=14\n",
      "2X8=16\n",
      "2X9=18\n",
      "3X1=3\n",
      "3X2=6\n",
      "3X3=9\n",
      "3X4=12\n",
      "3X5=15\n",
      "3X6=18\n",
      "3X7=21\n",
      "3X8=24\n",
      "3X9=27\n",
      "4X1=4\n",
      "4X2=8\n",
      "4X3=12\n",
      "4X4=16\n",
      "4X5=20\n",
      "4X6=24\n",
      "4X7=28\n",
      "4X8=32\n",
      "4X9=36\n",
      "5X1=5\n",
      "5X2=10\n",
      "5X3=15\n",
      "5X4=20\n",
      "5X5=25\n",
      "5X6=30\n",
      "5X7=35\n",
      "5X8=40\n",
      "5X9=45\n",
      "6X1=6\n",
      "6X2=12\n",
      "6X3=18\n",
      "6X4=24\n",
      "6X5=30\n",
      "6X6=36\n",
      "6X7=42\n",
      "6X8=48\n",
      "6X9=54\n",
      "7X1=7\n",
      "7X2=14\n",
      "7X3=21\n",
      "7X4=28\n",
      "7X5=35\n",
      "7X6=42\n",
      "7X7=49\n",
      "7X8=56\n",
      "7X9=63\n",
      "8X1=8\n",
      "8X2=16\n",
      "8X3=24\n",
      "8X4=32\n",
      "8X5=40\n",
      "8X6=48\n",
      "8X7=56\n",
      "8X8=64\n",
      "8X9=72\n",
      "9X1=9\n",
      "9X2=18\n",
      "9X3=27\n",
      "9X4=36\n",
      "9X5=45\n",
      "9X6=54\n",
      "9X7=63\n",
      "9X8=72\n",
      "9X9=81\n"
     ]
    }
   ],
   "source": [
    "### 9X9 乘法表\n",
    "# 顯示 \n",
    "# 1X1=1 \n",
    "# 1X2=2 \n",
    "# .... \n",
    "# 1X9=9 \n",
    "# 2X1=2 \n",
    "# 2X2=4 \n",
    "# .... \n",
    "# 9X9=81\n",
    "\n",
    "for i in range(1,10):\n",
    "    for j in range(1,10):\n",
    "        # print(i,j)\n",
    "        print(\"{}X{}={}\".format(i,j,i*j))"
   ]
  }
 ],
 "metadata": {
  "kernelspec": {
   "display_name": "Python 3",
   "language": "python",
   "name": "python3"
  },
  "language_info": {
   "codemirror_mode": {
    "name": "ipython",
    "version": 3
   },
   "file_extension": ".py",
   "mimetype": "text/x-python",
   "name": "python",
   "nbconvert_exporter": "python",
   "pygments_lexer": "ipython3",
   "version": "3.8.8"
  }
 },
 "nbformat": 4,
 "nbformat_minor": 5
}
