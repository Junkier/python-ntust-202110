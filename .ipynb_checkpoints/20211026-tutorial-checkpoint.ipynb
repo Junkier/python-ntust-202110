{
 "cells": [
  {
   "cell_type": "code",
   "execution_count": 4,
   "id": "b45d4360",
   "metadata": {},
   "outputs": [],
   "source": [
    "import requests\n",
    "url = \"https://www.nownews.com/cat/column/\"\n",
    "res = requests.get(url)\n",
    "# print(res.text)"
   ]
  },
  {
   "cell_type": "code",
   "execution_count": 7,
   "id": "d9bad059",
   "metadata": {},
   "outputs": [],
   "source": [
    "### 加入 Headers \n",
    "# Headers : 標頭 , 用來說明 requests 的性質\n",
    "our_headers = {\n",
    "    \"user-agent\": \"Mozilla/5.0 (Macintosh; Intel Mac OS X 10_12_6) AppleWebKit/537.36 (KHTML, like Gecko) Chrome/90.0.4430.212 Safari/537.36\"\n",
    "}\n",
    "\n",
    "# 加入 Headers 的 requests\n",
    "res = requests.get(url,headers=our_headers)\n",
    "\n",
    "# 顯示 response 結果\n",
    "# print(res.text)"
   ]
  },
  {
   "cell_type": "code",
   "execution_count": 14,
   "id": "809df823",
   "metadata": {},
   "outputs": [],
   "source": [
    "# print(res.text)"
   ]
  },
  {
   "cell_type": "code",
   "execution_count": 11,
   "id": "bd2d1f9b",
   "metadata": {},
   "outputs": [
    {
     "name": "stdout",
     "output_type": "stream",
     "text": [
      "<class 'str'>\n",
      "<class 'bs4.BeautifulSoup'>\n"
     ]
    }
   ],
   "source": [
    "### 放入 BeautifulSoup \n",
    "\n",
    "# 引入套件\n",
    "from bs4 import BeautifulSoup as bs\n",
    "\n",
    "# bs(要解析的 html 資料 , 解析器)\n",
    "soup = bs(res.text,\"lxml\")\n",
    "\n",
    "# print(res.text)\n",
    "# print(soup)\n",
    "\n",
    "print(type(res.text))\n",
    "print(type(soup))"
   ]
  },
  {
   "cell_type": "code",
   "execution_count": 16,
   "id": "cc878f4e",
   "metadata": {
    "scrolled": true
   },
   "outputs": [],
   "source": [
    "### 使用 bs #1\n",
    "## 透過 標籤名稱 定位\n",
    "# soup.select(\"div.leftCol ul\")\n",
    "# soup.select(\"p\")\n",
    "# soup.select(\"div.leftCol ul li\")"
   ]
  },
  {
   "cell_type": "code",
   "execution_count": 28,
   "id": "66e32028",
   "metadata": {},
   "outputs": [
    {
     "data": {
      "text/plain": [
       "[<h2>另類疫苗孤兒！不敢打疫苗如何自保　醫提醒做好這四件事</h2>,\n",
       " <h2>柯文哲夜會陳時中達成共識　視缺額、量能放寬施打資格</h2>,\n",
       " <h2>長跑9年嫁了！真子公主成平民　強調「丈夫不可或缺」</h2>,\n",
       " <h2>一塊水晶肥皂洗全身？皮膚科醫師破解三大清潔NG迷思</h2>,\n",
       " <h2>台語質詢成刪Q焦點！邱國正：對陳柏惟被罷免沒有意見</h2>]"
      ]
     },
     "execution_count": 28,
     "metadata": {},
     "output_type": "execute_result"
    }
   ],
   "source": [
    "### 使用 bs #2\n",
    "## 透過 id / class 定位\n",
    "# soup.select(\"div.card\")\n",
    "\n",
    "# div.leftCol 底下的 ul 底下的 li , 再底下的 h2\n",
    "# soup.select(\"div.leftCol ul li h2\")\n",
    "\n",
    "# 直接 select h2\n",
    "# soup.select(\"h2\")\n",
    "\n",
    "# div.leftCol 底下的 h2\n",
    "# soup.select(\"div.leftCol h2\")"
   ]
  }
 ],
 "metadata": {
  "kernelspec": {
   "display_name": "Python 3",
   "language": "python",
   "name": "python3"
  },
  "language_info": {
   "codemirror_mode": {
    "name": "ipython",
    "version": 3
   },
   "file_extension": ".py",
   "mimetype": "text/x-python",
   "name": "python",
   "nbconvert_exporter": "python",
   "pygments_lexer": "ipython3",
   "version": "3.8.8"
  }
 },
 "nbformat": 4,
 "nbformat_minor": 5
}
