{
 "cells": [
  {
   "cell_type": "code",
   "execution_count": 4,
   "id": "0cdfd317",
   "metadata": {},
   "outputs": [],
   "source": [
    "import requests\n",
    "url = \"https://www.nownews.com/cat/column/\"\n",
    "res = requests.get(url)\n",
    "# print(res.text)"
   ]
  },
  {
   "cell_type": "code",
   "execution_count": 7,
   "id": "d843f101",
   "metadata": {},
   "outputs": [],
   "source": [
    "### 加入 Headers \n",
    "# Headers : 標頭 , 用來說明 requests 的性質\n",
    "our_headers = {\n",
    "    \"user-agent\": \"Mozilla/5.0 (Macintosh; Intel Mac OS X 10_12_6) AppleWebKit/537.36 (KHTML, like Gecko) Chrome/90.0.4430.212 Safari/537.36\"\n",
    "}\n",
    "\n",
    "# 加入 Headers 的 requests\n",
    "res = requests.get(url,headers=our_headers)\n",
    "\n",
    "# 顯示 response 結果\n",
    "# print(res.text)"
   ]
  },
  {
   "cell_type": "code",
   "execution_count": 14,
   "id": "3a900761",
   "metadata": {},
   "outputs": [],
   "source": [
    "# print(res.text)"
   ]
  },
  {
   "cell_type": "code",
   "execution_count": 11,
   "id": "f18c5128",
   "metadata": {},
   "outputs": [
    {
     "name": "stdout",
     "output_type": "stream",
     "text": [
      "<class 'str'>\n",
      "<class 'bs4.BeautifulSoup'>\n"
     ]
    }
   ],
   "source": [
    "### 放入 BeautifulSoup \n",
    "\n",
    "# 引入套件\n",
    "from bs4 import BeautifulSoup as bs\n",
    "\n",
    "# bs(要解析的 html 資料 , 解析器)\n",
    "soup = bs(res.text,\"lxml\")\n",
    "\n",
    "# print(res.text)\n",
    "# print(soup)\n",
    "\n",
    "print(type(res.text))\n",
    "print(type(soup))"
   ]
  },
  {
   "cell_type": "code",
   "execution_count": 16,
   "id": "95432a18",
   "metadata": {
    "scrolled": true
   },
   "outputs": [],
   "source": [
    "### 使用 bs #1\n",
    "## 透過 標籤名稱 定位\n",
    "# soup.select(\"div.leftCol ul\")\n",
    "# soup.select(\"p\")\n",
    "# soup.select(\"div.leftCol ul li\")"
   ]
  },
  {
   "cell_type": "code",
   "execution_count": 37,
   "id": "fbe66f2b",
   "metadata": {},
   "outputs": [
    {
     "name": "stdout",
     "output_type": "stream",
     "text": [
      "[<h3>民眾黨支持度超越國民黨？柯文哲低調不回應</h3>, <h3>立委陳玉珍感情狀態曝光　認了47歲勇敢凍卵</h3>, <h3>柯文哲、江啟臣宣傳農產品　兩人難得同台互動卻冷</h3>, <h3>日職／老婆是前早安少女組偶像　野上亮磨宣布引退</h3>, <h3>中國25日新增29例新冠本土　內蒙甘肅居多</h3>, <h3>巴西總統妄稱疫苗與愛滋有關　遭臉書YouTube刪除</h3>, <h3>名家論壇》蕭徐行／反中牌是2022年選戰的主軸</h3>, <h3>已4.2萬人做過新冠篩檢！世衛：北韓至今仍通報零確診</h3>]\n",
      "<h3>民眾黨支持度超越國民黨？柯文哲低調不回應</h3>\n",
      "民眾黨支持度超越國民黨？柯文哲低調不回應\n",
      "--------------------------------------------------------------------------------\n",
      "<h3>立委陳玉珍感情狀態曝光　認了47歲勇敢凍卵</h3>\n",
      "立委陳玉珍感情狀態曝光　認了47歲勇敢凍卵\n",
      "--------------------------------------------------------------------------------\n",
      "<h3>柯文哲、江啟臣宣傳農產品　兩人難得同台互動卻冷</h3>\n",
      "柯文哲、江啟臣宣傳農產品　兩人難得同台互動卻冷\n",
      "--------------------------------------------------------------------------------\n",
      "<h3>日職／老婆是前早安少女組偶像　野上亮磨宣布引退</h3>\n",
      "日職／老婆是前早安少女組偶像　野上亮磨宣布引退\n",
      "--------------------------------------------------------------------------------\n",
      "<h3>中國25日新增29例新冠本土　內蒙甘肅居多</h3>\n",
      "中國25日新增29例新冠本土　內蒙甘肅居多\n",
      "--------------------------------------------------------------------------------\n",
      "<h3>巴西總統妄稱疫苗與愛滋有關　遭臉書YouTube刪除</h3>\n",
      "巴西總統妄稱疫苗與愛滋有關　遭臉書YouTube刪除\n",
      "--------------------------------------------------------------------------------\n",
      "<h3>名家論壇》蕭徐行／反中牌是2022年選戰的主軸</h3>\n",
      "名家論壇》蕭徐行／反中牌是2022年選戰的主軸\n",
      "--------------------------------------------------------------------------------\n",
      "<h3>已4.2萬人做過新冠篩檢！世衛：北韓至今仍通報零確診</h3>\n",
      "已4.2萬人做過新冠篩檢！世衛：北韓至今仍通報零確診\n",
      "--------------------------------------------------------------------------------\n"
     ]
    }
   ],
   "source": [
    "### 使用 bs #2\n",
    "## 透過 id / class 定位\n",
    "\n",
    "# By class\n",
    "# soup.select(\"div.card\")\n",
    "\n",
    "# div.leftCol 底下的 ul 底下的 li , 再底下的 h2\n",
    "# soup.select(\"div.leftCol ul li h2\")\n",
    "\n",
    "# 直接 select h2\n",
    "# soup.select(\"h2\")\n",
    "\n",
    "# div.leftCol 底下的 h2\n",
    "# soup.select(\"div.leftCol h2\")\n",
    "\n",
    "\n",
    "# By id\n",
    "# soup.select(\"#ulNewsList\")\n",
    "\n",
    "h3_tags = soup.select(\"ul#ulNewsList li h3\")\n",
    "print(h3_tags)\n",
    "\n",
    "for ele in h3_tags:\n",
    "    print(ele)\n",
    "    print(ele.text)  # 提取 標籤內文字\n",
    "    print(\"-\"*80)"
   ]
  }
 ],
 "metadata": {
  "kernelspec": {
   "display_name": "Python 3",
   "language": "python",
   "name": "python3"
  },
  "language_info": {
   "codemirror_mode": {
    "name": "ipython",
    "version": 3
   },
   "file_extension": ".py",
   "mimetype": "text/x-python",
   "name": "python",
   "nbconvert_exporter": "python",
   "pygments_lexer": "ipython3",
   "version": "3.8.8"
  }
 },
 "nbformat": 4,
 "nbformat_minor": 5
}
