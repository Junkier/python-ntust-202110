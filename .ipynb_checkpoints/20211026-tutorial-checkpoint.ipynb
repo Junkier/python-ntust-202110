{
 "cells": [
  {
   "cell_type": "code",
   "execution_count": 4,
   "id": "5d3d76cd",
   "metadata": {},
   "outputs": [],
   "source": [
    "import requests\n",
    "url = \"https://www.nownews.com/cat/column/\"\n",
    "res = requests.get(url)\n",
    "# print(res.text)"
   ]
  },
  {
   "cell_type": "code",
   "execution_count": 7,
   "id": "beaa7a13",
   "metadata": {},
   "outputs": [],
   "source": [
    "### 加入 Headers \n",
    "# Headers : 標頭 , 用來說明 requests 的性質\n",
    "our_headers = {\n",
    "    \"user-agent\": \"Mozilla/5.0 (Macintosh; Intel Mac OS X 10_12_6) AppleWebKit/537.36 (KHTML, like Gecko) Chrome/90.0.4430.212 Safari/537.36\"\n",
    "}\n",
    "\n",
    "# 加入 Headers 的 requests\n",
    "res = requests.get(url,headers=our_headers)\n",
    "\n",
    "# 顯示 response 結果\n",
    "# print(res.text)"
   ]
  },
  {
   "cell_type": "code",
   "execution_count": 14,
   "id": "2ec35dbe",
   "metadata": {},
   "outputs": [],
   "source": [
    "# print(res.text)"
   ]
  },
  {
   "cell_type": "code",
   "execution_count": 11,
   "id": "e4600f39",
   "metadata": {},
   "outputs": [
    {
     "name": "stdout",
     "output_type": "stream",
     "text": [
      "<class 'str'>\n",
      "<class 'bs4.BeautifulSoup'>\n"
     ]
    }
   ],
   "source": [
    "### 放入 BeautifulSoup \n",
    "\n",
    "# 引入套件\n",
    "from bs4 import BeautifulSoup as bs\n",
    "\n",
    "# bs(要解析的 html 資料 , 解析器)\n",
    "soup = bs(res.text,\"lxml\")\n",
    "\n",
    "# print(res.text)\n",
    "# print(soup)\n",
    "\n",
    "print(type(res.text))\n",
    "print(type(soup))"
   ]
  },
  {
   "cell_type": "code",
   "execution_count": 13,
   "id": "9b7e40fd",
   "metadata": {
    "scrolled": true
   },
   "outputs": [
    {
     "data": {
      "text/plain": [
       "[<p>宜蘭地震憾全台！網翻紀錄發現「這地區」超穩：很幸福</p>,\n",
       " <p>宜蘭地震憾全台！網翻紀錄發現「這地區」超穩：很幸福</p>,\n",
       " <p>宜蘭規模6.5地震　影響台鐵近1.7萬旅客</p>,\n",
       " <p>新莊建案吊臂遭「震彎」！侯友宜：務必今晚完成拆除</p>,\n",
       " <p>6.5強震撼全台！北市府：30件損害通報、無人傷亡</p>,\n",
       " <p>全台6.5強震！林韋君曬心悸自拍　網友歪樓：在家穿太辣</p>,\n",
       " <p>台語質詢成刪Q焦點！邱國正：對陳柏惟被罷免沒有意見</p>,\n",
       " <p>柯文哲、江啟臣宣傳農產品　兩人難得同台互動卻冷</p>,\n",
       " <p>綠委喊修選罷法罷免門檻　柯文哲酸：選輸才又說不公平</p>,\n",
       " <p>民進黨立委喊修法　鄭麗文譏：滾動式罷免門檻</p>,\n",
       " <p>陳柏惟罷免過關　黃捷：遺憾但必須尊重民主結果</p>,\n",
       " <p>名家論壇》錢震宇／只剩點擊率的網紅們</p>,\n",
       " <p>笑笑涉當「小玉謎片」帳房　首回：早知他犯法一定阻止</p>,\n",
       " <p>小玉YouTube破5億觀看！熱門代表作曝　網嘆：其實很有才</p>,\n",
       " <p>蘿莉系女神淪謎片女主角　曝好友幫小玉「四處道歉」</p>,\n",
       " <p>NOW早報／小玉賣變臉謎片！8千會員看過　律師曝最終下場</p>,\n",
       " <p>虎豹潭落水第六日　事發地18公里外尋獲劉姓女童遺體</p>,\n",
       " <p>虎豹潭落水第六日　新北消防出動搜救犬擴大搜救</p>,\n",
       " <p>虎豹潭落水今再尋獲一具大體　侯友宜證實為陳姓女童</p>,\n",
       " <p>虎豹潭2學童失蹤第4天　茄苳潭下游尋獲1具遺體</p>,\n",
       " <p>名家論壇》網路溫度計／熱議「城中城大火、虎豹潭落水」</p>,\n",
       " <p>陳其邁陪城中城受災戶看屋　擬提高租屋補助</p>,\n",
       " <p>「都更防不了火災」　牛煦庭提出「風險紅綠燈」管控</p>,\n",
       " <p>蔡英文赴城中城公祭致哀　陳其邁：後續工作隨即展開</p>,\n",
       " <p>城中城今聯合公祭　罹難陸配家屬已來台</p>,\n",
       " <p>獨／城中城過半同意都更 盼市府先協助拆除</p>,\n",
       " <p>家務移工不受勞基法保障　低薪模式恐衝擊移工來台意願？｜Will low wages result in caregiver shortages in Taiwan?</p>,\n",
       " <p>家務移工不受勞基法保障　低薪模式恐衝擊移工來台意願？｜Will low wages result in caregiver shortages in Taiwan?</p>,\n",
       " <p>你眼中的新二代是怎麼樣的呢？從「新二代復仇者聯盟聚會」角度看 | Second generation Vietnamese migrant emphasizes importance of bi-cultural roots</p>,\n",
       " <p>外籍移工匯兌將受保障！移工匯兌公司納金保法範疇 | Migrant workers’ remittance will be protected by the Financial Consumer Protection Act</p>,\n",
       " <p>印尼政府積極招手　邀鴻海、Gogoro投資電動車與電池產業｜Hon Hai, Gogoro set to help Indonesia with EV development</p>,\n",
       " <p>新變種病毒會持續出現嗎？醫學專家：只要有病患就會｜Can new variants of the virus keep emerging?</p>,\n",
       " <p>Cho phép người lao động đăng ký trực tuyến huỷ bỏ phí mua việc làm. Bộ Lao động: Dự kiến thực hiện vào nửa đầu năm sau</p>,\n",
       " <p>Cháy công xưởng ở Chương Hoá. Lao động di trú người Việt Nam liều mình quay lại cứu người bị gãy xương thoát hiểm trong đám cháy</p>,\n",
       " <p>Lao động di trú tại Gia Nghĩa đình công, không hài lòng với mức lương cơ bản không đến 24000 Đài tệ, yêu cầu phụ cấp ca đêm</p>,\n",
       " <p>Hơn 300 ngày tạm hoãn nhập cảnh đối với lao động di trú, nhiều ngành nghề thiếu hụt lao động. Bộ Lao động xem xét nới lỏng kiểm soát nhập cảnh</p>,\n",
       " <p>Tổ chức đấu tranh vì quyền lợi người lao động yêu cầu tăng mức lương cơ bản lên 8%, kể cả lao động giúp việc gia đình</p>,\n",
       " <p>ให้ รง.ต่างชาติยื่นเอกสารออนไลน์ จัดการปัญหา บจง.เรียกเก็บค่าซื้อตำแหน่งงาน  ก.แรงงานชี้ คาดดำเนินการปีหน้า</p>,\n",
       " <p>ชะลอนำเข้า รง.ต่างชาติ 300 กว่าวัน อุตสาหกรรมขาดแคลนแรงงาน ก.แรงงานเตรียมคลายล็อกนำเข้าแรงงาน</p>,\n",
       " <p>ไฟไหม้โรงงานจางฮั่ว! รง.เวียดนามวิ่งกลับไปช่วย หลังได้ยินเสียงร้องช่วยด้วย</p>,\n",
       " <p>กลุ่มสหภาพแรงงานเรียกร้องปรับขึ้นค่าจ้างขั้นต่ำ8%  ชี้ผู้อนุบาลในครัวเรือนควรปรับขึ้นค่าจ้างเช่นกัน</p>,\n",
       " <p>Festival Film Asia Tenggara 2021 Sudah Dimulai! Mari Kita Mengenal Budaya Asia Tenggara Melalui Film</p>,\n",
       " <p>Asosiasi Teknik dan Kementerian Tenaga Kerja Berkoordinasi Untuk Mengatasi Kekurangan Pekerja. Industri konstruksi Menambah 1547 Pekerja Migran Pada Bulan Agustus</p>,\n",
       " <p>Hak Asasi Nelayan Taiwan Perlu Ditingkatkan, Legislator: Subsidi Perikanan Meningkatkan Risiko Kerja Paksa</p>,\n",
       " <p>Gaji Pokok 17.000 Pekerja Migran Sektor Rumah Tangga Tidak Berubah Dalam Enam Tahun. Ilmuwan: Gaji Rendah Sulit Bersaing Dengan Pasar Global</p>,\n",
       " <p>PMI Dianggap Anak Sendiri! Raja Dunia Perfilman Golden Horse Award Telah Menyimpan 2 Juta NTD Untuknya</p>,\n",
       " <p>另類疫苗孤兒！不敢打疫苗如何自保　醫提醒做好這四件事</p>,\n",
       " <p>另類疫苗孤兒！不敢打疫苗如何自保　醫提醒做好這四件事</p>,\n",
       " <p>一塊水晶肥皂洗全身？皮膚科醫師破解三大清潔NG迷思</p>,\n",
       " <p>立委陳玉珍感情狀態曝光　認了47歲勇敢凍卵</p>,\n",
       " <p>驚！女學生整牙後激瘦卻開始聽到回音　醫：過度減肥惹禍</p>,\n",
       " <p>男子40歲患肝癌不自知！靠女兒捐肝續命</p>,\n",
       " <p>影／到另一半家吃飯要洗碗嗎？這5件事談戀愛時不要做</p>,\n",
       " <p>影／長期口交容易得口腔癌？美女性研究博士一次解答</p>,\n",
       " <p>影／愛愛時間越久愈好？專家破解六大「Ａ片迷思」</p>,\n",
       " <p>水溝噴藥時經過會傷身？醫拆解「關鍵成分」：不用太焦慮</p>,\n",
       " <p>男性服用安眠藥有損雄風？可能與睪丸酮減少有關</p>,\n",
       " <p>男子40歲患肝癌不自知！靠女兒捐肝續命</p>,\n",
       " <p>清大團隊發現胃癌精準新標靶療法　腫瘤縮小不轉移</p>,\n",
       " <p>獨／疫情是危機也是轉機！台大院長吳明賢談防疫關鍵</p>,\n",
       " <p>影／光頭癌症少女被罵人妖　勇敢找回自信人生重頭開始</p>,\n",
       " <p>「透視」身體揪出癌細胞 非侵入檢查提升治療精準度</p>,\n",
       " <p>影／不餓卻暴食！4招分辨壓力吃　遠離「情緒性飢餓」 </p>,\n",
       " <p>「社交恐懼症」症狀有哪些？內向不代表害怕社交　</p>,\n",
       " <p>影／光頭癌症少女被罵人妖　勇敢找回自信人生重頭開始</p>,\n",
       " <p>退休後生活失去重心？ 人生沒有目標認知能力恐退化</p>,\n",
       " <p>患部清潔很重要！ 中醫師：治療溼疹這個步驟是關鍵</p>,\n",
       " <p class=\"snowplowMarquee\">新住民從零開始成專業甘蔗農婦！單親照養小孩仍樂觀面對</p>,\n",
       " <p class=\"snowplowMarquee\">面對突如其來開銷心慌慌？提前備好紓困金就免驚</p>,\n",
       " <p class=\"snowplowMarquee\">「性感小野馬」曬火辣浴照　飽滿側胸被看光光</p>,\n",
       " <p class=\"snowplowMarquee\">消防員家屬沉痛告白！爸爸出門救人再也沒回來　眾人淚目</p>,\n",
       " <p class=\"snowplowMarquee\">東協峰會　李顯龍：美中關係是區域穩定決定因素</p>,\n",
       " <p class=\"snowplowMarquee\">網路瘋傳「你19歲在幹嘛？」 盤點年僅19歲就在奧運殿堂大放異彩的6名台灣選手</p>,\n",
       " <p class=\"snowplowMarquee\">泰國發現首起Delta亞變異株AY.1　政府密切觀察</p>,\n",
       " <p class=\"snowplowMarquee\">吳釗燮訪歐請假！藍要杯葛外交預算　綠：扯後腿讓人憤怒</p>,\n",
       " <p>近日進口疫苗陸續到貨，中央流行疫情指揮中心也積極開放民眾接種，不過部分民眾因為過敏體質、先天免疫系統不好等因素而不敢接種疫苗，反而成為另類的疫苗接種孤兒。對此醫師建議，這類型的民眾除了自我防護做好之外...</p>,\n",
       " <p class=\"time\"><span class=\"i-calendar\"></span>2021-10-26 17:06</p>,\n",
       " <p>針對第十二期疫苗預約與施打情況，以及後續的改善措施，台北市長柯文哲昨（26）日晚間前往疾管署，與衛福部長陳時中會面。一同參與會面過程的副市長蔡炳坤也出面說明，表示北市府與中央達成2個共識，分別為「未來...</p>,\n",
       " <p class=\"time\"><span class=\"i-calendar\"></span>2021-10-26 16:35</p>,\n",
       " <p>日本皇室秋篠宮文仁親王的長女真子內親王在已經在26日上午與大學同學小室圭登記結婚，成為民間人士，並且改名為「小室真子」。兩人登記結婚之後，同日在東京都內的飯店召開記者會。真子在記者會上表示，小室圭對她...</p>,\n",
       " <p class=\"time\"><span class=\"i-calendar\"></span>2021-10-26 16:32</p>,\n",
       " <p>適當清潔臉部與身體，雖然是每個人的生活日常，但許多人的清潔方式或是使用的產品卻不適合自己，甚至誤用了網路上流傳的洗臉與沐浴NG方法，當心皮膚越洗越糟！皮膚科醫師胡怡萱就點出皮膚清潔方式常見的三大NG迷...</p>,\n",
       " <p class=\"time\"><span class=\"i-calendar\"></span>2021-10-26 15:52</p>,\n",
       " <p>台灣基進黨立委陳柏惟罷免案23日投票通過，成為我國史上第一個被罷免成功的立委。國防部長邱國正曾與陳柏惟因爲台語質詢爆發口語爭執，邱國正今（26）日表示，對陳柏惟被罷免不表示意見，他在備詢時答覆都很誠懇...</p>,\n",
       " <p class=\"time\"><span class=\"i-calendar\"></span>2021-10-26 15:48</p>,\n",
       " <p class=\"time\"><span class=\"i-calendar\"></span>2021-10-26 14:37</p>,\n",
       " <p class=\"time\"><span class=\"i-calendar\"></span>2021-10-26 14:36</p>,\n",
       " <p class=\"time\"><span class=\"i-calendar\"></span>2021-10-26 14:23</p>,\n",
       " <p class=\"time\"><span class=\"i-calendar\"></span>2021-10-26 12:40</p>,\n",
       " <p class=\"time\"><span class=\"i-calendar\"></span>2021-10-26 12:22</p>,\n",
       " <p class=\"time\"><span class=\"i-calendar\"></span>2021-10-26 12:19</p>,\n",
       " <p class=\"time\"><span class=\"i-calendar\"></span>2021-10-26 12:19</p>,\n",
       " <p class=\"time\"><span class=\"i-calendar\"></span>2021-10-26 12:14</p>]"
      ]
     },
     "execution_count": 13,
     "metadata": {},
     "output_type": "execute_result"
    }
   ],
   "source": [
    "### 使用 bs \n",
    "# soup.select(\"div.leftCol ul\")\n",
    "soup.select(\"p\")"
   ]
  }
 ],
 "metadata": {
  "kernelspec": {
   "display_name": "Python 3",
   "language": "python",
   "name": "python3"
  },
  "language_info": {
   "codemirror_mode": {
    "name": "ipython",
    "version": 3
   },
   "file_extension": ".py",
   "mimetype": "text/x-python",
   "name": "python",
   "nbconvert_exporter": "python",
   "pygments_lexer": "ipython3",
   "version": "3.8.8"
  }
 },
 "nbformat": 4,
 "nbformat_minor": 5
}
