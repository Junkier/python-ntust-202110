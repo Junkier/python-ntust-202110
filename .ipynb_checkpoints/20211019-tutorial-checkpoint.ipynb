{
 "cells": [
  {
   "cell_type": "code",
   "execution_count": 30,
   "id": "b8686757",
   "metadata": {},
   "outputs": [
    {
     "name": "stdout",
     "output_type": "stream",
     "text": [
      "******\n",
      "*****\n",
      "****\n",
      "***\n",
      "**\n",
      "*\n",
      "**\n",
      "***\n",
      "****\n",
      "*****\n",
      "******\n"
     ]
    }
   ],
   "source": [
    "# 回家試身手 2-1\n",
    "for i in range(11):\n",
    "    if i <=5:\n",
    "        print(\"*\" * (6-i) )\n",
    "#         print(i, \"*\" * (6-i) )\n",
    "    else:\n",
    "        print(\"*\" * (i-4) )        \n",
    "#         print(i, \"*\" * (i-4) )\n",
    "\n",
    "\n",
    "### 千萬不要 , 條列式\n",
    "# for i in range(11):\n",
    "#     if i == 0:\n",
    "#         print(\"******\")\n",
    "#     elif i == 1:\n",
    "#         print(\"*****\")\n",
    "#     elif i == 2:\n",
    "#         print(\"****\")\n",
    "#     # ..."
   ]
  },
  {
   "cell_type": "code",
   "execution_count": 34,
   "id": "47f86868",
   "metadata": {},
   "outputs": [
    {
     "name": "stdout",
     "output_type": "stream",
     "text": [
      "{'a': 4, 'b': 3, 'c': 4, 'd': 2, 'g': 1}\n"
     ]
    }
   ],
   "source": [
    "# 回家試身手 2-2\n",
    "data = [\"a\",\"b\",\"c\",\"c\",\"c\",\"a\",\"d\",\"b\",\"b\",\"a\",\"c\",\"g\",\"d\",\"a\"]\n",
    "result = {}\n",
    "\n",
    "### Word count , 字詞統計 \n",
    "for element in data:\n",
    "    \n",
    "    # 有出現 -> value +1\n",
    "    if element in result:\n",
    "        result[element] +=1\n",
    "    \n",
    "    # 第一次出現 -> 新增一組 key-value pair\n",
    "    else:\n",
    "        result[element] = 1\n",
    "    \n",
    "print(result)"
   ]
  }
 ],
 "metadata": {
  "kernelspec": {
   "display_name": "Python 3",
   "language": "python",
   "name": "python3"
  },
  "language_info": {
   "codemirror_mode": {
    "name": "ipython",
    "version": 3
   },
   "file_extension": ".py",
   "mimetype": "text/x-python",
   "name": "python",
   "nbconvert_exporter": "python",
   "pygments_lexer": "ipython3",
   "version": "3.8.8"
  }
 },
 "nbformat": 4,
 "nbformat_minor": 5
}
