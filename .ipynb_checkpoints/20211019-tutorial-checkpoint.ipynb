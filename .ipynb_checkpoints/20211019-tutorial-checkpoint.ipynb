{
 "cells": [
  {
   "cell_type": "code",
   "execution_count": 30,
   "id": "ca9e7cd9",
   "metadata": {},
   "outputs": [
    {
     "name": "stdout",
     "output_type": "stream",
     "text": [
      "******\n",
      "*****\n",
      "****\n",
      "***\n",
      "**\n",
      "*\n",
      "**\n",
      "***\n",
      "****\n",
      "*****\n",
      "******\n"
     ]
    }
   ],
   "source": [
    "# 回家試身手 2-1\n",
    "for i in range(11):\n",
    "    if i <=5:\n",
    "        print(\"*\" * (6-i) )\n",
    "#         print(i, \"*\" * (6-i) )\n",
    "    else:\n",
    "        print(\"*\" * (i-4) )        \n",
    "#         print(i, \"*\" * (i-4) )\n",
    "\n",
    "\n",
    "### 千萬不要 , 條列式\n",
    "# for i in range(11):\n",
    "#     if i == 0:\n",
    "#         print(\"******\")\n",
    "#     elif i == 1:\n",
    "#         print(\"*****\")\n",
    "#     elif i == 2:\n",
    "#         print(\"****\")\n",
    "#     # ..."
   ]
  },
  {
   "cell_type": "code",
   "execution_count": 35,
   "id": "94b4ed35",
   "metadata": {},
   "outputs": [
    {
     "name": "stdout",
     "output_type": "stream",
     "text": [
      "a {'a': 1}\n",
      "b {'a': 1, 'b': 1}\n",
      "c {'a': 1, 'b': 1, 'c': 1}\n",
      "c {'a': 1, 'b': 1, 'c': 2}\n",
      "c {'a': 1, 'b': 1, 'c': 3}\n",
      "a {'a': 2, 'b': 1, 'c': 3}\n",
      "{'a': 2, 'b': 1, 'c': 3}\n"
     ]
    }
   ],
   "source": [
    "# 回家試身手 2-2\n",
    "data = [\"a\",\"b\",\"c\",\"c\",\"c\",\"a\"]\n",
    "# data = [\"a\",\"b\",\"c\",\"c\",\"c\",\"a\",\"d\",\"b\",\"b\",\"a\",\"c\",\"g\",\"d\",\"a\"]\n",
    "result = {}\n",
    "\n",
    "### Word count , 字詞統計 \n",
    "for element in data:\n",
    "    \n",
    "    # 有出現 -> value +1\n",
    "    if element in result:\n",
    "        result[element] +=1\n",
    "    \n",
    "    # 第一次出現 -> 新增一組 key-value pair\n",
    "    else:\n",
    "        result[element] = 1\n",
    "    \n",
    "    print(element,result)\n",
    "    \n",
    "print(result)"
   ]
  },
  {
   "cell_type": "code",
   "execution_count": 2,
   "id": "450027d9",
   "metadata": {
    "scrolled": false
   },
   "outputs": [
    {
     "name": "stdout",
     "output_type": "stream",
     "text": [
      "1X1=1  1X2=2  1X3=3  1X4=4  1X5=5  1X6=6  1X7=7  1X8=8  1X9=9  \n",
      "2X1=2  2X2=4  2X3=6  2X4=8  2X5=10 2X6=12 2X7=14 2X8=16 2X9=18 \n",
      "3X1=3  3X2=6  3X3=9  3X4=12 3X5=15 3X6=18 3X7=21 3X8=24 3X9=27 \n",
      "4X1=4  4X2=8  4X3=12 4X4=16 4X5=20 4X6=24 4X7=28 4X8=32 4X9=36 \n",
      "5X1=5  5X2=10 5X3=15 5X4=20 5X5=25 5X6=30 5X7=35 5X8=40 5X9=45 \n",
      "6X1=6  6X2=12 6X3=18 6X4=24 6X5=30 6X6=36 6X7=42 6X8=48 6X9=54 \n",
      "7X1=7  7X2=14 7X3=21 7X4=28 7X5=35 7X6=42 7X7=49 7X8=56 7X9=63 \n",
      "8X1=8  8X2=16 8X3=24 8X4=32 8X5=40 8X6=48 8X7=56 8X8=64 8X9=72 \n",
      "9X1=9  9X2=18 9X3=27 9X4=36 9X5=45 9X6=54 9X7=63 9X8=72 9X9=81 \n"
     ]
    }
   ],
   "source": [
    "# 回家試身手 2-3\n",
    "for i in range(1,10):\n",
    "    \n",
    "    # 準備空字串\n",
    "    message = \"\"\n",
    "    \n",
    "    # 合併 同一列的結果 \n",
    "    for j in range(1,10):\n",
    "        space = \"\"\n",
    "        \n",
    "        # 兩位數 --> 一個空白\n",
    "        if i*j >= 10: \n",
    "            space = \" \"\n",
    "        # 一位數 --> 兩個空白\n",
    "        else:\n",
    "            space = \"  \"\n",
    "        \n",
    "        message += \"{}X{}={}{}\".format(i,j,i*j,space)\n",
    "        # print(\"{}X{}={}\".format(i,j,i*j))\n",
    "        \n",
    "    # 顯示字串\n",
    "    print(message)"
   ]
  },
  {
   "cell_type": "code",
   "execution_count": 9,
   "id": "6d1c456f",
   "metadata": {},
   "outputs": [
    {
     "name": "stdout",
     "output_type": "stream",
     "text": [
      "[443, 88.6]\n",
      "Math Avg : 88.6\n",
      "Eng Avg : 71.8\n",
      "Chinese Avg : 52.4\n"
     ]
    }
   ],
   "source": [
    "### func-5\n",
    "# 定義 function\n",
    "def get_scores_info(scores):\n",
    "    score_sum = sum(scores)\n",
    "    score_avg = score_sum / len(scores)\n",
    "    \n",
    "    return [score_sum,score_avg]\n",
    "\n",
    "\n",
    "math = [87,92,100,75,89]\n",
    "eng  = [49,66,71,73,100]\n",
    "chinese = [62,33,9,81,77]\n",
    "\n",
    "# 呼叫 function\n",
    "math_info = get_scores_info(math)\n",
    "print(math_info)\n",
    "print(\"Math Avg : {}\".format(math_info[1]))\n",
    "\n",
    "eng_info = get_scores_info(eng)\n",
    "print(\"Eng Avg : {}\".format(eng_info[1]))\n",
    "\n",
    "che_info = get_scores_info(chinese)\n",
    "print(\"Chinese Avg : {}\".format(che_info[1]))"
   ]
  },
  {
   "cell_type": "code",
   "execution_count": 8,
   "id": "76d2d158",
   "metadata": {},
   "outputs": [
    {
     "name": "stdout",
     "output_type": "stream",
     "text": [
      "Math: [92, 100, 89]\n"
     ]
    },
    {
     "ename": "NameError",
     "evalue": "name 'avg' is not defined",
     "output_type": "error",
     "traceback": [
      "\u001b[0;31m---------------------------------------------------------------------------\u001b[0m",
      "\u001b[0;31mNameError\u001b[0m                                 Traceback (most recent call last)",
      "\u001b[0;32m<ipython-input-8-f5ed474c210a>\u001b[0m in \u001b[0;36m<module>\u001b[0;34m\u001b[0m\n\u001b[1;32m     32\u001b[0m \u001b[0mdata\u001b[0m \u001b[0;34m=\u001b[0m \u001b[0mget_passed_scores\u001b[0m\u001b[0;34m(\u001b[0m\u001b[0mmath\u001b[0m\u001b[0;34m)\u001b[0m   \u001b[0;31m# 期望 data = [92,100,89]\u001b[0m\u001b[0;34m\u001b[0m\u001b[0;34m\u001b[0m\u001b[0m\n\u001b[1;32m     33\u001b[0m \u001b[0mprint\u001b[0m\u001b[0;34m(\u001b[0m\u001b[0;34m\"Math:\"\u001b[0m\u001b[0;34m,\u001b[0m\u001b[0mdata\u001b[0m\u001b[0;34m)\u001b[0m\u001b[0;34m\u001b[0m\u001b[0;34m\u001b[0m\u001b[0m\n\u001b[0;32m---> 34\u001b[0;31m \u001b[0mprint\u001b[0m\u001b[0;34m(\u001b[0m\u001b[0mavg\u001b[0m\u001b[0;34m)\u001b[0m\u001b[0;34m\u001b[0m\u001b[0;34m\u001b[0m\u001b[0m\n\u001b[0m\u001b[1;32m     35\u001b[0m \u001b[0;34m\u001b[0m\u001b[0m\n\u001b[1;32m     36\u001b[0m \u001b[0mdata2\u001b[0m \u001b[0;34m=\u001b[0m \u001b[0mget_passed_scores\u001b[0m\u001b[0;34m(\u001b[0m\u001b[0meng\u001b[0m\u001b[0;34m)\u001b[0m\u001b[0;34m\u001b[0m\u001b[0;34m\u001b[0m\u001b[0m\n",
      "\u001b[0;31mNameError\u001b[0m: name 'avg' is not defined"
     ]
    }
   ],
   "source": [
    "### 取得 超過平均的 及格分數\n",
    "\n",
    "def get_scores_info(scores):\n",
    "    score_sum = sum(scores)\n",
    "    score_avg = score_sum / len(scores)\n",
    "    \n",
    "    return [score_sum,score_avg]\n",
    "\n",
    "# 定義 function\n",
    "def get_passed_scores(scores):\n",
    "    \n",
    "    # 1. 取得 平均分數\n",
    "    scores_info = get_scores_info(scores)\n",
    "    \n",
    "    ## 此時 avg 為區域變數 , 僅在 function 內可看到\n",
    "    avg = scores_info[1]\n",
    "    \n",
    "    # 2. 抓出比平均分數大 的數字 , 塞到 list 裡\n",
    "    result = []\n",
    "    for num in scores:\n",
    "        if num >= avg:\n",
    "            result.append(num)\n",
    "    \n",
    "    # 3. return 該 list\n",
    "    return result\n",
    "    \n",
    "    \n",
    "### 主程式區\n",
    "math = [87,92,100,75,89]\n",
    "eng  = [49,66,71,73,100]\n",
    "chinese = [62,33,9,81,77]\n",
    "\n",
    "\n",
    "# 呼叫 function\n",
    "data = get_passed_scores(math)   # 期望 data = [92,100,89]\n",
    "print(\"Math:\",data)\n",
    "# print(avg)\n",
    "\n",
    "data2 = get_passed_scores(eng)\n",
    "print(\"Eng:\",data2)\n",
    "\n",
    "data3 = get_passed_scores(chinese)\n",
    "print(\"Chinese:\",data3)\n"
   ]
  },
  {
   "cell_type": "code",
   "execution_count": 21,
   "id": "01049f45",
   "metadata": {},
   "outputs": [
    {
     "name": "stdout",
     "output_type": "stream",
     "text": [
      "[16, 23, 28, 30, 42, 46]\n",
      "[1, 2, 3, 6, 21, 22, 25, 32, 42, 48, 49, 52, 57, 58, 77, 79, 82, 86, 90, 95]\n"
     ]
    }
   ],
   "source": [
    "### func-6 \n",
    "# (1) 大樂透 不重複地 抽 N 個號碼\n",
    "# (2) 可自行任意從 1 ~ k 抽號碼 , 預設 k=49\n",
    "import random\n",
    "\n",
    "def getRandNum(n,k=49):\n",
    "    result = []\n",
    "    \n",
    "    # 抽號碼 ..\n",
    "    while len(result) < n:\n",
    "        number = random.randint(1,k)\n",
    "        \n",
    "        if number not in result:\n",
    "            result.append(number)\n",
    "            \n",
    "    # 排序\n",
    "    result = sorted(result)\n",
    "    \n",
    "    return result\n",
    "    \n",
    "nums1 = getRandNum(6)\n",
    "print(nums1)\n",
    "\n",
    "nums2 = getRandNum(20,100)\n",
    "print(nums2)"
   ]
  },
  {
   "cell_type": "code",
   "execution_count": 26,
   "id": "f0170799",
   "metadata": {},
   "outputs": [
    {
     "name": "stdout",
     "output_type": "stream",
     "text": [
      "<class 'str'>\n",
      "True\n",
      "False\n",
      "<class 'int'>\n",
      "True\n",
      "False\n"
     ]
    }
   ],
   "source": [
    "## [補充] 檢查資料型別\n",
    "name = \"Jeff\"\n",
    "age = 18\n",
    "print(type(name))\n",
    "print(type(name) == str)\n",
    "print(type(name) == int)\n",
    "\n",
    "print(type(age))\n",
    "print(type(age) == int)\n",
    "print(type(age) == float)"
   ]
  },
  {
   "cell_type": "code",
   "execution_count": 4,
   "id": "1358d1ef",
   "metadata": {},
   "outputs": [],
   "source": [
    "## 檔案操作 I/O\n",
    "\n",
    "# 寫入\n",
    "f = open(\"test-abc.txt\",\"w\")\n",
    "f.write(\"嗨嗨~~~\")\n",
    "f.write(\"\\n\")  # 換行符號\n",
    "f.write(\"今天星期二 !!\")\n",
    "f.write(\"\\n\")\n",
    "f.write(\"好想睡ＱＱ\")\n",
    "f.write(\"\\n\")\n",
    "f.write(\"ABCDEFG\")\n",
    "f.close()"
   ]
  },
  {
   "cell_type": "code",
   "execution_count": 3,
   "id": "f7479926",
   "metadata": {},
   "outputs": [
    {
     "name": "stdout",
     "output_type": "stream",
     "text": [
      "['AAAAA\\n', '12345\\n', '海岸村恰恰恰']\n"
     ]
    }
   ],
   "source": [
    "# 讀取\n",
    "f2 = open(\"read-sample.txt\",\"r\")\n",
    "\n",
    "# .readlines\n",
    "data_readlines = f2.readlines()\n",
    "\n",
    "f2.close()\n",
    "\n",
    "print(data_readlines)"
   ]
  },
  {
   "cell_type": "code",
   "execution_count": null,
   "id": "04356134",
   "metadata": {},
   "outputs": [],
   "source": [
    "f2 = open(\"read-sample.txt\",\"r\")\n",
    "\n",
    "# .read\n",
    "data_read = f2.read()\n",
    "\n",
    "f2.close()\n",
    "\n",
    "print(type(data_read))\n",
    "print(data_read)"
   ]
  },
  {
   "cell_type": "code",
   "execution_count": null,
   "id": "710ad435",
   "metadata": {},
   "outputs": [],
   "source": [
    "## 附加\n",
    "f = open(\"testqq.txt\",\"a\")\n",
    "f.write(\"嗨嗨~~~\")\n",
    "f.write(\"\\n\")  # 換行符號\n",
    "f.write(\"今天星期二 !!\")\n",
    "f.write(\"\\n\")\n",
    "f.write(\"好想睡ＱＱ\")\n",
    "f.write(\"\\n\")\n",
    "f.write(\"ABCDEFG\")\n",
    "f.close()"
   ]
  },
  {
   "cell_type": "code",
   "execution_count": 1,
   "id": "f1509f48",
   "metadata": {},
   "outputs": [
    {
     "name": "stdout",
     "output_type": "stream",
     "text": [
      "499999500000\n"
     ]
    }
   ],
   "source": [
    "total = 0\n",
    "for i in range(1000000):\n",
    "    total += i\n",
    "print(total)"
   ]
  },
  {
   "cell_type": "code",
   "execution_count": 10,
   "id": "0c5a3ed1",
   "metadata": {},
   "outputs": [],
   "source": [
    "## file-with\n",
    "# 寫出\n",
    "with open(\"test-def.txt\",\"a\") as out_file:\n",
    "    out_file.write(\"今天好冷～～\")\n",
    "    out_file.write(\"\\n\")\n",
    "    out_file.write(\"This is a book.\")\n",
    "    out_file.write(\"\\n\")\n",
    "    out_file.write(\"結束！\")"
   ]
  },
  {
   "cell_type": "code",
   "execution_count": 11,
   "id": "20a54e8a",
   "metadata": {},
   "outputs": [
    {
     "name": "stdout",
     "output_type": "stream",
     "text": [
      "['今天好冷～～\\n', 'This is a book.\\n', '結束！今天好冷～～\\n', 'This is a book.\\n', '結束！今天好冷～～\\n', 'This is a book.\\n', '結束！今天好冷～～\\n', 'This is a book.\\n', '結束！今天好冷～～\\n', 'This is a book.\\n', '結束！']\n"
     ]
    }
   ],
   "source": [
    "# 讀入\n",
    "with open(\"test-def.txt\",\"r\") as in_file:\n",
    "    data = in_file.readlines()\n",
    "    \n",
    "print(data)"
   ]
  },
  {
   "cell_type": "code",
   "execution_count": 20,
   "id": "3a6aaee5",
   "metadata": {},
   "outputs": [
    {
     "name": "stdout",
     "output_type": "stream",
     "text": [
      "/Users/jeff/Downloads/thuis/python-ntust-202110\n",
      "['.DS_Store', '.git', '.ipynb_checkpoints', '20210930-tutorial-1.ipynb', '20211005-tutorial.ipynb', '20211007-tutorial.ipynb', '20211012-tutorial.ipynb', '20211014-tutorial.ipynb', '20211019-tutorial.ipynb', 'FAQ-series.md', 'python-ntust-crawler-demo.ipynb', 'read-sample.txt', 'test-abc.txt', 'test-def.txt', 'test-package', 'testqq.txt']\n"
     ]
    }
   ],
   "source": [
    "### 套件-1\n",
    "import os\n",
    "print(os.getcwd())   # 查看 所在位置\n",
    "print(os.listdir())  # 顯示 檔案\n",
    "\n",
    "# print(dir(os))\n",
    "\n",
    "# if os.exist(\"test-package\"):\n",
    "#     print(\"Exist\")\n",
    "os.mkdir(\"test-package2\")"
   ]
  }
 ],
 "metadata": {
  "kernelspec": {
   "display_name": "Python 3",
   "language": "python",
   "name": "python3"
  },
  "language_info": {
   "codemirror_mode": {
    "name": "ipython",
    "version": 3
   },
   "file_extension": ".py",
   "mimetype": "text/x-python",
   "name": "python",
   "nbconvert_exporter": "python",
   "pygments_lexer": "ipython3",
   "version": "3.8.8"
  }
 },
 "nbformat": 4,
 "nbformat_minor": 5
}
