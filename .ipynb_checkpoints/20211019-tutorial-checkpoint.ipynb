{
 "cells": [
  {
   "cell_type": "code",
   "execution_count": 30,
   "id": "08bf0511",
   "metadata": {},
   "outputs": [
    {
     "name": "stdout",
     "output_type": "stream",
     "text": [
      "******\n",
      "*****\n",
      "****\n",
      "***\n",
      "**\n",
      "*\n",
      "**\n",
      "***\n",
      "****\n",
      "*****\n",
      "******\n"
     ]
    }
   ],
   "source": [
    "# 回家試身手 2-1\n",
    "for i in range(11):\n",
    "    if i <=5:\n",
    "        print(\"*\" * (6-i) )\n",
    "#         print(i, \"*\" * (6-i) )\n",
    "    else:\n",
    "        print(\"*\" * (i-4) )        \n",
    "#         print(i, \"*\" * (i-4) )\n",
    "\n",
    "\n",
    "### 千萬不要 , 條列式\n",
    "# for i in range(11):\n",
    "#     if i == 0:\n",
    "#         print(\"******\")\n",
    "#     elif i == 1:\n",
    "#         print(\"*****\")\n",
    "#     elif i == 2:\n",
    "#         print(\"****\")\n",
    "#     # ..."
   ]
  },
  {
   "cell_type": "code",
   "execution_count": 35,
   "id": "2df53ac5",
   "metadata": {},
   "outputs": [
    {
     "name": "stdout",
     "output_type": "stream",
     "text": [
      "a {'a': 1}\n",
      "b {'a': 1, 'b': 1}\n",
      "c {'a': 1, 'b': 1, 'c': 1}\n",
      "c {'a': 1, 'b': 1, 'c': 2}\n",
      "c {'a': 1, 'b': 1, 'c': 3}\n",
      "a {'a': 2, 'b': 1, 'c': 3}\n",
      "{'a': 2, 'b': 1, 'c': 3}\n"
     ]
    }
   ],
   "source": [
    "# 回家試身手 2-2\n",
    "data = [\"a\",\"b\",\"c\",\"c\",\"c\",\"a\"]\n",
    "# data = [\"a\",\"b\",\"c\",\"c\",\"c\",\"a\",\"d\",\"b\",\"b\",\"a\",\"c\",\"g\",\"d\",\"a\"]\n",
    "result = {}\n",
    "\n",
    "### Word count , 字詞統計 \n",
    "for element in data:\n",
    "    \n",
    "    # 有出現 -> value +1\n",
    "    if element in result:\n",
    "        result[element] +=1\n",
    "    \n",
    "    # 第一次出現 -> 新增一組 key-value pair\n",
    "    else:\n",
    "        result[element] = 1\n",
    "    \n",
    "    print(element,result)\n",
    "    \n",
    "print(result)"
   ]
  },
  {
   "cell_type": "code",
   "execution_count": 41,
   "id": "7d03d946",
   "metadata": {
    "scrolled": false
   },
   "outputs": [
    {
     "name": "stdout",
     "output_type": "stream",
     "text": [
      "1X1=1  1X2=2  1X3=3  1X4=4  1X5=5  1X6=6  1X7=7  1X8=8  1X9=9  \n",
      "2X1=2  2X2=4  2X3=6  2X4=8  2X5=10 2X6=12 2X7=14 2X8=16 2X9=18 \n",
      "3X1=3  3X2=6  3X3=9  3X4=12 3X5=15 3X6=18 3X7=21 3X8=24 3X9=27 \n",
      "4X1=4  4X2=8  4X3=12 4X4=16 4X5=20 4X6=24 4X7=28 4X8=32 4X9=36 \n",
      "5X1=5  5X2=10 5X3=15 5X4=20 5X5=25 5X6=30 5X7=35 5X8=40 5X9=45 \n",
      "6X1=6  6X2=12 6X3=18 6X4=24 6X5=30 6X6=36 6X7=42 6X8=48 6X9=54 \n",
      "7X1=7  7X2=14 7X3=21 7X4=28 7X5=35 7X6=42 7X7=49 7X8=56 7X9=63 \n",
      "8X1=8  8X2=16 8X3=24 8X4=32 8X5=40 8X6=48 8X7=56 8X8=64 8X9=72 \n",
      "9X1=9  9X2=18 9X3=27 9X4=36 9X5=45 9X6=54 9X7=63 9X8=72 9X9=81 \n"
     ]
    }
   ],
   "source": [
    "# 回家試身手 2-3\n",
    "for i in range(1,10):\n",
    "    \n",
    "    # 準備空字串\n",
    "    message = \"\"\n",
    "    \n",
    "    # 合併 同一列的結果 \n",
    "    for j in range(1,10):\n",
    "        space = \"\"\n",
    "        \n",
    "        # 兩位數 --> 一個空白\n",
    "        if i*j >= 10: \n",
    "            space = \" \"\n",
    "        # 一位數 --> 兩個空白\n",
    "        else:\n",
    "            space = \"  \"\n",
    "        \n",
    "        message += \"{}X{}={}{}\".format(i,j,i*j,space)\n",
    "        # print(\"{}X{}={}\".format(i,j,i*j))\n",
    "        \n",
    "    # 顯示字串\n",
    "    print(message)"
   ]
  },
  {
   "cell_type": "code",
   "execution_count": null,
   "id": "53973952",
   "metadata": {},
   "outputs": [],
   "source": []
  },
  {
   "cell_type": "code",
   "execution_count": null,
   "id": "b5db2828",
   "metadata": {},
   "outputs": [],
   "source": []
  }
 ],
 "metadata": {
  "kernelspec": {
   "display_name": "Python 3",
   "language": "python",
   "name": "python3"
  },
  "language_info": {
   "codemirror_mode": {
    "name": "ipython",
    "version": 3
   },
   "file_extension": ".py",
   "mimetype": "text/x-python",
   "name": "python",
   "nbconvert_exporter": "python",
   "pygments_lexer": "ipython3",
   "version": "3.8.8"
  }
 },
 "nbformat": 4,
 "nbformat_minor": 5
}
