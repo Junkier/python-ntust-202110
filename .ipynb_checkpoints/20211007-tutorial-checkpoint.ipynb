{
 "cells": [
  {
   "cell_type": "code",
   "execution_count": 5,
   "id": "0f503f64",
   "metadata": {},
   "outputs": [
    {
     "name": "stdout",
     "output_type": "stream",
     "text": [
      "x 是 負數!!!\n",
      "37\n"
     ]
    }
   ],
   "source": [
    "### 流程控制1 --> if-else \n",
    "x = -123 \n",
    "\n",
    "if x >0 :\n",
    "    print(\"x 是 正數\")   # 縮排 \n",
    "    print(\"-\"*20)\n",
    "    print(\"嗨嗨 , 我是 Jeff 老師~~~\")\n",
    "else:\n",
    "    print(\"x 是 負數!!!\")\n",
    "    a = 12 \n",
    "    b = 25 \n",
    "    print(a+b)\n"
   ]
  }
 ],
 "metadata": {
  "kernelspec": {
   "display_name": "Python 3",
   "language": "python",
   "name": "python3"
  },
  "language_info": {
   "codemirror_mode": {
    "name": "ipython",
    "version": 3
   },
   "file_extension": ".py",
   "mimetype": "text/x-python",
   "name": "python",
   "nbconvert_exporter": "python",
   "pygments_lexer": "ipython3",
   "version": "3.8.8"
  }
 },
 "nbformat": 4,
 "nbformat_minor": 5
}
