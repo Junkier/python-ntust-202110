{
 "cells": [
  {
   "cell_type": "code",
   "execution_count": 10,
   "id": "5d9422b6",
   "metadata": {},
   "outputs": [
    {
     "name": "stdout",
     "output_type": "stream",
     "text": [
      "if-else 開始！！！\n",
      "x 是 0 !!!\n",
      "if-else 結束！！！\n"
     ]
    }
   ],
   "source": [
    "### 流程控制1 --> if-else \n",
    "\n",
    "## if-else\n",
    "# x = 20\n",
    "# if x >0 :\n",
    "#     print(\"x 是 正數\")   # 縮排 \n",
    "#     print(\"-\"*20)\n",
    "#     print(\"嗨嗨 , 我是 Jeff 老師~~~\")\n",
    "# else:\n",
    "#     print(\"x 是 負數 !!!\")\n",
    "#     a = 12 \n",
    "#     b = 25 \n",
    "#     print(a+b)\n",
    "\n",
    "## if-elif-else \n",
    "x = 0\n",
    "\n",
    "print(\"if-else 開始！！！\")\n",
    "\n",
    "if x>0:\n",
    "    print(\"x 是正數\")\n",
    "elif x == 0:\n",
    "    print(\"x 是 0 !!!\")\n",
    "else:   # 改成 elif x <0 :\n",
    "    print(\"x 是負數 ~~\")\n",
    "    \n",
    "print(\"if-else 結束！！！\")\n"
   ]
  },
  {
   "cell_type": "code",
   "execution_count": 22,
   "id": "79079d70",
   "metadata": {},
   "outputs": [
    {
     "name": "stdout",
     "output_type": "stream",
     "text": [
      "請輸入數字 :234\n",
      "<class 'str'>\n",
      "<class 'int'>\n",
      "偶數 , A組 !!\n"
     ]
    }
   ],
   "source": [
    "## a = 234 -> 如果是 偶數 , 分配到 A 組 ; 如果是 奇數 , 分配到 B 組  (% , 取餘數)\n",
    "# a = 234\n",
    "\n",
    "# if a%2 == 0:\n",
    "#     print(\"偶數 , A組 !!\")\n",
    "# elif a%2 == 1:   # else\n",
    "#     print(\"奇數 , B組 ~~\")\n",
    "    \n",
    "    \n",
    "####################################################\n",
    "## 請使用者輸入一個數字 , 存到變數 b\n",
    "#   --> 如果是 偶數 , 分配到 A 組 ; 如果是 奇數 , 分配到 B 組  (% , 取餘數)\n",
    "b = input(\"請輸入數字 :\")\n",
    "print(type(b))\n",
    "\n",
    "# 新的 b = 原本的 b 轉成 int \n",
    "b = int(b)\n",
    "print(type(b))\n",
    "\n",
    "if b %2 ==0:\n",
    "    print(\"偶數 , A組 !!\")\n",
    "else:\n",
    "    print(\"奇數 , B組 ~~\")"
   ]
  },
  {
   "cell_type": "code",
   "execution_count": 26,
   "id": "95bd8636",
   "metadata": {},
   "outputs": [
    {
     "name": "stdout",
     "output_type": "stream",
     "text": [
      "您的組別是 丙組 !!!\n"
     ]
    }
   ],
   "source": [
    "## 小試身手 1-1 \n",
    "number = 77\n",
    "type_name = \"\"\n",
    "\n",
    "if number >= 100:\n",
    "    type_name = \"丁組\"\n",
    "elif number <100 and number >=50:\n",
    "    type_name = \"丙組\"\n",
    "elif number <50 and number>=0:\n",
    "    type_name = \"乙組\"\n",
    "else:\n",
    "    type_name = \"甲組\"\n",
    "    \n",
    "print(\"您的組別是\" , type_name, \"!!!\")"
   ]
  }
 ],
 "metadata": {
  "kernelspec": {
   "display_name": "Python 3",
   "language": "python",
   "name": "python3"
  },
  "language_info": {
   "codemirror_mode": {
    "name": "ipython",
    "version": 3
   },
   "file_extension": ".py",
   "mimetype": "text/x-python",
   "name": "python",
   "nbconvert_exporter": "python",
   "pygments_lexer": "ipython3",
   "version": "3.8.8"
  }
 },
 "nbformat": 4,
 "nbformat_minor": 5
}
