{
 "cells": [
  {
   "cell_type": "code",
   "execution_count": 10,
   "id": "5989c818",
   "metadata": {},
   "outputs": [
    {
     "name": "stdout",
     "output_type": "stream",
     "text": [
      "if-else 開始！！！\n",
      "x 是 0 !!!\n",
      "if-else 結束！！！\n"
     ]
    }
   ],
   "source": [
    "### 流程控制1 --> if-else \n",
    "\n",
    "## if-else\n",
    "# x = 20\n",
    "# if x >0 :\n",
    "#     print(\"x 是 正數\")   # 縮排 \n",
    "#     print(\"-\"*20)\n",
    "#     print(\"嗨嗨 , 我是 Jeff 老師~~~\")\n",
    "# else:\n",
    "#     print(\"x 是 負數 !!!\")\n",
    "#     a = 12 \n",
    "#     b = 25 \n",
    "#     print(a+b)\n",
    "\n",
    "## if-elif-else \n",
    "x = 0\n",
    "\n",
    "print(\"if-else 開始！！！\")\n",
    "\n",
    "if x>0:\n",
    "    print(\"x 是正數\")\n",
    "elif x == 0:\n",
    "    print(\"x 是 0 !!!\")\n",
    "else:\n",
    "    print(\"x 是負數 ~~\")\n",
    "    \n",
    "print(\"if-else 結束！！！\")"
   ]
  }
 ],
 "metadata": {
  "kernelspec": {
   "display_name": "Python 3",
   "language": "python",
   "name": "python3"
  },
  "language_info": {
   "codemirror_mode": {
    "name": "ipython",
    "version": 3
   },
   "file_extension": ".py",
   "mimetype": "text/x-python",
   "name": "python",
   "nbconvert_exporter": "python",
   "pygments_lexer": "ipython3",
   "version": "3.8.8"
  }
 },
 "nbformat": 4,
 "nbformat_minor": 5
}
