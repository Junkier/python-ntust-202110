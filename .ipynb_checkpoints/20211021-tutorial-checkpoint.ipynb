{
 "cells": [
  {
   "cell_type": "code",
   "execution_count": 9,
   "id": "438dcdc1",
   "metadata": {},
   "outputs": [
    {
     "name": "stdout",
     "output_type": "stream",
     "text": [
      "請輸入數字1: ABCD\n"
     ]
    },
    {
     "ename": "ValueError",
     "evalue": "could not convert string to float: 'ABCD'",
     "output_type": "error",
     "traceback": [
      "\u001b[0;31m---------------------------------------------------------------------------\u001b[0m",
      "\u001b[0;31mValueError\u001b[0m                                Traceback (most recent call last)",
      "\u001b[0;32m<ipython-input-9-320859982382>\u001b[0m in \u001b[0;36m<module>\u001b[0;34m\u001b[0m\n\u001b[1;32m     11\u001b[0m \u001b[0;34m\u001b[0m\u001b[0m\n\u001b[1;32m     12\u001b[0m \u001b[0;31m## 呼叫\u001b[0m\u001b[0;34m\u001b[0m\u001b[0;34m\u001b[0m\u001b[0;34m\u001b[0m\u001b[0m\n\u001b[0;32m---> 13\u001b[0;31m \u001b[0manswer1\u001b[0m\u001b[0;34m(\u001b[0m\u001b[0;34m)\u001b[0m\u001b[0;34m\u001b[0m\u001b[0;34m\u001b[0m\u001b[0m\n\u001b[0m",
      "\u001b[0;32m<ipython-input-9-320859982382>\u001b[0m in \u001b[0;36manswer1\u001b[0;34m()\u001b[0m\n\u001b[1;32m      4\u001b[0m \u001b[0;31m## 定義\u001b[0m\u001b[0;34m\u001b[0m\u001b[0;34m\u001b[0m\u001b[0;34m\u001b[0m\u001b[0m\n\u001b[1;32m      5\u001b[0m \u001b[0;32mdef\u001b[0m \u001b[0manswer1\u001b[0m\u001b[0;34m(\u001b[0m\u001b[0;34m)\u001b[0m\u001b[0;34m:\u001b[0m\u001b[0;34m\u001b[0m\u001b[0;34m\u001b[0m\u001b[0m\n\u001b[0;32m----> 6\u001b[0;31m     \u001b[0mnum1\u001b[0m \u001b[0;34m=\u001b[0m \u001b[0mfloat\u001b[0m\u001b[0;34m(\u001b[0m\u001b[0minput\u001b[0m\u001b[0;34m(\u001b[0m\u001b[0;34m\"請輸入數字1: \"\u001b[0m\u001b[0;34m)\u001b[0m\u001b[0;34m)\u001b[0m\u001b[0;34m\u001b[0m\u001b[0;34m\u001b[0m\u001b[0m\n\u001b[0m\u001b[1;32m      7\u001b[0m     \u001b[0mnum2\u001b[0m \u001b[0;34m=\u001b[0m \u001b[0mfloat\u001b[0m\u001b[0;34m(\u001b[0m\u001b[0minput\u001b[0m\u001b[0;34m(\u001b[0m\u001b[0;34m\"請輸入數字2: \"\u001b[0m\u001b[0;34m)\u001b[0m\u001b[0;34m)\u001b[0m\u001b[0;34m\u001b[0m\u001b[0;34m\u001b[0m\u001b[0m\n\u001b[1;32m      8\u001b[0m \u001b[0;34m\u001b[0m\u001b[0m\n",
      "\u001b[0;31mValueError\u001b[0m: could not convert string to float: 'ABCD'"
     ]
    }
   ],
   "source": [
    "# 1.  設計一 func , 可以讓使用者輸入兩數字 (float), \n",
    "#      並計算兩數的總合及平均\n",
    "\n",
    "## 定義\n",
    "def answer1():\n",
    "    num1 = float(input(\"請輸入數字1: \"))\n",
    "    num2 = float(input(\"請輸入數字2: \"))\n",
    "    \n",
    "    print(\"總和 :\" , num1+num2)\n",
    "    print(\"平均 :\" , (num1+num2)/2)\n",
    "\n",
    "## 呼叫\n",
    "answer1()"
   ]
  },
  {
   "cell_type": "code",
   "execution_count": 16,
   "id": "4fe082de",
   "metadata": {},
   "outputs": [
    {
     "name": "stdout",
     "output_type": "stream",
     "text": [
      "5050\n"
     ]
    }
   ],
   "source": [
    "# 2.  設計一 func , 可回傳 1+2+3+…+n 的值 , \n",
    "#      其中 n 為輸入參數 (int)\n",
    "def answer2(n):\n",
    "    \n",
    "    # range + sum 解法\n",
    "    return sum(range(1,n+1))\n",
    "    \n",
    "    # for-loop 解法\n",
    "#     total = 0\n",
    "#     for i in range(1,n+1):\n",
    "#         total += i\n",
    "#     return total\n",
    "\n",
    "print(answer2(100))"
   ]
  },
  {
   "cell_type": "code",
   "execution_count": 17,
   "id": "484b29dd",
   "metadata": {},
   "outputs": [
    {
     "name": "stdout",
     "output_type": "stream",
     "text": [
      "A\n",
      "B\n",
      "C\n",
      "D\n",
      "E\n"
     ]
    }
   ],
   "source": [
    "message = \"ABCDE\"\n",
    "for w in message:\n",
    "    print(w)"
   ]
  },
  {
   "cell_type": "code",
   "execution_count": 25,
   "id": "e6a4d7b1",
   "metadata": {},
   "outputs": [
    {
     "data": {
      "text/plain": [
       "'了冷變麼怎氣天 , 四拜禮天今'"
      ]
     },
     "execution_count": 25,
     "metadata": {},
     "output_type": "execute_result"
    }
   ],
   "source": [
    "# 3.  設計一 func , 功能如下：\n",
    "#          1) word 為輸入參數 , 必須為字串(str) , 若不為字串\n",
    "#     則顯示訊息 “[*] word must be str.” \n",
    "#          2) 若為字串, 將 word 字串反轉後回傳\n",
    "### 期望 : answer3(\"ABCDE\") ---> \"EDCBA\"\n",
    "def answer3(word):\n",
    "    if type(word) != str:\n",
    "        print(\"[*] word must be str.\")\n",
    "    else:\n",
    "        # 讓 \"ABCDE\" -> \"EDCBA\"\n",
    "        \n",
    "        # str 內建解法\n",
    "        return word[::-1]\n",
    "        \n",
    "        # for-loop 解法\n",
    "#         result = \"\"\n",
    "        \n",
    "#         for w in word:\n",
    "#             # result += w\n",
    "#             # result = result + w\n",
    "#             result = w + result\n",
    "#             print(result)\n",
    "            \n",
    "#         return result\n",
    "\n",
    "# 錯誤用法\n",
    "# answer3([1,2,3,4])\n",
    "\n",
    "# 正確用法\n",
    "# answer3(\"ABCDE\")\n",
    "answer3(\"今天禮拜四 , 天氣怎麼變冷了\")"
   ]
  },
  {
   "cell_type": "code",
   "execution_count": 33,
   "id": "31ea3859",
   "metadata": {},
   "outputs": [
    {
     "name": "stdout",
     "output_type": "stream",
     "text": [
      ".koob a si sihT\n",
      "This\n",
      "s a book.\n",
      "sabo.\n",
      ".obas iT\n"
     ]
    }
   ],
   "source": [
    "# word[::-1] --> 字串反轉\n",
    "message2 = \"This is a book.\"\n",
    "print(message2[::-1])\n",
    "\n",
    "# message2[start:end:step]\n",
    "# start -> 起點\n",
    "# end   -> 終點 (不包含)\n",
    "# step  -> 每隔幾字元\n",
    "\n",
    "print(message2[0:4])\n",
    "# print(message2[6:11])\n",
    "print(message2[6:])\n",
    "print(message2[6::2])\n",
    "print(message2[::-2])"
   ]
  },
  {
   "cell_type": "code",
   "execution_count": 38,
   "id": "77c91727",
   "metadata": {},
   "outputs": [
    {
     "name": "stdout",
     "output_type": "stream",
     "text": [
      "第 1 項費氏數列值為 : 1\n",
      "第 2 項費氏數列值為 : 1\n",
      "第 3 項費氏數列值為 : 2\n",
      "第 4 項費氏數列值為 : 3\n",
      "第 5 項費氏數列值為 : 5\n",
      "第 6 項費氏數列值為 : 8\n",
      "第 7 項費氏數列值為 : 13\n",
      "第 8 項費氏數列值為 : 21\n",
      "第 9 項費氏數列值為 : 34\n",
      "第 10 項費氏數列值為 : 55\n",
      "第 11 項費氏數列值為 : 89\n",
      "第 12 項費氏數列值為 : 144\n",
      "第 13 項費氏數列值為 : 233\n",
      "第 14 項費氏數列值為 : 377\n",
      "第 15 項費氏數列值為 : 610\n",
      "第 16 項費氏數列值為 : 987\n",
      "第 17 項費氏數列值為 : 1597\n",
      "第 18 項費氏數列值為 : 2584\n",
      "第 19 項費氏數列值為 : 4181\n",
      "第 20 項費氏數列值為 : 6765\n",
      "第 21 項費氏數列值為 : 10946\n",
      "第 22 項費氏數列值為 : 17711\n",
      "第 23 項費氏數列值為 : 28657\n",
      "第 24 項費氏數列值為 : 46368\n",
      "第 25 項費氏數列值為 : 75025\n",
      "第 26 項費氏數列值為 : 121393\n",
      "第 27 項費氏數列值為 : 196418\n",
      "第 28 項費氏數列值為 : 317811\n",
      "第 29 項費氏數列值為 : 514229\n",
      "第 30 項費氏數列值為 : 832040\n"
     ]
    }
   ],
   "source": [
    "# 4. 費氏數列為 1,1,2,3,5,8,13,21,… \n",
    "#     試設計一 func , 輸入為 n , 回傳第 n 項費氏數列之值\n",
    "def fibonacci(n):\n",
    "    if n == 1 or n == 2:\n",
    "        return 1\n",
    "    else:\n",
    "        r = 0\n",
    "        a1 = 1\n",
    "        a2 = 1\n",
    "        # 以 n=5 為例 , 計算次數為 n-2\n",
    "        for i in range(n-2):\n",
    "            r = a1+a2 \n",
    "            a2 = a1    # 移動 a2 往前\n",
    "            a1 = r     # 移動 a1 往前\n",
    "            \n",
    "        return r\n",
    "          \n",
    "\n",
    "for i in range(1,31):\n",
    "    print(\"第 {} 項費氏數列值為 : {}\".format( i , fibonacci(i) ))        "
   ]
  }
 ],
 "metadata": {
  "kernelspec": {
   "display_name": "Python 3",
   "language": "python",
   "name": "python3"
  },
  "language_info": {
   "codemirror_mode": {
    "name": "ipython",
    "version": 3
   },
   "file_extension": ".py",
   "mimetype": "text/x-python",
   "name": "python",
   "nbconvert_exporter": "python",
   "pygments_lexer": "ipython3",
   "version": "3.8.8"
  }
 },
 "nbformat": 4,
 "nbformat_minor": 5
}
