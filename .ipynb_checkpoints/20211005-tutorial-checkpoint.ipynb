{
 "cells": [
  {
   "cell_type": "code",
   "execution_count": 6,
   "id": "eb9955f0",
   "metadata": {},
   "outputs": [
    {
     "name": "stdout",
     "output_type": "stream",
     "text": [
      "請輸入日期 :123\n",
      "今天是 123\n",
      "請輸入年紀 :18\n"
     ]
    },
    {
     "ename": "TypeError",
     "evalue": "can only concatenate str (not \"int\") to str",
     "output_type": "error",
     "traceback": [
      "\u001b[0;31m---------------------------------------------------------------------------\u001b[0m",
      "\u001b[0;31mTypeError\u001b[0m                                 Traceback (most recent call last)",
      "\u001b[0;32m<ipython-input-6-3f901bd5bdf9>\u001b[0m in \u001b[0;36m<module>\u001b[0;34m\u001b[0m\n\u001b[1;32m     13\u001b[0m \u001b[0;34m\u001b[0m\u001b[0m\n\u001b[1;32m     14\u001b[0m \u001b[0;31m# 新的 age 值 = 舊的 age + 3\u001b[0m\u001b[0;34m\u001b[0m\u001b[0;34m\u001b[0m\u001b[0;34m\u001b[0m\u001b[0m\n\u001b[0;32m---> 15\u001b[0;31m \u001b[0mage\u001b[0m \u001b[0;34m=\u001b[0m \u001b[0mage\u001b[0m \u001b[0;34m+\u001b[0m \u001b[0;36m3\u001b[0m\u001b[0;34m\u001b[0m\u001b[0;34m\u001b[0m\u001b[0m\n\u001b[0m\u001b[1;32m     16\u001b[0m \u001b[0;34m\u001b[0m\u001b[0m\n\u001b[1;32m     17\u001b[0m \u001b[0mprint\u001b[0m\u001b[0;34m(\u001b[0m \u001b[0;34m\"您的年紀 +3 歲是\"\u001b[0m \u001b[0;34m,\u001b[0m \u001b[0mage\u001b[0m\u001b[0;34m)\u001b[0m\u001b[0;34m\u001b[0m\u001b[0;34m\u001b[0m\u001b[0m\n",
      "\u001b[0;31mTypeError\u001b[0m: can only concatenate str (not \"int\") to str"
     ]
    }
   ],
   "source": [
    "# input \n",
    "today = input(\"請輸入日期 :\")\n",
    "print(\"今天是\" , today)\n",
    "\n",
    "age = input(\"請輸入年紀 :\")\n",
    "# print( \"您的年紀是\" , age)\n",
    "\n",
    "##################################################\n",
    "\n",
    "# 幫 age + 3 \n",
    "# 資料轉換\n",
    "# 新的 age 值 = 舊的 age 轉數字\n",
    "age = int(age)\n",
    "\n",
    "# 新的 age 值 = 舊的 age + 3\n",
    "age = age + 3\n",
    "\n",
    "print( \"您的年紀 +3 歲是\" , age)\n"
   ]
  },
  {
   "cell_type": "code",
   "execution_count": 2,
   "id": "bddd53bb",
   "metadata": {},
   "outputs": [
    {
     "name": "stdout",
     "output_type": "stream",
     "text": [
      "<class 'str'>\n",
      "<class 'int'>\n",
      "<class 'str'>\n",
      "--------------------------------------------------------------------------------\n"
     ]
    }
   ],
   "source": [
    "# type\n",
    "name = \"Jeff\"\n",
    "print( type(name)   )   ## str --> 字串\n",
    "print( type(123)    )   ## int --> 數值\n",
    "print(type(\"book\"))     ## str \n",
    "\n",
    "\n",
    "print( \"-\"*80 )\n",
    "\n",
    "#### \n",
    "#### Ctrl + / (Shift 旁邊) 打開註解\n",
    "\n",
    "age2 = input(\"請輸入年紀:\")\n",
    "\n",
    "print(\"我是原本資料 :\" , type(age2))\n",
    "\n",
    "# 將 str (字串) 轉成 int (數值) \n",
    "age2 = int(age2)\n",
    "\n",
    "print(\"我是轉換後的資料 :\" , type(age2))"
   ]
  },
  {
   "cell_type": "code",
   "execution_count": 15,
   "id": "cb4dd947",
   "metadata": {},
   "outputs": [
    {
     "name": "stdout",
     "output_type": "stream",
     "text": [
      "37\n",
      "-13\n",
      "300\n",
      "0.48\n",
      "------------------------------------------------------------\n",
      "8.71664\n",
      "1.1311239193083575\n",
      "------------------------------------------------------------\n",
      "(4-2j)\n",
      "(3.6666666666666665+0.6666666666666666j)\n",
      "------------------------------------------------------------\n",
      "False\n",
      "True\n",
      "------------------------------------------------------------\n",
      "None\n",
      "a : <class 'int'>\n",
      "c : <class 'float'>\n",
      "e : <class 'complex'>\n",
      "g : <class 'bool'>\n",
      "i : <class 'NoneType'>\n"
     ]
    }
   ],
   "source": [
    "### 資料型別 1\n",
    "\n",
    "# int , 整數\n",
    "a = 12\n",
    "b = 25\n",
    "print(a+b)\n",
    "print(a-b)\n",
    "print(a*b)\n",
    "print(a/b)\n",
    "\n",
    "print(\"-\"*60)\n",
    "\n",
    "# float , 浮點數\n",
    "c = 3.14\n",
    "d = 2.776\n",
    "print(c*d)\n",
    "print(c/d)\n",
    "\n",
    "print(\"-\"*60)\n",
    "\n",
    "# complex , 複數\n",
    "e = 1+2j\n",
    "f = 3-4j\n",
    "print(e+f)\n",
    "print(e*f/3)\n",
    "\n",
    "print(\"-\"*60)\n",
    "\n",
    "# bool , 布林值\n",
    "g = True\n",
    "h = False\n",
    "\n",
    "print(g and h)\n",
    "print(g or h)\n",
    "\n",
    "print(\"-\"*60)\n",
    "\n",
    "# 空型別\n",
    "i = None\n",
    "print(i)\n",
    "print(\"a :\" ,type(a))\n",
    "print(\"c :\" ,type(c))\n",
    "print(\"e :\" ,type(e))\n",
    "print(\"g :\" ,type(g))\n",
    "print(\"i :\" ,type(i))"
   ]
  },
  {
   "cell_type": "code",
   "execution_count": 12,
   "id": "5b4eb810",
   "metadata": {},
   "outputs": [
    {
     "name": "stdout",
     "output_type": "stream",
     "text": [
      "----------------------------------------------------------------------------------------------------------------------------------------------------------------\n"
     ]
    }
   ],
   "source": [
    "print(\"----\"*40)"
   ]
  },
  {
   "cell_type": "code",
   "execution_count": 24,
   "id": "dbcf523e",
   "metadata": {},
   "outputs": [
    {
     "name": "stdout",
     "output_type": "stream",
     "text": [
      "Jeff and Leo\n",
      "Jeff says Good evening ~~~\n",
      "e\n",
      "o\n",
      "o\n",
      "JeffLeo\n",
      "Jeff___Leo\n",
      "Jeff-----Leo hihi\n"
     ]
    }
   ],
   "source": [
    "### 資料型別 2 \n",
    "# 字串 , string\n",
    "name = \"Jeff\"\n",
    "name2 = \"Leo\"\n",
    "\n",
    "print(name , \"and\" , name2)\n",
    "\n",
    "message = 'Good evening ~~~'\n",
    "print(name , \"says\" , message)\n",
    "\n",
    "# index 取值 , index 從 0 開始\n",
    "print(name[1])   # --> 'e'\n",
    "print(name2[2])  # --> 'o'\n",
    "print(name2[-1]) # --> 'o'\n",
    "\n",
    "\n",
    "# 字串合併 '+'\n",
    "group1 = name + name2         # --> \"JeffLeo\"\n",
    "group2 = name + \"___\" + name2 # --> \"Jeff___Leo\"\n",
    "\n",
    "group3 = name + (\"-\"*5) + name2 + \" hihi\" # --> \"Jeff-----Leo hihi\"\n",
    "\n",
    "print(group1)\n",
    "print(group2)\n",
    "print(group3)\n",
    "\n"
   ]
  },
  {
   "cell_type": "code",
   "execution_count": 27,
   "id": "fbd95e03",
   "metadata": {},
   "outputs": [
    {
     "name": "stdout",
     "output_type": "stream",
     "text": [
      "Jeff , 您好～～\n",
      "Jeff , 您好～～\n"
     ]
    }
   ],
   "source": [
    "name3 = \"Jeff\"\n",
    "message2 = \"您好～～\"\n",
    "\n",
    "# 透過 print 顯示 3個資料\n",
    "print(name3 , \",\" , message2) \n",
    "\n",
    "# 利用 '+' 合併成一個大字串 \n",
    "big_message = name3 + \" , \" + message2\n",
    "print(big_message)"
   ]
  },
  {
   "cell_type": "code",
   "execution_count": 39,
   "id": "66c11c8f",
   "metadata": {},
   "outputs": [
    {
     "name": "stdout",
     "output_type": "stream",
     "text": [
      "Jeff says: 嗨嗨!!!\n",
      "Holy says: 您好～～～\n",
      "Keven says: 好熱ＱＱ\n",
      "Jeff , 您好～～～\n",
      "--------------------------------------------------\n",
      "券\n",
      "錢\n",
      "五倍券\n",
      ", 領錢了\n",
      "領錢了好開心！！！\n",
      "五倍券要發行\n"
     ]
    }
   ],
   "source": [
    "### str 常用之功能\n",
    "# .format , 字符串模板\n",
    "name1 = \"Jeff\"\n",
    "message1 = \"嗨嗨!!!\"\n",
    "\n",
    "name2 = \"Holy\"\n",
    "message2 = \"您好～～～\"\n",
    "\n",
    "print( \"{} says: {}\".format(name1 , message1) )\n",
    "print( \"{} says: {}\".format(name2 , message2) )\n",
    "print( \"{} says: {}\".format(\"Keven\" , \"好熱ＱＱ\"))\n",
    "\n",
    "big_message2 = \"{} , {}\"\n",
    "print(big_message2.format(name1 ,message2))\n",
    "\n",
    "print(\"-\"*50)\n",
    "\n",
    "# [:] , 字串的範圍取值\n",
    "sentence1 = \"五倍券要發行了, 領錢了好開心！！！\"\n",
    "print(sentence1[2])\n",
    "print(sentence1[10])\n",
    "print(sentence1[0:3])  # 從 0 開始取 , 取到 3 但不包含 3\n",
    "print(sentence1[7:12])\n",
    "print(sentence1[9:])\n",
    "print(sentence1[:6])\n",
    "\n",
    "print(\"-\"*50)\n"
   ]
  },
  {
   "cell_type": "code",
   "execution_count": 57,
   "id": "df62f20e",
   "metadata": {},
   "outputs": [
    {
     "name": "stdout",
     "output_type": "stream",
     "text": [
      "['五倍券要發行了', ' 領錢了好開心 ', ' 本來要綁數位消費', ' 可是系統卡住了嗚嗚']\n",
      "['五倍券要發行', '; 領錢', '好開心 ; 本來要綁數位消費; 可是系統卡住', '嗚嗚']\n",
      "['a', 'b', 'c', 'def', 'g']\n",
      "['a-b-c-def-g']\n",
      "--------------------------------------------------------------------------------\n",
      "a-b-c-d\n",
      "a***b***c***d\n",
      "a__b__c__d\n",
      "舊 : 五倍券要發行了; 領錢了好開心 ; 本來要綁數位消費; 可是系統卡住了嗚嗚\n",
      "新 : 五倍券要發行了-QQ- 領錢了好開心 -QQ- 本來要綁數位消費-QQ- 可是系統卡住了嗚嗚\n",
      "--------------------------------------------------------------------------------\n",
      "  嗨嗨 , 今天星期二.       \n",
      "嗨嗨 , 今天星期二.\n",
      "--------------------------------------------------------------------------------\n",
      "三倍券要發行了; 領錢了好開心 ; 本來要綁實體消費; 可是系統卡住了嗚嗚\n",
      "_ _ _要發行了; 領錢了好開心 ; 本來要綁_ _ _; 可是系統卡住了嗚嗚\n",
      "要發行了; 領錢了好開心 ; 本來要綁; 可是系統卡住了嗚嗚\n"
     ]
    }
   ],
   "source": [
    "# .split , 切割字串\n",
    "sentence2 = \"五倍券要發行了; 領錢了好開心 ; 本來要綁數位消費; 可是系統卡住了嗚嗚\"\n",
    "print(sentence2.split(\";\"))\n",
    "# ['五倍券要發行了', ' 領錢了好開心 ', ' 本來要綁數位消費', ' 可是系統卡住了嗚嗚'] -> 串列 (陣列), list \n",
    "\n",
    "print(sentence2.split(\"了\"))\n",
    "# ['五倍券要發行', '; 領錢', '好開心 ; 本來要綁數位消費; 可是系統卡住', '嗚嗚']\n",
    "\n",
    "sentence3 = \"a-b-c-def-g\"\n",
    "print(sentence3.split(\"-\"))\n",
    "print(sentence3.split(\",\"))\n",
    "\n",
    "print(\"-\"*80)\n",
    "\n",
    "# .join , 將 list 合併成字串\n",
    "data1 = [\"a\",\"b\",\"c\",\"d\"]  # -> list\n",
    "print( \"-\".join(data1)   )\n",
    "print( \"***\".join(data1) )\n",
    "print( \"__\".join(data1) )\n",
    "\n",
    "data2 = sentence2.split(\";\")  # sentence2.split 完 , 變成 list \n",
    "message3 = \"-QQ-\".join(data2) # .join 完 , 又合併成 str\n",
    "print( \"舊 :\" , sentence2)\n",
    "print( \"新 :\" , message3)\n",
    "\n",
    "print(\"-\"*80)\n",
    "\n",
    "# .strip , 去除首尾空白\n",
    "message4 = \"  嗨嗨 , 今天星期二.       \"\n",
    "print(message4)\n",
    "print(message4.strip())\n",
    "\n",
    "print(\"-\"*80)\n",
    "\n",
    "# .replace , 字元取代\n",
    "print( sentence2.replace(\"五\",\"三\").replace(\"數位\",\"實體\")  )\n",
    "print( sentence2.replace(\"五倍券\",\"_ _ _\").replace(\"數位消費\",\"_ _ _\").replace(\"程式\",\"_ _ _\") )\n",
    "print( sentence2.replace(\"五倍券\",\"\").replace(\"數位消費\",\"\").replace(\"程式\",\"\") )"
   ]
  }
 ],
 "metadata": {
  "kernelspec": {
   "display_name": "Python 3",
   "language": "python",
   "name": "python3"
  },
  "language_info": {
   "codemirror_mode": {
    "name": "ipython",
    "version": 3
   },
   "file_extension": ".py",
   "mimetype": "text/x-python",
   "name": "python",
   "nbconvert_exporter": "python",
   "pygments_lexer": "ipython3",
   "version": "3.8.8"
  }
 },
 "nbformat": 4,
 "nbformat_minor": 5
}
