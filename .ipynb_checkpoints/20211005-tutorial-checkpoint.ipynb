{
 "cells": [
  {
   "cell_type": "code",
   "execution_count": 6,
   "id": "d691b507",
   "metadata": {},
   "outputs": [
    {
     "name": "stdout",
     "output_type": "stream",
     "text": [
      "請輸入日期 :123\n",
      "今天是 123\n",
      "請輸入年紀 :18\n"
     ]
    },
    {
     "ename": "TypeError",
     "evalue": "can only concatenate str (not \"int\") to str",
     "output_type": "error",
     "traceback": [
      "\u001b[0;31m---------------------------------------------------------------------------\u001b[0m",
      "\u001b[0;31mTypeError\u001b[0m                                 Traceback (most recent call last)",
      "\u001b[0;32m<ipython-input-6-3f901bd5bdf9>\u001b[0m in \u001b[0;36m<module>\u001b[0;34m\u001b[0m\n\u001b[1;32m     13\u001b[0m \u001b[0;34m\u001b[0m\u001b[0m\n\u001b[1;32m     14\u001b[0m \u001b[0;31m# 新的 age 值 = 舊的 age + 3\u001b[0m\u001b[0;34m\u001b[0m\u001b[0;34m\u001b[0m\u001b[0;34m\u001b[0m\u001b[0m\n\u001b[0;32m---> 15\u001b[0;31m \u001b[0mage\u001b[0m \u001b[0;34m=\u001b[0m \u001b[0mage\u001b[0m \u001b[0;34m+\u001b[0m \u001b[0;36m3\u001b[0m\u001b[0;34m\u001b[0m\u001b[0;34m\u001b[0m\u001b[0m\n\u001b[0m\u001b[1;32m     16\u001b[0m \u001b[0;34m\u001b[0m\u001b[0m\n\u001b[1;32m     17\u001b[0m \u001b[0mprint\u001b[0m\u001b[0;34m(\u001b[0m \u001b[0;34m\"您的年紀 +3 歲是\"\u001b[0m \u001b[0;34m,\u001b[0m \u001b[0mage\u001b[0m\u001b[0;34m)\u001b[0m\u001b[0;34m\u001b[0m\u001b[0;34m\u001b[0m\u001b[0m\n",
      "\u001b[0;31mTypeError\u001b[0m: can only concatenate str (not \"int\") to str"
     ]
    }
   ],
   "source": [
    "# input \n",
    "today = input(\"請輸入日期 :\")\n",
    "print(\"今天是\" , today)\n",
    "\n",
    "age = input(\"請輸入年紀 :\")\n",
    "# print( \"您的年紀是\" , age)\n",
    "\n",
    "##################################################\n",
    "\n",
    "# 幫 age + 3 \n",
    "# 資料轉換\n",
    "# 新的 age 值 = 舊的 age 轉數字\n",
    "age = int(age)\n",
    "\n",
    "# 新的 age 值 = 舊的 age + 3\n",
    "age = age + 3\n",
    "\n",
    "print( \"您的年紀 +3 歲是\" , age)\n"
   ]
  },
  {
   "cell_type": "code",
   "execution_count": 2,
   "id": "93321ccd",
   "metadata": {},
   "outputs": [
    {
     "name": "stdout",
     "output_type": "stream",
     "text": [
      "<class 'str'>\n",
      "<class 'int'>\n",
      "<class 'str'>\n",
      "--------------------------------------------------------------------------------\n"
     ]
    }
   ],
   "source": [
    "# type\n",
    "name = \"Jeff\"\n",
    "print( type(name)   )   ## str --> 字串\n",
    "print( type(123)    )   ## int --> 數值\n",
    "print(type(\"book\"))     ## str \n",
    "\n",
    "\n",
    "print( \"-\"*80 )\n",
    "\n",
    "#### \n",
    "#### Ctrl + / (Shift 旁邊) 打開註解\n",
    "\n",
    "age2 = input(\"請輸入年紀:\")\n",
    "\n",
    "print(\"我是原本資料 :\" , type(age2))\n",
    "\n",
    "# 將 str (字串) 轉成 int (數值) \n",
    "age2 = int(age2)\n",
    "\n",
    "print(\"我是轉換後的資料 :\" , type(age2))"
   ]
  },
  {
   "cell_type": "code",
   "execution_count": 7,
   "id": "60667457",
   "metadata": {},
   "outputs": [
    {
     "name": "stdout",
     "output_type": "stream",
     "text": [
      "37\n",
      "-13\n",
      "300\n",
      "0.48\n",
      "------------------------------------------------------------\n",
      "8.71664\n",
      "1.1311239193083575\n",
      "------------------------------------------------------------\n",
      "(4-2j)\n",
      "(3.6666666666666665+0.6666666666666666j)\n",
      "------------------------------------------------------------\n",
      "False\n",
      "True\n"
     ]
    }
   ],
   "source": [
    "### 資料型別\n",
    "\n",
    "# int , 整數\n",
    "a = 12\n",
    "b = 25\n",
    "print(a+b)\n",
    "print(a-b)\n",
    "print(a*b)\n",
    "print(a/b)\n",
    "\n",
    "print(\"-\"*60)\n",
    "\n",
    "# float , 浮點數\n",
    "c = 3.14\n",
    "d = 2.776\n",
    "print(c*d)\n",
    "print(c/d)\n",
    "\n",
    "print(\"-\"*60)\n",
    "\n",
    "# complex , 複數\n",
    "e = 1+2j\n",
    "f = 3-4j\n",
    "print(e+f)\n",
    "print(e*f/3)\n",
    "\n",
    "print(\"-\"*60)\n",
    "\n",
    "# bool , 布林值\n",
    "g = True\n",
    "h = False\n",
    "\n",
    "print(g and h)\n",
    "print(g or h)"
   ]
  },
  {
   "cell_type": "code",
   "execution_count": null,
   "id": "8ea4879d",
   "metadata": {},
   "outputs": [],
   "source": []
  }
 ],
 "metadata": {
  "kernelspec": {
   "display_name": "Python 3",
   "language": "python",
   "name": "python3"
  },
  "language_info": {
   "codemirror_mode": {
    "name": "ipython",
    "version": 3
   },
   "file_extension": ".py",
   "mimetype": "text/x-python",
   "name": "python",
   "nbconvert_exporter": "python",
   "pygments_lexer": "ipython3",
   "version": "3.8.8"
  }
 },
 "nbformat": 4,
 "nbformat_minor": 5
}
