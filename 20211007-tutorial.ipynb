{
 "cells": [
  {
   "cell_type": "code",
   "execution_count": 10,
   "id": "4edb39f8",
   "metadata": {},
   "outputs": [
    {
     "name": "stdout",
     "output_type": "stream",
     "text": [
      "if-else 開始！！！\n",
      "x 是 0 !!!\n",
      "if-else 結束！！！\n"
     ]
    }
   ],
   "source": [
    "### 流程控制1 --> if-else \n",
    "\n",
    "## if-else\n",
    "# x = 20\n",
    "# if x >0 :\n",
    "#     print(\"x 是 正數\")   # 縮排 \n",
    "#     print(\"-\"*20)\n",
    "#     print(\"嗨嗨 , 我是 Jeff 老師~~~\")\n",
    "# else:\n",
    "#     print(\"x 是 負數 !!!\")\n",
    "#     a = 12 \n",
    "#     b = 25 \n",
    "#     print(a+b)\n",
    "\n",
    "## if-elif-else \n",
    "x = 0\n",
    "\n",
    "print(\"if-else 開始！！！\")\n",
    "\n",
    "if x>0:\n",
    "    print(\"x 是正數\")\n",
    "elif x == 0:\n",
    "    print(\"x 是 0 !!!\")\n",
    "else:   # 改成 elif x <0 :\n",
    "    print(\"x 是負數 ~~\")\n",
    "    \n",
    "print(\"if-else 結束！！！\")\n"
   ]
  },
  {
   "cell_type": "code",
   "execution_count": 22,
   "id": "a60b2e5e",
   "metadata": {},
   "outputs": [
    {
     "name": "stdout",
     "output_type": "stream",
     "text": [
      "請輸入數字 :234\n",
      "<class 'str'>\n",
      "<class 'int'>\n",
      "偶數 , A組 !!\n"
     ]
    }
   ],
   "source": [
    "## a = 234 -> 如果是 偶數 , 分配到 A 組 ; 如果是 奇數 , 分配到 B 組  (% , 取餘數)\n",
    "# a = 234\n",
    "\n",
    "# if a%2 == 0:\n",
    "#     print(\"偶數 , A組 !!\")\n",
    "# elif a%2 == 1:   # else\n",
    "#     print(\"奇數 , B組 ~~\")\n",
    "    \n",
    "    \n",
    "####################################################\n",
    "## 請使用者輸入一個數字 , 存到變數 b\n",
    "#   --> 如果是 偶數 , 分配到 A 組 ; 如果是 奇數 , 分配到 B 組  (% , 取餘數)\n",
    "b = input(\"請輸入數字 :\")\n",
    "print(type(b))\n",
    "\n",
    "# 新的 b = 原本的 b 轉成 int \n",
    "b = int(b)\n",
    "print(type(b))\n",
    "\n",
    "if b %2 ==0:\n",
    "    print(\"偶數 , A組 !!\")\n",
    "else:\n",
    "    print(\"奇數 , B組 ~~\")"
   ]
  },
  {
   "cell_type": "code",
   "execution_count": 41,
   "id": "af365a22",
   "metadata": {},
   "outputs": [
    {
     "name": "stdout",
     "output_type": "stream",
     "text": [
      "您的組別是 乙組 !!!\n"
     ]
    }
   ],
   "source": [
    "#### 小試身手 1-1 \n",
    "number = 35\n",
    "type_name = \"\" # 和 type 保留字做區隔\n",
    "\n",
    "\n",
    "if number >= 100:\n",
    "    type_name = \"丁組\"\n",
    "elif 50<= number < 100:  # 也可寫成 elif number <100 and number >=50:\n",
    "    type_name = \"丙組\"\n",
    "elif  0<= number <50 :   # 也可寫成 elif number <50 and number>=0:\n",
    "    type_name = \"乙組\"\n",
    "else:\n",
    "    type_name = \"甲組\"\n",
    "    \n",
    "print(\"您的組別是\" , type_name, \"!!!\")"
   ]
  },
  {
   "cell_type": "code",
   "execution_count": 45,
   "id": "c411ae4d",
   "metadata": {},
   "outputs": [
    {
     "name": "stdout",
     "output_type": "stream",
     "text": [
      "您的消費金額為 $1,000 !!!\n"
     ]
    }
   ],
   "source": [
    "#### 小試身手 1-2 \n",
    "age = 60 \n",
    "gender = \"M\"   # M: 男生 ; F: 女生\n",
    "\n",
    "# 巢狀 if-else\n",
    "if gender == \"F\":\n",
    "    print(\"您的消費金額為 $500 ~\")\n",
    "else:\n",
    "    if age >= 30 :\n",
    "        print(\"您的消費金額為 $1,000 !!!\")\n",
    "    else:\n",
    "        print(\"您的消費金額為 $700 !!!\")"
   ]
  },
  {
   "cell_type": "code",
   "execution_count": 49,
   "id": "eb3498e9",
   "metadata": {},
   "outputs": [
    {
     "name": "stdout",
     "output_type": "stream",
     "text": [
      "總和 : 225\n",
      "平均 : 75.0\n"
     ]
    }
   ],
   "source": [
    "### 求總和 & 平均\n",
    "s1 = 55\n",
    "s2 = 99\n",
    "s3 = 71\n",
    "s4 = 100 \n",
    "s5 = 99\n",
    "s6 = 75 \n",
    "s7 = 96\n",
    "\n",
    "# sum # 保留字 \n",
    "\n",
    "scores_sum = s1 + s2 + s3 + s4 + s5 + s6 + s7\n",
    "scores_avg = scores_sum / 7\n",
    "\n",
    "print(\"總和 :\" , scores_sum)\n",
    "print(\"平均 :\" , scores_avg)"
   ]
  },
  {
   "cell_type": "code",
   "execution_count": 53,
   "id": "c859d7ee",
   "metadata": {},
   "outputs": [
    {
     "name": "stdout",
     "output_type": "stream",
     "text": [
      "<class 'list'>\n",
      "個數 : 11\n",
      "總和 : 915\n",
      "平均 : 83.18181818181819\n"
     ]
    }
   ],
   "source": [
    "### 串列 (list)\n",
    "scores = [55,99,71,100,99,75,96,78,97,66,79]\n",
    "print( type(scores) )\n",
    "\n",
    "scores_sum2 = sum(scores)\n",
    "scores_avg2 = scores_sum2 / len(scores)\n",
    "\n",
    "print(\"個數 :\" , len(scores))\n",
    "print(\"總和 :\" , scores_sum2)\n",
    "print(\"平均 :\" , scores_avg2)"
   ]
  },
  {
   "cell_type": "code",
   "execution_count": 65,
   "id": "ab70695b",
   "metadata": {},
   "outputs": [
    {
     "name": "stdout",
     "output_type": "stream",
     "text": [
      "[1, 2, 3, 4, 5]\n",
      "['a', 'b', 'c', '123', '789']\n",
      "['嗨嗨', 1234, True, None, [4567]]\n",
      "c\n",
      "e\n",
      "['c', 'd', 'e']\n",
      "['a', 'b', 'c', 'd']\n",
      "['a', 'b', 'c', 'd']\n",
      "['aaa', 'bb', 'c', 'd', 'kkk']\n",
      "------------------------------------------------------------\n",
      "This\n",
      "a\n"
     ]
    }
   ],
   "source": [
    "data1 = [1,2,3,4,5]\n",
    "print(data1)\n",
    "\n",
    "data2 = [\"a\",\"b\",\"c\",\"123\",\"789\"]\n",
    "print(data2)\n",
    "\n",
    "data3 = [\"嗨嗨\",1234,True,None, [4567] ]\n",
    "print(data3)\n",
    "\n",
    "\n",
    "### list 常用方法\n",
    "## 取值 & 修改值\n",
    "\n",
    "# 取值 -> 透過 index (索引值 , 從 0 開始)\n",
    "data4 = [\"a\",\"b\",\"c\",\"d\",\"e\"]\n",
    "print( data4[2] )\n",
    "print( data4[4] )\n",
    "print( data4[2:] )  # -> 從2開始抓到 結尾 , 抓出子 list \n",
    "print( data4[0:4])  # -> 從頭開始抓到 4 , 但不包含 4\n",
    "print( data4[:4] )  # -> 從頭開始抓到 4 , 但不包含 4\n",
    "\n",
    "# 修改值 -> 透過 index\n",
    "data4[4] = \"kkk\"\n",
    "data4[0] = \"aaa\"\n",
    "data4[1] = \"bb\"\n",
    "print(data4)\n",
    "\n",
    "print(\"-\"*60)\n",
    "\n",
    "## 字串取值\n",
    "data5 = \"This is a book ~~\"\n",
    "print(data5[:4])\n",
    "print(data5[8])"
   ]
  },
  {
   "cell_type": "code",
   "execution_count": 71,
   "id": "e9fd5334",
   "metadata": {},
   "outputs": [
    {
     "name": "stdout",
     "output_type": "stream",
     "text": [
      "['Jeff', 'Leo', 'Keven', 'Stive', 'Holy']\n",
      "['Jeff', 'Leo', 'Keven', 'Stive', 'Holy', 'David', 'Jenny']\n",
      "['Jeff', 'Leo', 'Keven', 'Stive', 'Holy', 'David', 'Jenny', 123, True, 20.31]\n",
      "--------------------------------------------------------------------------------\n",
      "['Jeff', 'Leo', 'Keven', 'Holy', 'David', 'Jenny', 123, True, 20.31]\n",
      "['Jeff', 'Keven', 'Holy', 'David', 'Jenny', 123, True, 20.31]\n",
      "Leo\n"
     ]
    }
   ],
   "source": [
    "data6 = [\"Jeff\",\"Leo\",\"Keven\",\"Stive\",\"Holy\"]\n",
    "print(data6)\n",
    "\n",
    "# .append -> 加入元素\n",
    "data6.append(\"David\")\n",
    "data6.append(\"Jenny\")\n",
    "\n",
    "print(data6)\n",
    "\n",
    "data6.append(123)\n",
    "data6.append(True)\n",
    "data6.append(20.31)\n",
    "\n",
    "print(data6)\n",
    "\n",
    "print(\"-\"*80)\n",
    "\n",
    "# .pop -> 拔除元素\n",
    "data6.pop(3)\n",
    "\n",
    "print(data6)\n",
    "\n",
    "name = data6.pop(1)\n",
    "\n",
    "print(data6)\n",
    "print(name)"
   ]
  }
 ],
 "metadata": {
  "kernelspec": {
   "display_name": "Python 3",
   "language": "python",
   "name": "python3"
  },
  "language_info": {
   "codemirror_mode": {
    "name": "ipython",
    "version": 3
   },
   "file_extension": ".py",
   "mimetype": "text/x-python",
   "name": "python",
   "nbconvert_exporter": "python",
   "pygments_lexer": "ipython3",
   "version": "3.8.8"
  }
 },
 "nbformat": 4,
 "nbformat_minor": 5
}
