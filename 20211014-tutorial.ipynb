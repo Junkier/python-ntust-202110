{
 "cells": [
  {
   "cell_type": "code",
   "execution_count": 30,
   "id": "2bbba761",
   "metadata": {},
   "outputs": [
    {
     "name": "stdout",
     "output_type": "stream",
     "text": [
      "5050\n"
     ]
    }
   ],
   "source": [
    "# 1. 計算 1+2+3+…+100 之總和\n",
    "total = 0\n",
    "message = \"\"\n",
    "for i in range(1,101):\n",
    "    # print(i)\n",
    "    # total = total + i\n",
    "    total += i\n",
    "    \n",
    "    # message = message + \"+{}\".format(i)\n",
    "    # print(\"第 {} 次執行 : {}\".format(i , message))\n",
    "    \n",
    "print(total)"
   ]
  },
  {
   "cell_type": "code",
   "execution_count": 24,
   "id": "d9f008f9",
   "metadata": {},
   "outputs": [
    {
     "name": "stdout",
     "output_type": "stream",
     "text": [
      "--------------------\n",
      "JJJJJ\n",
      "aaaa\n",
      "ccc\n",
      "kk\n",
      "!\n"
     ]
    }
   ],
   "source": [
    "# 3.  有一變數 name=“Jack!” , 試撰寫一程式 , 列印出下列訊息\n",
    "#         JJJJJ\n",
    "#         aaaa\n",
    "#         ccc\n",
    "#         kk\n",
    "#         !\n",
    "print(\"-\"*20)\n",
    "\n",
    "name = \"Jack!\"\n",
    "cnt = 5\n",
    "for w in name:\n",
    "    # 控制 cnt , 數量 -1\n",
    "    # cnt = cnt -1\n",
    "    \n",
    "    print(w*cnt)\n",
    "    \n",
    "    # 控制 cnt , 數量 -1\n",
    "    # cnt = cnt -1\n",
    "    \n",
    "    cnt -= 1\n"
   ]
  },
  {
   "cell_type": "code",
   "execution_count": 33,
   "id": "fb5b37ab",
   "metadata": {},
   "outputs": [
    {
     "name": "stdout",
     "output_type": "stream",
     "text": [
      "7\n",
      "嗨嗨 , 我是 Leo ~~\n"
     ]
    }
   ],
   "source": [
    "### 簡化寫法 += , -=\n",
    "a = 12\n",
    "# a = a +8\n",
    "\n",
    "# 疊加\n",
    "# a += 8\n",
    "\n",
    "a -= 5\n",
    "print(a)\n",
    "\n",
    "msg = \"嗨嗨 , \"\n",
    "\n",
    "#msg = msg + \"我是 Jeff ~~\"\n",
    "msg += \"我是 Leo ~~\"\n",
    "\n",
    "print(msg)"
   ]
  },
  {
   "cell_type": "code",
   "execution_count": 133,
   "id": "52a6921b",
   "metadata": {},
   "outputs": [
    {
     "name": "stdout",
     "output_type": "stream",
     "text": [
      "0.9875391953640874\n",
      "10\n",
      "[10, 44, 14, 36, 45, 34]\n"
     ]
    }
   ],
   "source": [
    "# 大樂透 01~49 可重複地抽6號碼\n",
    "import random\n",
    "r = random.random()  # 產生 0~ 1 之間的隨機小數\n",
    "print(r)\n",
    "\n",
    "r2 = random.randint(1,49)  # 產生 a ~ b 之間 的隨機整數\n",
    "print(r2)\n",
    "\n",
    "data = []\n",
    "\n",
    "for i in range(10):\n",
    "    num = random.randint(1,49)\n",
    "    \n",
    "    if num not in data:\n",
    "        data.append(num)\n",
    "    \n",
    "    if len(data) == 6:\n",
    "        # 結束迴圈\n",
    "        break \n",
    "        \n",
    "#     if num not in data and len(data) <6 :\n",
    "#         data.append(num)\n",
    "     \n",
    "    # print(i)\n",
    "    \n",
    "print(data)"
   ]
  },
  {
   "cell_type": "code",
   "execution_count": 127,
   "id": "453d2691",
   "metadata": {
    "scrolled": true
   },
   "outputs": [
    {
     "name": "stdout",
     "output_type": "stream",
     "text": [
      "第 0 次執行\n",
      "第 1 次執行\n",
      "第 2 次執行\n",
      "第 3 次執行\n",
      "第 4 次執行\n",
      "第 5 次執行\n",
      "第 6 次執行\n",
      "第 7 次執行\n",
      "第 8 次執行\n",
      "第 9 次執行\n",
      "While-loop 結束！\n"
     ]
    }
   ],
   "source": [
    "### while-loop\n",
    "count = 0\n",
    "\n",
    "while count < 10:\n",
    "    print(\"第 {} 次執行\".format(count))\n",
    "    count += 1\n",
    "    \n",
    "print(\"While-loop 結束！\")"
   ]
  },
  {
   "cell_type": "code",
   "execution_count": 135,
   "id": "ff051ff2",
   "metadata": {},
   "outputs": [
    {
     "name": "stdout",
     "output_type": "stream",
     "text": [
      "55\n"
     ]
    }
   ],
   "source": [
    "# 1. 計算 1+2+3+…+100 之總和\n",
    "i = 1\n",
    "total2 = 0\n",
    "\n",
    "while i <=100:\n",
    "    total2 += i\n",
    "    i+=1\n",
    "    \n",
    "print(total2)"
   ]
  },
  {
   "cell_type": "code",
   "execution_count": 140,
   "id": "2d06f8e7",
   "metadata": {},
   "outputs": [
    {
     "name": "stdout",
     "output_type": "stream",
     "text": [
      "a\n",
      "c\n",
      "JJJJJ\n",
      "aaaa\n",
      "ccc\n",
      "kk\n",
      "!\n",
      "Done.\n"
     ]
    }
   ],
   "source": [
    "# 3.  有一變數 name=“Jack!” , 試撰寫一程式 , 列印出下列訊息\n",
    "#         JJJJJ\n",
    "#         aaaa\n",
    "#         ccc\n",
    "#         kk\n",
    "#         !\n",
    "i = 5\n",
    "name = \"Jack!\"\n",
    "print(name[1])\n",
    "print(name[2])\n",
    "\n",
    "while i >0 :\n",
    "    # i=5 --> 希望抓到 \"J\" , index=0\n",
    "    # i=4 --> 希望抓到 \"a\" , index=1\n",
    "    # i=3 --> 希望抓到 \"c\" , index=2\n",
    "    w = name[5-i]\n",
    "    print(w*i)\n",
    "    i -=1\n",
    "    \n",
    "print(\"Done.\")"
   ]
  },
  {
   "cell_type": "code",
   "execution_count": 171,
   "id": "3ae9faf5",
   "metadata": {},
   "outputs": [
    {
     "name": "stdout",
     "output_type": "stream",
     "text": [
      "Done.\n",
      "總共執行 7 次\n",
      "[40, 18, 48, 35, 21, 38]\n"
     ]
    }
   ],
   "source": [
    "# 大樂透 01~49 不重複地抽 6 號碼\n",
    "import random\n",
    "\n",
    "cnt = 0\n",
    "data2 = []\n",
    "\n",
    "# while cnt<6:\n",
    "\n",
    "while len(data2)<6 :\n",
    "    cnt +=1\n",
    "    num2 = random.randint(1,49)\n",
    "    \n",
    "    if num2 not in data2:\n",
    "        data2.append(num2)\n",
    "        \n",
    "    # print(cnt)\n",
    "    \n",
    "print(\"Done.\")\n",
    "print(\"總共執行 {} 次\".format(cnt))\n",
    "print(data2)"
   ]
  },
  {
   "cell_type": "code",
   "execution_count": 175,
   "id": "3f2dbee4",
   "metadata": {},
   "outputs": [
    {
     "name": "stdout",
     "output_type": "stream",
     "text": [
      "0 開始！！\n",
      "0 a\n",
      "0 b\n",
      "0 c\n",
      "0 結束！！\n",
      "------------------------------------------------------------\n",
      "1 開始！！\n",
      "1 a\n",
      "1 b\n",
      "1 c\n",
      "1 結束！！\n",
      "------------------------------------------------------------\n",
      "2 開始！！\n",
      "2 a\n",
      "2 b\n",
      "2 c\n",
      "2 結束！！\n",
      "------------------------------------------------------------\n",
      "3 開始！！\n",
      "3 a\n",
      "3 b\n",
      "3 c\n",
      "3 結束！！\n",
      "------------------------------------------------------------\n",
      "4 開始！！\n",
      "4 a\n",
      "4 b\n",
      "4 c\n",
      "4 結束！！\n",
      "------------------------------------------------------------\n"
     ]
    }
   ],
   "source": [
    "### 雙重迴圈 (巢狀迴圈)\n",
    "\n",
    "for i in range(5):\n",
    "    print(\"{} 開始！！\".format(i))\n",
    "    \n",
    "    for j in [\"a\",\"b\",\"c\"]:\n",
    "        print(i,j)\n",
    "        \n",
    "    print(\"{} 結束！！\".format(i))\n",
    "    print(\"-\"*60)"
   ]
  },
  {
   "cell_type": "code",
   "execution_count": 178,
   "id": "89a47d2b",
   "metadata": {
    "scrolled": true
   },
   "outputs": [
    {
     "name": "stdout",
     "output_type": "stream",
     "text": [
      "1X1=1\n",
      "1X2=2\n",
      "1X3=3\n",
      "1X4=4\n",
      "1X5=5\n",
      "1X6=6\n",
      "1X7=7\n",
      "1X8=8\n",
      "1X9=9\n",
      "2X1=2\n",
      "2X2=4\n",
      "2X3=6\n",
      "2X4=8\n",
      "2X5=10\n",
      "2X6=12\n",
      "2X7=14\n",
      "2X8=16\n",
      "2X9=18\n",
      "3X1=3\n",
      "3X2=6\n",
      "3X3=9\n",
      "3X4=12\n",
      "3X5=15\n",
      "3X6=18\n",
      "3X7=21\n",
      "3X8=24\n",
      "3X9=27\n",
      "4X1=4\n",
      "4X2=8\n",
      "4X3=12\n",
      "4X4=16\n",
      "4X5=20\n",
      "4X6=24\n",
      "4X7=28\n",
      "4X8=32\n",
      "4X9=36\n",
      "5X1=5\n",
      "5X2=10\n",
      "5X3=15\n",
      "5X4=20\n",
      "5X5=25\n",
      "5X6=30\n",
      "5X7=35\n",
      "5X8=40\n",
      "5X9=45\n",
      "6X1=6\n",
      "6X2=12\n",
      "6X3=18\n",
      "6X4=24\n",
      "6X5=30\n",
      "6X6=36\n",
      "6X7=42\n",
      "6X8=48\n",
      "6X9=54\n",
      "7X1=7\n",
      "7X2=14\n",
      "7X3=21\n",
      "7X4=28\n",
      "7X5=35\n",
      "7X6=42\n",
      "7X7=49\n",
      "7X8=56\n",
      "7X9=63\n",
      "8X1=8\n",
      "8X2=16\n",
      "8X3=24\n",
      "8X4=32\n",
      "8X5=40\n",
      "8X6=48\n",
      "8X7=56\n",
      "8X8=64\n",
      "8X9=72\n",
      "9X1=9\n",
      "9X2=18\n",
      "9X3=27\n",
      "9X4=36\n",
      "9X5=45\n",
      "9X6=54\n",
      "9X7=63\n",
      "9X8=72\n",
      "9X9=81\n"
     ]
    }
   ],
   "source": [
    "### 9X9 乘法表\n",
    "# 顯示 \n",
    "# 1X1=1 \n",
    "# 1X2=2 \n",
    "# .... \n",
    "# 1X9=9 \n",
    "# 2X1=2 \n",
    "# 2X2=4 \n",
    "# .... \n",
    "# 9X9=81\n",
    "\n",
    "for i in range(1,10):\n",
    "    for j in range(1,10):\n",
    "        # print(i,j)\n",
    "        print(\"{}X{}={}\".format(i,j,i*j))"
   ]
  },
  {
   "cell_type": "code",
   "execution_count": null,
   "id": "7b438c0d",
   "metadata": {},
   "outputs": [],
   "source": [
    "### 小試身手-說明\n",
    "# data = [\"a\",\"b\",\"c\",\"a\",\"c\",\"c\",\"e\",\"qq\"]\n",
    "\n",
    "# # 期望最後答案\n",
    "# --> result = {\n",
    "#     \"a\" : 2,\n",
    "#     \"b\" : 1,\n",
    "#     \"c\" : 3,\n",
    "#     \"e\" : 1,\n",
    "#     \"qq\": 1\n",
    "# }"
   ]
  },
  {
   "cell_type": "code",
   "execution_count": 182,
   "id": "f70fc81e",
   "metadata": {},
   "outputs": [
    {
     "name": "stdout",
     "output_type": "stream",
     "text": [
      "[-1, 2, 2, 5, 11]\n",
      "[11, 5, 2, 2, -1]\n"
     ]
    }
   ],
   "source": [
    "# sorted --> 排序函式\n",
    "a = [2,-1,2,5,11]\n",
    "print(sorted(a))\n",
    "print( sorted(a , reverse = True ) )"
   ]
  },
  {
   "cell_type": "code",
   "execution_count": 184,
   "id": "275a543b",
   "metadata": {},
   "outputs": [
    {
     "name": "stdout",
     "output_type": "stream",
     "text": [
      "Math sum : 477\n",
      "Math avg : 95.4\n",
      "Math max : 100\n",
      "--------------------------------------------------------------------------------\n",
      "Eng sum : 364\n",
      "Eng avg : 72.8\n",
      "Eng max : 87\n",
      "--------------------------------------------------------------------------------\n",
      "Chinese sum : 244\n",
      "Chinese avg : 48.8\n",
      "Chinese max : 95\n"
     ]
    }
   ],
   "source": [
    "math = [87,100,97,99,94]\n",
    "eng  = [78,86,47,87,66]\n",
    "chinese = [10,95,61,53,25]\n",
    "\n",
    "print(\"Math sum : {}\".format( sum(math) ))\n",
    "print(\"Math avg : {}\".format( sum(math) / len(math) ))\n",
    "print(\"Math max : {}\".format( sorted(math,reverse=True)[0] ) )\n",
    "\n",
    "print(\"-\"*80)\n",
    "\n",
    "print(\"Eng sum : {}\".format( sum(eng) ))\n",
    "print(\"Eng avg : {}\".format( sum(eng) / len(eng) ))\n",
    "print(\"Eng max : {}\".format( sorted(eng,reverse=True)[0] ) )\n",
    "\n",
    "print(\"-\"*80)\n",
    "\n",
    "print(\"Chinese sum : {}\".format( sum(chinese) ))\n",
    "print(\"Chinese avg : {}\".format( sum(chinese) / len(chinese) ))\n",
    "print(\"Chinese max : {}\".format( sorted(chinese,reverse=True)[0] ) )\n"
   ]
  },
  {
   "cell_type": "code",
   "execution_count": 189,
   "id": "54ea016a",
   "metadata": {},
   "outputs": [
    {
     "name": "stdout",
     "output_type": "stream",
     "text": [
      "[7, -3, 10, 0.4]\n",
      "[11, -9, 10, 0.1]\n",
      "[-4, 2, 3, 0.3333333333333333]\n",
      "------------------------------------------------------------\n",
      "執行 say_hello 函式～\n",
      "嗨嗨 , 我是 Jeff\n",
      "執行 say_hello 函式～\n",
      "嗨嗨 , 我是 Leo\n"
     ]
    }
   ],
   "source": [
    "### func-1\n",
    "### 函式 , function , 也稱為 函數\n",
    "def calculate(x,y):\n",
    "    return [x+y,x-y,x*y,x/y]\n",
    "\n",
    "r1 = calculate(2,5)\n",
    "print(r1)\n",
    "\n",
    "r2 = calculate(1,10)\n",
    "r3 = calculate(-1,-3)\n",
    "print(r2)\n",
    "print(r3)\n",
    "\n",
    "print(\"-\"*60)\n",
    "\n",
    "\n",
    "def say_hello(name):\n",
    "    print(\"執行 say_hello 函式～\")\n",
    "    print(\"嗨嗨 , 我是 {}\".format(name))\n",
    "    \n",
    "\n",
    "say_hello(\"Jeff\")\n",
    "say_hello(\"Leo\")"
   ]
  },
  {
   "cell_type": "code",
   "execution_count": 192,
   "id": "e9aeb3ae",
   "metadata": {},
   "outputs": [
    {
     "name": "stdout",
     "output_type": "stream",
     "text": [
      "Jeff\n",
      "Age : 18\n",
      "Remark : 嗨嗨～～\n",
      "Leo\n",
      "Age : 22\n",
      "Remark : 好熱～～～\n",
      "function 執行結束\n",
      "r4: Done.\n",
      "r5: Done.\n"
     ]
    }
   ],
   "source": [
    "### func-2\n",
    "# 定義 function\n",
    "def test_func(name,age,remark=\"嗨嗨～～\"):\n",
    "    print(name)\n",
    "    print(\"Age : {}\".format(age))\n",
    "    print(\"Remark : {}\".format(remark))\n",
    "    return \"Done.\"\n",
    "\n",
    "# 使用 function\n",
    "r4 = test_func(\"Jeff\",18)\n",
    "r5 = test_func(\"Leo\",22,\"好熱～～～\")\n",
    "\n",
    "print(\"function 執行結束\")\n",
    "print(\"r4:\",r4)\n",
    "print(\"r5:\",r5)"
   ]
  },
  {
   "cell_type": "code",
   "execution_count": 197,
   "id": "861d29c9",
   "metadata": {},
   "outputs": [
    {
     "name": "stdout",
     "output_type": "stream",
     "text": [
      "Math sum : 477\n",
      "Math avg : 95.4\n",
      "Math max : 100\n",
      "--------------------------------------------------------------------------------\n",
      "Eng sum : 364\n",
      "Eng avg : 72.8\n",
      "Eng max : 87\n",
      "--------------------------------------------------------------------------------\n",
      "Chinese sum : 244\n",
      "Chinese avg : 48.8\n",
      "Chinese max : 95\n",
      "100\n",
      "87\n",
      "95\n"
     ]
    }
   ],
   "source": [
    "### func-3\n",
    "\n",
    "# 定義 function\n",
    "def get_scores_info(name,data):\n",
    "    print(\"{} sum : {}\".format( name , sum(data) ))\n",
    "    print(\"{} avg : {}\".format( name , sum(data) / len(data) ))    \n",
    "    max_value = sorted(data,reverse=True)[0]\n",
    "    print(\"{} max : {}\".format( name , max_value ) )\n",
    "\n",
    "    return max_value\n",
    "    \n",
    "    \n",
    "    \n",
    "\n",
    "# 呼叫(使用) function\n",
    "math = [87,100,97,99,94]\n",
    "eng  = [78,86,47,87,66]\n",
    "chinese = [10,95,61,53,25]\n",
    "\n",
    "math_result = get_scores_info(\"Math\" , math)\n",
    "\n",
    "print(\"-\"*80)\n",
    "\n",
    "eng_result = get_scores_info(\"Eng\"  , eng)\n",
    "\n",
    "print(\"-\"*80)\n",
    "\n",
    "ch_result = get_scores_info(\"Chinese\" ,chinese)\n",
    "\n",
    "print(math_result)\n",
    "print(eng_result)\n",
    "print(ch_result)"
   ]
  },
  {
   "cell_type": "code",
   "execution_count": 202,
   "id": "c9f6c9d9",
   "metadata": {},
   "outputs": [
    {
     "name": "stdout",
     "output_type": "stream",
     "text": [
      "嗨嗨 , 我是 Jeff\n",
      "--------------------------------------------------------------------------------\n",
      "嗨嗨 , 我是 Jeff\n",
      "********************************************************************************\n",
      "********************************************************************************\n",
      "********************************************************************************\n",
      "嗨嗨 , 我是 Jeff\n",
      "今天星期四\n",
      "--------------------------------------------------------------------------------\n",
      "嗨嗨 , 我是 Jeff\n",
      "None\n"
     ]
    }
   ],
   "source": [
    "### func-4\n",
    "def say_hello(name):\n",
    "    print(\"嗨嗨 , 我是 {}\".format(name))\n",
    "    \n",
    "def say_hello_with_return(name):\n",
    "    print(\"嗨嗨 , 我是 {}\".format(name))\n",
    "    return \"今天星期四\"\n",
    "\n",
    "teacher = \"Jeff\"\n",
    "say_hello_with_return(teacher)\n",
    "print(\"-\"*80)\n",
    "say_hello(teacher)\n",
    "\n",
    "print(\"*\"*80)\n",
    "print(\"*\"*80)\n",
    "print(\"*\"*80)\n",
    "\n",
    "a = say_hello_with_return(teacher)\n",
    "print(a)\n",
    "print(\"-\"*80)\n",
    "b = say_hello(teacher)\n",
    "print(b)"
   ]
  }
 ],
 "metadata": {
  "kernelspec": {
   "display_name": "Python 3",
   "language": "python",
   "name": "python3"
  },
  "language_info": {
   "codemirror_mode": {
    "name": "ipython",
    "version": 3
   },
   "file_extension": ".py",
   "mimetype": "text/x-python",
   "name": "python",
   "nbconvert_exporter": "python",
   "pygments_lexer": "ipython3",
   "version": "3.8.8"
  }
 },
 "nbformat": 4,
 "nbformat_minor": 5
}
