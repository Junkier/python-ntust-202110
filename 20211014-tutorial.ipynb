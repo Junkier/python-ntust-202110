{
 "cells": [
  {
   "cell_type": "code",
   "execution_count": 30,
   "id": "ca2ee625",
   "metadata": {},
   "outputs": [
    {
     "name": "stdout",
     "output_type": "stream",
     "text": [
      "5050\n"
     ]
    }
   ],
   "source": [
    "# 1. 計算 1+2+3+…+100 之總和\n",
    "total = 0\n",
    "message = \"\"\n",
    "for i in range(1,101):\n",
    "    # print(i)\n",
    "    # total = total + i\n",
    "    total += i\n",
    "    \n",
    "    # message = message + \"+{}\".format(i)\n",
    "    # print(\"第 {} 次執行 : {}\".format(i , message))\n",
    "    \n",
    "print(total)"
   ]
  },
  {
   "cell_type": "code",
   "execution_count": 24,
   "id": "d4eb4a64",
   "metadata": {},
   "outputs": [
    {
     "name": "stdout",
     "output_type": "stream",
     "text": [
      "--------------------\n",
      "JJJJJ\n",
      "aaaa\n",
      "ccc\n",
      "kk\n",
      "!\n"
     ]
    }
   ],
   "source": [
    "# 3.  有一變數 name=“Jack!” , 試撰寫一程式 , 列印出下列訊息\n",
    "#         JJJJJ\n",
    "#         aaaa\n",
    "#         ccc\n",
    "#         kk\n",
    "#         !\n",
    "print(\"-\"*20)\n",
    "\n",
    "name = \"Jack!\"\n",
    "cnt = 5\n",
    "for w in name:\n",
    "    # 控制 cnt , 數量 -1\n",
    "    # cnt = cnt -1\n",
    "    \n",
    "    print(w*cnt)\n",
    "    \n",
    "    # 控制 cnt , 數量 -1\n",
    "    # cnt = cnt -1\n",
    "    \n",
    "    cnt -= 1\n"
   ]
  },
  {
   "cell_type": "code",
   "execution_count": 33,
   "id": "3ef7b6c7",
   "metadata": {},
   "outputs": [
    {
     "name": "stdout",
     "output_type": "stream",
     "text": [
      "7\n",
      "嗨嗨 , 我是 Leo ~~\n"
     ]
    }
   ],
   "source": [
    "### 簡化寫法 += , -=\n",
    "a = 12\n",
    "# a = a +8\n",
    "\n",
    "# 疊加\n",
    "# a += 8\n",
    "\n",
    "a -= 5\n",
    "print(a)\n",
    "\n",
    "msg = \"嗨嗨 , \"\n",
    "\n",
    "#msg = msg + \"我是 Jeff ~~\"\n",
    "msg += \"我是 Leo ~~\"\n",
    "\n",
    "print(msg)"
   ]
  },
  {
   "cell_type": "code",
   "execution_count": 102,
   "id": "ad9d42bb",
   "metadata": {},
   "outputs": [
    {
     "name": "stdout",
     "output_type": "stream",
     "text": [
      "0.43036064737179824\n",
      "30\n",
      "[15, 17, 42, 5, 17, 2]\n"
     ]
    }
   ],
   "source": [
    "# 大樂透 01~49 可重複地抽6號碼\n",
    "import random\n",
    "r = random.random()  # 產生 0~ 1 之間的隨機小數\n",
    "print(r)\n",
    "\n",
    "r2 = random.randint(1,49)  # 產生 a ~ b 之間 的隨機整數\n",
    "print(r2)\n",
    "\n",
    "data = []\n",
    "\n",
    "for i in range(6):\n",
    "    num = random.randint(1,49)\n",
    "    data.append(num)\n",
    "    # print(i)\n",
    "    \n",
    "print(data)"
   ]
  }
 ],
 "metadata": {
  "kernelspec": {
   "display_name": "Python 3",
   "language": "python",
   "name": "python3"
  },
  "language_info": {
   "codemirror_mode": {
    "name": "ipython",
    "version": 3
   },
   "file_extension": ".py",
   "mimetype": "text/x-python",
   "name": "python",
   "nbconvert_exporter": "python",
   "pygments_lexer": "ipython3",
   "version": "3.8.8"
  }
 },
 "nbformat": 4,
 "nbformat_minor": 5
}
