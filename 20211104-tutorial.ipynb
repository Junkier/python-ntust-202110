{
 "cells": [
  {
   "cell_type": "code",
   "execution_count": 11,
   "id": "a144a13b",
   "metadata": {},
   "outputs": [],
   "source": [
    "#####  台彩大樂透\n",
    "\n",
    "import requests\n",
    "from bs4 import BeautifulSoup as bs\n",
    "\n",
    "url = \"http://www.taiwanlottery.com.tw/Lotto/Lotto649/history.aspx\"\n",
    "\n",
    "headers = {\n",
    "    \"User-Agent\": \"Mozilla/5.0 (Macintosh; Intel Mac OS X 10_12_6) AppleWebKit/537.36 (KHTML, like Gecko) Chrome/90.0.4430.212 Safari/537.36\"\n",
    "}\n",
    "\n",
    "### 發 POST requests 取得頁面 source code\n",
    "payload = {\n",
    "    \"__VIEWSTATE\": \"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\",\n",
    "    \"__VIEWSTATEGENERATOR\": \"11E838D2\",\n",
    "    \"__EVENTVALIDATION\": \"zb+HN2+dsdkJQ3yodiHE4e1ZYx8eWNS1sBh+dxuoR249kr45X2YzV6gWBGoG5sPsPxrtQyalyQDj6NJhHmz1E3wGNkgAs6/PAtzrYbP2V59w1Ex9zlT7B1L7SWYoVw92FH7prPDm6BM2dD9OxQw6u4IgfrgT9e7tUuNzRJPqIn/iNd9HNejzkt1UMQky5BYdxUrRsp905ohnVjDfkoMffrSaZmXDG+NteJgJ7jfIJ+5/XMwTz+kFaOjnFk5V7VTJk3dJWOn9DGMrfRDNQJnPgY2lxvBz7SzKnf3lLO4gzJqsbvsUHpy23iouaUyaBUEsSMqnlDU8F2EUOL26+3dH4NaGW6LOZ1Bzz7EVix+4wfRmSg+/PSgcnJocDDZ/3bZgPJEOeOesJD8hrEseFtcVBXwjE9ae9vn0O9JptD3hlViPECD/+Tf/+Y18x9FcovcEgJ5BaBRGceCF7SrhwI0h7IwU97Hg7Z1KqIc36w3fiqEJpSJXVvjDJTRLWKT8A74zX8EbHKfaLmeukN8pzpb4+jIdgVMN/eMTGr4YgAEoX2BL5kw51KKpMQT2Y1F0WWUGtp/O63vHNFwv3bh7yW2avqLpNGT7ufc7dXVm8+zbsgp9ME84BdJLnr/0nref2UNA08/CIg==\",\n",
    "    \"forma\": \"請選擇遊戲\",\n",
    "    \"Lotto649Control_history$txtNO\": \"\", # 配入空字串\n",
    "    \"Lotto649Control_history$chk\": \"radYM\",\n",
    "    \"Lotto649Control_history$dropYear\": 108,\n",
    "    \"Lotto649Control_history$dropMonth\": 3,\n",
    "    \"Lotto649Control_history$btnSubmit\": \"查詢\"\n",
    "}\n",
    "\n",
    "res = requests.post(url,headers=headers,data=payload)  ### data 為要攜帶的參數\n",
    "# print(res.text)\n",
    "soup = bs(res.text,\"lxml\")\n",
    "# print(soup)"
   ]
  },
  {
   "cell_type": "code",
   "execution_count": 2,
   "id": "4a11bec0",
   "metadata": {
    "scrolled": true
   },
   "outputs": [
    {
     "data": {
      "text/plain": [
       "[{'no': '108000033',\n",
       "  'time': '108/03/29',\n",
       "  'numbers': ['01', '03', '12', '16', '29', '49', '04']},\n",
       " {'no': '108000032',\n",
       "  'time': '108/03/26',\n",
       "  'numbers': ['06', '13', '14', '19', '24', '38', '26']},\n",
       " {'no': '108000031',\n",
       "  'time': '108/03/22',\n",
       "  'numbers': ['01', '12', '16', '37', '41', '47', '36']},\n",
       " {'no': '108000030',\n",
       "  'time': '108/03/19',\n",
       "  'numbers': ['07', '16', '17', '36', '47', '48', '49']},\n",
       " {'no': '108000029',\n",
       "  'time': '108/03/15',\n",
       "  'numbers': ['05', '10', '12', '20', '28', '36', '15']},\n",
       " {'no': '108000028',\n",
       "  'time': '108/03/12',\n",
       "  'numbers': ['05', '07', '22', '37', '40', '45', '12']},\n",
       " {'no': '108000027',\n",
       "  'time': '108/03/08',\n",
       "  'numbers': ['03', '11', '15', '25', '31', '48', '36']},\n",
       " {'no': '108000026',\n",
       "  'time': '108/03/05',\n",
       "  'numbers': ['12', '13', '16', '21', '42', '43', '39']},\n",
       " {'no': '108000025',\n",
       "  'time': '108/03/01',\n",
       "  'numbers': ['01', '08', '14', '27', '40', '45', '34']}]"
      ]
     },
     "execution_count": 2,
     "metadata": {},
     "output_type": "execute_result"
    }
   ],
   "source": [
    "### 整理解析資料的 function \n",
    "def get_clear_data(soup):\n",
    "    tables = soup.select(\"table#Lotto649Control_history_dlQuery table\")\n",
    "    \n",
    "    result = []\n",
    "    \n",
    "    for table_tag in tables:\n",
    "\n",
    "        # 期別 , 開獎日 -> 第二個 tr\n",
    "        tr2 = table_tag.select(\"tr\")[1]\n",
    "\n",
    "        lotto_no   = tr2.select(\"td\")[0].text\n",
    "        lotto_date = tr2.select(\"td\")[1].text.strip()\n",
    "\n",
    "        # 樂透號碼 -> 第五個 tr\n",
    "        tr5 = table_tag.select(\"tr\")[4]\n",
    "\n",
    "        # List comprehension\n",
    "        lotto_numbers_short = [ td_tag.text.strip() for td_tag in tr5.select(\"td\")[1:] ]\n",
    "        \n",
    "        result.append({\n",
    "            \"no\"   : lotto_no,\n",
    "            \"time\" : lotto_date,\n",
    "            \"numbers\" : lotto_numbers_short\n",
    "        })\n",
    "\n",
    "    return result\n",
    "\n",
    "get_clear_data(soup)"
   ]
  },
  {
   "cell_type": "code",
   "execution_count": 12,
   "id": "abff0e85",
   "metadata": {
    "scrolled": true
   },
   "outputs": [],
   "source": [
    "### 取得隱藏參數\n",
    "def get_hidden_params(soup):\n",
    "    __VIEWSTATE = soup.select(\"input#__VIEWSTATE\")[0][\"value\"]\n",
    "    __VIEWSTATEGENERATOR = soup.select(\"input#__VIEWSTATEGENERATOR\")[0][\"value\"]\n",
    "    __EVENTVALIDATION = soup.select(\"input#__EVENTVALIDATION\")[0][\"value\"]\n",
    "    \n",
    "    return {\n",
    "        \"__VIEWSTATE\" : __VIEWSTATE,\n",
    "        \"__VIEWSTATEGENERATOR\" : __VIEWSTATEGENERATOR,\n",
    "        \"__EVENTVALIDATION\" : __EVENTVALIDATION\n",
    "    }\n",
    "\n",
    "\n",
    "# get_hidden_params(soup)"
   ]
  },
  {
   "cell_type": "code",
   "execution_count": 7,
   "id": "ef26b723",
   "metadata": {
    "scrolled": true
   },
   "outputs": [
    {
     "name": "stdout",
     "output_type": "stream",
     "text": [
      "1月 is ok.\n",
      "--------------------------------------------------------------------------------\n",
      "2月 is ok.\n",
      "--------------------------------------------------------------------------------\n",
      "3月 is ok.\n",
      "--------------------------------------------------------------------------------\n",
      "4月 is ok.\n",
      "--------------------------------------------------------------------------------\n",
      "5月 is ok.\n",
      "--------------------------------------------------------------------------------\n",
      "Done.\n"
     ]
    }
   ],
   "source": [
    "### 抓取 1 ~ 5 月 樂透號碼\n",
    "\n",
    "url = \"http://www.taiwanlottery.com.tw/Lotto/Lotto649/history.aspx\"\n",
    "\n",
    "headers = {\n",
    "    \"User-Agent\": \"Mozilla/5.0 (Macintosh; Intel Mac OS X 10_12_6) AppleWebKit/537.36 (KHTML, like Gecko) Chrome/90.0.4430.212 Safari/537.36\"\n",
    "}\n",
    "\n",
    "output = []\n",
    "\n",
    "### 發 POST requests 取得頁面 source code\n",
    "for i in range(1,6):\n",
    "    hidden = get_hidden_params(soup)\n",
    "    payload = {\n",
    "        \"__VIEWSTATE\": hidden[\"__VIEWSTATE\"],\n",
    "        \"__VIEWSTATEGENERATOR\": hidden[\"__VIEWSTATEGENERATOR\"],\n",
    "        \"__EVENTVALIDATION\": hidden[\"__EVENTVALIDATION\"],\n",
    "        \"forma\": \"請選擇遊戲\",\n",
    "        \"Lotto649Control_history$txtNO\": \"\", # 配入空字串\n",
    "        \"Lotto649Control_history$chk\": \"radYM\",\n",
    "        \"Lotto649Control_history$dropYear\": 108,\n",
    "        \"Lotto649Control_history$dropMonth\": i,\n",
    "        \"Lotto649Control_history$btnSubmit\": \"查詢\"\n",
    "    }\n",
    "\n",
    "    res = requests.post(url,headers=headers,data=payload)  ### data 為要攜帶的參數\n",
    "    soup = bs(res.text,\"lxml\")\n",
    "    \n",
    "    data = get_clear_data(soup)\n",
    "    output += data\n",
    "    \n",
    "    # print(data)\n",
    "    print(\"{}月 is ok.\".format(i))\n",
    "    print(\"-\"*80)\n",
    "    \n",
    "print(\"Done.\")"
   ]
  },
  {
   "cell_type": "code",
   "execution_count": 17,
   "id": "68c21172",
   "metadata": {},
   "outputs": [],
   "source": [
    "### Sorted 排序 function\n",
    "# sorted(output , key = lambda ele : ele[\"time\"])"
   ]
  },
  {
   "cell_type": "code",
   "execution_count": 6,
   "id": "0cbfaca6",
   "metadata": {},
   "outputs": [
    {
     "name": "stdout",
     "output_type": "stream",
     "text": [
      "[1, 2, 3, 4, 5, 6]\n",
      "[0, 0, 0, 1, 2, 3]\n"
     ]
    }
   ],
   "source": [
    "### list 疊加\n",
    "a = [1,2,3]\n",
    "b = [4,5,6]\n",
    "\n",
    "print(a+b)\n",
    "\n",
    "c = [0,0,0]\n",
    "c += a\n",
    "print(c)"
   ]
  },
  {
   "cell_type": "code",
   "execution_count": 18,
   "id": "14e303a9",
   "metadata": {
    "scrolled": true
   },
   "outputs": [
    {
     "name": "stdout",
     "output_type": "stream",
     "text": [
      "1月 is ok.\n",
      "2月 is ok.\n",
      "3月 is ok.\n",
      "4月 is ok.\n",
      "5月 is ok.\n",
      "6月 is ok.\n",
      "Done.\n"
     ]
    }
   ],
   "source": [
    "### 組合程式\n",
    "\n",
    "## 引用套件\n",
    "import requests\n",
    "from bs4 import BeautifulSoup as bs\n",
    "\n",
    "## 定義 function\n",
    "\n",
    "def get_hidden_params(soup):\n",
    "    __VIEWSTATE = soup.select(\"input#__VIEWSTATE\")[0][\"value\"]\n",
    "    __VIEWSTATEGENERATOR = soup.select(\"input#__VIEWSTATEGENERATOR\")[0][\"value\"]\n",
    "    __EVENTVALIDATION = soup.select(\"input#__EVENTVALIDATION\")[0][\"value\"]\n",
    "    \n",
    "    return {\n",
    "        \"__VIEWSTATE\" : __VIEWSTATE,\n",
    "        \"__VIEWSTATEGENERATOR\" : __VIEWSTATEGENERATOR,\n",
    "        \"__EVENTVALIDATION\" : __EVENTVALIDATION\n",
    "    }\n",
    "\n",
    "def get_clear_data(soup):\n",
    "    tables = soup.select(\"table#Lotto649Control_history_dlQuery table\")\n",
    "    \n",
    "    result = []\n",
    "    \n",
    "    for table_tag in tables:\n",
    "\n",
    "        # 期別 , 開獎日 -> 第二個 tr\n",
    "        tr2 = table_tag.select(\"tr\")[1]\n",
    "\n",
    "        lotto_no   = tr2.select(\"td\")[0].text\n",
    "        lotto_date = tr2.select(\"td\")[1].text.strip()\n",
    "\n",
    "        # 樂透號碼 -> 第五個 tr\n",
    "        tr5 = table_tag.select(\"tr\")[4]\n",
    "\n",
    "        # List comprehension\n",
    "        lotto_numbers_short = [ td_tag.text.strip() for td_tag in tr5.select(\"td\")[1:] ]\n",
    "        \n",
    "        result.append({\n",
    "            \"no\"   : lotto_no,\n",
    "            \"time\" : lotto_date,\n",
    "            \"numbers\" : lotto_numbers_short\n",
    "        })\n",
    "\n",
    "    return result\n",
    "\n",
    "\n",
    "## main 程式\n",
    "url = \"http://www.taiwanlottery.com.tw/Lotto/Lotto649/history.aspx\"\n",
    "\n",
    "headers = {\n",
    "    \"User-Agent\": \"Mozilla/5.0 (Macintosh; Intel Mac OS X 10_12_6) AppleWebKit/537.36 (KHTML, like Gecko) Chrome/90.0.4430.212 Safari/537.36\"\n",
    "}\n",
    "\n",
    "# 1. 發 GET requests , 取得第一次的 隱藏參數\n",
    "res = requests.get(url,headers=headers) \n",
    "soup = bs(res.text,\"lxml\")\n",
    "# hidden = get_hidden_params(soup)\n",
    "# print(hidden)\n",
    "\n",
    "\n",
    "# 2. for-loop 發 POST requests , 取得 1 ~ 6 月的樂透號碼\n",
    "output = []\n",
    "\n",
    "for i in range(1,7):\n",
    "    hidden = get_hidden_params(soup)\n",
    "    payload = {\n",
    "        \"__VIEWSTATE\": hidden[\"__VIEWSTATE\"],\n",
    "        \"__VIEWSTATEGENERATOR\": hidden[\"__VIEWSTATEGENERATOR\"],\n",
    "        \"__EVENTVALIDATION\": hidden[\"__EVENTVALIDATION\"],\n",
    "        \"forma\": \"請選擇遊戲\",\n",
    "        \"Lotto649Control_history$txtNO\": \"\", # 配入空字串\n",
    "        \"Lotto649Control_history$chk\": \"radYM\",\n",
    "        \"Lotto649Control_history$dropYear\": 109,\n",
    "        \"Lotto649Control_history$dropMonth\": i,\n",
    "        \"Lotto649Control_history$btnSubmit\": \"查詢\"\n",
    "    }\n",
    "\n",
    "    res = requests.post(url,headers=headers,data=payload)  ### data 為要攜帶的參數\n",
    "    soup = bs(res.text,\"lxml\")\n",
    "    \n",
    "    data = get_clear_data(soup)\n",
    "    output += data\n",
    "\n",
    "    print(\"{}月 is ok.\".format(i))\n",
    "    \n",
    "print(\"Done.\")\n",
    "\n",
    "# sorted(output , key = lambda ele : ele[\"no\"])"
   ]
  },
  {
   "cell_type": "code",
   "execution_count": null,
   "id": "0678ba1c",
   "metadata": {},
   "outputs": [],
   "source": [
    "##########################################################################################"
   ]
  },
  {
   "cell_type": "code",
   "execution_count": null,
   "id": "7562648a",
   "metadata": {},
   "outputs": [],
   "source": [
    "##########################################################################################"
   ]
  },
  {
   "cell_type": "code",
   "execution_count": null,
   "id": "d90c8acd",
   "metadata": {},
   "outputs": [],
   "source": [
    "##########################################################################################"
   ]
  },
  {
   "cell_type": "code",
   "execution_count": 40,
   "id": "2caa99c0",
   "metadata": {},
   "outputs": [],
   "source": [
    "##### PTT 股票版 （重新開始爬蟲）\n",
    "\n",
    "### 取得首頁 source code\n",
    "import requests\n",
    "from bs4 import BeautifulSoup as bs \n",
    "\n",
    "url = \"https://www.ptt.cc/bbs/Stock/index.html\"\n",
    "headers = {\n",
    "    \"user-agent\": \"Mozilla/5.0 (Macintosh; Intel Mac OS X 10_12_6) AppleWebKit/537.36 (KHTML, like Gecko) Chrome/90.0.4430.212 Safari/537.36\"\n",
    "}\n",
    "\n",
    "res = requests.get(url,headers=headers)\n",
    "soup = bs(res.text,\"lxml\")\n",
    "# soup"
   ]
  },
  {
   "cell_type": "code",
   "execution_count": 28,
   "id": "cbb5e5d2",
   "metadata": {
    "scrolled": true
   },
   "outputs": [
    {
     "name": "stdout",
     "output_type": "stream",
     "text": [
      "https://www.ptt.cc/bbs/Stock/M.1636020592.A.367.html [請益] 為何美國主動基金長期績效很少能打贏VTI\n",
      "https://www.ptt.cc/bbs/Stock/M.1636020879.A.366.html [新聞] 〈聯詠法說〉明年全產品線出貨續強 首顆O\n",
      "https://www.ptt.cc/bbs/Stock/M.1636021794.A.AD5.html [新聞] 陽明海運捐贈279台空氣清淨機\n",
      "https://www.ptt.cc/bbs/Stock/M.1636021830.A.68E.html [新聞] 華邦電前3季獲利增8.8倍 每股賺2.36元\n",
      "https://www.ptt.cc/bbs/Stock/M.1636023729.A.61E.html [標的]2476鉅祥\n",
      "https://www.ptt.cc/bbs/Stock/M.1636024843.A.C1B.html [新聞] 高通Q4展望優於聯發科 後續觀察市占消長 \n",
      "https://www.ptt.cc/bbs/Stock/M.1636025058.A.7D6.html [新聞] 《航運股》台驊投控Q3本業創高 前3季每ꨮ\n"
     ]
    }
   ],
   "source": [
    "### 抓取首頁文章連結\n",
    "# soup.select(\"div#main-container div.r-ent a\")  # 不佳\n",
    "\n",
    "links = []\n",
    "for a_tag in soup.select(\"div#main-container div.r-ent div.title a\"):\n",
    "    \n",
    "    # 過濾 版規 & 盤後閒聊 / 盤中閒聊\n",
    "    title = a_tag.text\n",
    "    \n",
    "    if \"股票板板規\" in title or \"盤後閒聊\" in title or \"盤中閒聊\" in title :\n",
    "        continue # 跳過此步, 執行下一動迴圈\n",
    "    else:\n",
    "        url = \"https://www.ptt.cc\" + a_tag[\"href\"]\n",
    "        print(url,title)"
   ]
  },
  {
   "cell_type": "code",
   "execution_count": 41,
   "id": "c82efc7a",
   "metadata": {},
   "outputs": [
    {
     "name": "stdout",
     "output_type": "stream",
     "text": [
      "https://www.ptt.cc/bbs/Stock/index5018.html is ok.\n",
      "https://www.ptt.cc/bbs/Stock/index5017.html is ok.\n",
      "https://www.ptt.cc/bbs/Stock/index5016.html is ok.\n",
      "https://www.ptt.cc/bbs/Stock/index5015.html is ok.\n",
      "https://www.ptt.cc/bbs/Stock/index5014.html is ok.\n",
      "Done.\n"
     ]
    }
   ],
   "source": [
    "### 抓取 分頁文章 連結\n",
    "links = []\n",
    "\n",
    "headers = {\n",
    "    \"user-agent\": \"Mozilla/5.0 (Macintosh; Intel Mac OS X 10_12_6) AppleWebKit/537.36 (KHTML, like Gecko) Chrome/90.0.4430.212 Safari/537.36\"\n",
    "}\n",
    "\n",
    "for i in range(1,6):\n",
    "    \n",
    "    # 建構 '上頁' 連結\n",
    "    link = soup.select(\"div#action-bar-container div.btn-group-paging a\")[1][\"href\"]\n",
    "    previous_link = \"https://www.ptt.cc\" + link\n",
    "\n",
    "    res = requests.get(previous_link,headers=headers)\n",
    "    soup = bs(res.text,\"lxml\")\n",
    "\n",
    "    for a_tag in soup.select(\"div#main-container div.r-ent div.title a\"):\n",
    "\n",
    "        # 過濾 版規 & 盤後閒聊 / 盤中閒聊\n",
    "        title = a_tag.text\n",
    "\n",
    "        if \"股票板板規\" in title or \"盤後閒聊\" in title or \"盤中閒聊\" in title :\n",
    "            continue # 跳過此步, 執行下一動迴圈\n",
    "        else:\n",
    "            url = \"https://www.ptt.cc\" + a_tag[\"href\"]\n",
    "            links.append(url)\n",
    "            \n",
    "    print(\"{} is ok.\".format(previous_link))\n",
    "        \n",
    "print(\"Done.\")"
   ]
  },
  {
   "cell_type": "code",
   "execution_count": 76,
   "id": "e0750c66",
   "metadata": {
    "scrolled": true
   },
   "outputs": [],
   "source": [
    "# links"
   ]
  },
  {
   "cell_type": "code",
   "execution_count": 110,
   "id": "daaf9102",
   "metadata": {},
   "outputs": [
    {
     "name": "stdout",
     "output_type": "stream",
     "text": [
      "https://www.ptt.cc/bbs/Stock/M.1636004790.A.729.html\n"
     ]
    }
   ],
   "source": [
    "### 抓取文章本文 source code \n",
    "url = links[17]\n",
    "print(url)\n",
    "\n",
    "headers = {\n",
    "    \"user-agent\": \"Mozilla/5.0 (Macintosh; Intel Mac OS X 10_12_6) AppleWebKit/537.36 (KHTML, like Gecko) Chrome/90.0.4430.212 Safari/537.36\"\n",
    "}\n",
    "\n",
    "res2 = requests.get(url,headers=headers)\n",
    "soup2 = bs(res2.text,\"lxml\")\n",
    "\n",
    "# print(soup2)"
   ]
  },
  {
   "cell_type": "code",
   "execution_count": 111,
   "id": "c3b78f3d",
   "metadata": {},
   "outputs": [
    {
     "name": "stdout",
     "output_type": "stream",
     "text": [
      "author : what5566 (打我阿笨蛋)\n",
      "category : Stock\n",
      "title : [請益] 台股現在是世界最爛嗎？\n",
      "time : Thu Nov  4 13:46:28 2021\n"
     ]
    }
   ],
   "source": [
    "### 抓取本文的 作者 , 看板 , 標題 , 時間 \n",
    "span_tags = soup2.select(\"div#main-content span.article-meta-value\")\n",
    "\n",
    "# 作者\n",
    "author = span_tags[0].text\n",
    "print(\"author :\",author)\n",
    "\n",
    "# 看板\n",
    "category = span_tags[1].text\n",
    "print(\"category :\",category)\n",
    "\n",
    "# 標題\n",
    "title = span_tags[2].text\n",
    "print(\"title :\",title)\n",
    "\n",
    "# 時間\n",
    "time = span_tags[3].text\n",
    "print(\"time :\",time)\n",
    "\n",
    "# span_tags"
   ]
  },
  {
   "cell_type": "code",
   "execution_count": 112,
   "id": "b58dd618",
   "metadata": {
    "scrolled": false
   },
   "outputs": [],
   "source": [
    "# print(soup2.select(\"div#main-content\")[0].text)"
   ]
  },
  {
   "cell_type": "code",
   "execution_count": 113,
   "id": "8e66422d",
   "metadata": {
    "scrolled": true
   },
   "outputs": [
    {
     "name": "stdout",
     "output_type": "stream",
     "text": [
      "[{'tag': '噓', 'author': 'yanchi030', 'content': '不是你嗎', 'time': '11/04 13:47'}, {'tag': '推', 'author': 'au677777', 'content': 'https://i.imgur.com/EXVsUbn.jpg', 'time': '11/04 13:47'}, {'tag': '推', 'author': 'Enzofulgura', 'content': '4', 'time': '11/04 13:47'}, {'tag': '→', 'author': 'stocktonty', 'content': '不是啊 離前高不到5%是在爛什麼 沒遇過空頭逆', 'time': '11/04 13:47'}, {'tag': '推', 'author': 'ayiela', 'content': '真的爛', 'time': '11/04 13:47'}, {'tag': '推', 'author': 'OOorc', 'content': '先蹲後跳。台股', 'time': '11/04 13:47'}, {'tag': '→', 'author': 'pimday', 'content': '最近真的有人玩到賠錢?', 'time': '11/04 13:48'}, {'tag': '推', 'author': 'spyget', 'content': '4  最後一盤還被出貨  真滴爛', 'time': '11/04 13:48'}, {'tag': '噓', 'author': 'HERJORDAN', 'content': '昨天亞股全綠，只有台股紅你知道嗎？', 'time': '11/04 13:48'}, {'tag': '噓', 'author': 'jason748', 'content': '先前的大多頭時代都當不存在？', 'time': '11/04 13:48'}, {'tag': '推', 'author': 'varbutterfly', 'content': '是，傷心~', 'time': '11/04 13:48'}, {'tag': '噓', 'author': 'aaaRengar', 'content': '44444', 'time': '11/04 13:48'}, {'tag': '推', 'author': 'scott67871', 'content': '4', 'time': '11/04 13:48'}, {'tag': '噓', 'author': 'ck326', 'content': '哪裡爛? 每天開高就空賺錢好煎蛋', 'time': '11/04 13:48'}, {'tag': '→', 'author': 'jason748', 'content': '真以為美股都不會跌？', 'time': '11/04 13:48'}, {'tag': '推', 'author': 'iamthebest08', 'content': '台股世界最爛', 'time': '11/04 13:48'}, {'tag': '推', 'author': 'ccmacker', 'content': '4', 'time': '11/04 13:48'}, {'tag': '推', 'author': 'twic', 'content': '櫃買之前連漲很多 沒毛病 上市權值就真的很爛', 'time': '11/04 13:49'}, {'tag': '→', 'author': 'jubihu', 'content': '我不該進場的', 'time': '11/04 13:49'}, {'tag': '推', 'author': 'jimmyid4', 'content': 'https://i.imgur.com/YuizqMb.jpg', 'time': '11/04 13:49'}, {'tag': '噓', 'author': 'sing60905', 'content': '板上一堆人推薦玩美股 韭菜就不愛聽', 'time': '11/04 13:49'}, {'tag': '→', 'author': 'castjane', 'content': '中共最爛因為 打中目標長期不變', 'time': '11/04 13:49'}, {'tag': '推', 'author': 'hihi29', 'content': '4', 'time': '11/04 13:49'}, {'tag': '推', 'author': 'andy87115', 'content': '台積電：怪我囉？', 'time': '11/04 13:49'}, {'tag': '推', 'author': 'yuys', 'content': '4444', 'time': '11/04 13:49'}, {'tag': '噓', 'author': 'wateryou', 'content': '只有韭菜的持股在跌', 'time': '11/04 13:50'}, {'tag': '推', 'author': 'jameswang278', 'content': '台股都有內褲線先偷跑，不要不信', 'time': '11/04 13:50'}, {'tag': '推', 'author': 'iamten', 'content': '美股這角度 崩起來一定是天崩地烈', 'time': '11/04 13:50'}, {'tag': '→', 'author': 'deangogi', 'content': '台股本來就是這四股市中位階最高的 跌一下會怎樣?', 'time': '11/04 13:51'}, {'tag': '推', 'author': 'NEX4036', 'content': '對不起是我啦 胖手指按到 賣太多了', 'time': '11/04 13:51'}, {'tag': '推', 'author': 'TECOCSC', 'content': '現在在等你上車阿，怕你沒跟到', 'time': '11/04 13:51'}, {'tag': '推', 'author': 'thehsu', 'content': '利空不跌是多方趨勢,今天利多不漲就是走空了', 'time': '11/04 13:51'}, {'tag': '推', 'author': 'monsterstr', 'content': '這個台股就是遜啦', 'time': '11/04 13:51'}, {'tag': '推', 'author': 'Dimitre', 'content': '4 台股就是爛 收一收去美股了啦', 'time': '11/04 13:52'}, {'tag': '→', 'author': 'LearnRPG', 'content': '台股領頭羊不要不信邪', 'time': '11/04 13:52'}, {'tag': '推', 'author': 'ledmstony', 'content': '4 包一包玩美股了', 'time': '11/04 13:52'}, {'tag': '推', 'author': 'takataka', 'content': '不是世界，是台g最爛XDDD', 'time': '11/04 13:52'}, {'tag': '推', 'author': 'pponywong', 'content': '港股表示...', 'time': '11/04 13:52'}, {'tag': '推', 'author': 'Lowpapa', 'content': '台股獨步全球  是特色', 'time': '11/04 13:52'}, {'tag': '推', 'author': 'w9103', 'content': '跟台幣一樣不會動貶值', 'time': '11/04 13:53'}, {'tag': '推', 'author': 'cheetahspeed', 'content': '4 不玩了 把錢還我', 'time': '11/04 13:53'}, {'tag': '推', 'author': 'dsrte', 'content': '早就轉往美股了，台股走法都和人家不一樣，都說是散', 'time': '11/04 13:53'}, {'tag': '→', 'author': 'dsrte', 'content': '戶太多，什麼籌碼太亂，當沒人要買了，又說台股沒人', 'time': '11/04 13:53'}, {'tag': '→', 'author': 'dsrte', 'content': '氣。都你在講，最近賣給自己吧，轉往美股', 'time': '11/04 13:53'}, {'tag': '→', 'author': 'coolrock', 'content': '台股有可能漲不上去往下蹦嗎？', 'time': '11/04 13:53'}, {'tag': '推', 'author': 'CaTkinGG', 'content': '台股上半年噴過了...那時候美股還在美債issue趴地上', 'time': '11/04 13:53'}, {'tag': '推', 'author': 'zamperla', 'content': '對 所以當空軍在台股特別舒服', 'time': '11/04 13:54'}, {'tag': '→', 'author': 'Riyar', 'content': '台gg 不發力 只玩中小型 台股要怎麼往上', 'time': '11/04 13:54'}, {'tag': '推', 'author': 'slayptter', 'content': '以前我也常玩美股，美股的問題是時間，不過如果是長', 'time': '11/04 13:54'}, {'tag': '→', 'author': 'slayptter', 'content': '投美股還不錯', 'time': '11/04 13:54'}, {'tag': '推', 'author': 'a70327cow', 'content': '是 一堆個股高點腰斬 基本面如泡麵XX', 'time': '11/04 13:54'}, {'tag': '噓', 'author': 'fbtm', 'content': '4，去問那些惡意放空的人', 'time': '11/04 13:55'}, {'tag': '推', 'author': 'qa883399', 'content': '美股大崩的話全世界都好不到哪裡，那幹嘛不直接玩', 'time': '11/04 13:55'}, {'tag': '→', 'author': 'qa883399', 'content': '美股', 'time': '11/04 13:55'}, {'tag': '推', 'author': 'cutemiller', 'content': '新興市場貨幣幾乎都貶了一輪，台灣是少數還沒大貶的', 'time': '11/04 13:55'}, {'tag': '→', 'author': 'cutemiller', 'content': '，被提款不意外', 'time': '11/04 13:55'}, {'tag': '推', 'author': 'HarukaLM', 'content': '台股確實蠻爛的 可以考慮轉一部分的錢投資美股', 'time': '11/04 13:55'}, {'tag': '推', 'author': 'tim30816', 'content': '因為你買了', 'time': '11/04 13:55'}, {'tag': '→', 'author': 'glissando', 'content': '是你操作爛不是台股爛', 'time': '11/04 13:55'}, {'tag': '推', 'author': 'Mankind69', 'content': 'https://i.imgur.com/fkP3kbZ.png', 'time': '11/04 13:55'}, {'tag': '推', 'author': 'pideo', 'content': '4', 'time': '11/04 13:56'}, {'tag': '推', 'author': 'iorijkl', 'content': '昨天台股獨強你不說', 'time': '11/04 13:56'}, {'tag': '推', 'author': 'adriano7431', 'content': '錢回美股', 'time': '11/04 13:56'}, {'tag': '→', 'author': 'HarukaLM', 'content': 'tsla nvda長期投資 賺得很爽...', 'time': '11/04 13:56'}, {'tag': '推', 'author': 'Momsoup5566', 'content': '4', 'time': '11/04 13:56'}, {'tag': '→', 'author': 'Momsoup5566', 'content': '大戶散戶信心不足', 'time': '11/04 13:56'}, {'tag': '→', 'author': 'j5163124', 'content': '真的垃圾台股,優質股被垃圾小兒提款,垃圾股一直噴', 'time': '11/04 13:56'}, {'tag': '推', 'author': 'oop53', 'content': '44444444444', 'time': '11/04 13:57'}, {'tag': '推', 'author': 'vioslover', 'content': '你可以買美股....', 'time': '11/04 13:57'}, {'tag': '推', 'author': 'achangfree', 'content': '新興市場就是提款給美元的阿', 'time': '11/04 13:57'}, {'tag': '推', 'author': 'ZZZ99770', 'content': '台股已經領先世界不知道幾年了好嗎', 'time': '11/04 13:57'}, {'tag': '推', 'author': 'joygo', 'content': '萬七黑手真的貨很多，到時候崩盤才撐得住', 'time': '11/04 13:58'}, {'tag': '推', 'author': 'k543k5', 'content': '中小一堆在噴的 哪裡爛了 今天27檔漲停欸', 'time': '11/04 13:58'}, {'tag': '→', 'author': 'k543k5', 'content': '漲的也比跌的還多 是追高仔?', 'time': '11/04 13:58'}, {'tag': '推', 'author': 'popo123456', 'content': '香港、韓國表示：', 'time': '11/04 13:58'}, {'tag': '推', 'author': 'tigerzz3', 'content': '去你的美股', 'time': '11/04 13:58'}, {'tag': '推', 'author': 'MUCHMONEY', 'content': '金融股11月到1月都是死魚月 大盤會好到哪?', 'time': '11/04 13:58'}, {'tag': '推', 'author': 'gn005066', 'content': '爛就空他啊', 'time': '11/04 13:58'}, {'tag': '推', 'author': 'faint3015890', 'content': '美帝美帝得第一', 'time': '11/04 13:58'}, {'tag': '推', 'author': 'Jimmy030489', 'content': '4 台股只剩 開高走低&開低走低', 'time': '11/04 13:58'}, {'tag': '噓', 'author': 'mom213', 'content': '賠錢討拍哭哭', 'time': '11/04 13:59'}, {'tag': '→', 'author': 'shellback', 'content': '台股就外資的韭菜收割場', 'time': '11/04 13:59'}, {'tag': '推', 'author': 'kenlee168', 'content': '台股領先全世界，坐等美股崩', 'time': '11/04 13:59'}, {'tag': '推', 'author': 'k1222', 'content': '4', 'time': '11/04 13:59'}, {'tag': '噓', 'author': 'wowoohmygod', 'content': '有夠爛的，空爆他，明天財富自由', 'time': '11/04 14:00'}, {'tag': '推', 'author': 'sdf0419', 'content': '外資哪比得過八大長老倒垃圾', 'time': '11/04 14:00'}, {'tag': '推', 'author': 'golover', 'content': '智原，鈺創，漢磊一堆人賺爛，悶聲發大財的一堆', 'time': '11/04 14:01'}, {'tag': '→', 'author': 'golover', 'content': '先檢討自己的技術吧，多空都可以做', 'time': '11/04 14:01'}, {'tag': '噓', 'author': 'YLTYY', 'content': '萬6接滿手 不用倒嗎？', 'time': '11/04 14:01'}, {'tag': '推', 'author': 'prostar', 'content': '4 把錢還了 損益越虧越大', 'time': '11/04 14:01'}, {'tag': '推', 'author': 'f204137', 'content': '壓台積讓你覺得爛啊 中小今天還是漲翻', 'time': '11/04 14:01'}, {'tag': '推', 'author': 'h45279802', 'content': '難怪當韭菜XD', 'time': '11/04 14:01'}, {'tag': '推', 'author': 'twic', 'content': '鈺創開盤隨便賣 低接當沖 都是賺爛', 'time': '11/04 14:01'}, {'tag': '→', 'author': 'f204137', 'content': '誘空完了就會嘎一大根', 'time': '11/04 14:02'}, {'tag': '推', 'author': 'huk40199', 'content': '一個都別想跑', 'time': '11/04 14:02'}, {'tag': '推', 'author': 'cute15825', 'content': '每次都說崩起來天崩地裂 結果根本沒回檔多少 笑了', 'time': '11/04 14:02'}, {'tag': '噓', 'author': 'STAEGG', 'content': '你是不是早盤買船票？', 'time': '11/04 14:02'}, {'tag': '→', 'author': 'cute15825', 'content': '拉標普看%數今年有回檔超過10%過嗎?', 'time': '11/04 14:02'}, {'tag': '推', 'author': 'hungwei1023', 'content': '台股世界最爛', 'time': '11/04 14:02'}, {'tag': '→', 'author': 'pimday', 'content': '都賺幾天了... 你是不是總算下定決心 但買在高點?', 'time': '11/04 14:02'}, {'tag': '噓', 'author': 'kevin61716', 'content': '台股是先行指標明天各大指數翻黑', 'time': '11/04 14:03'}, {'tag': '推', 'author': 'loveIFC', 'content': '因為大陸啊', 'time': '11/04 14:03'}, {'tag': '推', 'author': 'bb55231', 'content': '4 gg帶賽', 'time': '11/04 14:04'}, {'tag': '推', 'author': 'ms0545173', 'content': '看不懂呆股 直接去美股無腦多', 'time': '11/04 14:04'}, {'tag': '推', 'author': 'a0921387223', 'content': '4', 'time': '11/04 14:05'}, {'tag': '推', 'author': 'CSLsong', 'content': '等台積發動 快了啦 再等會 不要急', 'time': '11/04 14:05'}, {'tag': '推', 'author': 'bleach06bb', 'content': '有人看得懂3530開營收昨天大綠棒今天大紅棒嗎', 'time': '11/04 14:05'}, {'tag': '→', 'author': 'b9513227', 'content': '444', 'time': '11/04 14:06'}, {'tag': '推', 'author': 'NiKuKuO', 'content': '新手起家起家請去玩美股  台股內褲線太多', 'time': '11/04 14:06'}, {'tag': '→', 'author': 'new1974', 'content': '兩岸有開戰風險，你是外資買還是賣？', 'time': '11/04 14:06'}, {'tag': '→', 'author': 'GrandpaM', 'content': '其實近期開高只要觀察台積電即可 台積沒起來', 'time': '11/04 14:06'}, {'tag': '→', 'author': 'vincent5236', 'content': '台積已經熄火一整年 ， 發動也可能是下發動啊', 'time': '11/04 14:06'}, {'tag': '→', 'author': 'GrandpaM', 'content': '噴出都是假的 要上萬八目前看來台積最有可能帶頭', 'time': '11/04 14:06'}, {'tag': '推', 'author': 'dahlia7357', 'content': '台股是閃電俠，跑得太快了', 'time': '11/04 14:07'}, {'tag': '→', 'author': 'GrandpaM', 'content': '航運被腰斬 權值對大盤影響力已經不再了', 'time': '11/04 14:07'}, {'tag': '推', 'author': 'ImCPM', 'content': '4', 'time': '11/04 14:08'}, {'tag': '推', 'author': 'heyjude1118', 'content': '香港/中國?', 'time': '11/04 14:08'}, {'tag': '→', 'author': 'what5566', 'content': '現在持股剩定期定額的0050 跟006208 不過覺得台股', 'time': '11/04 14:08'}, {'tag': '→', 'author': 'what5566', 'content': '都沒啥動很想出掉', 'time': '11/04 14:08'}, {'tag': '→', 'author': 'GrandpaM', 'content': '要上萬八 現狀看來只能靠台積 台積熄火 噴出都假的', 'time': '11/04 14:08'}, {'tag': '推', 'author': 'CSLsong', 'content': '那就看看長期是往上還往下，不要問長期是幾年', 'time': '11/04 14:09'}, {'tag': '推', 'author': 'allen2109', 'content': '你知道韓股 港股 昨天跌多少嗎?', 'time': '11/04 14:09'}, {'tag': '推', 'author': 'lawer119', 'content': '在TQQQ的時間裡沒有韭菜', 'time': '11/04 14:10'}, {'tag': '→', 'author': 'lawer119', 'content': '*世界', 'time': '11/04 14:10'}, {'tag': '→', 'author': 'CSLsong', 'content': '而且哪裡熄火一年', 'time': '11/04 14:10'}, {'tag': '→', 'author': 'CSLsong', 'content': '01/21到現在也還沒滿一年', 'time': '11/04 14:10'}, {'tag': '→', 'author': 'pwseki206', 'content': '什麼？還有人不知道投資美股就是睏飽數錢？', 'time': '11/04 14:11'}, {'tag': '推', 'author': 'bdenken', 'content': '看看韓股', 'time': '11/04 14:11'}, {'tag': '推', 'author': 'finaleWL', 'content': '因為台股最投機啊 現在這樣剛好而已', 'time': '11/04 14:11'}, {'tag': '推', 'author': 'dai3345678', 'content': '4', 'time': '11/04 14:11'}, {'tag': '推', 'author': 'bala045', 'content': '阿是有破回萬七嗎 跌一天就哭爹喊娘', 'time': '11/04 14:11'}, {'tag': '推', 'author': 'yoyochi', 'content': 'Ptt當笑話看 有波動性不都能賺', 'time': '11/04 14:13'}, {'tag': '→', 'author': 'yoyochi', 'content': '賺的時候不說話 說指數型 美股 尖牙股很爛', 'time': '11/04 14:13'}, {'tag': '→', 'author': 'yoyochi', 'content': '台股跌的時候 又說台股很淺碟…真的笑死', 'time': '11/04 14:13'}, {'tag': '→', 'author': 'qr1348', 'content': '不會全球分散投資嗎？', 'time': '11/04 14:13'}, {'tag': '→', 'author': 'eric13141230', 'content': '過沒多久說沒啥動哈哈', 'time': '11/04 14:14'}, {'tag': '→', 'author': 'yoyochi', 'content': '在台股每天超級短線 當沖', 'time': '11/04 14:14'}, {'tag': '→', 'author': 'yoyochi', 'content': '美股就長期投資 兩個都不一樣當然不能比…又來怪台', 'time': '11/04 14:14'}, {'tag': '→', 'author': 'yoyochi', 'content': '股 台股你怎麼長期投資？ 一堆月線開起來也是超強', 'time': '11/04 14:14'}, {'tag': '推', 'author': 'ppav0v0v', 'content': '看美元在幹嘛', 'time': '11/04 14:15'}, {'tag': '→', 'author': 'jacid', 'content': '三接沒過，又缺電～重蹈覆轍呀～', 'time': '11/04 14:15'}, {'tag': '推', 'author': 'f204137', 'content': '台股為什麼不能長期投資XD 我一堆持股抱到百%以上', 'time': '11/04 14:15'}, {'tag': '推', 'author': 'pk9980192', 'content': '不是 台股早就超漲了', 'time': '11/04 14:15'}, {'tag': '→', 'author': 'ownwei', 'content': '早上手指太胖按到賣 不好意思阿', 'time': '11/04 14:15'}, {'tag': '推', 'author': 'GGdong', 'content': '台股是領先世界好嗎？', 'time': '11/04 14:16'}, {'tag': '推', 'author': 'asxc530530', 'content': '4444', 'time': '11/04 14:16'}, {'tag': '噓', 'author': 'g987669', 'content': '自己賺不到錢就說市場爛呵呵呵，韭菜日常', 'time': '11/04 14:16'}, {'tag': '推', 'author': 'yoyochi', 'content': '回前面 我是要打 台股你怎麼不長期投資 少一個不..', 'time': '11/04 14:16'}, {'tag': '推', 'author': 'losage', 'content': '為什麼？今天不是要噴嗎？', 'time': '11/04 14:17'}, {'tag': '→', 'author': 'Savior09', 'content': '你有沒有想過美股創新高就是因為向海外提款', 'time': '11/04 14:17'}, {'tag': '→', 'author': 'eric13141230', 'content': '超漲哈哈', 'time': '11/04 14:17'}, {'tag': '→', 'author': 'pimday', 'content': '隨便拉一股看1年就好 現在哪個是跌的... 愛沖就別該', 'time': '11/04 14:17'}, {'tag': '→', 'author': 'Savior09', 'content': '錢回美國 你覺得台股會漲嗎', 'time': '11/04 14:17'}, {'tag': '推', 'author': 'CSLsong', 'content': '台股為什麼不能長期投資？', 'time': '11/04 14:17'}, {'tag': '→', 'author': 'Savior09', 'content': '台股要漲是要靠內資 跟美股沒什麼關係', 'time': '11/04 14:18'}, {'tag': '推', 'author': 'twic', 'content': '一些金融和殖利率好的股 還原月k看下去都很猛', 'time': '11/04 14:18'}, {'tag': '→', 'author': 'yoyochi', 'content': '少打一個不…我是說回這篇版主說 你怎麼不長期投資', 'time': '11/04 14:18'}, {'tag': '→', 'author': 'yoyochi', 'content': '…月線開起來都很飆', 'time': '11/04 14:18'}, {'tag': '推', 'author': 'fabledqqman', 'content': '短線客沖到爛了 合法百家樂不玩嗎', 'time': '11/04 14:18'}, {'tag': '→', 'author': 'Savior09', 'content': '今天你要選擇一個市場壓身家 你會壓美股還是台股', 'time': '11/04 14:18'}, {'tag': '推', 'author': 'lepidoptera', 'content': '台股領先世界啊', 'time': '11/04 14:18'}, {'tag': '→', 'author': 'no2muta', 'content': '不要立旗啦', 'time': '11/04 14:18'}, {'tag': '→', 'author': 'Savior09', 'content': '全世界的資金都會重壓美股 你拿台股比...', 'time': '11/04 14:19'}, {'tag': '→', 'author': 'Eriri', 'content': '其實台股以前爛很久吧 只是最近一年狂漲', 'time': '11/04 14:19'}, {'tag': '推', 'author': 'tomy10417', 'content': '恆指才是第一', 'time': '11/04 14:20'}, {'tag': '推', 'author': 'YOYOISGOOD', 'content': '拜託爛一點 被嘎空手太久了', 'time': '11/04 14:20'}, {'tag': '→', 'author': 'eric13141230', 'content': '定期定額至少存久一點再來嘴', 'time': '11/04 14:20'}, {'tag': '→', 'author': 'eric13141230', 'content': '看現在沒啥動想出掉就不適合你了', 'time': '11/04 14:20'}, {'tag': '→', 'author': 'Savior09', 'content': '昨天亞洲這麼爛 台股結算硬撐怎麼不講 今天不就補跌', 'time': '11/04 14:20'}, {'tag': '推', 'author': 'rstpiopxo', 'content': '開盤一度以為要攻175了…', 'time': '11/04 14:21'}, {'tag': '推', 'author': 'chein17', 'content': '要不要看看中國香港最近股票多慘', 'time': '11/04 14:21'}, {'tag': '→', 'author': 'Savior09', 'content': '記得恆大時亞洲狂跌 只有日本漲 隔天照樣補跌', 'time': '11/04 14:21'}, {'tag': '推', 'author': 'takeda3234', 'content': '4', 'time': '11/04 14:22'}, {'tag': '→', 'author': 'Jexr', 'content': '港股表示...', 'time': '11/04 14:22'}, {'tag': '→', 'author': 'summer08818', 'content': '你只買ETF還在意這種小鋸齒 你還是別玩股票好了', 'time': '11/04 14:23'}, {'tag': '→', 'author': 'Eriri', 'content': '美股會漲當然是向海外提款阿 這其實歷史常識 但就連', 'time': '11/04 14:25'}, {'tag': '→', 'author': 'Eriri', 'content': '歷史常識 很多人都還是不承認XD 前陣子版上不就在吵', 'time': '11/04 14:25'}, {'tag': '→', 'author': 'Eriri', 'content': '投資台股還是美股好XD', 'time': '11/04 14:26'}, {'tag': '推', 'author': 'gogoto990', 'content': '= =上禮拜多頭怎麼不說', 'time': '11/04 14:26'}, {'tag': '→', 'author': 'gogoto990', 'content': '費半創新就要小心啊', 'time': '11/04 14:26'}, {'tag': '推', 'author': 'Ovechkin', 'content': '前幾天世界強 今天不意外吧', 'time': '11/04 14:27'}, {'tag': '→', 'author': 'Ovechkin', 'content': '跌ㄧ天就發這種文', 'time': '11/04 14:27'}, {'tag': '→', 'author': 'z7956234', 'content': '就是你在賣', 'time': '11/04 14:29'}, {'tag': '推', 'author': 'x19005', 'content': '前幾天還是上禮拜亞股綠的，台股獨強怎麼不說', 'time': '11/04 14:29'}, {'tag': '→', 'author': 'x19005', 'content': '萬七底打厚一點，年底上兩萬', 'time': '11/04 14:30'}, {'tag': '噓', 'author': 'KadourZiani', 'content': '台股教科書級別的頭肩頂。拉高空。見紅空。盤中急拉', 'time': '11/04 14:34'}, {'tag': '推', 'author': 'colorfuldays', 'content': '希望可以再下去點', 'time': '11/04 14:34'}, {'tag': '→', 'author': 'KadourZiani', 'content': '空。反彈空。賺錢好簡單。每天都睏霸數錢。', 'time': '11/04 14:34'}, {'tag': '→', 'author': 'KadourZiani', 'content': '還有人在幻想兩萬。折折都縮到只敢喊萬九而已。真的', 'time': '11/04 14:35'}, {'tag': '→', 'author': 'KadourZiani', 'content': '難怪被殺爆', 'time': '11/04 14:35'}, {'tag': '推', 'author': 'jvor0719', 'content': '44444444444444444444444界爛', 'time': '11/04 14:36'}, {'tag': '推', 'author': 'alexful90', 'content': '是我啦', 'time': '11/04 14:36'}, {'tag': '推', 'author': 'poloo9', 'content': '台灣有戰爭陰影阿', 'time': '11/04 14:37'}, {'tag': '噓', 'author': 'r30385', 'content': '垃圾台股就是這種垃圾尿性', 'time': '11/04 14:37'}, {'tag': '噓', 'author': 'KadourZiani', 'content': '台股世界最欸爛。對比最近開戰傳言。細思極恐', 'time': '11/04 14:38'}, {'tag': '噓', 'author': 'WalkinCloud', 'content': '哪裡爛了 眼瞎嗎？ 爛的只是嘰嘰沒漲', 'time': '11/04 14:39'}, {'tag': '→', 'author': 'andyz201', 'content': '港股呢', 'time': '11/04 14:40'}, {'tag': '推', 'author': 'davidtai12', 'content': '有美股不玩怪誰', 'time': '11/04 14:40'}, {'tag': '→', 'author': 'WalkinCloud', 'content': '還有 韓股勒', 'time': '11/04 14:40'}, {'tag': '→', 'author': 'wingsway', 'content': '美股就算下跌賠錢也甘願一點', 'time': '11/04 14:46'}, {'tag': '推', 'author': 'tony15899', 'content': '4  建議出清換美股', 'time': '11/04 14:47'}, {'tag': '推', 'author': 'xboxandone', 'content': '昨天這麼扛 怎麼不講', 'time': '11/04 14:47'}, {'tag': '→', 'author': 'tctv2002', 'content': '各國陸續解封 產線陸續恢復  單就不會集中在台灣了', 'time': '11/04 14:48'}, {'tag': '→', 'author': 'tctv2002', 'content': '當然出貨', 'time': '11/04 14:48'}, {'tag': '推', 'author': 'n37213721', 'content': '台股人為操作因素高，漲不漲都看大戶(像金庸)爽不爽', 'time': '11/04 14:49'}, {'tag': '→', 'author': 'tctv2002', 'content': '當初不就是各國封城  才讓台股噴噴 現在各國解封自', 'time': '11/04 14:49'}, {'tag': '→', 'author': 'tctv2002', 'content': '然就崩崩', 'time': '11/04 14:49'}, {'tag': '噓', 'author': 'jjjjjjs', 'content': '你們是不是滿手股票啊', 'time': '11/04 14:49'}, {'tag': '噓', 'author': 'iampig951753', 'content': '戰爭疑雲持續籠罩', 'time': '11/04 14:49'}, {'tag': '→', 'author': 'iampig951753', 'content': '外資持續減碼', 'time': '11/04 14:49'}, {'tag': '推', 'author': 'smarthome', 'content': '美股跟台股反向不是一段時間了嗎？你現在才看出來@@', 'time': '11/04 14:50'}, {'tag': '推', 'author': 'prodd', 'content': '噴一整年修正盤整臭了嗎？？？', 'time': '11/04 14:51'}, {'tag': '推', 'author': 'chu', 'content': '美國隊長現在淪落要跟小小呆灣比唷', 'time': '11/04 14:54'}, {'tag': '→', 'author': 'iampig951753', 'content': '國防部長邱國正日前在立院直言，兩岸情勢是他從軍4', 'time': '11/04 14:54'}, {'tag': '→', 'author': 'iampig951753', 'content': '0年來最嚴峻時', 'time': '11/04 14:54'}, {'tag': '→', 'author': 'iampig951753', 'content': '刻，他並指出目前解放軍已有犯台的能力，並推測202', 'time': '11/04 14:54'}, {'tag': '→', 'author': 'iampig951753', 'content': '5年具備全面攻台的可能性。', 'time': '11/04 14:54'}, {'tag': '推', 'author': 'Rmumu1126', 'content': '世界爛', 'time': '11/04 14:55'}, {'tag': '推', 'author': 'wjw1128', 'content': '早就不玩台股了，現在美股已賺爛', 'time': '11/04 14:57'}, {'tag': '推', 'author': 'DWR', 'content': '美股一直在台股的兩倍左右 現在也差不多啊', 'time': '11/04 14:58'}, {'tag': '→', 'author': 'sixis', 'content': '看來你是最頂的韭菜', 'time': '11/04 14:58'}, {'tag': '推', 'author': 'chupan', 'content': '外媒放消息殺台積電啊，台積電跌5元，大盤跌43點', 'time': '11/04 15:02'}, {'tag': '推', 'author': 'junkuo', 'content': '戰爭戰爭戰爭 這都是議題而已 回想過去幾十年來每', 'time': '11/04 15:02'}, {'tag': '→', 'author': 'junkuo', 'content': '年都在講戰爭 台股也不是爛一天而已', 'time': '11/04 15:02'}, {'tag': '推', 'author': 'night957', 'content': '去看2018那一段吧很像現在如果是的話還有的盤.....', 'time': '11/04 15:03'}, {'tag': '噓', 'author': 'chencjj', 'content': '美股打噴嚏 台股大逃殺 懂的人就降低台股部位吧', 'time': '11/04 15:08'}, {'tag': '推', 'author': 'Justisaac', 'content': '沒事啊  我qqq前陣子隨便進都10%了 台股管他的', 'time': '11/04 15:08'}, {'tag': '推', 'author': 'Trump520', 'content': '前面噴夠了啊 然後台積利空消息一堆', 'time': '11/04 15:09'}, {'tag': '推', 'author': 'tlcam4507', 'content': '是喔', 'time': '11/04 15:09'}, {'tag': '→', 'author': 'Trump520', 'content': '最近就小心美股回檔，台股沒意外會跌更多', 'time': '11/04 15:09'}, {'tag': '→', 'author': 'Trump520', 'content': '台海情勢險峻也是其中一個原因', 'time': '11/04 15:10'}, {'tag': '推', 'author': 'SKY3064', 'content': '美股角度太斜了XD', 'time': '11/04 15:10'}, {'tag': '推', 'author': 'comesome', 'content': '台灣想在國際冒頭就會情勢險峻 避不開', 'time': '11/04 15:12'}, {'tag': '推', 'author': 'tenghui', 'content': '4', 'time': '11/04 15:15'}, {'tag': '推', 'author': 'tsai18', 'content': '先檢討你的選股 一堆股票噴到天上去了', 'time': '11/04 15:15'}, {'tag': '推', 'author': 'XX', 'content': '爽爽賺錢中 給您參考', 'time': '11/04 15:16'}, {'tag': '→', 'author': 'tenghui', 'content': '大戶不是什麼咖 我只認八大行業跟四大壽險', 'time': '11/04 15:16'}, {'tag': '→', 'author': 'didierlee', 'content': '00632R台灣50反一  給他all in', 'time': '11/04 15:17'}, {'tag': '推', 'author': 'chupan', 'content': '不是台股美股的問題，現在還是有人只投資台股卻仍賺', 'time': '11/04 15:18'}, {'tag': '→', 'author': 'chupan', 'content': '錢，韭菜在哪裡都只會是韭菜', 'time': '11/04 15:18'}, {'tag': '推', 'author': 'littleshan30', 'content': '越爛越噴 誰叫EPS一堆太好', 'time': '11/04 15:18'}, {'tag': '推', 'author': 'fallinlove15', 'content': '垃圾時間阿', 'time': '11/04 15:20'}, {'tag': '推', 'author': 'tompi', 'content': '4', 'time': '11/04 15:21'}, {'tag': '推', 'author': 'small91051', 'content': '4根本垃圾', 'time': '11/04 15:21'}, {'tag': '推', 'author': 'kurtis0359', 'content': '垃圾時間而已 你怎不說撐在這洗人', 'time': '11/04 15:21'}, {'tag': '推', 'author': 'junibookye', 'content': '爸爸有印鈔機 我們只有海峽兩岸', 'time': '11/04 15:22'}, {'tag': '推', 'author': 'cosmite', 'content': '日股今天也是開高走低收平阿', 'time': '11/04 15:26'}, {'tag': '→', 'author': 'cosmite', 'content': '雖然台股收低有點爛 但是沒差那麼多吧', 'time': '11/04 15:27'}, {'tag': '噓', 'author': 'luc0919', 'content': '淺碟市場要怎麼好，當然美股強', 'time': '11/04 15:28'}, {'tag': '→', 'author': 'yoyun10121', 'content': '跟位階無關啦, 台股很明顯就被控指數的吃死死', 'time': '11/04 15:28'}, {'tag': '→', 'author': 'yoyun10121', 'content': '今天轉綠主要是GG被砸499單, 明顯就刻意砸來空的', 'time': '11/04 15:29'}, {'tag': '→', 'author': 'yoyun10121', 'content': '昨天人家想拉結算, 就輕鬆台股亞洲獨紅', 'time': '11/04 15:31'}, {'tag': '噓', 'author': 'CKYAMAY', 'content': '你都知道幹嘛不買美股', 'time': '11/04 15:31'}, {'tag': '→', 'author': 'b840107', 'content': '個股有賺就好 大盤漲跌沒差', 'time': '11/04 15:36'}, {'tag': '→', 'author': 'laechan', 'content': '台股現在是世界最爛?不知道  世界現在是台股最爛?ㄕ', 'time': '11/04 15:41'}, {'tag': '→', 'author': 'DogCavy', 'content': '之前漲的時候怎不講', 'time': '11/04 15:44'}, {'tag': '推', 'author': 'ms0545173', 'content': '有撐盤嗎 明明就跌 還是我們看不同的盤', 'time': '11/04 15:44'}, {'tag': '推', 'author': 'ots625', 'content': '台股在等美股開始跌，順勢三尊頭下殺', 'time': '11/04 15:45'}, {'tag': '噓', 'author': 'autoexecbat', 'content': '並沒有 加權指今年以來還漲14.6% KOSPI日經恒生上證', 'time': '11/04 15:48'}, {'tag': '→', 'author': 'autoexecbat', 'content': '都沒那麼多 恒生還-8%', 'time': '11/04 15:48'}, {'tag': '噓', 'author': 'freerock0612', 'content': '年初美股跌爛台股狂噴怎不說？', 'time': '11/04 15:49'}, {'tag': '→', 'author': 'autoexecbat', 'content': '相較那些亞洲國家 頂多漲多盤整而已', 'time': '11/04 15:50'}, {'tag': '→', 'author': 'att7645', 'content': '4', 'time': '11/04 15:53'}, {'tag': '推', 'author': 'Brioni', 'content': '玩美股啦，留台股給人割？', 'time': '11/04 15:54'}, {'tag': '→', 'author': 'neal997', 'content': '看執政顏色', 'time': '11/04 15:57'}, {'tag': '推', 'author': 'comesome', 'content': '年初美股哪裡跌爛？', 'time': '11/04 15:59'}, {'tag': '推', 'author': 'ms0545173', 'content': '美股前幾天剛創新高 台股人在哪', 'time': '11/04 16:01'}, {'tag': '推', 'author': 'ink7777', 'content': 'https://i.imgur.com/YxPyEP1.jpg', 'time': '11/04 16:04'}, {'tag': '→', 'author': 'ink7777', 'content': '沒有空軍當肥料怎麼噴？', 'time': '11/04 16:04'}, {'tag': '推', 'author': 'bear92', 'content': '不瞞您說，現在中國另一個大房產集團也在報違約了…', 'time': '11/04 16:06'}, {'tag': '推', 'author': 'charliebitme', 'content': '4444', 'time': '11/04 16:08'}, {'tag': '推', 'author': 'naloer', 'content': '某投顧再說說到底外資欠台灣多少啊！', 'time': '11/04 16:17'}, {'tag': '推', 'author': 'qwre9854', 'content': '台股大多都是賺中間財啊，說實在的台積也是幫人代工', 'time': '11/04 16:17'}, {'tag': '推', 'author': 'EX37', 'content': '你套很大喔', 'time': '11/04 16:18'}, {'tag': '→', 'author': 'qwre9854', 'content': '只是目前技術沒對手而已', 'time': '11/04 16:18'}, {'tag': '推', 'author': 'qwre9854', 'content': '6月前台股好做，下半年美股好做，反正我兩邊都有部', 'time': '11/04 16:20'}, {'tag': '→', 'author': 'qwre9854', 'content': '位，賺爛', 'time': '11/04 16:20'}, {'tag': '推', 'author': 'ebeta', 'content': '政府用各種手段把資金逼出股市進去炒房了咩', 'time': '11/04 16:22'}, {'tag': '推', 'author': 'Pittsburgh', 'content': '一堆朋友都跑去玩美股了', 'time': '11/04 16:28'}, {'tag': '推', 'author': 'lolicat', 'content': '蹲得越低', 'time': '11/04 16:30'}, {'tag': '推', 'author': 'Hbodo', 'content': '還有人在玩台股噢 錢太多？', 'time': '11/04 16:35'}, {'tag': '推', 'author': 'prog', 'content': '4 爛GG', 'time': '11/04 16:38'}, {'tag': '推', 'author': 'q09701023', 'content': '離前高不到5%…那是不是可以算美股7月15到現在破高', 'time': '11/04 16:41'}, {'tag': '→', 'author': 'q09701023', 'content': '幾%', 'time': '11/04 16:41'}, {'tag': '推', 'author': 'Hbodo', 'content': '台股簡單來說就是標的太多 資訊太多', 'time': '11/04 16:44'}, {'tag': '推', 'author': 'ak007', 'content': '空單全力尻 戰爭打起來～（我先出國避難現', 'time': '11/04 16:53'}, {'tag': '推', 'author': 'scum5566', 'content': '4', 'time': '11/04 17:00'}, {'tag': '推', 'author': 'billionaire', 'content': 'https://i.imgur.com/ZTsxhw4.jpg', 'time': '11/04 17:02'}, {'tag': '推', 'author': 'MinJun5566', 'content': '4', 'time': '11/04 17:03'}, {'tag': '推', 'author': 'wed1979', 'content': '散戶賣壓沉重，拉上去就是要拯救散戶，你要拉？', 'time': '11/04 17:03'}, {'tag': '推', 'author': 'lb084778', 'content': '每天都開高走低，掛了都賣不掉', 'time': '11/04 17:08'}, {'tag': '推', 'author': 'reverieh', 'content': '美股品牌公司比較抱得住，台股太抽象了', 'time': '11/04 17:14'}, {'tag': '→', 'author': 'ogcinging', 'content': '4 下去', 'time': '11/04 17:20'}, {'tag': '推', 'author': 'rex00125', 'content': '不玩了，錢還我', 'time': '11/04 17:32'}, {'tag': '推', 'author': 'zavendro', 'content': '5347你才爛 你全家都爛', 'time': '11/04 17:34'}, {'tag': '推', 'author': 'jj10953', 'content': '真的討厭早盤都在騙 還好今天沒被騙進場', 'time': '11/04 17:42'}, {'tag': '→', 'author': 'neil1103', 'content': '4', 'time': '11/04 17:54'}, {'tag': '→', 'author': 'ojh', 'content': '只有航運面板和鋼鐵爛而已 其它都還不錯', 'time': '11/04 18:01'}, {'tag': '推', 'author': 'c928', 'content': '4', 'time': '11/04 18:05'}, {'tag': '推', 'author': 'miffei', 'content': '散戶趕快錢進美股 然後就？', 'time': '11/04 18:11'}, {'tag': '噓', 'author': 'ovw0929', 'content': '你要不要看一下香港', 'time': '11/04 18:14'}, {'tag': '推', 'author': 'k798976869', 'content': '外資一直匯出', 'time': '11/04 18:42'}, {'tag': '推', 'author': 'marshmallowH', 'content': '4 利多也崩利空也崩', 'time': '11/04 18:49'}, {'tag': '推', 'author': 'lovegensokyo', 'content': '4的 建議您歐印空單', 'time': '11/04 19:01'}, {'tag': '推', 'author': 'ms0545173', 'content': '香港今天漲啊 尾盤有拉起來', 'time': '11/04 19:09'}, {'tag': '推', 'author': 'gn02218236', 'content': '一個幾十年後就少子化自然滅族的糞島誰要投資', 'time': '11/04 19:14'}, {'tag': '→', 'author': 'sonyegg', 'content': '台股不理性，該跌時不跌，所以該漲時也不漲啊', 'time': '11/04 19:15'}, {'tag': '噓', 'author': 'chiangww', 'content': '請不要絆倒台灣', 'time': '11/04 19:18'}, {'tag': '推', 'author': 'w9103', 'content': '那是這幾年大好 冷門多久了 淺碟市場拿內線騙韭菜', 'time': '11/04 19:22'}, {'tag': '推', 'author': 'qqq5890003', 'content': '4444', 'time': '11/04 20:03'}, {'tag': '推', 'author': 'goddarn', 'content': '是', 'time': '11/04 20:07'}, {'tag': '推', 'author': 'boringuy', 'content': '世界怎麼跟得上台灣', 'time': '11/04 21:20'}, {'tag': '推', 'author': 'ilovecat5566', 'content': '粗暴言論，duck不必', 'time': '11/04 21:27'}]\n"
     ]
    }
   ],
   "source": [
    "### 抓取本文的 內容 , 回應\n",
    "# 標籤拔除 --> .extract()\n",
    "# 為了標籤拔除 , 故先抓取 回應資料\n",
    "\n",
    "# push_tags = soup2.select(\"div#main-content div.push\")\n",
    "\n",
    "# 抓其中一項做測試\n",
    "# ele = push_tags[77]\n",
    "# span_tags = ele.select(\"span\")\n",
    "\n",
    "# resp = {\n",
    "#     \"tag\"     : span_tags[0].text.strip(),\n",
    "#     \"author\"  : span_tags[1].text.strip(),\n",
    "#     \"content\" : span_tags[2].text.replace(\": \",\"\").strip(), \n",
    "#     \"time\"    : span_tags[3].text.strip()\n",
    "# }\n",
    "# print(resp)\n",
    "# span_tags\n",
    "\n",
    "#############\n",
    "# for-loop 處理全部回應\n",
    "# resp_data = []\n",
    "\n",
    "# for ele in push_tags:\n",
    "#     span_tags = ele.select(\"span\")\n",
    "\n",
    "#     resp = {\n",
    "#         \"tag\"     : span_tags[0].text.strip(),\n",
    "#         \"author\"  : span_tags[1].text.strip(),\n",
    "#         \"content\" : span_tags[2].text.replace(\": \",\"\").strip(), \n",
    "#         \"time\"    : span_tags[3].text.strip()\n",
    "#     }\n",
    "    \n",
    "#     resp_data.append(resp)\n",
    "    \n",
    "#############\n",
    "# 加入拔除標籤動作\n",
    "def get_resp_data(ele):\n",
    "    span_tags = ele.select(\"span\")\n",
    "    return {\n",
    "        \"tag\"     : span_tags[0].text.strip(),\n",
    "        \"author\"  : span_tags[1].text.strip(),\n",
    "        \"content\" : span_tags[2].text.replace(\": \",\"\").strip(), \n",
    "        \"time\"    : span_tags[3].text.strip()\n",
    "    }\n",
    "\n",
    "\n",
    "push_tags = soup2.select(\"div#main-content div.push\")\n",
    "resp_data = []\n",
    "\n",
    "if len(push_tags) >0:\n",
    "    \n",
    "    for ele in push_tags:\n",
    "        ele.extract()  # 宣告從 div#main-content 中,拔除 div.push 標籤\n",
    "        \n",
    "        resp = get_resp_data(ele)\n",
    "        \n",
    "        resp_data.append(resp)\n",
    "        \n",
    "#         span_tags = ele.select(\"span\")\n",
    "        \n",
    "#         resp = {\n",
    "#             \"tag\"     : span_tags[0].text.strip(),\n",
    "#             \"author\"  : span_tags[1].text.strip(),\n",
    "#             \"content\" : span_tags[2].text.replace(\": \",\"\").strip(), \n",
    "#             \"time\"    : span_tags[3].text.strip()\n",
    "#         }\n",
    "\n",
    "    \n",
    "print(resp_data)"
   ]
  },
  {
   "cell_type": "code",
   "execution_count": 114,
   "id": "fad33f11",
   "metadata": {},
   "outputs": [
    {
     "name": "stdout",
     "output_type": "stream",
     "text": [
      "content: 美股為我們上演了永動機\n",
      "\n",
      "每天噴噴噴\n",
      "\n",
      "基本上目前已知利空都反映過了\n",
      "\n",
      "縮債 升息 限電 恆大\n",
      "\n",
      "費半一個月漲10%\n",
      "標普 納斯達克 道瓊一個月內也都狂噴 創高\n",
      "\n",
      "昨晚FED出來講話後從平盤硬是拉了1%上去\n",
      "\n",
      "日本 韓國 香港 中國 全部的指數都是紅的\n",
      "\n",
      "結果台股在櫃買連續噴十幾天後\n",
      "\n",
      "依舊在17000徘徊 甚至今天還是綠的\n",
      "\n",
      "昨晚一片看好 今天站上17200劍指17500似乎只是一場夢\n",
      "\n",
      "記得幾個月前的推文永遠是台股噴 台股噴完美股噴 美股噴完台股噴的循環\n",
      "\n",
      "現在只剩台股在跌\n",
      "\n",
      "台股是世界最爛嗎\n",
      "\n",
      "--\n"
     ]
    }
   ],
   "source": [
    "# 內容\n",
    "# print(soup2.select(\"div#main-content\")[0].text)\n",
    "\n",
    "# 1. 移除標籤\n",
    "# - div.article-metaline\n",
    "# - div.article-metaline-right\n",
    "# - span.f2\n",
    "\n",
    "def remove_dirty_tag(soup):\n",
    "    \n",
    "    # 若存在 , 則移除標籤\n",
    "    if len(soup.select(\"div.article-metaline\")) >0 :\n",
    "        \n",
    "        # 標籤可能多項 , 使用 for-loop 移除\n",
    "        for tag in soup.select(\"div.article-metaline\"):\n",
    "            tag.extract()\n",
    "            \n",
    "    if len(soup.select(\"div.article-metaline-right\")) >0 :\n",
    "        for tag in soup.select(\"div.article-metaline-right\"):\n",
    "            tag.extract()\n",
    "            \n",
    "    if len(soup.select(\"span.f2\")) >0 :\n",
    "        for tag in soup.select(\"span.f2\"):\n",
    "            tag.extract()\n",
    "    \n",
    "    return soup \n",
    "\n",
    "\n",
    "\n",
    "soup2 = remove_dirty_tag(soup2)\n",
    "# print(soup2.select(\"div#main-content\")[0].text.strip())\n",
    "\n",
    "content = soup2.select(\"div#main-content\")[0].text.strip()\n",
    "print(\"content:\", content)"
   ]
  }
 ],
 "metadata": {
  "kernelspec": {
   "display_name": "Python 3",
   "language": "python",
   "name": "python3"
  },
  "language_info": {
   "codemirror_mode": {
    "name": "ipython",
    "version": 3
   },
   "file_extension": ".py",
   "mimetype": "text/x-python",
   "name": "python",
   "nbconvert_exporter": "python",
   "pygments_lexer": "ipython3",
   "version": "3.8.8"
  }
 },
 "nbformat": 4,
 "nbformat_minor": 5
}
