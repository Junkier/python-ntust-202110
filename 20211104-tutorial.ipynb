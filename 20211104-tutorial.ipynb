{
 "cells": [
  {
   "cell_type": "code",
   "execution_count": 11,
   "id": "a144a13b",
   "metadata": {},
   "outputs": [],
   "source": [
    "#####  台彩大樂透\n",
    "\n",
    "import requests\n",
    "from bs4 import BeautifulSoup as bs\n",
    "\n",
    "url = \"http://www.taiwanlottery.com.tw/Lotto/Lotto649/history.aspx\"\n",
    "\n",
    "headers = {\n",
    "    \"User-Agent\": \"Mozilla/5.0 (Macintosh; Intel Mac OS X 10_12_6) AppleWebKit/537.36 (KHTML, like Gecko) Chrome/90.0.4430.212 Safari/537.36\"\n",
    "}\n",
    "\n",
    "### 發 POST requests 取得頁面 source code\n",
    "payload = {\n",
    "    \"__VIEWSTATE\": \"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\",\n",
    "    \"__VIEWSTATEGENERATOR\": \"11E838D2\",\n",
    "    \"__EVENTVALIDATION\": \"zb+HN2+dsdkJQ3yodiHE4e1ZYx8eWNS1sBh+dxuoR249kr45X2YzV6gWBGoG5sPsPxrtQyalyQDj6NJhHmz1E3wGNkgAs6/PAtzrYbP2V59w1Ex9zlT7B1L7SWYoVw92FH7prPDm6BM2dD9OxQw6u4IgfrgT9e7tUuNzRJPqIn/iNd9HNejzkt1UMQky5BYdxUrRsp905ohnVjDfkoMffrSaZmXDG+NteJgJ7jfIJ+5/XMwTz+kFaOjnFk5V7VTJk3dJWOn9DGMrfRDNQJnPgY2lxvBz7SzKnf3lLO4gzJqsbvsUHpy23iouaUyaBUEsSMqnlDU8F2EUOL26+3dH4NaGW6LOZ1Bzz7EVix+4wfRmSg+/PSgcnJocDDZ/3bZgPJEOeOesJD8hrEseFtcVBXwjE9ae9vn0O9JptD3hlViPECD/+Tf/+Y18x9FcovcEgJ5BaBRGceCF7SrhwI0h7IwU97Hg7Z1KqIc36w3fiqEJpSJXVvjDJTRLWKT8A74zX8EbHKfaLmeukN8pzpb4+jIdgVMN/eMTGr4YgAEoX2BL5kw51KKpMQT2Y1F0WWUGtp/O63vHNFwv3bh7yW2avqLpNGT7ufc7dXVm8+zbsgp9ME84BdJLnr/0nref2UNA08/CIg==\",\n",
    "    \"forma\": \"請選擇遊戲\",\n",
    "    \"Lotto649Control_history$txtNO\": \"\", # 配入空字串\n",
    "    \"Lotto649Control_history$chk\": \"radYM\",\n",
    "    \"Lotto649Control_history$dropYear\": 108,\n",
    "    \"Lotto649Control_history$dropMonth\": 3,\n",
    "    \"Lotto649Control_history$btnSubmit\": \"查詢\"\n",
    "}\n",
    "\n",
    "res = requests.post(url,headers=headers,data=payload)  ### data 為要攜帶的參數\n",
    "# print(res.text)\n",
    "soup = bs(res.text,\"lxml\")\n",
    "# print(soup)"
   ]
  },
  {
   "cell_type": "code",
   "execution_count": 2,
   "id": "4a11bec0",
   "metadata": {
    "scrolled": true
   },
   "outputs": [
    {
     "data": {
      "text/plain": [
       "[{'no': '108000033',\n",
       "  'time': '108/03/29',\n",
       "  'numbers': ['01', '03', '12', '16', '29', '49', '04']},\n",
       " {'no': '108000032',\n",
       "  'time': '108/03/26',\n",
       "  'numbers': ['06', '13', '14', '19', '24', '38', '26']},\n",
       " {'no': '108000031',\n",
       "  'time': '108/03/22',\n",
       "  'numbers': ['01', '12', '16', '37', '41', '47', '36']},\n",
       " {'no': '108000030',\n",
       "  'time': '108/03/19',\n",
       "  'numbers': ['07', '16', '17', '36', '47', '48', '49']},\n",
       " {'no': '108000029',\n",
       "  'time': '108/03/15',\n",
       "  'numbers': ['05', '10', '12', '20', '28', '36', '15']},\n",
       " {'no': '108000028',\n",
       "  'time': '108/03/12',\n",
       "  'numbers': ['05', '07', '22', '37', '40', '45', '12']},\n",
       " {'no': '108000027',\n",
       "  'time': '108/03/08',\n",
       "  'numbers': ['03', '11', '15', '25', '31', '48', '36']},\n",
       " {'no': '108000026',\n",
       "  'time': '108/03/05',\n",
       "  'numbers': ['12', '13', '16', '21', '42', '43', '39']},\n",
       " {'no': '108000025',\n",
       "  'time': '108/03/01',\n",
       "  'numbers': ['01', '08', '14', '27', '40', '45', '34']}]"
      ]
     },
     "execution_count": 2,
     "metadata": {},
     "output_type": "execute_result"
    }
   ],
   "source": [
    "### 整理解析資料的 function \n",
    "def get_clear_data(soup):\n",
    "    tables = soup.select(\"table#Lotto649Control_history_dlQuery table\")\n",
    "    \n",
    "    result = []\n",
    "    \n",
    "    for table_tag in tables:\n",
    "\n",
    "        # 期別 , 開獎日 -> 第二個 tr\n",
    "        tr2 = table_tag.select(\"tr\")[1]\n",
    "\n",
    "        lotto_no   = tr2.select(\"td\")[0].text\n",
    "        lotto_date = tr2.select(\"td\")[1].text.strip()\n",
    "\n",
    "        # 樂透號碼 -> 第五個 tr\n",
    "        tr5 = table_tag.select(\"tr\")[4]\n",
    "\n",
    "        # List comprehension\n",
    "        lotto_numbers_short = [ td_tag.text.strip() for td_tag in tr5.select(\"td\")[1:] ]\n",
    "        \n",
    "        result.append({\n",
    "            \"no\"   : lotto_no,\n",
    "            \"time\" : lotto_date,\n",
    "            \"numbers\" : lotto_numbers_short\n",
    "        })\n",
    "\n",
    "    return result\n",
    "\n",
    "get_clear_data(soup)"
   ]
  },
  {
   "cell_type": "code",
   "execution_count": 12,
   "id": "abff0e85",
   "metadata": {
    "scrolled": true
   },
   "outputs": [],
   "source": [
    "### 取得隱藏參數\n",
    "def get_hidden_params(soup):\n",
    "    __VIEWSTATE = soup.select(\"input#__VIEWSTATE\")[0][\"value\"]\n",
    "    __VIEWSTATEGENERATOR = soup.select(\"input#__VIEWSTATEGENERATOR\")[0][\"value\"]\n",
    "    __EVENTVALIDATION = soup.select(\"input#__EVENTVALIDATION\")[0][\"value\"]\n",
    "    \n",
    "    return {\n",
    "        \"__VIEWSTATE\" : __VIEWSTATE,\n",
    "        \"__VIEWSTATEGENERATOR\" : __VIEWSTATEGENERATOR,\n",
    "        \"__EVENTVALIDATION\" : __EVENTVALIDATION\n",
    "    }\n",
    "\n",
    "\n",
    "# get_hidden_params(soup)"
   ]
  },
  {
   "cell_type": "code",
   "execution_count": 7,
   "id": "ef26b723",
   "metadata": {
    "scrolled": true
   },
   "outputs": [
    {
     "name": "stdout",
     "output_type": "stream",
     "text": [
      "1月 is ok.\n",
      "--------------------------------------------------------------------------------\n",
      "2月 is ok.\n",
      "--------------------------------------------------------------------------------\n",
      "3月 is ok.\n",
      "--------------------------------------------------------------------------------\n",
      "4月 is ok.\n",
      "--------------------------------------------------------------------------------\n",
      "5月 is ok.\n",
      "--------------------------------------------------------------------------------\n",
      "Done.\n"
     ]
    }
   ],
   "source": [
    "### 抓取 1 ~ 5 月 樂透號碼\n",
    "\n",
    "url = \"http://www.taiwanlottery.com.tw/Lotto/Lotto649/history.aspx\"\n",
    "\n",
    "headers = {\n",
    "    \"User-Agent\": \"Mozilla/5.0 (Macintosh; Intel Mac OS X 10_12_6) AppleWebKit/537.36 (KHTML, like Gecko) Chrome/90.0.4430.212 Safari/537.36\"\n",
    "}\n",
    "\n",
    "output = []\n",
    "\n",
    "### 發 POST requests 取得頁面 source code\n",
    "for i in range(1,6):\n",
    "    hidden = get_hidden_params(soup)\n",
    "    payload = {\n",
    "        \"__VIEWSTATE\": hidden[\"__VIEWSTATE\"],\n",
    "        \"__VIEWSTATEGENERATOR\": hidden[\"__VIEWSTATEGENERATOR\"],\n",
    "        \"__EVENTVALIDATION\": hidden[\"__EVENTVALIDATION\"],\n",
    "        \"forma\": \"請選擇遊戲\",\n",
    "        \"Lotto649Control_history$txtNO\": \"\", # 配入空字串\n",
    "        \"Lotto649Control_history$chk\": \"radYM\",\n",
    "        \"Lotto649Control_history$dropYear\": 108,\n",
    "        \"Lotto649Control_history$dropMonth\": i,\n",
    "        \"Lotto649Control_history$btnSubmit\": \"查詢\"\n",
    "    }\n",
    "\n",
    "    res = requests.post(url,headers=headers,data=payload)  ### data 為要攜帶的參數\n",
    "    soup = bs(res.text,\"lxml\")\n",
    "    \n",
    "    data = get_clear_data(soup)\n",
    "    output += data\n",
    "    \n",
    "    # print(data)\n",
    "    print(\"{}月 is ok.\".format(i))\n",
    "    print(\"-\"*80)\n",
    "    \n",
    "print(\"Done.\")"
   ]
  },
  {
   "cell_type": "code",
   "execution_count": 17,
   "id": "a529bb62",
   "metadata": {},
   "outputs": [],
   "source": [
    "### Sorted 排序 function\n",
    "# sorted(output , key = lambda ele : ele[\"time\"])"
   ]
  },
  {
   "cell_type": "code",
   "execution_count": 6,
   "id": "75206e37",
   "metadata": {},
   "outputs": [
    {
     "name": "stdout",
     "output_type": "stream",
     "text": [
      "[1, 2, 3, 4, 5, 6]\n",
      "[0, 0, 0, 1, 2, 3]\n"
     ]
    }
   ],
   "source": [
    "### list 疊加\n",
    "a = [1,2,3]\n",
    "b = [4,5,6]\n",
    "\n",
    "print(a+b)\n",
    "\n",
    "c = [0,0,0]\n",
    "c += a\n",
    "print(c)"
   ]
  },
  {
   "cell_type": "code",
   "execution_count": 18,
   "id": "5e9b3082",
   "metadata": {
    "scrolled": true
   },
   "outputs": [
    {
     "name": "stdout",
     "output_type": "stream",
     "text": [
      "1月 is ok.\n",
      "2月 is ok.\n",
      "3月 is ok.\n",
      "4月 is ok.\n",
      "5月 is ok.\n",
      "6月 is ok.\n",
      "Done.\n"
     ]
    }
   ],
   "source": [
    "### 組合程式\n",
    "\n",
    "## 引用套件\n",
    "import requests\n",
    "from bs4 import BeautifulSoup as bs\n",
    "\n",
    "## 定義 function\n",
    "\n",
    "def get_hidden_params(soup):\n",
    "    __VIEWSTATE = soup.select(\"input#__VIEWSTATE\")[0][\"value\"]\n",
    "    __VIEWSTATEGENERATOR = soup.select(\"input#__VIEWSTATEGENERATOR\")[0][\"value\"]\n",
    "    __EVENTVALIDATION = soup.select(\"input#__EVENTVALIDATION\")[0][\"value\"]\n",
    "    \n",
    "    return {\n",
    "        \"__VIEWSTATE\" : __VIEWSTATE,\n",
    "        \"__VIEWSTATEGENERATOR\" : __VIEWSTATEGENERATOR,\n",
    "        \"__EVENTVALIDATION\" : __EVENTVALIDATION\n",
    "    }\n",
    "\n",
    "def get_clear_data(soup):\n",
    "    tables = soup.select(\"table#Lotto649Control_history_dlQuery table\")\n",
    "    \n",
    "    result = []\n",
    "    \n",
    "    for table_tag in tables:\n",
    "\n",
    "        # 期別 , 開獎日 -> 第二個 tr\n",
    "        tr2 = table_tag.select(\"tr\")[1]\n",
    "\n",
    "        lotto_no   = tr2.select(\"td\")[0].text\n",
    "        lotto_date = tr2.select(\"td\")[1].text.strip()\n",
    "\n",
    "        # 樂透號碼 -> 第五個 tr\n",
    "        tr5 = table_tag.select(\"tr\")[4]\n",
    "\n",
    "        # List comprehension\n",
    "        lotto_numbers_short = [ td_tag.text.strip() for td_tag in tr5.select(\"td\")[1:] ]\n",
    "        \n",
    "        result.append({\n",
    "            \"no\"   : lotto_no,\n",
    "            \"time\" : lotto_date,\n",
    "            \"numbers\" : lotto_numbers_short\n",
    "        })\n",
    "\n",
    "    return result\n",
    "\n",
    "\n",
    "## main 程式\n",
    "url = \"http://www.taiwanlottery.com.tw/Lotto/Lotto649/history.aspx\"\n",
    "\n",
    "headers = {\n",
    "    \"User-Agent\": \"Mozilla/5.0 (Macintosh; Intel Mac OS X 10_12_6) AppleWebKit/537.36 (KHTML, like Gecko) Chrome/90.0.4430.212 Safari/537.36\"\n",
    "}\n",
    "\n",
    "# 1. 發 GET requests , 取得第一次的 隱藏參數\n",
    "res = requests.get(url,headers=headers) \n",
    "soup = bs(res.text,\"lxml\")\n",
    "# hidden = get_hidden_params(soup)\n",
    "# print(hidden)\n",
    "\n",
    "\n",
    "# 2. for-loop 發 POST requests , 取得 1 ~ 6 月的樂透號碼\n",
    "output = []\n",
    "\n",
    "for i in range(1,7):\n",
    "    hidden = get_hidden_params(soup)\n",
    "    payload = {\n",
    "        \"__VIEWSTATE\": hidden[\"__VIEWSTATE\"],\n",
    "        \"__VIEWSTATEGENERATOR\": hidden[\"__VIEWSTATEGENERATOR\"],\n",
    "        \"__EVENTVALIDATION\": hidden[\"__EVENTVALIDATION\"],\n",
    "        \"forma\": \"請選擇遊戲\",\n",
    "        \"Lotto649Control_history$txtNO\": \"\", # 配入空字串\n",
    "        \"Lotto649Control_history$chk\": \"radYM\",\n",
    "        \"Lotto649Control_history$dropYear\": 109,\n",
    "        \"Lotto649Control_history$dropMonth\": i,\n",
    "        \"Lotto649Control_history$btnSubmit\": \"查詢\"\n",
    "    }\n",
    "\n",
    "    res = requests.post(url,headers=headers,data=payload)  ### data 為要攜帶的參數\n",
    "    soup = bs(res.text,\"lxml\")\n",
    "    \n",
    "    data = get_clear_data(soup)\n",
    "    output += data\n",
    "\n",
    "    print(\"{}月 is ok.\".format(i))\n",
    "    \n",
    "print(\"Done.\")\n",
    "\n",
    "# sorted(output , key = lambda ele : ele[\"no\"])"
   ]
  },
  {
   "cell_type": "code",
   "execution_count": null,
   "id": "3017518a",
   "metadata": {},
   "outputs": [],
   "source": [
    "##########################################################################################"
   ]
  },
  {
   "cell_type": "code",
   "execution_count": null,
   "id": "b0aedb61",
   "metadata": {},
   "outputs": [],
   "source": [
    "##########################################################################################"
   ]
  },
  {
   "cell_type": "code",
   "execution_count": null,
   "id": "0e9b558a",
   "metadata": {},
   "outputs": [],
   "source": [
    "##########################################################################################"
   ]
  },
  {
   "cell_type": "code",
   "execution_count": 40,
   "id": "4a868409",
   "metadata": {},
   "outputs": [],
   "source": [
    "##### PTT 股票版 （重新開始爬蟲）\n",
    "\n",
    "### 取得首頁 source code\n",
    "import requests\n",
    "from bs4 import BeautifulSoup as bs \n",
    "\n",
    "url = \"https://www.ptt.cc/bbs/Stock/index.html\"\n",
    "headers = {\n",
    "    \"user-agent\": \"Mozilla/5.0 (Macintosh; Intel Mac OS X 10_12_6) AppleWebKit/537.36 (KHTML, like Gecko) Chrome/90.0.4430.212 Safari/537.36\"\n",
    "}\n",
    "\n",
    "res = requests.get(url,headers=headers)\n",
    "soup = bs(res.text,\"lxml\")\n",
    "# soup"
   ]
  },
  {
   "cell_type": "code",
   "execution_count": 28,
   "id": "af6927f5",
   "metadata": {
    "scrolled": true
   },
   "outputs": [
    {
     "name": "stdout",
     "output_type": "stream",
     "text": [
      "https://www.ptt.cc/bbs/Stock/M.1636020592.A.367.html [請益] 為何美國主動基金長期績效很少能打贏VTI\n",
      "https://www.ptt.cc/bbs/Stock/M.1636020879.A.366.html [新聞] 〈聯詠法說〉明年全產品線出貨續強 首顆O\n",
      "https://www.ptt.cc/bbs/Stock/M.1636021794.A.AD5.html [新聞] 陽明海運捐贈279台空氣清淨機\n",
      "https://www.ptt.cc/bbs/Stock/M.1636021830.A.68E.html [新聞] 華邦電前3季獲利增8.8倍 每股賺2.36元\n",
      "https://www.ptt.cc/bbs/Stock/M.1636023729.A.61E.html [標的]2476鉅祥\n",
      "https://www.ptt.cc/bbs/Stock/M.1636024843.A.C1B.html [新聞] 高通Q4展望優於聯發科 後續觀察市占消長 \n",
      "https://www.ptt.cc/bbs/Stock/M.1636025058.A.7D6.html [新聞] 《航運股》台驊投控Q3本業創高 前3季每ꨮ\n"
     ]
    }
   ],
   "source": [
    "### 抓取首頁文章連結\n",
    "# soup.select(\"div#main-container div.r-ent a\")  # 不佳\n",
    "\n",
    "links = []\n",
    "for a_tag in soup.select(\"div#main-container div.r-ent div.title a\"):\n",
    "    \n",
    "    # 過濾 版規 & 盤後閒聊 / 盤中閒聊\n",
    "    title = a_tag.text\n",
    "    \n",
    "    if \"股票板板規\" in title or \"盤後閒聊\" in title or \"盤中閒聊\" in title :\n",
    "        continue # 跳過此步, 執行下一動迴圈\n",
    "    else:\n",
    "        url = \"https://www.ptt.cc\" + a_tag[\"href\"]\n",
    "        print(url,title)"
   ]
  },
  {
   "cell_type": "code",
   "execution_count": 41,
   "id": "15d65203",
   "metadata": {},
   "outputs": [
    {
     "name": "stdout",
     "output_type": "stream",
     "text": [
      "https://www.ptt.cc/bbs/Stock/index5018.html is ok.\n",
      "https://www.ptt.cc/bbs/Stock/index5017.html is ok.\n",
      "https://www.ptt.cc/bbs/Stock/index5016.html is ok.\n",
      "https://www.ptt.cc/bbs/Stock/index5015.html is ok.\n",
      "https://www.ptt.cc/bbs/Stock/index5014.html is ok.\n",
      "Done.\n"
     ]
    }
   ],
   "source": [
    "### 抓取 分頁文章 連結\n",
    "links = []\n",
    "\n",
    "headers = {\n",
    "    \"user-agent\": \"Mozilla/5.0 (Macintosh; Intel Mac OS X 10_12_6) AppleWebKit/537.36 (KHTML, like Gecko) Chrome/90.0.4430.212 Safari/537.36\"\n",
    "}\n",
    "\n",
    "for i in range(1,6):\n",
    "    \n",
    "    # 建構 '上頁' 連結\n",
    "    link = soup.select(\"div#action-bar-container div.btn-group-paging a\")[1][\"href\"]\n",
    "    previous_link = \"https://www.ptt.cc\" + link\n",
    "\n",
    "    res = requests.get(previous_link,headers=headers)\n",
    "    soup = bs(res.text,\"lxml\")\n",
    "\n",
    "    for a_tag in soup.select(\"div#main-container div.r-ent div.title a\"):\n",
    "\n",
    "        # 過濾 版規 & 盤後閒聊 / 盤中閒聊\n",
    "        title = a_tag.text\n",
    "\n",
    "        if \"股票板板規\" in title or \"盤後閒聊\" in title or \"盤中閒聊\" in title :\n",
    "            continue # 跳過此步, 執行下一動迴圈\n",
    "        else:\n",
    "            url = \"https://www.ptt.cc\" + a_tag[\"href\"]\n",
    "            links.append(url)\n",
    "            \n",
    "    print(\"{} is ok.\".format(previous_link))\n",
    "        \n",
    "print(\"Done.\")"
   ]
  },
  {
   "cell_type": "code",
   "execution_count": 42,
   "id": "f1870969",
   "metadata": {
    "scrolled": true
   },
   "outputs": [
    {
     "data": {
      "text/plain": [
       "['https://www.ptt.cc/bbs/Stock/M.1636013570.A.D8F.html',\n",
       " 'https://www.ptt.cc/bbs/Stock/M.1636013592.A.C77.html',\n",
       " 'https://www.ptt.cc/bbs/Stock/M.1636014632.A.BA6.html',\n",
       " 'https://www.ptt.cc/bbs/Stock/M.1636014764.A.64E.html',\n",
       " 'https://www.ptt.cc/bbs/Stock/M.1636015775.A.1E4.html',\n",
       " 'https://www.ptt.cc/bbs/Stock/M.1636016886.A.5FE.html',\n",
       " 'https://www.ptt.cc/bbs/Stock/M.1636017267.A.783.html',\n",
       " 'https://www.ptt.cc/bbs/Stock/M.1636017363.A.ABC.html',\n",
       " 'https://www.ptt.cc/bbs/Stock/M.1636017507.A.BCC.html',\n",
       " 'https://www.ptt.cc/bbs/Stock/M.1636018560.A.626.html',\n",
       " 'https://www.ptt.cc/bbs/Stock/M.1636018761.A.97E.html',\n",
       " 'https://www.ptt.cc/bbs/Stock/M.1636018776.A.CA5.html',\n",
       " 'https://www.ptt.cc/bbs/Stock/M.1636019488.A.E49.html',\n",
       " 'https://www.ptt.cc/bbs/Stock/M.1636019495.A.100.html',\n",
       " 'https://www.ptt.cc/bbs/Stock/M.1636019590.A.400.html',\n",
       " 'https://www.ptt.cc/bbs/Stock/M.1636020002.A.55B.html',\n",
       " 'https://www.ptt.cc/bbs/Stock/M.1636020314.A.A76.html',\n",
       " 'https://www.ptt.cc/bbs/Stock/M.1636004790.A.729.html',\n",
       " 'https://www.ptt.cc/bbs/Stock/M.1636005613.A.6F5.html',\n",
       " 'https://www.ptt.cc/bbs/Stock/M.1636005940.A.10B.html',\n",
       " 'https://www.ptt.cc/bbs/Stock/M.1636006738.A.286.html',\n",
       " 'https://www.ptt.cc/bbs/Stock/M.1636006844.A.B77.html',\n",
       " 'https://www.ptt.cc/bbs/Stock/M.1636006973.A.105.html',\n",
       " 'https://www.ptt.cc/bbs/Stock/M.1636008002.A.C97.html',\n",
       " 'https://www.ptt.cc/bbs/Stock/M.1636008747.A.09C.html',\n",
       " 'https://www.ptt.cc/bbs/Stock/M.1636008986.A.E87.html',\n",
       " 'https://www.ptt.cc/bbs/Stock/M.1636009157.A.D57.html',\n",
       " 'https://www.ptt.cc/bbs/Stock/M.1636009315.A.B46.html',\n",
       " 'https://www.ptt.cc/bbs/Stock/M.1636010297.A.558.html',\n",
       " 'https://www.ptt.cc/bbs/Stock/M.1636010534.A.8F7.html',\n",
       " 'https://www.ptt.cc/bbs/Stock/M.1636011503.A.742.html',\n",
       " 'https://www.ptt.cc/bbs/Stock/M.1636011769.A.342.html',\n",
       " 'https://www.ptt.cc/bbs/Stock/M.1636012408.A.DCC.html',\n",
       " 'https://www.ptt.cc/bbs/Stock/M.1635986321.A.8E2.html',\n",
       " 'https://www.ptt.cc/bbs/Stock/M.1635986485.A.3B0.html',\n",
       " 'https://www.ptt.cc/bbs/Stock/M.1635987045.A.A07.html',\n",
       " 'https://www.ptt.cc/bbs/Stock/M.1635987424.A.F15.html',\n",
       " 'https://www.ptt.cc/bbs/Stock/M.1635988009.A.1C5.html',\n",
       " 'https://www.ptt.cc/bbs/Stock/M.1635989279.A.379.html',\n",
       " 'https://www.ptt.cc/bbs/Stock/M.1635991470.A.0B5.html',\n",
       " 'https://www.ptt.cc/bbs/Stock/M.1635991868.A.639.html',\n",
       " 'https://www.ptt.cc/bbs/Stock/M.1635992409.A.116.html',\n",
       " 'https://www.ptt.cc/bbs/Stock/M.1635992513.A.6C3.html',\n",
       " 'https://www.ptt.cc/bbs/Stock/M.1635994918.A.681.html',\n",
       " 'https://www.ptt.cc/bbs/Stock/M.1635998321.A.A39.html',\n",
       " 'https://www.ptt.cc/bbs/Stock/M.1635998438.A.F6E.html',\n",
       " 'https://www.ptt.cc/bbs/Stock/M.1635999984.A.705.html',\n",
       " 'https://www.ptt.cc/bbs/Stock/M.1636000626.A.D18.html',\n",
       " 'https://www.ptt.cc/bbs/Stock/M.1636000639.A.FA1.html',\n",
       " 'https://www.ptt.cc/bbs/Stock/M.1636002368.A.2F9.html',\n",
       " 'https://www.ptt.cc/bbs/Stock/M.1636002539.A.3D6.html',\n",
       " 'https://www.ptt.cc/bbs/Stock/M.1636003922.A.268.html',\n",
       " 'https://www.ptt.cc/bbs/Stock/M.1635951532.A.E10.html',\n",
       " 'https://www.ptt.cc/bbs/Stock/M.1635952091.A.7CE.html',\n",
       " 'https://www.ptt.cc/bbs/Stock/M.1635953650.A.B2D.html',\n",
       " 'https://www.ptt.cc/bbs/Stock/M.1635955267.A.03C.html',\n",
       " 'https://www.ptt.cc/bbs/Stock/M.1635956405.A.4F5.html',\n",
       " 'https://www.ptt.cc/bbs/Stock/M.1635956649.A.8F0.html',\n",
       " 'https://www.ptt.cc/bbs/Stock/M.1635957218.A.930.html',\n",
       " 'https://www.ptt.cc/bbs/Stock/M.1635960573.A.6B3.html',\n",
       " 'https://www.ptt.cc/bbs/Stock/M.1635963803.A.0B8.html',\n",
       " 'https://www.ptt.cc/bbs/Stock/M.1635966140.A.E96.html',\n",
       " 'https://www.ptt.cc/bbs/Stock/M.1635968431.A.1EA.html',\n",
       " 'https://www.ptt.cc/bbs/Stock/M.1635968786.A.B43.html',\n",
       " 'https://www.ptt.cc/bbs/Stock/M.1635968810.A.D91.html',\n",
       " 'https://www.ptt.cc/bbs/Stock/M.1635980667.A.6F5.html',\n",
       " 'https://www.ptt.cc/bbs/Stock/M.1635984134.A.9FC.html',\n",
       " 'https://www.ptt.cc/bbs/Stock/M.1635984516.A.892.html',\n",
       " 'https://www.ptt.cc/bbs/Stock/M.1635985113.A.2A5.html',\n",
       " 'https://www.ptt.cc/bbs/Stock/M.1635942403.A.239.html',\n",
       " 'https://www.ptt.cc/bbs/Stock/M.1635942907.A.D52.html',\n",
       " 'https://www.ptt.cc/bbs/Stock/M.1635943167.A.80A.html',\n",
       " 'https://www.ptt.cc/bbs/Stock/M.1635944027.A.A79.html',\n",
       " 'https://www.ptt.cc/bbs/Stock/M.1635944479.A.9AF.html',\n",
       " 'https://www.ptt.cc/bbs/Stock/M.1635945021.A.78C.html',\n",
       " 'https://www.ptt.cc/bbs/Stock/M.1635945359.A.6FC.html',\n",
       " 'https://www.ptt.cc/bbs/Stock/M.1635946095.A.70C.html',\n",
       " 'https://www.ptt.cc/bbs/Stock/M.1635946355.A.7E5.html',\n",
       " 'https://www.ptt.cc/bbs/Stock/M.1635946375.A.17D.html',\n",
       " 'https://www.ptt.cc/bbs/Stock/M.1635946907.A.977.html',\n",
       " 'https://www.ptt.cc/bbs/Stock/M.1635947055.A.C42.html',\n",
       " 'https://www.ptt.cc/bbs/Stock/M.1635949157.A.833.html',\n",
       " 'https://www.ptt.cc/bbs/Stock/M.1635949450.A.3F5.html',\n",
       " 'https://www.ptt.cc/bbs/Stock/M.1635949479.A.EC3.html',\n",
       " 'https://www.ptt.cc/bbs/Stock/M.1635949630.A.D88.html',\n",
       " 'https://www.ptt.cc/bbs/Stock/M.1635950179.A.73C.html',\n",
       " 'https://www.ptt.cc/bbs/Stock/M.1635950783.A.258.html']"
      ]
     },
     "execution_count": 42,
     "metadata": {},
     "output_type": "execute_result"
    }
   ],
   "source": [
    "links"
   ]
  }
 ],
 "metadata": {
  "kernelspec": {
   "display_name": "Python 3",
   "language": "python",
   "name": "python3"
  },
  "language_info": {
   "codemirror_mode": {
    "name": "ipython",
    "version": 3
   },
   "file_extension": ".py",
   "mimetype": "text/x-python",
   "name": "python",
   "nbconvert_exporter": "python",
   "pygments_lexer": "ipython3",
   "version": "3.8.8"
  }
 },
 "nbformat": 4,
 "nbformat_minor": 5
}
