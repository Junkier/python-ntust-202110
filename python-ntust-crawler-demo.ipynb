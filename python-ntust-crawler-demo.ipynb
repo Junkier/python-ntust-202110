{
 "cells": [
  {
   "cell_type": "code",
   "execution_count": 90,
   "metadata": {},
   "outputs": [],
   "source": [
    "### 引入套件\n",
    "import requests \n",
    "from bs4 import BeautifulSoup as bs\n",
    "\n",
    "\n",
    "### 自訂 fucntion\n",
    "def remove_tags(soup):\n",
    "    dirty_tags = [\n",
    "        \"span.f2\",\n",
    "        \"div.article-metaline\",\n",
    "        \"div.article-metaline-right\",\n",
    "        \"div.push\",\n",
    "        \"div.richcontent\"\n",
    "    ]\n",
    "    for t in dirty_tags:\n",
    "        for ele in soup.select(t):\n",
    "            ele.extract()\n",
    "    return soup\n",
    "\n",
    "\n",
    "### 填入文章網址\n",
    "url = \"https://www.ptt.cc/bbs/Stock/M.1632828649.A.CB3.html\"\n",
    "\n",
    "\n",
    "result = requests.get(url)\n",
    "soup = bs(result.text,\"lxml\")\n",
    "\n",
    "raw_data= soup.select(\"span.article-meta-value\")\n",
    "\n",
    "\n",
    "### 抓取 作者 / 分類 / 標題 / 時間\n",
    "author = raw_data[0].text\n",
    "category = raw_data[1].text\n",
    "title = raw_data[2].text\n",
    "time = raw_data[3].text\n",
    "\n",
    "\n",
    "### 抓取 本文內容\n",
    "raw_soup   = soup.select(\"div#main-content\")[0]\n",
    "clear_soup = remove_tags(raw_soup)\n",
    "content = clear_soup.text.strip()\n",
    "\n",
    "### 包成 data 資料\n",
    "data = {}\n",
    "data[\"author\"] = author\n",
    "data[\"title\"] = title\n",
    "data[\"category\"] = category\n",
    "data[\"time\"] = time\n",
    "data[\"content\"] = content"
   ]
  },
  {
   "cell_type": "code",
   "execution_count": 91,
   "metadata": {},
   "outputs": [
    {
     "data": {
      "text/plain": [
       "{'author': 't73697 (鬼萌)',\n",
       " 'title': '[新聞] 美西線運價跳水？陸市亂象浮上檯面',\n",
       " 'category': 'Stock',\n",
       " 'time': 'Tue Sep 28 19:30:47 2021',\n",
       " 'content': '原文標題：\\n美西線運價跳水？陸市亂象浮上檯面\\n\\n原文連結：\\nhttps://reurl.cc/GbxQd3\\n\\n發布時間：\\n2021.09.28\\n\\n\\n\\n原文內容：\\n大陸黃金週傳出美西線運價跳水，市場擔憂能耗雙控政策衝擊大陸出口，進而影響運輸\\n需求？據國內貨代業者查證，有少數大陸貨代業者在市場降價求售艙位，但是不是因為\\n限電限產或黃金週長假不出貨引起尚難定論，目前到10月底艙位預訂全滿。至於運價是\\n否因此出現修正？要等到長假過後10月中大陸復工，出口運量出來才能力判。\\n\\n國內貨代業者比較擔心的是，大陸可能出現的市場亂象干擾產業營運，像是搶艙搶櫃造\\n成的重複訂艙訂位嚴重，及少數貨代業為了搶賺高運價大量攬櫃囤櫃，時間到了艙位填\\n不滿，擔心受到船公司罰款降價求售。\\n\\n對照FBX貨櫃運價指數27日報價，美西線為19,182美元，比三個月前的8,849美元高出11\\n7％，美東線為22,234美元，相較3個月前報價11,571美元高出92％，與市場傳言3天跌掉\\n3個月漲幅明顯不符。美西線、美東線歷史高價落在9月15日，最新運價與歷史高峰分別\\n相差6.8％、0.2％。\\n\\n貨代業者表示，傳統大陸黃金週休假停工不出貨，船公司會抽船將運力移往其他航線因\\n應，是正常現象，接著10月中至11月會有一波趕運聖誕節、過年貨量的運力高峰。但這\\n波降價據傳跟大陸貨代業搶賺高運價，攬進大量艙位卻無法消化，時間到了只能降價賣\\n艙位有關，以華南地區較嚴重。若此，降價影響最大的是貨代業。\\n\\n法人則指出，大陸限電停電限產不會是常態，且製造業為了拚出口，會將訂單轉往東南\\n亞等其他生產基地出貨，貨櫃航運業者也會適時調度船隊運力因應。再者，限電停產，\\n補庫存的需求不會不見，只是遞延及累積，未來產量開出仍有貨櫃航運需求。\\n\\n但此舉會不會讓原本9月至隔年3月會出現運價季節性下滑反而獲得支撐，也值得關注。\\n\\n\\n\\n\\n心得/評論：                             ※必需填寫滿20字\\n\\n貨代囤太多艙位結果賣不完只好砍價，船公司：看我幹嘛？不看看貨代把艙位炒到多少\\n錢了？？？\\n\\n反正現在都是短線交易者，進場賭大小的\\n根本沒什麼人了解裡面的細節，看到像利空的新聞持有者馬上搶著賣，股價先咕嚕咕嚕\\n…\\n還用一個超級聳動的新聞標題：大 ★ 跳 ★ 水\\n而且很好笑的是早上那篇新聞的來源\\n台灣記者抄對岸新聞 而對岸這新聞又是抄某某討論區來的\\n\\n--'}"
      ]
     },
     "execution_count": 91,
     "metadata": {},
     "output_type": "execute_result"
    }
   ],
   "source": [
    "# 顯示爬蟲資料結果\n",
    "data"
   ]
  }
 ],
 "metadata": {
  "kernelspec": {
   "display_name": "Python 3",
   "language": "python",
   "name": "python3"
  },
  "language_info": {
   "codemirror_mode": {
    "name": "ipython",
    "version": 3
   },
   "file_extension": ".py",
   "mimetype": "text/x-python",
   "name": "python",
   "nbconvert_exporter": "python",
   "pygments_lexer": "ipython3",
   "version": "3.6.1"
  }
 },
 "nbformat": 4,
 "nbformat_minor": 2
}
