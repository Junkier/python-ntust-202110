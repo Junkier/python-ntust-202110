{
 "cells": [
  {
   "cell_type": "code",
   "execution_count": 3,
   "id": "5112f19a",
   "metadata": {},
   "outputs": [
    {
     "name": "stdout",
     "output_type": "stream",
     "text": [
      "請輸入長度 :12.14\n",
      "請輸入寬度 :33.5\n",
      "面積 : 406.69\n",
      "周長 : 91.28\n"
     ]
    }
   ],
   "source": [
    "# 1.  試寫一程式 , 提示使用者輸入長&寬 ,   \n",
    "#     計算此矩形的面積及周長\n",
    "width  = float(input(\"請輸入長度 :\"))\n",
    "height = float(input(\"請輸入寬度 :\"))\n",
    "\n",
    "print(\"面積 :\" , width * height)\n",
    "print(\"周長 :\" , (width + height) *2)"
   ]
  },
  {
   "cell_type": "code",
   "execution_count": 7,
   "id": "8844fa43",
   "metadata": {},
   "outputs": [
    {
     "name": "stdout",
     "output_type": "stream",
     "text": [
      "this is a lion.\n",
      "**** !! a book.\n",
      "this is an apple.\n",
      "this is an anpple.\n"
     ]
    }
   ],
   "source": [
    "# 2.  試寫一程式 ,  將此字串取代成不同的新字串 \n",
    "#       1)  “this is a book.”  -->  “this is a lion.”\n",
    "#       2)  “this is a book.”  -->  “**** !! a book.”\n",
    "#       3)  “this is a book.”   -->  “this is an apple.”\n",
    "\n",
    "message = \"this is a book.\"\n",
    "print( message.replace(\"book\",\"lion\") )\n",
    "print( message.replace(\"this\",\"****\").replace(\"is\",\"!!\") )\n",
    "print( message.replace(\"a\",\"an\").replace(\"book\",\"apple\") )\n",
    "print( message.replace(\"book\",\"apple\").replace(\"a\",\"an\") )"
   ]
  },
  {
   "cell_type": "code",
   "execution_count": 11,
   "id": "30a1acce",
   "metadata": {},
   "outputs": [
    {
     "name": "stdout",
     "output_type": "stream",
     "text": [
      "Steve is good , Leo is young , and Dave is single...\n",
      "Steve is good , Dave is young , and Leo is single...\n"
     ]
    }
   ],
   "source": [
    "# 3.  令 a=“Jeff” , b=“Leo” , c=“Jonny” , 並打印出\n",
    "#       “Jeff is good , Leo is young , and Jonny is single…”\n",
    "#       當 a 換成 “Steve” , c = “Dave” 時, 需打印出\n",
    "#       “Steve is good , Leo is young , and Dave is single…”\n",
    "\n",
    "# a = \"Jeff\"\n",
    "a = \"Steve\"\n",
    "b = \"Leo\"\n",
    "# c = \"Jonny\"\n",
    "c = \"Dave\"\n",
    "message2 = \"{} is good , {} is young , and {} is single...\"\n",
    "\n",
    "print( message2.format(a,b,c) )\n",
    "\n",
    "\n",
    "message3 = \"{name1} is good , {name2} is young , and {name3} is single...\"\n",
    "\n",
    "print( message3.format(name1 = a,name2 = c, name3 = b) )"
   ]
  },
  {
   "cell_type": "code",
   "execution_count": 14,
   "id": "9b105432",
   "metadata": {},
   "outputs": [
    {
     "name": "stdout",
     "output_type": "stream",
     "text": [
      "請輸入數字:12\n",
      "young\n"
     ]
    }
   ],
   "source": [
    "# 4. 試寫一程式 , 請使用者輸入一數字 , 並按規則顯示下列訊息 :\n",
    "#        0 <= n < 30  :  young\n",
    "#        30<= n < 60 :  strong \n",
    "#        n >= 60        :  old\n",
    "#        n < 0            :  ‘n’ must be larger than 0 \n",
    "\n",
    "n = int(input(\"請輸入數字:\"))\n",
    "\n",
    "if 0 <= n < 30:\n",
    "    print(\"young\")\n",
    "elif 30 <= n < 60 :\n",
    "    print(\"strong\")\n",
    "elif n >=60:\n",
    "    print(\"old\")\n",
    "else:\n",
    "    print(\"'n' must be larger than 0\")\n"
   ]
  }
 ],
 "metadata": {
  "kernelspec": {
   "display_name": "Python 3",
   "language": "python",
   "name": "python3"
  },
  "language_info": {
   "codemirror_mode": {
    "name": "ipython",
    "version": 3
   },
   "file_extension": ".py",
   "mimetype": "text/x-python",
   "name": "python",
   "nbconvert_exporter": "python",
   "pygments_lexer": "ipython3",
   "version": "3.8.8"
  }
 },
 "nbformat": 4,
 "nbformat_minor": 5
}
