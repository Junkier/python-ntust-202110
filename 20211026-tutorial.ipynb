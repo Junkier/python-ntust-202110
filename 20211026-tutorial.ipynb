{
 "cells": [
  {
   "cell_type": "code",
   "execution_count": 4,
   "id": "3872fe72",
   "metadata": {},
   "outputs": [],
   "source": [
    "import requests\n",
    "url = \"https://www.nownews.com/cat/column/\"\n",
    "res = requests.get(url)\n",
    "# print(res.text)"
   ]
  },
  {
   "cell_type": "code",
   "execution_count": 92,
   "id": "fcbe64e6",
   "metadata": {},
   "outputs": [],
   "source": [
    "### 加入 Headers \n",
    "# Headers : 標頭 , 用來說明 requests 的性質\n",
    "our_headers = {\n",
    "    \"user-agent\": \"Mozilla/5.0 (Macintosh; Intel Mac OS X 10_12_6) AppleWebKit/537.36 (KHTML, like Gecko) Chrome/90.0.4430.212 Safari/537.36\"\n",
    "}\n",
    "\n",
    "# 加入 Headers 的 requests\n",
    "res = requests.get(url,headers=our_headers)\n",
    "\n",
    "# 顯示 response 結果\n",
    "# print(res.text)"
   ]
  },
  {
   "cell_type": "code",
   "execution_count": 14,
   "id": "aa26f995",
   "metadata": {},
   "outputs": [],
   "source": [
    "# print(res.text)"
   ]
  },
  {
   "cell_type": "code",
   "execution_count": 93,
   "id": "d937cbb7",
   "metadata": {},
   "outputs": [
    {
     "name": "stdout",
     "output_type": "stream",
     "text": [
      "<class 'str'>\n",
      "<class 'bs4.BeautifulSoup'>\n"
     ]
    }
   ],
   "source": [
    "### 放入 BeautifulSoup \n",
    "\n",
    "# 引入套件\n",
    "from bs4 import BeautifulSoup as bs\n",
    "\n",
    "# bs(要解析的 html 資料 , 解析器)\n",
    "soup = bs(res.text,\"lxml\")\n",
    "\n",
    "# print(res.text)\n",
    "# print(soup)\n",
    "\n",
    "print(type(res.text))\n",
    "print(type(soup))"
   ]
  },
  {
   "cell_type": "code",
   "execution_count": 16,
   "id": "3f86a1b0",
   "metadata": {
    "scrolled": true
   },
   "outputs": [],
   "source": [
    "### 使用 bs #1\n",
    "## 透過 標籤名稱 定位\n",
    "# soup.select(\"div.leftCol ul\")\n",
    "# soup.select(\"p\")\n",
    "# soup.select(\"div.leftCol ul li\")"
   ]
  },
  {
   "cell_type": "code",
   "execution_count": 37,
   "id": "687c9ad8",
   "metadata": {
    "scrolled": true
   },
   "outputs": [
    {
     "name": "stdout",
     "output_type": "stream",
     "text": [
      "[<h3>民眾黨支持度超越國民黨？柯文哲低調不回應</h3>, <h3>立委陳玉珍感情狀態曝光　認了47歲勇敢凍卵</h3>, <h3>柯文哲、江啟臣宣傳農產品　兩人難得同台互動卻冷</h3>, <h3>日職／老婆是前早安少女組偶像　野上亮磨宣布引退</h3>, <h3>中國25日新增29例新冠本土　內蒙甘肅居多</h3>, <h3>巴西總統妄稱疫苗與愛滋有關　遭臉書YouTube刪除</h3>, <h3>名家論壇》蕭徐行／反中牌是2022年選戰的主軸</h3>, <h3>已4.2萬人做過新冠篩檢！世衛：北韓至今仍通報零確診</h3>]\n",
      "<h3>民眾黨支持度超越國民黨？柯文哲低調不回應</h3>\n",
      "民眾黨支持度超越國民黨？柯文哲低調不回應\n",
      "--------------------------------------------------------------------------------\n",
      "<h3>立委陳玉珍感情狀態曝光　認了47歲勇敢凍卵</h3>\n",
      "立委陳玉珍感情狀態曝光　認了47歲勇敢凍卵\n",
      "--------------------------------------------------------------------------------\n",
      "<h3>柯文哲、江啟臣宣傳農產品　兩人難得同台互動卻冷</h3>\n",
      "柯文哲、江啟臣宣傳農產品　兩人難得同台互動卻冷\n",
      "--------------------------------------------------------------------------------\n",
      "<h3>日職／老婆是前早安少女組偶像　野上亮磨宣布引退</h3>\n",
      "日職／老婆是前早安少女組偶像　野上亮磨宣布引退\n",
      "--------------------------------------------------------------------------------\n",
      "<h3>中國25日新增29例新冠本土　內蒙甘肅居多</h3>\n",
      "中國25日新增29例新冠本土　內蒙甘肅居多\n",
      "--------------------------------------------------------------------------------\n",
      "<h3>巴西總統妄稱疫苗與愛滋有關　遭臉書YouTube刪除</h3>\n",
      "巴西總統妄稱疫苗與愛滋有關　遭臉書YouTube刪除\n",
      "--------------------------------------------------------------------------------\n",
      "<h3>名家論壇》蕭徐行／反中牌是2022年選戰的主軸</h3>\n",
      "名家論壇》蕭徐行／反中牌是2022年選戰的主軸\n",
      "--------------------------------------------------------------------------------\n",
      "<h3>已4.2萬人做過新冠篩檢！世衛：北韓至今仍通報零確診</h3>\n",
      "已4.2萬人做過新冠篩檢！世衛：北韓至今仍通報零確診\n",
      "--------------------------------------------------------------------------------\n"
     ]
    }
   ],
   "source": [
    "### 使用 bs #2\n",
    "## 透過 id / class 定位\n",
    "\n",
    "# By class\n",
    "# soup.select(\"div.card\")\n",
    "\n",
    "# div.leftCol 底下的 ul 底下的 li , 再底下的 h2\n",
    "# soup.select(\"div.leftCol ul li h2\")\n",
    "\n",
    "# 直接 select h2\n",
    "# soup.select(\"h2\")\n",
    "\n",
    "# div.leftCol 底下的 h2\n",
    "# soup.select(\"div.leftCol h2\")\n",
    "\n",
    "\n",
    "# By id\n",
    "# soup.select(\"#ulNewsList\")\n",
    "\n",
    "h3_tags = soup.select(\"ul#ulNewsList li h3\")\n",
    "print(h3_tags)\n",
    "\n",
    "for ele in h3_tags:\n",
    "    print(ele)\n",
    "    print(ele.text)  # 提取 標籤內文字\n",
    "    print(\"-\"*80)"
   ]
  },
  {
   "cell_type": "code",
   "execution_count": 49,
   "id": "0faffc02",
   "metadata": {
    "scrolled": true
   },
   "outputs": [
    {
     "name": "stdout",
     "output_type": "stream",
     "text": [
      "https://www.nownews.com/news/5422158\n",
      "民眾黨支持度超越國民黨？柯文哲低調不回應\n",
      "--------------------------------------------------------------------------------\n",
      "https://www.nownews.com/news/5422140\n",
      "立委陳玉珍感情狀態曝光　認了47歲勇敢凍卵\n",
      "--------------------------------------------------------------------------------\n",
      "https://www.nownews.com/news/5422135\n",
      "柯文哲、江啟臣宣傳農產品　兩人難得同台互動卻冷\n",
      "--------------------------------------------------------------------------------\n",
      "https://www.nownews.com/news/5422010\n",
      "日職／老婆是前早安少女組偶像　野上亮磨宣布引退\n",
      "--------------------------------------------------------------------------------\n",
      "https://www.nownews.com/news/5421833\n",
      "中國25日新增29例新冠本土　內蒙甘肅居多\n",
      "--------------------------------------------------------------------------------\n",
      "https://www.nownews.com/news/5421860\n",
      "巴西總統妄稱疫苗與愛滋有關　遭臉書YouTube刪除\n",
      "--------------------------------------------------------------------------------\n",
      "https://www.nownews.com/news/5421967\n",
      "名家論壇》蕭徐行／反中牌是2022年選戰的主軸\n",
      "--------------------------------------------------------------------------------\n",
      "https://www.nownews.com/news/5421962\n",
      "已4.2萬人做過新冠篩檢！世衛：北韓至今仍通報零確診\n",
      "--------------------------------------------------------------------------------\n"
     ]
    }
   ],
   "source": [
    "### 使用 bs #3\n",
    "## 抓文章連結 & 文章標題\n",
    "a_tags = soup.select(\"#ulNewsList li a\")\n",
    "# print(len(a_tags))\n",
    "\n",
    "for a in a_tags:\n",
    "    # 抓連結\n",
    "    print(a[\"href\"])       # a 標籤中 , href 的屬性值\n",
    "    \n",
    "    # 抓標題\n",
    "    print(a.select(\"h3\")[0].text) # a 標籤中 , 提取 h3 標籤中的 文字\n",
    "    print(\"-\"*80)"
   ]
  },
  {
   "cell_type": "code",
   "execution_count": 55,
   "id": "9bb712da",
   "metadata": {
    "scrolled": true
   },
   "outputs": [
    {
     "data": {
      "text/plain": [
       "[<a href=\"https://www.facebook.com/petsmao/\" target=\"_blank\">\n",
       " <span class=\"eltd-social-icon-widget social_facebook_square\"></span> </a>,\n",
       " <a href=\"https://instagram.com/petsmao_official?igshid=1i4jddnf7dmr\" target=\"_blank\">\n",
       " <span class=\"eltd-social-icon-widget social_instagram_square\"></span> </a>,\n",
       " <a href=\"https://www.youtube.com/playlist?list=PLfhdpEaN9XlmX--gFtGasOa_6Gj8OZeQi\" target=\"_blank\">\n",
       " <span class=\"eltd-social-icon-widget social_youtube_square\"></span> </a>,\n",
       " <a href=\"https://petsmao.nownews.com/20210906-148382\" target=\"_blank\">\n",
       " <span class=\"eltd-social-icon-widget icon_mic\"></span> </a>,\n",
       " <a href=\"https://www.facebook.com/petsmao/\" target=\"_blank\">\n",
       " <span class=\"eltd-social-icon-widget social_facebook_square\"></span> </a>,\n",
       " <a href=\"https://instagram.com/petsmao_official?igshid=1i4jddnf7dmr\" target=\"_blank\">\n",
       " <span class=\"eltd-social-icon-widget social_instagram_square\"></span> </a>,\n",
       " <a href=\"https://www.youtube.com/playlist?list=PLfhdpEaN9XlmX--gFtGasOa_6Gj8OZeQi\" target=\"_blank\">\n",
       " <span class=\"eltd-social-icon-widget social_youtube_square\"></span> </a>,\n",
       " <a href=\"https://petsmao.nownews.com/20210906-148382\" target=\"_blank\">\n",
       " <span class=\"eltd-social-icon-widget icon_mic\"></span> </a>,\n",
       " <a href=\"https://petsmao.nownews.com/20210906-148382\" target=\"_blank\"><span class=\"eltd-social-icon-widget icon_mic\"></span></a>]"
      ]
     },
     "execution_count": 55,
     "metadata": {},
     "output_type": "execute_result"
    }
   ],
   "source": [
    "### 使用 bs #4\n",
    "# 使用 屬性值 定位\n",
    "url2 = \"https://petsmao.nownews.com/category/knowledge\"\n",
    "\n",
    "our_headers = {\n",
    "    \"user-agent\": \"Mozilla/5.0 (Macintosh; Intel Mac OS X 10_12_6) AppleWebKit/537.36 (KHTML, like Gecko) Chrome/90.0.4430.212 Safari/537.36\"\n",
    "}\n",
    "\n",
    "res2 = requests.get(url2,headers = our_headers)\n",
    "\n",
    "soup2 = bs(res2.text,\"lxml\")\n",
    "\n",
    "# print(soup2)\n",
    "# soup2.select(\"li[data-nav-item-type='category']\")\n",
    "# soup2.select(\"li[data-nav-item-type='abcd']\")\n",
    "\n",
    "# soup2.select(\"a[target='_self']\")\n",
    "soup2.select(\"a[target='_blank']\")"
   ]
  },
  {
   "cell_type": "code",
   "execution_count": 75,
   "id": "3d8eb426",
   "metadata": {
    "scrolled": true
   },
   "outputs": [
    {
     "name": "stdout",
     "output_type": "stream",
     "text": [
      "另類疫苗孤兒！不敢打疫苗如何自保　醫提醒做好這四件事\n",
      "近日進口疫苗陸續到貨，中央流行疫情指揮中心也積極開放民眾接種，不過部分民眾因為過敏體質、先天免疫系統不好等因素而不敢接種疫苗，反而成為另類的疫苗接種孤兒。對此醫師建議，這類型的民眾除了自我防護做好之外...\n",
      "2021-10-26 17:06\n",
      "<img alt=\"另類疫苗孤兒！不敢打疫苗如何自保　醫提醒做好這四件事\" class=\"resize\" loading=\"lazy\" src=\"https://media.nownews.com/nn_media/thumbnail/2021/10/1634012506207-c10e6353291c406999083ad371edc9d3-1200x794.jpg?unShow=false\"/>\n",
      "另類疫苗孤兒！不敢打疫苗如何自保　醫提醒做好這四件事\n",
      "https://media.nownews.com/nn_media/thumbnail/2021/10/1634012506207-c10e6353291c406999083ad371edc9d3-1200x794.jpg?unShow=false\n",
      "--------------------------------------------------------------------------------\n",
      "柯文哲夜會陳時中達成共識　視缺額、量能放寬施打資格\n",
      "針對第十二期疫苗預約與施打情況，以及後續的改善措施，台北市長柯文哲昨（26）日晚間前往疾管署，與衛福部長陳時中會面。一同參與會面過程的副市長蔡炳坤也出面說明，表示北市府與中央達成2個共識，分別為「未來...\n",
      "2021-10-26 16:35\n",
      "<img alt=\"柯文哲夜會陳時中達成共識　視缺額、量能放寬施打資格\" class=\"resize\" loading=\"lazy\" src=\"https://media.nownews.com/nn_media/thumbnail/2021/10/1635237032180-67ae714abf5c4f458e503f4f763166c0-1200x675.jpg?unShow=false\"/>\n",
      "柯文哲夜會陳時中達成共識　視缺額、量能放寬施打資格\n",
      "https://media.nownews.com/nn_media/thumbnail/2021/10/1635237032180-67ae714abf5c4f458e503f4f763166c0-1200x675.jpg?unShow=false\n",
      "--------------------------------------------------------------------------------\n",
      "長跑9年嫁了！真子公主成平民　強調「丈夫不可或缺」\n",
      "日本皇室秋篠宮文仁親王的長女真子內親王在已經在26日上午與大學同學小室圭登記結婚，成為民間人士，並且改名為「小室真子」。兩人登記結婚之後，同日在東京都內的飯店召開記者會。真子在記者會上表示，小室圭對她...\n",
      "2021-10-26 16:32\n",
      "<img alt=\"長跑9年嫁了！真子公主成平民　強調「丈夫不可或缺」\" class=\"resize\" loading=\"lazy\" src=\"https://media.nownews.com/nn_media/thumbnail/2021/10/1635235197654-4ca03a4f562b408b96724b4a6c9f8f42-1200x800.jpeg?unShow=false\"/>\n",
      "長跑9年嫁了！真子公主成平民　強調「丈夫不可或缺」\n",
      "https://media.nownews.com/nn_media/thumbnail/2021/10/1635235197654-4ca03a4f562b408b96724b4a6c9f8f42-1200x800.jpeg?unShow=false\n",
      "--------------------------------------------------------------------------------\n",
      "一塊水晶肥皂洗全身？皮膚科醫師破解三大清潔NG迷思\n",
      "適當清潔臉部與身體，雖然是每個人的生活日常，但許多人的清潔方式或是使用的產品卻不適合自己，甚至誤用了網路上流傳的洗臉與沐浴NG方法，當心皮膚越洗越糟！皮膚科醫師胡怡萱就點出皮膚清潔方式常見的三大NG迷...\n",
      "2021-10-26 15:52\n",
      "<img alt=\"一塊水晶肥皂洗全身？皮膚科醫師破解三大清潔NG迷思\" class=\"resize\" loading=\"lazy\" src=\"https://media.nownews.com/nn_media/thumbnail/2021/06/1624514929335-9e0d3e0772a848deacc593d8d4772ba8-600x363.jpeg?unShow=false\"/>\n",
      "一塊水晶肥皂洗全身？皮膚科醫師破解三大清潔NG迷思\n",
      "https://media.nownews.com/nn_media/thumbnail/2021/06/1624514929335-9e0d3e0772a848deacc593d8d4772ba8-600x363.jpeg?unShow=false\n",
      "--------------------------------------------------------------------------------\n",
      "台語質詢成刪Q焦點！邱國正：對陳柏惟被罷免沒有意見\n",
      "台灣基進黨立委陳柏惟罷免案23日投票通過，成為我國史上第一個被罷免成功的立委。國防部長邱國正曾與陳柏惟因爲台語質詢爆發口語爭執，邱國正今（26）日表示，對陳柏惟被罷免不表示意見，他在備詢時答覆都很誠懇...\n",
      "2021-10-26 15:48\n",
      "<img alt=\"台語質詢成刪Q焦點！邱國正：對陳柏惟被罷免沒有意見\" class=\"resize\" loading=\"lazy\" src=\"https://media.nownews.com/nn_media/thumbnail/2021/10/1635234697478-31efebcd8f48480f8af2965dd0998f4f-1200x679.jpg?unShow=false\"/>\n",
      "台語質詢成刪Q焦點！邱國正：對陳柏惟被罷免沒有意見\n",
      "https://media.nownews.com/nn_media/thumbnail/2021/10/1635234697478-31efebcd8f48480f8af2965dd0998f4f-1200x679.jpg?unShow=false\n",
      "--------------------------------------------------------------------------------\n",
      "民眾黨支持度超越國民黨？柯文哲低調不回應\n",
      "2021-10-26 14:37\n",
      "<img alt=\"民眾黨支持度超越國民黨？柯文哲低調不回應\" class=\"resize\" loading=\"lazy\" src=\"https://media.nownews.com/nn_media/thumbnail/2021/10/1635230028367-acb332d7beec4e78b51f2b4cb266f661-1200x675.jpg?unShow=false\"/>\n",
      "民眾黨支持度超越國民黨？柯文哲低調不回應\n",
      "https://media.nownews.com/nn_media/thumbnail/2021/10/1635230028367-acb332d7beec4e78b51f2b4cb266f661-1200x675.jpg?unShow=false\n",
      "--------------------------------------------------------------------------------\n",
      "立委陳玉珍感情狀態曝光　認了47歲勇敢凍卵\n",
      "2021-10-26 14:36\n",
      "<img alt=\"立委陳玉珍感情狀態曝光　認了47歲勇敢凍卵\" class=\"resize\" loading=\"lazy\" src=\"https://media.nownews.com/nn_media/thumbnail/2021/10/1634273015970-f2836a5174454fa7b32f7bd7fa67b826-1200x900.jpg?unShow=false\"/>\n",
      "立委陳玉珍感情狀態曝光　認了47歲勇敢凍卵\n",
      "https://media.nownews.com/nn_media/thumbnail/2021/10/1634273015970-f2836a5174454fa7b32f7bd7fa67b826-1200x900.jpg?unShow=false\n",
      "--------------------------------------------------------------------------------\n",
      "柯文哲、江啟臣宣傳農產品　兩人難得同台互動卻冷\n",
      "2021-10-26 14:23\n",
      "<img alt=\"柯文哲、江啟臣宣傳農產品　兩人難得同台互動卻冷\" class=\"resize\" loading=\"lazy\" src=\"https://media.nownews.com/nn_media/thumbnail/2021/10/1635229133858-1bca87c1551047df880823ec2d05326c-1200x675.jpg?unShow=false\"/>\n",
      "柯文哲、江啟臣宣傳農產品　兩人難得同台互動卻冷\n",
      "https://media.nownews.com/nn_media/thumbnail/2021/10/1635229133858-1bca87c1551047df880823ec2d05326c-1200x675.jpg?unShow=false\n",
      "--------------------------------------------------------------------------------\n",
      "日職／老婆是前早安少女組偶像　野上亮磨宣布引退\n",
      "2021-10-26 12:40\n",
      "<img alt=\"日職／老婆是前早安少女組偶像　野上亮磨宣布引退\" class=\"resize\" loading=\"lazy\" src=\"https://media.nownews.com/nn_media/thumbnail/2021/10/1635218886972-7842788e40914310a32baaf7bc3c4a56-900x600.jpg?unShow=false\"/>\n",
      "日職／老婆是前早安少女組偶像　野上亮磨宣布引退\n",
      "https://media.nownews.com/nn_media/thumbnail/2021/10/1635218886972-7842788e40914310a32baaf7bc3c4a56-900x600.jpg?unShow=false\n",
      "--------------------------------------------------------------------------------\n",
      "中國25日新增29例新冠本土　內蒙甘肅居多\n",
      "2021-10-26 12:22\n",
      "<img alt=\"中國25日新增29例新冠本土　內蒙甘肅居多\" class=\"resize\" loading=\"lazy\" src=\"https://media.nownews.com/nn_media/thumbnail/2021/10/1635073904538-2ae9ab0031594682bdd1d929f3ed4c33-1023x682.jpeg?unShow=false\"/>\n",
      "中國25日新增29例新冠本土　內蒙甘肅居多\n",
      "https://media.nownews.com/nn_media/thumbnail/2021/10/1635073904538-2ae9ab0031594682bdd1d929f3ed4c33-1023x682.jpeg?unShow=false\n",
      "--------------------------------------------------------------------------------\n",
      "巴西總統妄稱疫苗與愛滋有關　遭臉書YouTube刪除\n",
      "2021-10-26 12:19\n",
      "<img alt=\"巴西總統妄稱疫苗與愛滋有關　遭臉書YouTube刪除\" class=\"resize\" loading=\"lazy\" src=\"https://media.nownews.com/nn_media/thumbnail/2021/10/1634012067895-1caa0fdfe7f04cbcaf7a07c853952b76-1200x800.jpg?unShow=false\"/>\n",
      "巴西總統妄稱疫苗與愛滋有關　遭臉書YouTube刪除\n",
      "https://media.nownews.com/nn_media/thumbnail/2021/10/1634012067895-1caa0fdfe7f04cbcaf7a07c853952b76-1200x800.jpg?unShow=false\n",
      "--------------------------------------------------------------------------------\n",
      "名家論壇》蕭徐行／反中牌是2022年選戰的主軸\n",
      "2021-10-26 12:19\n",
      "<img alt=\"名家論壇》蕭徐行／反中牌是2022年選戰的主軸\" class=\"resize\" loading=\"lazy\" src=\"https://media.nownews.com/nn_media/thumbnail/2021/09/1630773682840-c18fceb8fd0841a7b4e13f81c69fd981-1200x800.jpeg?unShow=false\"/>\n",
      "名家論壇》蕭徐行／反中牌是2022年選戰的主軸\n",
      "https://media.nownews.com/nn_media/thumbnail/2021/09/1630773682840-c18fceb8fd0841a7b4e13f81c69fd981-1200x800.jpeg?unShow=false\n",
      "--------------------------------------------------------------------------------\n",
      "已4.2萬人做過新冠篩檢！世衛：北韓至今仍通報零確診\n",
      "2021-10-26 12:14\n",
      "<img alt=\"已4.2萬人做過新冠篩檢！世衛：北韓至今仍通報零確診\" class=\"resize\" loading=\"lazy\" src=\"https://media.nownews.com/nn_media/thumbnail/2021/09/1631161918053-94baca3112184ebfb68c0a2384ea31af-1200x800.jpg?unShow=false\"/>\n",
      "已4.2萬人做過新冠篩檢！世衛：北韓至今仍通報零確診\n",
      "https://media.nownews.com/nn_media/thumbnail/2021/09/1631161918053-94baca3112184ebfb68c0a2384ea31af-1200x800.jpg?unShow=false\n",
      "--------------------------------------------------------------------------------\n"
     ]
    }
   ],
   "source": [
    "### 使用 bs #5\n",
    "# 常用觀念\n",
    "\n",
    "# 1. select 完, 為 list 資料格式\n",
    "# ul_tags = soup.select(\"#ulNewsList\")\n",
    "# print(len(ul_tags))\n",
    "# print(type(ul_tags))\n",
    "\n",
    "\n",
    "# 2. class 為 soup , 才可以做 select\n",
    "# ul = ul_tags[0]\n",
    "# print(type(ul))\n",
    "# print(ul.select(\"img\"))\n",
    "\n",
    "# 3. 取得 標籤屬性值\n",
    "# ele = soup.select(\"div.card\")[0]\n",
    "# print(ele)\n",
    "# print(\"-\"*80)\n",
    "\n",
    "# # 抓標籤內文字\n",
    "# print(ele.text.strip())\n",
    "\n",
    "# # 抓標籤屬性\n",
    "# img = ele.select(\"img\")[0]\n",
    "# print(img)\n",
    "# print(img[\"alt\"])\n",
    "# print(img[\"src\"])\n",
    "\n",
    "# 使用 for-loop 抓各個文章\n",
    "for ele in soup.select(\"div.card\"):\n",
    "#     ele = soup.select(\"div.card\")[0]\n",
    "#     print(ele)\n",
    "#     print(\"-\"*80)\n",
    "\n",
    "    # 抓標籤內文字\n",
    "    print(ele.text.strip())\n",
    "\n",
    "    # 抓標籤屬性\n",
    "    img = ele.select(\"img\")[0]\n",
    "    print(img)\n",
    "    print(img[\"alt\"])\n",
    "    print(img[\"src\"])\n",
    "    \n",
    "    print(\"-\"*80)"
   ]
  },
  {
   "cell_type": "code",
   "execution_count": 90,
   "id": "c9051266",
   "metadata": {
    "collapsed": true
   },
   "outputs": [
    {
     "name": "stdout",
     "output_type": "stream",
     "text": [
      "Before:\n",
      "<div class=\"card\">\n",
      "<div class=\"img\"><img alt=\"柯文哲、江啟臣宣傳農產品　兩人難得同台互動卻冷\" class=\"resize\" loading=\"lazy\" src=\"https://media.nownews.com/nn_media/thumbnail/2021/10/1635229133858-1bca87c1551047df880823ec2d05326c-1200x675.jpg?unShow=false\"/></div>\n",
      "<div class=\"txt\">\n",
      "<h3>柯文哲、江啟臣宣傳農產品　兩人難得同台互動卻冷</h3>\n",
      "<p class=\"time\"><span class=\"i-calendar\"></span>2021-10-26 14:23</p>\n",
      "</div>\n",
      "</div>\n",
      "--------------------------------------------------------------------------------\n",
      "--------------------------------------------------------------------------------\n",
      "After:\n",
      "<div class=\"card\">\n",
      "<div class=\"img\"></div>\n",
      "<div class=\"txt\">\n",
      "<h3>柯文哲、江啟臣宣傳農產品　兩人難得同台互動卻冷</h3>\n",
      "<p class=\"time\"><span class=\"i-calendar\"></span>2021-10-26 14:23</p>\n",
      "</div>\n",
      "</div>\n"
     ]
    }
   ],
   "source": [
    "### 使用 bs #6\n",
    "# 拔除 特定 標籤\n",
    "ele = soup.select(\"div.card\")[7]\n",
    "print(\"Before:\")\n",
    "print(ele)\n",
    "print(\"-\"*80)\n",
    "\n",
    "if len(ele.select(\"img\")) > 0:\n",
    "    ele.select(\"img\")[0].extract()\n",
    "\n",
    "# print(ele.select(\"img\")[0])\n",
    "# print(ele.select(\"img\"))\n",
    "# ele.select(\"img\")[0].extract()\n",
    "\n",
    "print(\"-\"*80)\n",
    "\n",
    "print(\"After:\")\n",
    "print(ele)"
   ]
  },
  {
   "cell_type": "code",
   "execution_count": 101,
   "id": "838c5d1d",
   "metadata": {},
   "outputs": [
    {
     "name": "stdout",
     "output_type": "stream",
     "text": [
      "https://www.nownews.com/news/5422699\n",
      "https://www.nownews.com/news/5422329\n",
      "https://www.nownews.com/news/5422618\n",
      "https://www.nownews.com/news/5422621\n",
      "https://www.nownews.com/news/5422536\n",
      "https://www.nownews.com/news/5422488\n",
      "https://www.nownews.com/news/5422436\n",
      "https://www.nownews.com/news/5422419\n",
      "https://www.nownews.com/news/5422430\n",
      "https://www.nownews.com/news/5422364\n"
     ]
    }
   ],
   "source": [
    "### 抓取 首頁 1 ~ 5 篇新聞\n",
    "links = []\n",
    "\n",
    "## div.sliderBlk 底下的 a\n",
    "for a_tag in soup.select(\"div.sliderBlk a\"):\n",
    "#     print(a_tag[\"href\"])\n",
    "    links.append(a_tag[\"href\"])\n",
    "    \n",
    "    \n",
    "### 抓取 首頁 6 ~ 10 篇新聞\n",
    "## div.leftCol 底下的 div.listBlk , 再底下的 a\n",
    "for a_tag in soup.select(\"div.leftCol div.listBlk a\"):\n",
    "    links.append(a_tag[\"href\"])\n",
    "\n",
    "    \n",
    "for url in links:\n",
    "    print(url)"
   ]
  },
  {
   "cell_type": "code",
   "execution_count": 108,
   "id": "234fc6ad",
   "metadata": {},
   "outputs": [],
   "source": [
    "### 抓取本文內容\n",
    "url2 = \"https://www.nownews.com/news/5422436\"\n",
    "headers2 = {\n",
    "    \"user-agent\": \"Mozilla/5.0 (Macintosh; Intel Mac OS X 10_12_6) AppleWebKit/537.36 (KHTML, like Gecko) Chrome/90.0.4430.212 Safari/537.36\"\n",
    "}\n",
    "res2 = requests.get(url2,headers2)\n",
    "# print(res2.text)\n",
    "\n",
    "soup2 = bs(res2.text,\"lxml\")\n",
    "# print(soup2)"
   ]
  },
  {
   "cell_type": "code",
   "execution_count": 107,
   "id": "4cf890ea",
   "metadata": {},
   "outputs": [
    {
     "name": "stdout",
     "output_type": "stream",
     "text": [
      "少東蔡宗翰致歉！國泰世華銀ATM出包　提補償案代價千萬\n"
     ]
    }
   ],
   "source": [
    "### 解析本文內容\n",
    "# 分類 (category)\n",
    "\n",
    "# 標題 (title)\n",
    "title = soup2.select(\"div.titleBlk h1.article-title\")[0].text\n",
    "print(title)\n"
   ]
  }
 ],
 "metadata": {
  "kernelspec": {
   "display_name": "Python 3",
   "language": "python",
   "name": "python3"
  },
  "language_info": {
   "codemirror_mode": {
    "name": "ipython",
    "version": 3
   },
   "file_extension": ".py",
   "mimetype": "text/x-python",
   "name": "python",
   "nbconvert_exporter": "python",
   "pygments_lexer": "ipython3",
   "version": "3.8.8"
  }
 },
 "nbformat": 4,
 "nbformat_minor": 5
}
