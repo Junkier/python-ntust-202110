{
 "cells": [
  {
   "cell_type": "code",
   "execution_count": 4,
   "id": "4b4cd58d",
   "metadata": {},
   "outputs": [],
   "source": [
    "import requests\n",
    "url = \"https://www.nownews.com/cat/column/\"\n",
    "res = requests.get(url)\n",
    "# print(res.text)"
   ]
  },
  {
   "cell_type": "code",
   "execution_count": 7,
   "id": "9bd48ac8",
   "metadata": {},
   "outputs": [],
   "source": [
    "### 加入 Headers \n",
    "# Headers : 標頭 , 用來說明 requests 的性質\n",
    "our_headers = {\n",
    "    \"user-agent\": \"Mozilla/5.0 (Macintosh; Intel Mac OS X 10_12_6) AppleWebKit/537.36 (KHTML, like Gecko) Chrome/90.0.4430.212 Safari/537.36\"\n",
    "}\n",
    "\n",
    "# 加入 Headers 的 requests\n",
    "res = requests.get(url,headers=our_headers)\n",
    "\n",
    "# 顯示 response 結果\n",
    "# print(res.text)"
   ]
  },
  {
   "cell_type": "code",
   "execution_count": 14,
   "id": "1fd12778",
   "metadata": {},
   "outputs": [],
   "source": [
    "# print(res.text)"
   ]
  },
  {
   "cell_type": "code",
   "execution_count": 11,
   "id": "100391ab",
   "metadata": {},
   "outputs": [
    {
     "name": "stdout",
     "output_type": "stream",
     "text": [
      "<class 'str'>\n",
      "<class 'bs4.BeautifulSoup'>\n"
     ]
    }
   ],
   "source": [
    "### 放入 BeautifulSoup \n",
    "\n",
    "# 引入套件\n",
    "from bs4 import BeautifulSoup as bs\n",
    "\n",
    "# bs(要解析的 html 資料 , 解析器)\n",
    "soup = bs(res.text,\"lxml\")\n",
    "\n",
    "# print(res.text)\n",
    "# print(soup)\n",
    "\n",
    "print(type(res.text))\n",
    "print(type(soup))"
   ]
  },
  {
   "cell_type": "code",
   "execution_count": 16,
   "id": "1cd4af16",
   "metadata": {
    "scrolled": true
   },
   "outputs": [],
   "source": [
    "### 使用 bs #1\n",
    "## 透過 標籤名稱 定位\n",
    "# soup.select(\"div.leftCol ul\")\n",
    "# soup.select(\"p\")\n",
    "# soup.select(\"div.leftCol ul li\")"
   ]
  },
  {
   "cell_type": "code",
   "execution_count": 37,
   "id": "65c29d41",
   "metadata": {
    "scrolled": true
   },
   "outputs": [
    {
     "name": "stdout",
     "output_type": "stream",
     "text": [
      "[<h3>民眾黨支持度超越國民黨？柯文哲低調不回應</h3>, <h3>立委陳玉珍感情狀態曝光　認了47歲勇敢凍卵</h3>, <h3>柯文哲、江啟臣宣傳農產品　兩人難得同台互動卻冷</h3>, <h3>日職／老婆是前早安少女組偶像　野上亮磨宣布引退</h3>, <h3>中國25日新增29例新冠本土　內蒙甘肅居多</h3>, <h3>巴西總統妄稱疫苗與愛滋有關　遭臉書YouTube刪除</h3>, <h3>名家論壇》蕭徐行／反中牌是2022年選戰的主軸</h3>, <h3>已4.2萬人做過新冠篩檢！世衛：北韓至今仍通報零確診</h3>]\n",
      "<h3>民眾黨支持度超越國民黨？柯文哲低調不回應</h3>\n",
      "民眾黨支持度超越國民黨？柯文哲低調不回應\n",
      "--------------------------------------------------------------------------------\n",
      "<h3>立委陳玉珍感情狀態曝光　認了47歲勇敢凍卵</h3>\n",
      "立委陳玉珍感情狀態曝光　認了47歲勇敢凍卵\n",
      "--------------------------------------------------------------------------------\n",
      "<h3>柯文哲、江啟臣宣傳農產品　兩人難得同台互動卻冷</h3>\n",
      "柯文哲、江啟臣宣傳農產品　兩人難得同台互動卻冷\n",
      "--------------------------------------------------------------------------------\n",
      "<h3>日職／老婆是前早安少女組偶像　野上亮磨宣布引退</h3>\n",
      "日職／老婆是前早安少女組偶像　野上亮磨宣布引退\n",
      "--------------------------------------------------------------------------------\n",
      "<h3>中國25日新增29例新冠本土　內蒙甘肅居多</h3>\n",
      "中國25日新增29例新冠本土　內蒙甘肅居多\n",
      "--------------------------------------------------------------------------------\n",
      "<h3>巴西總統妄稱疫苗與愛滋有關　遭臉書YouTube刪除</h3>\n",
      "巴西總統妄稱疫苗與愛滋有關　遭臉書YouTube刪除\n",
      "--------------------------------------------------------------------------------\n",
      "<h3>名家論壇》蕭徐行／反中牌是2022年選戰的主軸</h3>\n",
      "名家論壇》蕭徐行／反中牌是2022年選戰的主軸\n",
      "--------------------------------------------------------------------------------\n",
      "<h3>已4.2萬人做過新冠篩檢！世衛：北韓至今仍通報零確診</h3>\n",
      "已4.2萬人做過新冠篩檢！世衛：北韓至今仍通報零確診\n",
      "--------------------------------------------------------------------------------\n"
     ]
    }
   ],
   "source": [
    "### 使用 bs #2\n",
    "## 透過 id / class 定位\n",
    "\n",
    "# By class\n",
    "# soup.select(\"div.card\")\n",
    "\n",
    "# div.leftCol 底下的 ul 底下的 li , 再底下的 h2\n",
    "# soup.select(\"div.leftCol ul li h2\")\n",
    "\n",
    "# 直接 select h2\n",
    "# soup.select(\"h2\")\n",
    "\n",
    "# div.leftCol 底下的 h2\n",
    "# soup.select(\"div.leftCol h2\")\n",
    "\n",
    "\n",
    "# By id\n",
    "# soup.select(\"#ulNewsList\")\n",
    "\n",
    "h3_tags = soup.select(\"ul#ulNewsList li h3\")\n",
    "print(h3_tags)\n",
    "\n",
    "for ele in h3_tags:\n",
    "    print(ele)\n",
    "    print(ele.text)  # 提取 標籤內文字\n",
    "    print(\"-\"*80)"
   ]
  },
  {
   "cell_type": "code",
   "execution_count": 49,
   "id": "5fcfc7b4",
   "metadata": {
    "scrolled": true
   },
   "outputs": [
    {
     "name": "stdout",
     "output_type": "stream",
     "text": [
      "https://www.nownews.com/news/5422158\n",
      "民眾黨支持度超越國民黨？柯文哲低調不回應\n",
      "--------------------------------------------------------------------------------\n",
      "https://www.nownews.com/news/5422140\n",
      "立委陳玉珍感情狀態曝光　認了47歲勇敢凍卵\n",
      "--------------------------------------------------------------------------------\n",
      "https://www.nownews.com/news/5422135\n",
      "柯文哲、江啟臣宣傳農產品　兩人難得同台互動卻冷\n",
      "--------------------------------------------------------------------------------\n",
      "https://www.nownews.com/news/5422010\n",
      "日職／老婆是前早安少女組偶像　野上亮磨宣布引退\n",
      "--------------------------------------------------------------------------------\n",
      "https://www.nownews.com/news/5421833\n",
      "中國25日新增29例新冠本土　內蒙甘肅居多\n",
      "--------------------------------------------------------------------------------\n",
      "https://www.nownews.com/news/5421860\n",
      "巴西總統妄稱疫苗與愛滋有關　遭臉書YouTube刪除\n",
      "--------------------------------------------------------------------------------\n",
      "https://www.nownews.com/news/5421967\n",
      "名家論壇》蕭徐行／反中牌是2022年選戰的主軸\n",
      "--------------------------------------------------------------------------------\n",
      "https://www.nownews.com/news/5421962\n",
      "已4.2萬人做過新冠篩檢！世衛：北韓至今仍通報零確診\n",
      "--------------------------------------------------------------------------------\n"
     ]
    }
   ],
   "source": [
    "### 使用 bs #3\n",
    "## 抓文章連結 & 文章標題\n",
    "a_tags = soup.select(\"#ulNewsList li a\")\n",
    "# print(len(a_tags))\n",
    "\n",
    "for a in a_tags:\n",
    "    # 抓連結\n",
    "    print(a[\"href\"])       # a 標籤中 , href 的屬性值\n",
    "    \n",
    "    # 抓標題\n",
    "    print(a.select(\"h3\")[0].text) # a 標籤中 , 提取 h3 標籤中的 文字\n",
    "    print(\"-\"*80)"
   ]
  },
  {
   "cell_type": "code",
   "execution_count": 55,
   "id": "60f4c93b",
   "metadata": {
    "scrolled": true
   },
   "outputs": [
    {
     "data": {
      "text/plain": [
       "[<a href=\"https://www.facebook.com/petsmao/\" target=\"_blank\">\n",
       " <span class=\"eltd-social-icon-widget social_facebook_square\"></span> </a>,\n",
       " <a href=\"https://instagram.com/petsmao_official?igshid=1i4jddnf7dmr\" target=\"_blank\">\n",
       " <span class=\"eltd-social-icon-widget social_instagram_square\"></span> </a>,\n",
       " <a href=\"https://www.youtube.com/playlist?list=PLfhdpEaN9XlmX--gFtGasOa_6Gj8OZeQi\" target=\"_blank\">\n",
       " <span class=\"eltd-social-icon-widget social_youtube_square\"></span> </a>,\n",
       " <a href=\"https://petsmao.nownews.com/20210906-148382\" target=\"_blank\">\n",
       " <span class=\"eltd-social-icon-widget icon_mic\"></span> </a>,\n",
       " <a href=\"https://www.facebook.com/petsmao/\" target=\"_blank\">\n",
       " <span class=\"eltd-social-icon-widget social_facebook_square\"></span> </a>,\n",
       " <a href=\"https://instagram.com/petsmao_official?igshid=1i4jddnf7dmr\" target=\"_blank\">\n",
       " <span class=\"eltd-social-icon-widget social_instagram_square\"></span> </a>,\n",
       " <a href=\"https://www.youtube.com/playlist?list=PLfhdpEaN9XlmX--gFtGasOa_6Gj8OZeQi\" target=\"_blank\">\n",
       " <span class=\"eltd-social-icon-widget social_youtube_square\"></span> </a>,\n",
       " <a href=\"https://petsmao.nownews.com/20210906-148382\" target=\"_blank\">\n",
       " <span class=\"eltd-social-icon-widget icon_mic\"></span> </a>,\n",
       " <a href=\"https://petsmao.nownews.com/20210906-148382\" target=\"_blank\"><span class=\"eltd-social-icon-widget icon_mic\"></span></a>]"
      ]
     },
     "execution_count": 55,
     "metadata": {},
     "output_type": "execute_result"
    }
   ],
   "source": [
    "### 使用 bs #4\n",
    "# 使用 屬性值 定位\n",
    "url2 = \"https://petsmao.nownews.com/category/knowledge\"\n",
    "\n",
    "our_headers = {\n",
    "    \"user-agent\": \"Mozilla/5.0 (Macintosh; Intel Mac OS X 10_12_6) AppleWebKit/537.36 (KHTML, like Gecko) Chrome/90.0.4430.212 Safari/537.36\"\n",
    "}\n",
    "\n",
    "res2 = requests.get(url2,headers = our_headers)\n",
    "\n",
    "soup2 = bs(res2.text,\"lxml\")\n",
    "\n",
    "# print(soup2)\n",
    "# soup2.select(\"li[data-nav-item-type='category']\")\n",
    "# soup2.select(\"li[data-nav-item-type='abcd']\")\n",
    "\n",
    "# soup2.select(\"a[target='_self']\")\n",
    "soup2.select(\"a[target='_blank']\")"
   ]
  },
  {
   "cell_type": "code",
   "execution_count": 73,
   "id": "bccb2445",
   "metadata": {
    "scrolled": true
   },
   "outputs": [
    {
     "name": "stdout",
     "output_type": "stream",
     "text": [
      "<div class=\"card\">\n",
      "<div class=\"img\">\n",
      "<img alt=\"另類疫苗孤兒！不敢打疫苗如何自保　醫提醒做好這四件事\" class=\"resize\" loading=\"lazy\" src=\"https://media.nownews.com/nn_media/thumbnail/2021/10/1634012506207-c10e6353291c406999083ad371edc9d3-1200x794.jpg?unShow=false\"/>\n",
      "</div>\n",
      "<div class=\"txt\">\n",
      "<h2>另類疫苗孤兒！不敢打疫苗如何自保　醫提醒做好這四件事</h2>\n",
      "<p>近日進口疫苗陸續到貨，中央流行疫情指揮中心也積極開放民眾接種，不過部分民眾因為過敏體質、先天免疫系統不好等因素而不敢接種疫苗，反而成為另類的疫苗接種孤兒。對此醫師建議，這類型的民眾除了自我防護做好之外...</p>\n",
      "<p class=\"time\"><span class=\"i-calendar\"></span>2021-10-26 17:06</p>\n",
      "</div>\n",
      "</div>\n",
      "--------------------------------------------------------------------------------\n",
      "另類疫苗孤兒！不敢打疫苗如何自保　醫提醒做好這四件事\n",
      "近日進口疫苗陸續到貨，中央流行疫情指揮中心也積極開放民眾接種，不過部分民眾因為過敏體質、先天免疫系統不好等因素而不敢接種疫苗，反而成為另類的疫苗接種孤兒。對此醫師建議，這類型的民眾除了自我防護做好之外...\n",
      "2021-10-26 17:06\n",
      "<img alt=\"另類疫苗孤兒！不敢打疫苗如何自保　醫提醒做好這四件事\" class=\"resize\" loading=\"lazy\" src=\"https://media.nownews.com/nn_media/thumbnail/2021/10/1634012506207-c10e6353291c406999083ad371edc9d3-1200x794.jpg?unShow=false\"/>\n",
      "另類疫苗孤兒！不敢打疫苗如何自保　醫提醒做好這四件事\n",
      "https://media.nownews.com/nn_media/thumbnail/2021/10/1634012506207-c10e6353291c406999083ad371edc9d3-1200x794.jpg?unShow=false\n"
     ]
    }
   ],
   "source": [
    "### 使用 bs #5\n",
    "# 常用觀念\n",
    "\n",
    "# 1. select 完, 為 list 資料格式\n",
    "# ul_tags = soup.select(\"#ulNewsList\")\n",
    "# print(len(ul_tags))\n",
    "# print(type(ul_tags))\n",
    "\n",
    "\n",
    "# 2. class 為 soup , 才可以做 select\n",
    "# ul = ul_tags[0]\n",
    "# print(type(ul))\n",
    "# print(ul.select(\"img\"))\n",
    "\n",
    "# 3. 取得 標籤屬性值\n",
    "ele = soup.select(\"div.card\")[0]\n",
    "print(ele)\n",
    "print(\"-\"*80)\n",
    "\n",
    "# 抓標籤內文字\n",
    "print(ele.text.strip())\n",
    "\n",
    "# 抓標籤屬性\n",
    "img = ele.select(\"img\")[0]\n",
    "print(img)\n",
    "print(img[\"alt\"])\n",
    "print(img[\"src\"])"
   ]
  }
 ],
 "metadata": {
  "kernelspec": {
   "display_name": "Python 3",
   "language": "python",
   "name": "python3"
  },
  "language_info": {
   "codemirror_mode": {
    "name": "ipython",
    "version": 3
   },
   "file_extension": ".py",
   "mimetype": "text/x-python",
   "name": "python",
   "nbconvert_exporter": "python",
   "pygments_lexer": "ipython3",
   "version": "3.8.8"
  }
 },
 "nbformat": 4,
 "nbformat_minor": 5
}
