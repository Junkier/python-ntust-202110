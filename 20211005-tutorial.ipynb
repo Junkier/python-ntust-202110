{
 "cells": [
  {
   "cell_type": "code",
   "execution_count": 3,
   "id": "768296ef",
   "metadata": {},
   "outputs": [
    {
     "name": "stdout",
     "output_type": "stream",
     "text": [
      "請輸入日期 :1005\n",
      "今天是 1005\n",
      "請輸入年紀 :18\n",
      "您的年紀是 18\n"
     ]
    }
   ],
   "source": [
    "# input \n",
    "today = input(\"請輸入日期 :\")\n",
    "print(\"今天是\" , today)\n",
    "\n",
    "age = input(\"請輸入年紀 :\")\n",
    "print( \"您的年紀是\" , age)"
   ]
  }
 ],
 "metadata": {
  "kernelspec": {
   "display_name": "Python 3",
   "language": "python",
   "name": "python3"
  },
  "language_info": {
   "codemirror_mode": {
    "name": "ipython",
    "version": 3
   },
   "file_extension": ".py",
   "mimetype": "text/x-python",
   "name": "python",
   "nbconvert_exporter": "python",
   "pygments_lexer": "ipython3",
   "version": "3.8.8"
  }
 },
 "nbformat": 4,
 "nbformat_minor": 5
}
