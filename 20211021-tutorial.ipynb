{
 "cells": [
  {
   "cell_type": "code",
   "execution_count": 9,
   "id": "bf6584b3",
   "metadata": {},
   "outputs": [
    {
     "name": "stdout",
     "output_type": "stream",
     "text": [
      "請輸入數字1: ABCD\n"
     ]
    },
    {
     "ename": "ValueError",
     "evalue": "could not convert string to float: 'ABCD'",
     "output_type": "error",
     "traceback": [
      "\u001b[0;31m---------------------------------------------------------------------------\u001b[0m",
      "\u001b[0;31mValueError\u001b[0m                                Traceback (most recent call last)",
      "\u001b[0;32m<ipython-input-9-320859982382>\u001b[0m in \u001b[0;36m<module>\u001b[0;34m\u001b[0m\n\u001b[1;32m     11\u001b[0m \u001b[0;34m\u001b[0m\u001b[0m\n\u001b[1;32m     12\u001b[0m \u001b[0;31m## 呼叫\u001b[0m\u001b[0;34m\u001b[0m\u001b[0;34m\u001b[0m\u001b[0;34m\u001b[0m\u001b[0m\n\u001b[0;32m---> 13\u001b[0;31m \u001b[0manswer1\u001b[0m\u001b[0;34m(\u001b[0m\u001b[0;34m)\u001b[0m\u001b[0;34m\u001b[0m\u001b[0;34m\u001b[0m\u001b[0m\n\u001b[0m",
      "\u001b[0;32m<ipython-input-9-320859982382>\u001b[0m in \u001b[0;36manswer1\u001b[0;34m()\u001b[0m\n\u001b[1;32m      4\u001b[0m \u001b[0;31m## 定義\u001b[0m\u001b[0;34m\u001b[0m\u001b[0;34m\u001b[0m\u001b[0;34m\u001b[0m\u001b[0m\n\u001b[1;32m      5\u001b[0m \u001b[0;32mdef\u001b[0m \u001b[0manswer1\u001b[0m\u001b[0;34m(\u001b[0m\u001b[0;34m)\u001b[0m\u001b[0;34m:\u001b[0m\u001b[0;34m\u001b[0m\u001b[0;34m\u001b[0m\u001b[0m\n\u001b[0;32m----> 6\u001b[0;31m     \u001b[0mnum1\u001b[0m \u001b[0;34m=\u001b[0m \u001b[0mfloat\u001b[0m\u001b[0;34m(\u001b[0m\u001b[0minput\u001b[0m\u001b[0;34m(\u001b[0m\u001b[0;34m\"請輸入數字1: \"\u001b[0m\u001b[0;34m)\u001b[0m\u001b[0;34m)\u001b[0m\u001b[0;34m\u001b[0m\u001b[0;34m\u001b[0m\u001b[0m\n\u001b[0m\u001b[1;32m      7\u001b[0m     \u001b[0mnum2\u001b[0m \u001b[0;34m=\u001b[0m \u001b[0mfloat\u001b[0m\u001b[0;34m(\u001b[0m\u001b[0minput\u001b[0m\u001b[0;34m(\u001b[0m\u001b[0;34m\"請輸入數字2: \"\u001b[0m\u001b[0;34m)\u001b[0m\u001b[0;34m)\u001b[0m\u001b[0;34m\u001b[0m\u001b[0;34m\u001b[0m\u001b[0m\n\u001b[1;32m      8\u001b[0m \u001b[0;34m\u001b[0m\u001b[0m\n",
      "\u001b[0;31mValueError\u001b[0m: could not convert string to float: 'ABCD'"
     ]
    }
   ],
   "source": [
    "# 1.  設計一 func , 可以讓使用者輸入兩數字 (float), \n",
    "#      並計算兩數的總合及平均\n",
    "\n",
    "## 定義\n",
    "def answer1():\n",
    "    num1 = float(input(\"請輸入數字1: \"))\n",
    "    num2 = float(input(\"請輸入數字2: \"))\n",
    "    \n",
    "    print(\"總和 :\" , num1+num2)\n",
    "    print(\"平均 :\" , (num1+num2)/2)\n",
    "\n",
    "## 呼叫\n",
    "answer1()"
   ]
  },
  {
   "cell_type": "code",
   "execution_count": 16,
   "id": "45018b32",
   "metadata": {},
   "outputs": [
    {
     "name": "stdout",
     "output_type": "stream",
     "text": [
      "5050\n"
     ]
    }
   ],
   "source": [
    "# 2.  設計一 func , 可回傳 1+2+3+…+n 的值 , \n",
    "#      其中 n 為輸入參數 (int)\n",
    "def answer2(n):\n",
    "    \n",
    "    # range + sum 解法\n",
    "    return sum(range(1,n+1))\n",
    "    \n",
    "    # for-loop 解法\n",
    "#     total = 0\n",
    "#     for i in range(1,n+1):\n",
    "#         total += i\n",
    "#     return total\n",
    "\n",
    "print(answer2(100))"
   ]
  },
  {
   "cell_type": "code",
   "execution_count": 17,
   "id": "36bd2b76",
   "metadata": {},
   "outputs": [
    {
     "name": "stdout",
     "output_type": "stream",
     "text": [
      "A\n",
      "B\n",
      "C\n",
      "D\n",
      "E\n"
     ]
    }
   ],
   "source": [
    "message = \"ABCDE\"\n",
    "for w in message:\n",
    "    print(w)"
   ]
  },
  {
   "cell_type": "code",
   "execution_count": 22,
   "id": "fa511816",
   "metadata": {},
   "outputs": [
    {
     "name": "stdout",
     "output_type": "stream",
     "text": [
      "今\n",
      "天今\n",
      "禮天今\n",
      "拜禮天今\n",
      "四拜禮天今\n",
      " 四拜禮天今\n",
      ", 四拜禮天今\n",
      " , 四拜禮天今\n",
      "天 , 四拜禮天今\n",
      "氣天 , 四拜禮天今\n",
      "怎氣天 , 四拜禮天今\n",
      "麼怎氣天 , 四拜禮天今\n",
      "變麼怎氣天 , 四拜禮天今\n",
      "冷變麼怎氣天 , 四拜禮天今\n",
      "了冷變麼怎氣天 , 四拜禮天今\n"
     ]
    },
    {
     "data": {
      "text/plain": [
       "'了冷變麼怎氣天 , 四拜禮天今'"
      ]
     },
     "execution_count": 22,
     "metadata": {},
     "output_type": "execute_result"
    }
   ],
   "source": [
    "# 3.  設計一 func , 功能如下：\n",
    "#          1) word 為輸入參數 , 必須為字串(str) , 若不為字串\n",
    "#     則顯示訊息 “[*] word must be str.” \n",
    "#          2) 若為字串, 將 word 字串反轉後回傳\n",
    "### 期望 : answer3(\"ABCDE\") ---> \"EDCBA\"\n",
    "def answer3(word):\n",
    "    if type(word) != str:\n",
    "        print(\"[*] word must be str.\")\n",
    "    else:\n",
    "        # 讓 \"ABCDE\" -> \"EDCBA\"\n",
    "        result = \"\"\n",
    "        \n",
    "        for w in word:\n",
    "            # result += w\n",
    "            # result = result + w\n",
    "            result = w + result\n",
    "            print(result)\n",
    "            \n",
    "        return result\n",
    "\n",
    "# 錯誤用法\n",
    "# answer3([1,2,3,4])\n",
    "\n",
    "# 正確用法\n",
    "# answer3(\"ABCDE\")\n",
    "answer3(\"今天禮拜四 , 天氣怎麼變冷了\")"
   ]
  },
  {
   "cell_type": "code",
   "execution_count": null,
   "id": "12fb8958",
   "metadata": {},
   "outputs": [],
   "source": [
    "# 4. 費氏數列為 1,1,2,3,5,8,13,21,… \n",
    "#     試設計一 func , 輸入為 n , 回傳第n項費氏數列之值"
   ]
  }
 ],
 "metadata": {
  "kernelspec": {
   "display_name": "Python 3",
   "language": "python",
   "name": "python3"
  },
  "language_info": {
   "codemirror_mode": {
    "name": "ipython",
    "version": 3
   },
   "file_extension": ".py",
   "mimetype": "text/x-python",
   "name": "python",
   "nbconvert_exporter": "python",
   "pygments_lexer": "ipython3",
   "version": "3.8.8"
  }
 },
 "nbformat": 4,
 "nbformat_minor": 5
}
